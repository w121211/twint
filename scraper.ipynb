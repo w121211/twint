{
 "cells": [
  {
   "cell_type": "code",
   "execution_count": 2,
   "metadata": {},
   "outputs": [],
   "source": [
    "import requests\n",
    "import requests_cache\n",
    "requests_cache.install_cache()\n",
    "from newspaper import Article, Config\n",
    "from bs4 import BeautifulSoup\n",
    "import json\n",
    "import datetime"
   ]
  },
  {
   "cell_type": "code",
   "execution_count": 10,
   "metadata": {},
   "outputs": [],
   "source": [
    "# url = \"https://fund.megabank.com.tw/ETFData/djjson/ETNEWSjson.djjson?a=1&P1=mega&P2=&P3=true&P4=false&P5=false\"\n",
    "# url = \"https://fund.megabank.com.tw/ETFData/djjson/ETNEWSjson.djjson?a=1&P1=mega&P2=&P3=true&P4=false&P5=false\"\n",
    "# url = \"https://fund.megabank.com.tw/ETFData/djjson/ETNEWSjson.djjson?a=1&b=2008-01-01&P1=mega&P2=&P3=true&P4=false&P5=false\"\n",
    "# url = \"https://fund.megabank.com.tw/ETFData/djjson/ETNEWSjson.djjson?a=2&P1=mega&P2=&P3=true&P4=false&P5=false\"\n",
    "# url = \"https://fund.megabank.com.tw/ETFData/djhtm/ETNEWSContentMega.djhtm?TYPE=2&DATE=&PAGE=1&A=D4007080-42D3-466F-A01D-1552F6474585\"\n",
    "url = \"https://fund.megabank.com.tw/ETFData/djhtm/ETNEWSContentMega.djhtm?TYPE=2&DATE=&PAGE=1&A=6A6F48F6-C4A8-11D3-9910-00E018A00403\"\n",
    "\n",
    "r = requests.get(url)\n",
    "html = r.text\n",
    "\n",
    "\n",
    "config = Config()\n",
    "# config.fetch_images = False\n",
    "a = Article(url, language='zh',fetch_images=False)\n",
    "a.set_html(html)\n",
    "a.parse()\n",
    "\n",
    "# j = r.json()\n",
    "# j['ResultSet']['Result']\n",
    "# j = json.loads(html)\n",
    "# j['ResultSet']['Result']\n"
   ]
  },
  {
   "cell_type": "code",
   "execution_count": 4,
   "metadata": {},
   "outputs": [
    {
     "data": {
      "text/plain": [
       "'台積電確定合併世大積體電路，換股比為1：2，合併後，台積電產能將由300萬片提高到340萬片。合併基準日為6月30日，應合併基準日前若台積電配發股票，換股比率仍不變。 台積電董事長張忠謀、開發總經理胡定吾與華邦電董事長焦佑鈞均出席台積電與世大聯合記者會。除宣佈合併案外，台積電也公佈與德�皉X併新的換股比率為1：5。\\n\\n\\n\\n'"
      ]
     },
     "execution_count": 4,
     "metadata": {},
     "output_type": "execute_result"
    }
   ],
   "source": [
    "# a.publish_date\n",
    "# a.meta_keywords\n",
    "# a.title\n",
    "a.text\n",
    "# a.meta_data\n"
   ]
  },
  {
   "cell_type": "code",
   "execution_count": 113,
   "metadata": {},
   "outputs": [
    {
     "name": "stdout",
     "output_type": "stream",
     "text": [
      "《美國經濟》ISM非製造業指數連3降 遜於預期 /KMDJ/News/NewsViewer.aspx?a=f639f8d5-5d93-4cde-87f7-ee2646123a87&c=MB010000\n",
      "《歐洲經濟》歐元區前4大經濟體同陷衰退 德法就業增 /KMDJ/News/NewsViewer.aspx?a=8d5a53d1-a48d-43af-9829-22fa9fa2c5bb&c=MB010000\n",
      "12/5集中市場三大法人合計買超23.48億元 /KMDJ/News/NewsViewer.aspx?a=a8ec3726-760c-45c1-842c-70100923a9d7&c=MB010000\n",
      "非洲是「充滿希望的大陸」 有望跟隨亞洲步伐 /KMDJ/News/NewsViewer.aspx?a=07beeebf-369b-4704-b948-707b6ba4e654&c=MB010000\n",
      "《韓股》靜待歐洲會議、三星走高 KOSPI收漲0.36% /KMDJ/News/NewsViewer.aspx?a=5254ad2c-9907-4570-b19d-790adffc60aa&c=MB010000\n",
      "《日股》日經創1個月來收盤新高 2個月來首見連3紅 /KMDJ/News/NewsViewer.aspx?a=3fc00297-062b-4868-9f72-5c9197f4bd23&c=MB010000\n",
      "《台股》量急凍不到6百億創今年低 收跌42點 /KMDJ/News/NewsViewer.aspx?a=702e0f77-a65f-4d29-a747-31b91ac870f6&c=MB010000\n",
      "動口不動手！微軟Xbox 360/Kinect聲控搜尋6日上線 /KMDJ/News/NewsViewer.aspx?a=732173e2-9970-4bdd-8bb7-72e7fa997285&c=MB010000\n",
      "銀行間拆款意願低！ECB銀行隔夜存額創去年6月新高 /KMDJ/News/NewsViewer.aspx?a=a1863b4b-5f28-4c79-a33b-eae698bd9876&c=MB010000\n",
      "10月全球晶片銷售大減21% 今年成長動能先盛後衰 /KMDJ/News/NewsViewer.aspx?a=20f57b23-96f4-442d-a1f0-9403a7972cc7&c=MB010000\n",
      "Win8問世前PC難有換機潮 iPad＋舊電腦＝數位需求 /KMDJ/News/NewsViewer.aspx?a=59713173-f117-4c87-aabc-40415f6bc974&c=MB010000\n",
      "《韓股》靜待歐洲開會結果 KOSPI呈平盤震盪走勢 /KMDJ/News/NewsViewer.aspx?a=157a502e-660b-451f-98b4-305689dfc26a&c=MB010000\n",
      "《日股》任天堂等出口股走揚 日經早盤漲0.43% /KMDJ/News/NewsViewer.aspx?a=cdbd20d8-66e7-453d-a27c-a8568781f867&c=MB010000\n",
      "《大陸經濟》匯豐服務業PMI創3個月新低 上証擴大跌幅 /KMDJ/News/NewsViewer.aspx?a=a97f39f7-d587-40f3-b2f7-26e4b86d4ef8&c=MB010000\n",
      "歐非中東電視庫存去化完畢 LED TV市佔Q3首超CCFL /KMDJ/News/NewsViewer.aspx?a=2abb3366-fc18-455c-a4c3-2cd2ad8445bf&c=MB010000\n",
      "陶冬：六大央行聯手救市只能救幾天 /KMDJ/News/NewsViewer.aspx?a=4e3f1e18-daea-4f69-b226-1e616fc43e2f&c=MB010000\n",
      "大陸副外長傅瑩：外匯儲備不能拿到海外援助他國 /KMDJ/News/NewsViewer.aspx?a=78cddd8a-1281-43bc-b104-9b0dd1d440a5&c=MB010000\n",
      "逾五成App開發商挺iOS平台 Android、WP急起直追 /KMDJ/News/NewsViewer.aspx?a=ed9861e0-e028-4863-bb65-7795b4f83eb1&c=MB010000\n",
      "亞馬遜爭平板二哥？蘋果：Fire將為iOS吸引更多顧客 /KMDJ/News/NewsViewer.aspx?a=0daeccd8-a777-43b6-a8f6-3d1813b07f06&c=MB010000\n",
      "控制歐債添新法 IMF傳可獲歐央行2千億歐元資金 /KMDJ/News/NewsViewer.aspx?a=d375c64f-2513-4922-9931-af55bcb8618a&c=MB010000\n"
     ]
    }
   ],
   "source": [
    "from bs4 import BeautifulSoup\n",
    "\n",
    "# url = \"https://www.moneydj.com/KMDJ/News/NewsRealList.aspx?a=MB010000\"\n",
    "url = \"https://finance.yahoo.com/news/stock-market-news-live-july-31-2020-221601060.html\"\n",
    "\n",
    "r = requests.get(url)\n",
    "html = r.text\n",
    "\n",
    "\n",
    "soup = BeautifulSoup(html, 'html.parser')\n",
    "\n",
    "# soup.select('table.forumgrid tr')[1].select_one(\"td > a\")[\"title\"]\n",
    "soup.select('table.forumgrid tr')[1].select(\"td\")\n",
    "# .getText().strip()\n",
    "# e['content'].split(\",\")\n",
    "# for soup.select('table.forumgrid tr')\n",
    "# for e in soup.select('table.forumgrid tr'):\n",
    "#     try:\n",
    "#         print(e.select(\"td a\"))\n",
    "# #         print(e.select(\"td\")[1][\"href\"])\n",
    "#     except IndexError:\n",
    "#         pass\n",
    "\n",
    "for e in soup.select('table.forumgrid tr td a'):\n",
    "    print(e[\"title\"], e[\"href\"])"
   ]
  },
  {
   "cell_type": "code",
   "execution_count": 102,
   "metadata": {},
   "outputs": [
    {
     "data": {
      "text/plain": [
       "{'alternativeHeadline': '《美國經濟》ISM非製造業指數連3降 遜於預期-MoneyDJ理財網',\n",
       " 'thumbnailUrl': 'https://www.moneydj.com/InfoSvc/Thumbnail.aspx?id=f639f8d5-5d93-4cde-87f7-ee2646123a87',\n",
       " 'image': 'https://www.moneydj.com/InfoSvc/Thumbnail.aspx?id=f639f8d5-5d93-4cde-87f7-ee2646123a87',\n",
       " 'description': '財經新聞讓您掌握國內外最新、最快的財經新聞，國際觀點橫掃財經新聞全貌、各種國際趨勢、金融商品趨勢、產業趨勢等財經新聞一應俱全。',\n",
       " 'headline': '《美國經濟》ISM非製造業指數連3降 遜於預期-MoneyDJ理財網',\n",
       " 'author': '賴宏昌',\n",
       " 'url': 'https://www.moneydj.com/KMDJ/News/NewsViewer.aspx?a=f639f8d5-5d93-4cde-87f7-ee2646123a87',\n",
       " 'dateModified': datetime.datetime(2011, 12, 6, 6, 41, 17),\n",
       " 'datePublished': datetime.datetime(2011, 12, 6, 6, 41, 17),\n",
       " 'dateCreated': datetime.datetime(2011, 12, 6, 6, 41, 17),\n",
       " 'articleSection': 'asia',\n",
       " 'isPartOf': 'news'}"
      ]
     },
     "execution_count": 102,
     "metadata": {},
     "output_type": "execute_result"
    }
   ],
   "source": [
    "from newspaper import Article\n",
    "\n",
    "# url = \"https://www.moneydj.com/KMDJ/News/NewsViewer.aspx?a=0799dd63-d673-4c0c-8cb6-df07bbcc305b&c=MB010000\"\n",
    "url = \"https://www.moneydj.com//KMDJ/News/NewsViewer.aspx?a=f639f8d5-5d93-4cde-87f7-ee2646123a87&amp;c=MB010000\"\n",
    "\n",
    "r = requests.get(url)\n",
    "html = r.text\n",
    "# print(html)\n",
    "\n",
    "article = Article(url, language='zh')\n",
    "article.set_html(html)\n",
    "article.parse()\n",
    "\n",
    "# # e.select('a')\n",
    "# e\n",
    "# article.text\n",
    "# article.title\n",
    "article.meta_data[\"keywords\"]\n",
    "# article.\n",
    "\n",
    "soup = BeautifulSoup(html, 'html.parser')\n",
    "e = soup.select('#MainContent_Contents_mainArticle')[0]\n",
    "published_at = e.select('meta[itemprop=datePublished]')[0]['content']\n",
    "# title = e.select('meta[itemprop=\"headline\"]')[0]['content']\n",
    "# text = e.get_text().strip()\n",
    "\n",
    "from dateutil.parser import parse\n",
    "\n",
    "selected = soup.select('#MainContent_Contents_mainArticle')[0].select('meta')\n",
    "{e['itemprop']: parse(e['content']) if 'date' in e['itemprop'] else e['content'] for e in selected}"
   ]
  },
  {
   "cell_type": "code",
   "execution_count": 1,
   "metadata": {},
   "outputs": [
    {
     "name": "stdout",
     "output_type": "stream",
     "text": [
      "/workspace/twint/app/app\n",
      "https://fund.megabank.com.tw/ETFData/djhtm/ETNEWSContentMega.djhtm?TYPE=2&DATE=&PAGE=1&A=CDFFC86F-6DA4-4063-B5A0-3B3200EBADF0\n"
     ]
    }
   ],
   "source": [
    "%cd /workspace/twint/app/app\n",
    "from store import es\n",
    "es.connect()\n",
    "for p in es.Page.scan_urls(\"megabank.com.tw\"):\n",
    "    print(p)\n",
    "    break\n",
    "\n",
    "# s = es.Page.search()\n",
    "# s = s.query(\"wildcard\", from_url=\"*megabank.com.tw*\")\n",
    "# for hit in s.execute():\n",
    "#     print(hit)"
   ]
  },
  {
   "cell_type": "code",
   "execution_count": 28,
   "metadata": {},
   "outputs": [
    {
     "name": "stdout",
     "output_type": "stream",
     "text": [
      "big5\n",
      "<ClientResponse(https://fund.megabank.com.tw/ETFData/djhtm/ETNEWSContentMega.djhtm?TYPE=2&DATE=&PAGE=1&A=6A6F48F6-C4A8-11D3-9910-00E018A00403) [200 OK]>\n",
      "<CIMultiDictProxy('Cache-Control': 'private', 'Content-Type': 'text/html;Charset=big5', 'Content-Encoding': 'gzip', 'Expires': 'Sat, 29 Aug 2020 18:25:33 GMT', 'Last-Modified': 'Sat, 29 Aug 2020 18:00:13 GMT', 'DJ_Expired': '<!--2020/08/30 02:30:13-->', 'X-XSS-Protection': '1; mode=block', 'X-Frame-Options': 'SAMEORIGIN', 'X-Content-Type-Options': 'nosniff', 'Strict-Transport-Security': 'max-age=2592000', 'Referrer-Policy': 'strict-origin', 'Feature-Policy': 'geolocation *', 'Content-Security-Policy': \"default-src 'self'; font-src 'self' * data:;img-src * data:; script-src 'self' 'unsafe-inline' 'unsafe-eval'; style-src 'self' 'unsafe-inline'; frame-src 'self' https://jpc.moneydj.com;\", 'Date': 'Sat, 29 Aug 2020 18:10:32 GMT', 'Content-Length': '1172')>\n",
      "\n"
     ]
    }
   ],
   "source": [
    "import nest_asyncio\n",
    "nest_asyncio.apply()\n",
    "import aiohttp\n",
    "import asyncio\n",
    "\n",
    "\n",
    "async def fetch(url):\n",
    "    async with aiohttp.ClientSession() as sess:\n",
    "        async with sess.get(url) as resp:\n",
    "            assert resp.status == 200\n",
    "            print(resp.charset)\n",
    "            print(resp)\n",
    "#             return await resp.content.read()\n",
    "            if resp.charset == \"big5\":\n",
    "                return await resp.text(\"big5hkscs\")\n",
    "            else:\n",
    "                return await resp.text()\n",
    "\n",
    "url = \"https://fund.megabank.com.tw/ETFData/djhtm/ETNEWSContentMega.djhtm?TYPE=2&DATE=&PAGE=1&A=6A6F48F6-C4A8-11D3-9910-00E018A00403\"\n",
    "html = await fetch(url)"
   ]
  },
  {
   "cell_type": "code",
   "execution_count": 29,
   "metadata": {},
   "outputs": [
    {
     "data": {
      "text/plain": [
       "'<html>\\r\\r<head>\\r\\r<script type=\"text/javascript\" src=\"/ETFData/JQuery/jquery.djjs\"></script>\\r\\n<script type=\"text/javascript\" src=\"/ETFData/JQuery/jquery.tablesorter.djjs\"></script>\\r\\n<script type=\"text/javascript\" src=\"/ETFWeb/djjs/globalJSVar.djjs\"></script>\\r\\n<script type=\"text/javascript\" src=\"/ETFData/js/JsonData.djjs\"></script>\\r\\n<script type=\"text/javascript\" src=\"/ETFData/js/JsonCombox.djjs\"></script>\\r\\n<script type=\"text/javascript\" src=\"/ETFData/js/DJFunction.djjs\"></script>\\r\\n<script type=\"text/javascript\" src=\"/ETFWeb/djjs/globalJSFun.djjs\"></script>\\r\\n<link rel=stylesheet href=\"/ETFWeb/js/etfstyle.css\" type=\"text/css\">\\r\\n<meta HTTP-EQUIV=\"Content-Type\" CONTENT=\"text/html; charset=big5\">\\r\\n<meta HTTP-EQUIV=\"PRAGMA\" CONTENT=\"NO-CACHE\">\\r\\n<title>新聞內文</title>\\r\\n</head>\\r\\n<body>\\r\\n<div align=center id=\"SysJustIFRAMEDIV\">\\r\\n<script language=\"javascript\" src=\"/etfweb/js/SU.js\"></script>\\r\\n<script type=\"text/javascript\">\\r\\nif (typeof (JSON) == \\'undefined\\') { \\r\\n$(\\'head\\').append($(\"<script type=\\'text/javascript\\' src=\\'/etfdata/js/json2.djjs\\'>\"));\\r\\n}\\r\\n</script>\\r\\n\\t<div id=\"wrap\">\\r\\n\\t<div id=\"content\">\\r\\n<table cellpadding=0 cellspacing=0 class=\"NewsContent-TB1\" width=\"100%\">\\r\\n<tr><td class=\"NewsContent-Top\">宏電說明轉投資智融集團擁有可觀的潛在利益\\r\\n<div class=\"NewsContent-Date\">(2000/1/7 下午 12:03:03)</div></td></tr>\\r\\n<tr><td class=NewsContent-Down><font size=3pt>\\r\\n<P>公開資訊觀測站重大訊息公告</P>\\r\\n<P>宏碁電腦-針對工商時報89.01.07第24版中[本公司轉戰創投業,成果豐碩]一事之相關說明</P>\\r\\n<P>本公司宏碁智融集團由宏電100%轉投資,主要成員包括智碁管理顧問公司,以及宏碁資融公司,智碁下轄美洲智碁與亞洲智碁,從事於創投基金的管理,宏碁資融則專注於直接投資與融資。<BR>宏碁智融集團一年前以150萬美元投資seeUthere.com公司,日前為美國MP3.com公司收購,其原持股也轉換成MP3.com的股份,經估算其市值已達4,000萬美元,一年投資報酬高達26倍.目前宏碁智融集團己經在美國投資15家高科技公司,並擁有可觀的潛在利益.特此說明。</P></font><br>&nbsp;<br>&nbsp;</td></tr>\\r\\n<tr><td><div class=\"NewsContent-BT\"><a href=\"javascript:history.go(-1);\">回上一頁</a></div><br></td></tr></table>\\r\\n<div id=\"RemarksDIV\" class=\"Remarks\"></div>\\r\\n</div>\\r\\n</div>\\r\\n<script language=\"javascript\" src=\"/etfweb/js/SD.js\"></script>\\r\\n</div></body></html>\\r\\n<!---->\\r\\n<script language=\"javascript\">\\r\\n\\tcheckBreadCrumb(\"news\");\\r\\n</script>'"
      ]
     },
     "execution_count": 29,
     "metadata": {},
     "output_type": "execute_result"
    }
   ],
   "source": [
    "# html.decode('big5hkscs')\n",
    "html"
   ]
  }
 ],
 "metadata": {
  "kernelspec": {
   "display_name": "Python 3",
   "language": "python",
   "name": "python3"
  },
  "language_info": {
   "codemirror_mode": {
    "name": "ipython",
    "version": 3
   },
   "file_extension": ".py",
   "mimetype": "text/x-python",
   "name": "python",
   "nbconvert_exporter": "python",
   "pygments_lexer": "ipython3",
   "version": "3.7.6"
  }
 },
 "nbformat": 4,
 "nbformat_minor": 4
}
