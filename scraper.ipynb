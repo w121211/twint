{
 "cells": [
  {
   "cell_type": "code",
   "execution_count": 1,
   "metadata": {},
   "outputs": [],
   "source": [
    "import requests\n",
    "import requests_cache\n",
    "requests_cache.install_cache()\n",
    "from newspaper import Article, Config\n",
    "from bs4 import BeautifulSoup\n",
    "import json\n",
    "import datetime"
   ]
  },
  {
   "cell_type": "code",
   "execution_count": 2,
   "metadata": {},
   "outputs": [
    {
     "name": "stderr",
     "output_type": "stream",
     "text": [
      "Building prefix dict from /opt/conda/lib/python3.7/site-packages/jieba/dict.txt ...\n",
      "Loading model from cache /tmp/jieba.cache\n",
      "Loading model cost 1.4478487968444824 seconds.\n",
      "Prefix dict has been built succesfully.\n"
     ]
    }
   ],
   "source": [
    "# url = \"https://fund.megabank.com.tw/ETFData/djjson/ETNEWSjson.djjson?a=1&P1=mega&P2=&P3=true&P4=false&P5=false\"\n",
    "url = \"https://fund.megabank.com.tw/ETFData/djjson/ETNEWSjson.djjson?a=1&P1=mega&P2=&P3=true&P4=false&P5=false\"\n",
    "# url = \"https://fund.megabank.com.tw/ETFData/djjson/ETNEWSjson.djjson?a=1&b=2008-01-01&P1=mega&P2=&P3=true&P4=false&P5=false\"\n",
    "# url = \"https://fund.megabank.com.tw/ETFData/djjson/ETNEWSjson.djjson?a=2&P1=mega&P2=&P3=true&P4=false&P5=false\"\n",
    "# url = \"https://fund.megabank.com.tw/ETFData/djhtm/ETNEWSContentMega.djhtm?TYPE=2&DATE=&PAGE=1&A=D4007080-42D3-466F-A01D-1552F6474585\"\n",
    "url = \"https://fund.megabank.com.tw/ETFData/djhtm/ETNEWSContentMega.djhtm?TYPE=2&DATE=&PAGE=1&A=BCB30F50-7185-4B1F-A2DD-91FC5FA0FAC8\"\n",
    "\n",
    "r = requests.get(url)\n",
    "html = r.text\n",
    "\n",
    "config = Config()\n",
    "# config.fetch_images = False\n",
    "a = Article(url, language='zh',fetch_images=False)\n",
    "a.set_html(html)\n",
    "a.parse()\n",
    "\n",
    "# j = r.json()\n",
    "# j['ResultSet']['Result']\n",
    "# j = json.loads(html)\n",
    "# j['ResultSet']['Result']\n"
   ]
  },
  {
   "cell_type": "code",
   "execution_count": 3,
   "metadata": {},
   "outputs": [
    {
     "data": {
      "text/plain": [
       "'MoneyDJ新聞 2020-08-20 09:15:31 記者 李彥瑾 報導 美國科技巨頭蘋果(Apple)股價漲勢強勁，美東時間週三(19日)上午11時許，蘋果股價觸及466.77美元，使公司市值達到2兆美元大關，成為美股史上首家市值超過2兆美元的企業，凸顯蘋果在全球經濟扮演的主導地位。\\n\\n\\n\\nCNBC、Business Insider報導，蘋果市值突破2兆美元，擊敗沙烏地阿拉伯國家石油公司(Saudi Aramco)、微軟(Microsoft)和亞馬遜(Amazon)，登上全球市值最高的上市公司，除了立下執行長庫克(Tim Cook)任內的重要里程碑外，也反映庫克帶領蘋果由硬體轉型至服務的策略十分奏效。\\n\\n\\n\\n目前蘋果股票本益比已超過33倍，可見投資人開始將蘋果視為軟體公司，而不只是一家硬體製造公司。\\n\\n\\n\\n根據MoneyDJ XQ全球贏家系統報價，今年截至週三，蘋果(AAPL.US)股價累計大漲57.61%，週三蘋果股價終場小漲0.13%、收462.83美元。2018年8月，蘋果成為首家市值達到1兆美元的上市公司，而在短短兩年後，市值便整整成長一倍。\\n\\n\\n\\n�盚F理財(Edward Jones)分析師Logan Purk指出，過去4個月來，市場確實將蘋果視為軟體公司，原因是蘋果服務業務成長快速，市場給予的本益比超過30倍，接近其他真正的軟體巨頭，例如微軟本益比為36倍，而亞馬遜本益比則超過123倍。\\n\\n\\n\\n蘋果服務業務營收不斷創新高。據蘋果7月發表的最新財報，2020會計年度第三季(截至6月27日)，服務營收年增15%至131.6億美元，創該公司史上新高，約佔總營收的22%。\\n\\n\\n\\n彭博社8月13日報導，隨著硬體銷售持續下滑，蘋果計劃推出名為「Apple One」的付費訂閱服務組合，藉此創造更多經常性收入，最快會在10月與新款iPhone一同問世。\\n\\n\\n\\n當中除了包含Apple News+、Apple Arcade和Apple Music等現有服務外，還將新增付費訂閱的線上健身課程，讓使用者可透過iPhone、iPad和Apple TV在家健身。\\n\\n\\n\\n＊編者按：本文僅供參考之用，並不構成要約、招攬或邀請、誘使、任何不論種類或形式之申述或訂立任何建議及推薦，讀者務請運用個人獨立思考能力，自行作出投資決定，如因相關建議招致損失，概與《精實財經媒體》、編者及作者無涉。\\n\\n\\n\\n\\n\\n\\n\\n'"
      ]
     },
     "execution_count": 3,
     "metadata": {},
     "output_type": "execute_result"
    }
   ],
   "source": [
    "# a.publish_date\n",
    "# a.meta_keywords\n",
    "# a.title\n",
    "a.text\n",
    "# a.meta_data\n"
   ]
  },
  {
   "cell_type": "code",
   "execution_count": 113,
   "metadata": {},
   "outputs": [
    {
     "name": "stdout",
     "output_type": "stream",
     "text": [
      "《美國經濟》ISM非製造業指數連3降 遜於預期 /KMDJ/News/NewsViewer.aspx?a=f639f8d5-5d93-4cde-87f7-ee2646123a87&c=MB010000\n",
      "《歐洲經濟》歐元區前4大經濟體同陷衰退 德法就業增 /KMDJ/News/NewsViewer.aspx?a=8d5a53d1-a48d-43af-9829-22fa9fa2c5bb&c=MB010000\n",
      "12/5集中市場三大法人合計買超23.48億元 /KMDJ/News/NewsViewer.aspx?a=a8ec3726-760c-45c1-842c-70100923a9d7&c=MB010000\n",
      "非洲是「充滿希望的大陸」 有望跟隨亞洲步伐 /KMDJ/News/NewsViewer.aspx?a=07beeebf-369b-4704-b948-707b6ba4e654&c=MB010000\n",
      "《韓股》靜待歐洲會議、三星走高 KOSPI收漲0.36% /KMDJ/News/NewsViewer.aspx?a=5254ad2c-9907-4570-b19d-790adffc60aa&c=MB010000\n",
      "《日股》日經創1個月來收盤新高 2個月來首見連3紅 /KMDJ/News/NewsViewer.aspx?a=3fc00297-062b-4868-9f72-5c9197f4bd23&c=MB010000\n",
      "《台股》量急凍不到6百億創今年低 收跌42點 /KMDJ/News/NewsViewer.aspx?a=702e0f77-a65f-4d29-a747-31b91ac870f6&c=MB010000\n",
      "動口不動手！微軟Xbox 360/Kinect聲控搜尋6日上線 /KMDJ/News/NewsViewer.aspx?a=732173e2-9970-4bdd-8bb7-72e7fa997285&c=MB010000\n",
      "銀行間拆款意願低！ECB銀行隔夜存額創去年6月新高 /KMDJ/News/NewsViewer.aspx?a=a1863b4b-5f28-4c79-a33b-eae698bd9876&c=MB010000\n",
      "10月全球晶片銷售大減21% 今年成長動能先盛後衰 /KMDJ/News/NewsViewer.aspx?a=20f57b23-96f4-442d-a1f0-9403a7972cc7&c=MB010000\n",
      "Win8問世前PC難有換機潮 iPad＋舊電腦＝數位需求 /KMDJ/News/NewsViewer.aspx?a=59713173-f117-4c87-aabc-40415f6bc974&c=MB010000\n",
      "《韓股》靜待歐洲開會結果 KOSPI呈平盤震盪走勢 /KMDJ/News/NewsViewer.aspx?a=157a502e-660b-451f-98b4-305689dfc26a&c=MB010000\n",
      "《日股》任天堂等出口股走揚 日經早盤漲0.43% /KMDJ/News/NewsViewer.aspx?a=cdbd20d8-66e7-453d-a27c-a8568781f867&c=MB010000\n",
      "《大陸經濟》匯豐服務業PMI創3個月新低 上証擴大跌幅 /KMDJ/News/NewsViewer.aspx?a=a97f39f7-d587-40f3-b2f7-26e4b86d4ef8&c=MB010000\n",
      "歐非中東電視庫存去化完畢 LED TV市佔Q3首超CCFL /KMDJ/News/NewsViewer.aspx?a=2abb3366-fc18-455c-a4c3-2cd2ad8445bf&c=MB010000\n",
      "陶冬：六大央行聯手救市只能救幾天 /KMDJ/News/NewsViewer.aspx?a=4e3f1e18-daea-4f69-b226-1e616fc43e2f&c=MB010000\n",
      "大陸副外長傅瑩：外匯儲備不能拿到海外援助他國 /KMDJ/News/NewsViewer.aspx?a=78cddd8a-1281-43bc-b104-9b0dd1d440a5&c=MB010000\n",
      "逾五成App開發商挺iOS平台 Android、WP急起直追 /KMDJ/News/NewsViewer.aspx?a=ed9861e0-e028-4863-bb65-7795b4f83eb1&c=MB010000\n",
      "亞馬遜爭平板二哥？蘋果：Fire將為iOS吸引更多顧客 /KMDJ/News/NewsViewer.aspx?a=0daeccd8-a777-43b6-a8f6-3d1813b07f06&c=MB010000\n",
      "控制歐債添新法 IMF傳可獲歐央行2千億歐元資金 /KMDJ/News/NewsViewer.aspx?a=d375c64f-2513-4922-9931-af55bcb8618a&c=MB010000\n"
     ]
    }
   ],
   "source": [
    "from bs4 import BeautifulSoup\n",
    "\n",
    "# url = \"https://www.moneydj.com/KMDJ/News/NewsRealList.aspx?a=MB010000\"\n",
    "url = \"https://finance.yahoo.com/news/stock-market-news-live-july-31-2020-221601060.html\"\n",
    "\n",
    "r = requests.get(url)\n",
    "html = r.text\n",
    "\n",
    "\n",
    "soup = BeautifulSoup(html, 'html.parser')\n",
    "\n",
    "# soup.select('table.forumgrid tr')[1].select_one(\"td > a\")[\"title\"]\n",
    "soup.select('table.forumgrid tr')[1].select(\"td\")\n",
    "# .getText().strip()\n",
    "# e['content'].split(\",\")\n",
    "# for soup.select('table.forumgrid tr')\n",
    "# for e in soup.select('table.forumgrid tr'):\n",
    "#     try:\n",
    "#         print(e.select(\"td a\"))\n",
    "# #         print(e.select(\"td\")[1][\"href\"])\n",
    "#     except IndexError:\n",
    "#         pass\n",
    "\n",
    "for e in soup.select('table.forumgrid tr td a'):\n",
    "    print(e[\"title\"], e[\"href\"])"
   ]
  },
  {
   "cell_type": "code",
   "execution_count": 102,
   "metadata": {},
   "outputs": [
    {
     "data": {
      "text/plain": [
       "{'alternativeHeadline': '《美國經濟》ISM非製造業指數連3降 遜於預期-MoneyDJ理財網',\n",
       " 'thumbnailUrl': 'https://www.moneydj.com/InfoSvc/Thumbnail.aspx?id=f639f8d5-5d93-4cde-87f7-ee2646123a87',\n",
       " 'image': 'https://www.moneydj.com/InfoSvc/Thumbnail.aspx?id=f639f8d5-5d93-4cde-87f7-ee2646123a87',\n",
       " 'description': '財經新聞讓您掌握國內外最新、最快的財經新聞，國際觀點橫掃財經新聞全貌、各種國際趨勢、金融商品趨勢、產業趨勢等財經新聞一應俱全。',\n",
       " 'headline': '《美國經濟》ISM非製造業指數連3降 遜於預期-MoneyDJ理財網',\n",
       " 'author': '賴宏昌',\n",
       " 'url': 'https://www.moneydj.com/KMDJ/News/NewsViewer.aspx?a=f639f8d5-5d93-4cde-87f7-ee2646123a87',\n",
       " 'dateModified': datetime.datetime(2011, 12, 6, 6, 41, 17),\n",
       " 'datePublished': datetime.datetime(2011, 12, 6, 6, 41, 17),\n",
       " 'dateCreated': datetime.datetime(2011, 12, 6, 6, 41, 17),\n",
       " 'articleSection': 'asia',\n",
       " 'isPartOf': 'news'}"
      ]
     },
     "execution_count": 102,
     "metadata": {},
     "output_type": "execute_result"
    }
   ],
   "source": [
    "from newspaper import Article\n",
    "\n",
    "# url = \"https://www.moneydj.com/KMDJ/News/NewsViewer.aspx?a=0799dd63-d673-4c0c-8cb6-df07bbcc305b&c=MB010000\"\n",
    "url = \"https://www.moneydj.com//KMDJ/News/NewsViewer.aspx?a=f639f8d5-5d93-4cde-87f7-ee2646123a87&amp;c=MB010000\"\n",
    "\n",
    "r = requests.get(url)\n",
    "html = r.text\n",
    "# print(html)\n",
    "\n",
    "article = Article(url, language='zh')\n",
    "article.set_html(html)\n",
    "article.parse()\n",
    "\n",
    "# # e.select('a')\n",
    "# e\n",
    "# article.text\n",
    "# article.title\n",
    "article.meta_data[\"keywords\"]\n",
    "# article.\n",
    "\n",
    "soup = BeautifulSoup(html, 'html.parser')\n",
    "e = soup.select('#MainContent_Contents_mainArticle')[0]\n",
    "published_at = e.select('meta[itemprop=datePublished]')[0]['content']\n",
    "# title = e.select('meta[itemprop=\"headline\"]')[0]['content']\n",
    "# text = e.get_text().strip()\n",
    "\n",
    "from dateutil.parser import parse\n",
    "\n",
    "selected = soup.select('#MainContent_Contents_mainArticle')[0].select('meta')\n",
    "{e['itemprop']: parse(e['content']) if 'date' in e['itemprop'] else e['content'] for e in selected}"
   ]
  },
  {
   "cell_type": "code",
   "execution_count": 1,
   "metadata": {},
   "outputs": [
    {
     "name": "stdout",
     "output_type": "stream",
     "text": [
      "/workspace/twint/app/app\n",
      "https://fund.megabank.com.tw/ETFData/djhtm/ETNEWSContentMega.djhtm?TYPE=2&DATE=&PAGE=1&A=CDFFC86F-6DA4-4063-B5A0-3B3200EBADF0\n"
     ]
    }
   ],
   "source": [
    "%cd /workspace/twint/app/app\n",
    "from store import es\n",
    "es.connect()\n",
    "for p in es.Page.scan_urls(\"megabank.com.tw\"):\n",
    "    print(p)\n",
    "    break\n",
    "\n",
    "# s = es.Page.search()\n",
    "# s = s.query(\"wildcard\", from_url=\"*megabank.com.tw*\")\n",
    "# for hit in s.execute():\n",
    "#     print(hit)"
   ]
  }
 ],
 "metadata": {
  "kernelspec": {
   "display_name": "Python 3",
   "language": "python",
   "name": "python3"
  },
  "language_info": {
   "codemirror_mode": {
    "name": "ipython",
    "version": 3
   },
   "file_extension": ".py",
   "mimetype": "text/x-python",
   "name": "python",
   "nbconvert_exporter": "python",
   "pygments_lexer": "ipython3",
   "version": "3.7.6"
  }
 },
 "nbformat": 4,
 "nbformat_minor": 4
}
