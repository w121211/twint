{
 "cells": [
  {
   "cell_type": "code",
   "execution_count": 3,
   "metadata": {},
   "outputs": [],
   "source": [
    "import requests\n",
    "import requests_cache\n",
    "requests_cache.install_cache()\n",
    "from newspaper import Article\n",
    "from bs4 import BeautifulSoup"
   ]
  },
  {
   "cell_type": "code",
   "execution_count": 19,
   "metadata": {},
   "outputs": [],
   "source": [
    "# url = \"https://finance.yahoo.com/news/stock-market-news-live-july-31-2020-221601060.html\"\n",
    "url = \"https://finance.yahoo.com/news/apples-stock-split-may-not-023842930.html\"\n",
    "\n",
    "r = requests.get(url)\n",
    "html = r.text\n",
    "\n",
    "a = Article(url)\n",
    "a.set_html(html)\n",
    "a.parse()"
   ]
  },
  {
   "cell_type": "code",
   "execution_count": 30,
   "metadata": {},
   "outputs": [
    {
     "data": {
      "text/plain": [
       "defaultdict(dict,\n",
       "            {'oath': {'guce': {'consent-host': 'guce.yahoo.com'}},\n",
       "             'msapplication-TileColor': '#6e329d',\n",
       "             'msapplication-TileImage': 'https://s.yimg.com/rz/p/yahoo_frontpage_en-US_s_f_w_bestfit_frontpage.png',\n",
       "             'msvalidate.01': 'A9862C0E6E1BE95BCE0BF3D0298FD58B',\n",
       "             'referrer': 'unsafe-url',\n",
       "             'theme-color': '#400090',\n",
       "             'twitter': {'dnt': 'on',\n",
       "              'site': '@YahooFinance',\n",
       "              'card': 'summary_large_image',\n",
       "              'description': \"The iPhone maker made the surprise announcement in its quarterly report, saying it will split its stock four-to-one when trading opens on Aug. 31, Apple's first share split since 2014.  Stock splits have become rare on Wall Street in recent years, with just three S&P 500 members announcing splits\",\n",
       "              'image': {'identifier': 'https://s.yimg.com/uu/api/res/1.2/ID_y3.8b9udsAHyUYvU3Zg--~B/aD01MzU7dz04MDA7c209MTthcHBpZD15dGFjaHlvbg--/https://media.zenfs.com/en-US/reuters.com/86414cb33f67695a2404fe034d2e627b',\n",
       "               'src': 'https://s.yimg.com/uu/api/res/1.2/ID_y3.8b9udsAHyUYvU3Zg--~B/aD01MzU7dz04MDA7c209MTthcHBpZD15dGFjaHlvbg--/https://media.zenfs.com/en-US/reuters.com/86414cb33f67695a2404fe034d2e627b'},\n",
       "              'title': \"Apple's stock split may not be good for the Dow\"},\n",
       "             'news_keywords': 'stock split, Dow Jones Industrial',\n",
       "             'apple-itunes-app': 'app-id=304158842,app-argument=yahoo://article/view?uuid=9a8b0dcd-3331-3b60-b8c6-9dfbe526d462&src=web',\n",
       "             'description': \"The iPhone maker made the surprise announcement in its quarterly report, saying it will split its stock four-to-one when trading opens on Aug. 31, Apple's first share split since 2014.  Stock splits have become rare on Wall Street in recent years, with just three S&P 500 members announcing splits\",\n",
       "             'og': {'type': 'article',\n",
       "              'image': 'https://s.yimg.com/uu/api/res/1.2/ID_y3.8b9udsAHyUYvU3Zg--~B/aD01MzU7dz04MDA7c209MTthcHBpZD15dGFjaHlvbg--/https://media.zenfs.com/en-US/reuters.com/86414cb33f67695a2404fe034d2e627b',\n",
       "              'description': \"The iPhone maker made the surprise announcement in its quarterly report, saying it will split its stock four-to-one when trading opens on Aug. 31, Apple's first share split since 2014.  Stock splits have become rare on Wall Street in recent years, with just three S&P 500 members announcing splits\",\n",
       "              'title': \"Apple's stock split may not be good for the Dow\",\n",
       "              'url': 'https://finance.yahoo.com/news/apples-stock-split-may-not-023842930.html'},\n",
       "             'al': {'android': {'app_name': 'Yahoo',\n",
       "               'package': 'com.yahoo.mobile.client.android.yahoo',\n",
       "               'url': 'yahoo://article/view?uuid=9a8b0dcd-3331-3b60-b8c6-9dfbe526d462&src=web'},\n",
       "              'ios': {'app_name': 'Yahoo',\n",
       "               'app_store_id': 304158842,\n",
       "               'url': 'yahoo://article/view?uuid=9a8b0dcd-3331-3b60-b8c6-9dfbe526d462&src=web'}}})"
      ]
     },
     "execution_count": 30,
     "metadata": {},
     "output_type": "execute_result"
    }
   ],
   "source": [
    "a.publish_date\n",
    "a.meta_keywords\n",
    "a.title\n",
    "a.text\n",
    "a.meta_data['description']\n",
    "# [s.strip() for s in a.meta_data['news_keywords'].split(\",\")]\n",
    "a.meta_data\n"
   ]
  },
  {
   "cell_type": "code",
   "execution_count": 113,
   "metadata": {},
   "outputs": [
    {
     "name": "stdout",
     "output_type": "stream",
     "text": [
      "《美國經濟》ISM非製造業指數連3降 遜於預期 /KMDJ/News/NewsViewer.aspx?a=f639f8d5-5d93-4cde-87f7-ee2646123a87&c=MB010000\n",
      "《歐洲經濟》歐元區前4大經濟體同陷衰退 德法就業增 /KMDJ/News/NewsViewer.aspx?a=8d5a53d1-a48d-43af-9829-22fa9fa2c5bb&c=MB010000\n",
      "12/5集中市場三大法人合計買超23.48億元 /KMDJ/News/NewsViewer.aspx?a=a8ec3726-760c-45c1-842c-70100923a9d7&c=MB010000\n",
      "非洲是「充滿希望的大陸」 有望跟隨亞洲步伐 /KMDJ/News/NewsViewer.aspx?a=07beeebf-369b-4704-b948-707b6ba4e654&c=MB010000\n",
      "《韓股》靜待歐洲會議、三星走高 KOSPI收漲0.36% /KMDJ/News/NewsViewer.aspx?a=5254ad2c-9907-4570-b19d-790adffc60aa&c=MB010000\n",
      "《日股》日經創1個月來收盤新高 2個月來首見連3紅 /KMDJ/News/NewsViewer.aspx?a=3fc00297-062b-4868-9f72-5c9197f4bd23&c=MB010000\n",
      "《台股》量急凍不到6百億創今年低 收跌42點 /KMDJ/News/NewsViewer.aspx?a=702e0f77-a65f-4d29-a747-31b91ac870f6&c=MB010000\n",
      "動口不動手！微軟Xbox 360/Kinect聲控搜尋6日上線 /KMDJ/News/NewsViewer.aspx?a=732173e2-9970-4bdd-8bb7-72e7fa997285&c=MB010000\n",
      "銀行間拆款意願低！ECB銀行隔夜存額創去年6月新高 /KMDJ/News/NewsViewer.aspx?a=a1863b4b-5f28-4c79-a33b-eae698bd9876&c=MB010000\n",
      "10月全球晶片銷售大減21% 今年成長動能先盛後衰 /KMDJ/News/NewsViewer.aspx?a=20f57b23-96f4-442d-a1f0-9403a7972cc7&c=MB010000\n",
      "Win8問世前PC難有換機潮 iPad＋舊電腦＝數位需求 /KMDJ/News/NewsViewer.aspx?a=59713173-f117-4c87-aabc-40415f6bc974&c=MB010000\n",
      "《韓股》靜待歐洲開會結果 KOSPI呈平盤震盪走勢 /KMDJ/News/NewsViewer.aspx?a=157a502e-660b-451f-98b4-305689dfc26a&c=MB010000\n",
      "《日股》任天堂等出口股走揚 日經早盤漲0.43% /KMDJ/News/NewsViewer.aspx?a=cdbd20d8-66e7-453d-a27c-a8568781f867&c=MB010000\n",
      "《大陸經濟》匯豐服務業PMI創3個月新低 上証擴大跌幅 /KMDJ/News/NewsViewer.aspx?a=a97f39f7-d587-40f3-b2f7-26e4b86d4ef8&c=MB010000\n",
      "歐非中東電視庫存去化完畢 LED TV市佔Q3首超CCFL /KMDJ/News/NewsViewer.aspx?a=2abb3366-fc18-455c-a4c3-2cd2ad8445bf&c=MB010000\n",
      "陶冬：六大央行聯手救市只能救幾天 /KMDJ/News/NewsViewer.aspx?a=4e3f1e18-daea-4f69-b226-1e616fc43e2f&c=MB010000\n",
      "大陸副外長傅瑩：外匯儲備不能拿到海外援助他國 /KMDJ/News/NewsViewer.aspx?a=78cddd8a-1281-43bc-b104-9b0dd1d440a5&c=MB010000\n",
      "逾五成App開發商挺iOS平台 Android、WP急起直追 /KMDJ/News/NewsViewer.aspx?a=ed9861e0-e028-4863-bb65-7795b4f83eb1&c=MB010000\n",
      "亞馬遜爭平板二哥？蘋果：Fire將為iOS吸引更多顧客 /KMDJ/News/NewsViewer.aspx?a=0daeccd8-a777-43b6-a8f6-3d1813b07f06&c=MB010000\n",
      "控制歐債添新法 IMF傳可獲歐央行2千億歐元資金 /KMDJ/News/NewsViewer.aspx?a=d375c64f-2513-4922-9931-af55bcb8618a&c=MB010000\n"
     ]
    }
   ],
   "source": [
    "from bs4 import BeautifulSoup\n",
    "\n",
    "# url = \"https://www.moneydj.com/KMDJ/News/NewsRealList.aspx?a=MB010000\"\n",
    "url = \"https://finance.yahoo.com/news/stock-market-news-live-july-31-2020-221601060.html\"\n",
    "\n",
    "r = requests.get(url)\n",
    "html = r.text\n",
    "\n",
    "\n",
    "soup = BeautifulSoup(html, 'html.parser')\n",
    "\n",
    "# soup.select('table.forumgrid tr')[1].select_one(\"td > a\")[\"title\"]\n",
    "soup.select('table.forumgrid tr')[1].select(\"td\")\n",
    "# .getText().strip()\n",
    "# e['content'].split(\",\")\n",
    "# for soup.select('table.forumgrid tr')\n",
    "# for e in soup.select('table.forumgrid tr'):\n",
    "#     try:\n",
    "#         print(e.select(\"td a\"))\n",
    "# #         print(e.select(\"td\")[1][\"href\"])\n",
    "#     except IndexError:\n",
    "#         pass\n",
    "\n",
    "for e in soup.select('table.forumgrid tr td a'):\n",
    "    print(e[\"title\"], e[\"href\"])"
   ]
  },
  {
   "cell_type": "code",
   "execution_count": 102,
   "metadata": {},
   "outputs": [
    {
     "data": {
      "text/plain": [
       "{'alternativeHeadline': '《美國經濟》ISM非製造業指數連3降 遜於預期-MoneyDJ理財網',\n",
       " 'thumbnailUrl': 'https://www.moneydj.com/InfoSvc/Thumbnail.aspx?id=f639f8d5-5d93-4cde-87f7-ee2646123a87',\n",
       " 'image': 'https://www.moneydj.com/InfoSvc/Thumbnail.aspx?id=f639f8d5-5d93-4cde-87f7-ee2646123a87',\n",
       " 'description': '財經新聞讓您掌握國內外最新、最快的財經新聞，國際觀點橫掃財經新聞全貌、各種國際趨勢、金融商品趨勢、產業趨勢等財經新聞一應俱全。',\n",
       " 'headline': '《美國經濟》ISM非製造業指數連3降 遜於預期-MoneyDJ理財網',\n",
       " 'author': '賴宏昌',\n",
       " 'url': 'https://www.moneydj.com/KMDJ/News/NewsViewer.aspx?a=f639f8d5-5d93-4cde-87f7-ee2646123a87',\n",
       " 'dateModified': datetime.datetime(2011, 12, 6, 6, 41, 17),\n",
       " 'datePublished': datetime.datetime(2011, 12, 6, 6, 41, 17),\n",
       " 'dateCreated': datetime.datetime(2011, 12, 6, 6, 41, 17),\n",
       " 'articleSection': 'asia',\n",
       " 'isPartOf': 'news'}"
      ]
     },
     "execution_count": 102,
     "metadata": {},
     "output_type": "execute_result"
    }
   ],
   "source": [
    "from newspaper import Article\n",
    "\n",
    "# url = \"https://www.moneydj.com/KMDJ/News/NewsViewer.aspx?a=0799dd63-d673-4c0c-8cb6-df07bbcc305b&c=MB010000\"\n",
    "url = \"https://www.moneydj.com//KMDJ/News/NewsViewer.aspx?a=f639f8d5-5d93-4cde-87f7-ee2646123a87&amp;c=MB010000\"\n",
    "\n",
    "r = requests.get(url)\n",
    "html = r.text\n",
    "# print(html)\n",
    "\n",
    "article = Article(url, language='zh')\n",
    "article.set_html(html)\n",
    "article.parse()\n",
    "\n",
    "# # e.select('a')\n",
    "# e\n",
    "# article.text\n",
    "# article.title\n",
    "article.meta_data[\"keywords\"]\n",
    "# article.\n",
    "\n",
    "soup = BeautifulSoup(html, 'html.parser')\n",
    "e = soup.select('#MainContent_Contents_mainArticle')[0]\n",
    "published_at = e.select('meta[itemprop=datePublished]')[0]['content']\n",
    "# title = e.select('meta[itemprop=\"headline\"]')[0]['content']\n",
    "# text = e.get_text().strip()\n",
    "\n",
    "from dateutil.parser import parse\n",
    "\n",
    "selected = soup.select('#MainContent_Contents_mainArticle')[0].select('meta')\n",
    "{e['itemprop']: parse(e['content']) if 'date' in e['itemprop'] else e['content'] for e in selected}"
   ]
  },
  {
   "cell_type": "code",
   "execution_count": 95,
   "metadata": {},
   "outputs": [
    {
     "data": {
      "text/plain": [
       "datetime.datetime(2020, 7, 27, 14, 2, 31)"
      ]
     },
     "execution_count": 95,
     "metadata": {},
     "output_type": "execute_result"
    }
   ],
   "source": [
    "from dateutil.parser import parse\n",
    "\n",
    "parse(\"2020-07-27T14:02:31\")"
   ]
  }
 ],
 "metadata": {
  "kernelspec": {
   "display_name": "Python 3",
   "language": "python",
   "name": "python3"
  },
  "language_info": {
   "codemirror_mode": {
    "name": "ipython",
    "version": 3
   },
   "file_extension": ".py",
   "mimetype": "text/x-python",
   "name": "python",
   "nbconvert_exporter": "python",
   "pygments_lexer": "ipython3",
   "version": "3.7.7"
  }
 },
 "nbformat": 4,
 "nbformat_minor": 4
}
