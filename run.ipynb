{
 "cells": [
  {
   "cell_type": "markdown",
   "metadata": {},
   "source": [
    "# app\n",
    "\n",
    "rss sources:\n",
    "https://tw.stock.yahoo.com/rss_index.html"
   ]
  },
  {
   "cell_type": "code",
   "execution_count": 1,
   "metadata": {},
   "outputs": [
    {
     "name": "stdout",
     "output_type": "stream",
     "text": [
      "/workspace/twint/app\n"
     ]
    }
   ],
   "source": [
    "%cd /workspace/twint/app\n",
    "# !pip install -e .\n",
    "# !python -m pytest tests/test_scrapers.py::test_cnbc_page_tags -v"
   ]
  },
  {
   "cell_type": "code",
   "execution_count": 2,
   "metadata": {},
   "outputs": [
    {
     "name": "stdout",
     "output_type": "stream",
     "text": [
      "/workspace/twint/app\n",
      "{'run': {'scraper': 'cnbc', 'n_workers': 1, 'loop_every': None}, 'store': {'es': {'host': 'es:9200'}, 'db': {'user': 'sqlpad', 'password': 'sqlpad', 'host': 'pg', 'dbname': 'test'}}, 'scraper': {'rss': {'fetch_rss_every_n_seconds': 172800, 'csv': {'path': './resource/rss_yahoo_us.csv'}, 'force_fetch': False}, 'cnbc': {'store': 'es'}, 'cnyes_api': {'start': [2020, 5, 5], 'until': None}}, 'proxy': {'enabled': True, 'path': './proxies.txt'}}\n",
      "[2020-07-18 17:42:42,891][app.scrapers.cnbc][INFO] - scraper start running: 1 workers\n",
      "[2020-07-18 17:43:21,087][app.scrapers.cnbc][INFO] - page existed, skip https://cnb.cx/2AP4ulX\n",
      "[2020-07-18 17:43:21,108][app.scrapers.cnbc][INFO] - page existed, skip http://cnb.cx/2FDIr2n\n",
      "[2020-07-18 17:43:21,134][app.scrapers.cnbc][INFO] - page existed, skip https://cnb.cx/31VI6TJ\n",
      "[2020-07-18 17:43:21,163][app.scrapers.cnbc][INFO] - page existed, skip https://cnb.cx/2ozZtv2\n",
      "[2020-07-18 17:43:21,176][app.scrapers.cnbc][INFO] - page existed, skip https://cnb.cx/2npBa2p\n",
      "[2020-07-18 17:43:21,189][app.scrapers.cnbc][INFO] - page existed, skip https://cnb.cx/2AL7Fv7\n",
      "[2020-07-18 17:43:21,205][app.scrapers.cnbc][INFO] - page existed, skip http://cnb.cx/30TRkQk\n",
      "[2020-07-18 17:43:21,221][app.scrapers.cnbc][INFO] - page existed, skip https://cnb.cx/2ASwu8q\n",
      "[2020-07-18 17:43:21,242][app.scrapers.cnbc][INFO] - page existed, skip https://cnb.cx/2IsPWNe\n",
      "[2020-07-18 17:43:21,259][app.scrapers.cnbc][INFO] - page existed, skip https://cnb.cx/30RLb6e\n",
      "[2020-07-18 17:43:21,274][app.scrapers.cnbc][INFO] - page existed, skip https://cnb.cx/31UeyGh\n",
      "[2020-07-18 17:43:21,306][app.scrapers.cnbc][INFO] - page existed, skip https://cnb.cx/2l6Kkj4\n",
      "[2020-07-18 17:43:21,369][app.scrapers.cnbc][INFO] - page existed, skip http://cnb.cx/2E5ahXa\n",
      "[2020-07-18 17:43:21,382][app.scrapers.cnbc][INFO] - page existed, skip https://cnb.cx/2pdaz9m\n",
      "[2020-07-18 17:43:21,469][app.scrapers.cnbc][INFO] - page existed, skip https://cnb.cx/2pbibcv\n",
      "[2020-07-18 17:43:21,566][app.scrapers.cnbc][INFO] - page existed, skip https://cnb.cx/318jDcR\n",
      "[2020-07-18 17:43:21,657][app.scrapers.cnbc][INFO] - page existed, skip https://cnb.cx/2oWWRao\n",
      "[2020-07-18 17:43:21,733][app.scrapers.cnbc][INFO] - page existed, skip https://cnb.cx/2MDPOeQ\n",
      "[2020-07-18 17:43:21,820][app.scrapers.cnbc][INFO] - page existed, skip https://cnb.cx/2kEYgAR\n",
      "[2020-07-18 17:43:21,872][app.scrapers.cnbc][INFO] - page existed, skip https://cnb.cx/2ARqdtl\n",
      "[2020-07-18 17:43:21,953][app.scrapers.cnbc][INFO] - page existed, skip https://cnb.cx/2Iry59e\n",
      "[2020-07-18 17:43:22,000][app.scrapers.cnbc][INFO] - page existed, skip https://cnb.cx/2oyPdmm\n",
      "[2020-07-18 17:43:22,055][app.scrapers.cnbc][INFO] - page existed, skip http://cnb.cx/2EjDcbl\n",
      "[2020-07-18 17:43:22,074][app.scrapers.cnbc][INFO] - page existed, skip https://cnb.cx/2IvKkBB\n",
      "[2020-07-18 17:43:22,083][app.scrapers.cnbc][INFO] - page existed, skip https://cnb.cx/2IEVpk3\n",
      "[2020-07-18 17:43:22,104][app.scrapers.cnbc][INFO] - page existed, skip https://cnb.cx/2Mtw7Gu\n",
      "[2020-07-18 17:43:22,111][app.scrapers.cnbc][INFO] - page existed, skip https://cnb.cx/2OHejuv\n",
      "[2020-07-18 17:43:22,132][app.scrapers.cnbc][INFO] - page existed, skip https://cnb.cx/2MhzkJg\n",
      "[2020-07-18 17:43:22,159][app.scrapers.cnbc][INFO] - page existed, skip https://cnb.cx/30V3YgM\n",
      "[2020-07-18 17:43:22,170][app.scrapers.cnbc][INFO] - page existed, skip https://cnb.cx/2nJC1uY\n",
      "[2020-07-18 17:43:22,214][app.scrapers.cnbc][INFO] - page existed, skip https://cnb.cx/2Kb6r1w\n",
      "[2020-07-18 17:43:22,228][app.scrapers.cnbc][INFO] - page existed, skip https://cnb.cx/33f2hwp\n",
      "[2020-07-18 17:43:22,260][app.scrapers.cnbc][INFO] - page existed, skip https://cnb.cx/2IL8Xe7\n",
      "[2020-07-18 17:43:22,306][app.scrapers.cnbc][INFO] - page existed, skip https://cnb.cx/2UJscJn\n",
      "[2020-07-18 17:43:22,326][app.scrapers.cnbc][INFO] - page existed, skip https://cnb.cx/30SfBVT\n",
      "[2020-07-18 17:43:22,338][app.scrapers.cnbc][INFO] - page existed, skip https://cnb.cx/2lpvBjg\n",
      "[2020-07-18 17:43:22,357][app.scrapers.cnbc][INFO] - page existed, skip https://cnb.cx/2UGmWX6\n",
      "[2020-07-18 17:43:22,445][app.scrapers.cnbc][INFO] - page existed, skip https://cnb.cx/2OsHUHY\n",
      "[2020-07-18 17:43:22,458][app.scrapers.cnbc][INFO] - page existed, skip http://cnb.cx/2Bk5G3P\n",
      "[2020-07-18 17:43:22,490][app.scrapers.cnbc][INFO] - page existed, skip https://cnb.cx/35rMXyh\n",
      "[2020-07-18 17:43:22,508][app.scrapers.cnbc][INFO] - page existed, skip https://cnb.cx/2UKiS81\n",
      "[2020-07-18 17:43:22,532][app.scrapers.cnbc][INFO] - page existed, skip https://cnb.cx/2Mo0zSi\n",
      "[2020-07-18 17:43:22,574][app.scrapers.cnbc][INFO] - page existed, skip https://cnb.cx/2l0P6yz\n",
      "[2020-07-18 17:43:22,606][app.scrapers.cnbc][INFO] - page existed, skip https://cnb.cx/2wJeyLc\n",
      "[2020-07-18 17:43:22,626][app.scrapers.cnbc][INFO] - page existed, skip https://cnb.cx/33nI1IW\n",
      "[2020-07-18 17:43:22,640][app.scrapers.cnbc][INFO] - page existed, skip https://cnb.cx/2paDDOw\n",
      "[2020-07-18 17:43:22,654][app.scrapers.cnbc][INFO] - page existed, skip https://cnb.cx/2Iuy2cR\n",
      "[2020-07-18 17:43:22,691][app.scrapers.cnbc][INFO] - page existed, skip http://cnb.cx/2UtWmUa\n",
      "[2020-07-18 17:43:22,728][app.scrapers.cnbc][INFO] - page existed, skip http://cnb.cx/2Ems25v\n",
      "[2020-07-18 17:43:22,789][app.scrapers.cnbc][INFO] - page existed, skip https://cnb.cx/356Rgii\n",
      "[2020-07-18 17:43:22,814][app.scrapers.cnbc][INFO] - page existed, skip https://cnb.cx/2Ms5F0c\n",
      "[2020-07-18 17:43:22,847][app.scrapers.cnbc][INFO] - page existed, skip http://cnb.cx/2Ebxlo3\n",
      "[2020-07-18 17:43:22,861][app.scrapers.cnbc][INFO] - page existed, skip https://cnb.cx/31Tzq05\n",
      "[2020-07-18 17:43:22,879][app.scrapers.cnbc][INFO] - page existed, skip http://cnb.cx/2su2JGT\n",
      "[2020-07-18 17:43:22,915][app.scrapers.cnbc][INFO] - page existed, skip https://cnb.cx/2p2Y9k1\n",
      "[2020-07-18 17:43:22,962][app.scrapers.cnbc][INFO] - page existed, skip http://cnb.cx/2UBu0au\n",
      "[2020-07-18 17:43:22,997][app.scrapers.cnbc][INFO] - page existed, skip https://cnb.cx/2Vj8YL9\n",
      "[2020-07-18 17:43:23,041][app.scrapers.cnbc][INFO] - page existed, skip https://cnb.cx/2mG6mK8\n",
      "[2020-07-18 17:43:23,077][app.scrapers.cnbc][INFO] - page existed, skip http://bit.ly/HomeWaterParks\n",
      "[2020-07-18 17:43:23,110][app.scrapers.cnbc][INFO] - page existed, skip http://cnb.cx/2Na25WZ\n",
      "^C\n",
      "[2020-07-18 17:43:25,044][app.scrapers.cnbc][INFO] - scrape internal error & skiped: \n",
      "[2020-07-18 17:43:25,055][app.scrapers.cnbc][ERROR] - \n",
      "[2020-07-18 17:43:25,071][app.scrapers.cnbc][INFO] - page existed, skip https://cnb.cx/2MEakw3\n",
      "[2020-07-18 17:43:25,089][app.scrapers.cnbc][INFO] - page existed, skip http://cnb.cx/2Rkuigw\n",
      "[2020-07-18 17:43:25,109][app.scrapers.cnbc][INFO] - page existed, skip https://cnb.cx/2IvRAgX\n",
      "[2020-07-18 17:43:25,129][app.scrapers.cnbc][INFO] - page existed, skip https://cnb.cx/31QuHfF\n",
      "[2020-07-18 17:43:25,182][app.scrapers.cnbc][INFO] - page existed, skip http://cnb.cx/2Dz17AC\n",
      "[2020-07-18 17:43:25,215][app.scrapers.cnbc][INFO] - page existed, skip http://cnb.cx/2EZ1Ugk\n"
     ]
    }
   ],
   "source": [
    "%cd /workspace/twint/app\n",
    "# !python -m app.main run.scraper=rss run.n_workers=1 run.loop_every=86400 \n",
    "!python -m app.main run.scraper=cnbc run.n_workers=1"
   ]
  },
  {
   "cell_type": "markdown",
   "metadata": {},
   "source": [
    "# Twint"
   ]
  },
  {
   "cell_type": "code",
   "execution_count": 1,
   "metadata": {},
   "outputs": [
    {
     "name": "stdout",
     "output_type": "stream",
     "text": [
      "Requirement already up-to-date: fake-useragent in /usr/local/lib/python3.7/site-packages (0.1.11)\n",
      "\u001b[33mWARNING: You are using pip version 20.0.2; however, version 20.1 is available.\n",
      "You should consider upgrading via the '/usr/local/bin/python -m pip install --upgrade pip' command.\u001b[0m\n"
     ]
    }
   ],
   "source": [
    "# %cd /workspace/twint\n",
    "# !pip install e .\n",
    "# !twint -u CNBC\n",
    "# !pip install -U fake-useragent"
   ]
  },
  {
   "cell_type": "code",
   "execution_count": 17,
   "metadata": {},
   "outputs": [],
   "source": [
    "import nest_asyncio\n",
    "nest_asyncio.apply()\n",
    "import twint\n",
    "\n",
    "c = twint.Config()\n",
    "c.Username = \"CNBC\"\n",
    "c.Elasticsearch = \"http://es:9200\"\n",
    "c.Until='2015-01-01 00:00:00'\n",
    "\n",
    "# c.Search = \"fruit\"\n",
    "twint.run.Search(c)"
   ]
  },
  {
   "cell_type": "markdown",
   "metadata": {},
   "source": [
    "# elasticsearch\n",
    "\n",
    "query twint\n",
    "```json\n",
    "{\n",
    "  \"_source\": [\n",
    "    \"date\",\n",
    "    \"username\"\n",
    "  ],\n",
    "  \"query\": {\n",
    "    \"bool\": {\n",
    "      \"must\": [\n",
    "        {\n",
    "          \"match\": {\n",
    "            \"username\": \"business\"\n",
    "          }\n",
    "        },\n",
    "        {\n",
    "          \"range\": {\n",
    "            \"date\": {\n",
    "              \"gt\": \"2004-01-01 00:00:00\",\n",
    "              \"lt\": \"2023-01-01 00:00:00\"\n",
    "            }\n",
    "          }\n",
    "        }\n",
    "      ]\n",
    "    }\n",
    "  },\n",
    "  \"from\": 0,\n",
    "  \"size\": 1000,\n",
    "  \"sort\": [\n",
    "    {\n",
    "      \"date\": \"asc\"\n",
    "    }\n",
    "  ]\n",
    "}\n",
    "```\n",
    "\n",
    "query cnyes\n",
    "http://localhost:9200/news_page/_search\n",
    "```json\n",
    "{\n",
    "  \"query\": {\n",
    "    \"bool\": {\n",
    "      \"filter\": [\n",
    "        {\n",
    "          \"wildcard\": {\n",
    "            \"from_url\": \"*cnyes.com*\"\n",
    "          }\n",
    "        },\n",
    "        {\n",
    "          \"range\": {\n",
    "            \"entry_published_at\": {\n",
    "              \"gte\": \"2020-05-01T00:00:00\",\n",
    "              \"lt\": \"2021-01-01T00:00:00\"\n",
    "            }\n",
    "          }\n",
    "        }\n",
    "      ]\n",
    "    }\n",
    "  },\n",
    "  \"from\": 0,\n",
    "  \"size\": 1000,\n",
    "  \"sort\": [\n",
    "    {\n",
    "      \"entry_published_at\": \"desc\"\n",
    "    }\n",
    "  ]\n",
    "}\n",
    "```\n",
    "\n",
    "```json\n",
    "{\n",
    "  \"query\": {\n",
    "    \"bool\": {\n",
    "      \"filter\": [\n",
    "        {\n",
    "          \"wildcard\": {\n",
    "            \"resolved_url\": \"*cnbc*\"\n",
    "          }\n",
    "        }\n",
    "      ]\n",
    "    }\n",
    "  },\n",
    "  \"from\": 0,\n",
    "  \"size\": 1000,\n",
    "  \"sort\": [\n",
    "    {\n",
    "      \"entry_published_at\": \"desc\"\n",
    "    }\n",
    "  ]\n",
    "}\n",
    "```"
   ]
  },
  {
   "cell_type": "markdown",
   "metadata": {},
   "source": [
    "# Elasticsearch Dump\n",
    "\n",
    "https://github.com/taskrabbit/elasticsearch-dump  \n",
    "\n",
    "```\n",
    "npm install elasticdump -g\n",
    "```\n",
    "\n",
    "dump \n",
    "\n",
    "```\n",
    "multielasticdump \\\n",
    "  --direction=dump \\\n",
    "  --match='^.*$' \\\n",
    "  --input=http://es:9200 \\\n",
    "  --output=./dump \\\n",
    "  --fsCompress\n",
    "\n",
    "multielasticdump \\\n",
    "  --direction=load \\\n",
    "  --match='^.*$' \\\n",
    "  --input=./dump \\\n",
    "  --output=http://es:9200 \\\n",
    "  --fsCompress\n",
    "\n",
    "\n",
    "elasticdump \\\n",
    "  --input=http://es:9200/twinttweets \\\n",
    "  --output=./twinttweets_mapping_20200503.json \\\n",
    "  --type=mapping\n",
    "elasticdump \\\n",
    "  --input=http://es:9200/twinttweets \\\n",
    "  --output=./twinttweets_index_20200503.json \\\n",
    "  --type=data\n",
    "\n",
    "elasticdump \\\n",
    "  --input=http://es:9200/twinttweets \\\n",
    "  --output=$ \\\n",
    "  | gzip > ./twinttweets_index_20200504.json.gz\n",
    "  \n",
    "elasticdump \\\n",
    "  --input=http://es:9200/news_page \\\n",
    "  --output=$ \\\n",
    "  | gzip > ./news_page_index_20200615.json.gz\n",
    "```\n",
    "\n",
    "import\n",
    "\n",
    "```\n",
    "elasticdump \\\n",
    "  --input=./twinttweets_index_20200602.json.gz \\\n",
    "  --output=http://es:9200/twinttweets \\\n",
    "  --fsCompress\n",
    "```"
   ]
  },
  {
   "cell_type": "markdown",
   "metadata": {},
   "source": [
    "# Stock\n",
    "\n",
    "https://twstock.readthedocs.io/zh_TW/latest/index.html\n"
   ]
  },
  {
   "cell_type": "code",
   "execution_count": 1,
   "metadata": {},
   "outputs": [
    {
     "name": "stdout",
     "output_type": "stream",
     "text": [
      "Collecting twstock\n",
      "  Downloading twstock-1.3.1-py3-none-any.whl (1.9 MB)\n",
      "\u001b[K     |████████████████████████████████| 1.9 MB 853 kB/s eta 0:00:01     |█████████████████████▋          | 1.3 MB 853 kB/s eta 0:00:01\n",
      "\u001b[?25hRequirement already satisfied: requests in /usr/local/lib/python3.7/site-packages (from twstock) (2.23.0)\n",
      "Requirement already satisfied: chardet<4,>=3.0.2 in /usr/local/lib/python3.7/site-packages (from requests->twstock) (3.0.4)\n",
      "Requirement already satisfied: idna<3,>=2.5 in /usr/local/lib/python3.7/site-packages (from requests->twstock) (2.9)\n",
      "Requirement already satisfied: urllib3!=1.25.0,!=1.25.1,<1.26,>=1.21.1 in /usr/local/lib/python3.7/site-packages (from requests->twstock) (1.25.9)\n",
      "Requirement already satisfied: certifi>=2017.4.17 in /usr/local/lib/python3.7/site-packages (from requests->twstock) (2020.4.5.1)\n",
      "Installing collected packages: twstock\n",
      "Successfully installed twstock-1.3.1\n",
      "\u001b[33mWARNING: You are using pip version 20.0.2; however, version 20.1.1 is available.\n",
      "You should consider upgrading via the '/usr/local/bin/python -m pip install --upgrade pip' command.\u001b[0m\n"
     ]
    }
   ],
   "source": [
    "!pip install twstock"
   ]
  }
 ],
 "metadata": {
  "kernelspec": {
   "display_name": "Python 3",
   "language": "python",
   "name": "python3"
  },
  "language_info": {
   "codemirror_mode": {
    "name": "ipython",
    "version": 3
   },
   "file_extension": ".py",
   "mimetype": "text/x-python",
   "name": "python",
   "nbconvert_exporter": "python",
   "pygments_lexer": "ipython3",
   "version": "3.7.7"
  }
 },
 "nbformat": 4,
 "nbformat_minor": 4
}
