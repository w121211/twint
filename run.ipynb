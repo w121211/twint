{
 "cells": [
  {
   "cell_type": "markdown",
   "metadata": {},
   "source": [
    "# app\n",
    "\n",
    "rss sources:\n",
    "https://tw.stock.yahoo.com/rss_index.html"
   ]
  },
  {
   "cell_type": "code",
   "execution_count": 1,
   "metadata": {},
   "outputs": [
    {
     "name": "stdout",
     "output_type": "stream",
     "text": [
      "/workspace/twint/app\n"
     ]
    }
   ],
   "source": [
    "%cd /workspace/twint/app\n",
    "# !pip install -e .\n",
    "# !python -m pytest tests/test_scrapers.py::test_cnbc_page_tags -v"
   ]
  },
  {
   "cell_type": "code",
   "execution_count": 1,
   "metadata": {},
   "outputs": [
    {
     "name": "stdout",
     "output_type": "stream",
     "text": [
      "/workspace/twint/app\n"
     ]
    }
   ],
   "source": [
    "# setup elasticsearch (one-time only)\n",
    "# %cd /workspace/twint/app\n",
    "# !python ./app/store/es.py"
   ]
  },
  {
   "cell_type": "code",
   "execution_count": 1,
   "metadata": {
    "tags": []
   },
   "outputs": [
    {
     "name": "stdout",
     "output_type": "stream",
     "text": [
      "/workspace/twint/app\n",
      "{'run': {'scraper': 'cnbc', 'n_workers': 1, 'loop_every': 3600, 'sleep_for': 1, 'max_startpoints': 1000, 'startpoints_csv': './error_urls.csv'}, 'proxy': {'enabled': True, 'csv': './resource/proxies.txt'}, 'store': {'es': {'host': 'es:9200'}, 'db': {'user': 'sqlpad', 'password': 'sqlpad', 'host': 'pg', 'dbname': 'test'}}, 'scraper': {'rss': {'entry': './resource/rss_yahoo_us.csv', 'fetch_rss_every_n_seconds': 604800, 'force_fetch': True}, 'cnyes_api': {'start': [2020, 5, 5], 'until': None}, 'moneydj_index': {'start': 1, 'until': 2}}}\n",
      "[2020-08-17 13:40:27,347][app.scrapers.base][INFO] - scraper start running: 1 workers, loop every 3600 seconds\n",
      "Traceback (most recent call last):\n",
      "  File \"/usr/local/lib/python3.7/runpy.py\", line 193, in _run_module_as_main\n",
      "    \"__main__\", mod_spec)\n",
      "  File \"/usr/local/lib/python3.7/runpy.py\", line 85, in _run_code\n",
      "    exec(code, run_globals)\n",
      "  File \"/workspace/twint/app/app/main.py\", line 52, in <module>\n",
      "    main()\n",
      "  File \"/usr/local/lib/python3.7/site-packages/hydra/main.py\", line 24, in decorated_main\n",
      "    strict=strict,\n",
      "  File \"/usr/local/lib/python3.7/site-packages/hydra/_internal/utils.py\", line 174, in run_hydra\n",
      "    overrides=args.overrides,\n",
      "  File \"/usr/local/lib/python3.7/site-packages/hydra/_internal/hydra.py\", line 86, in run\n",
      "    job_subdir_key=None,\n",
      "  File \"/usr/local/lib/python3.7/site-packages/hydra/plugins/common/utils.py\", line 109, in run_job\n",
      "    ret.return_value = task_function(task_cfg)\n",
      "  File \"/workspace/twint/app/app/main.py\", line 47, in main\n",
      "    scp.run(cfg.run.n_workers, cfg.run.loop_every)\n",
      "  File \"/usr/local/lib/python3.7/asyncio/runners.py\", line 43, in run\n",
      "    return loop.run_until_complete(main)\n",
      "  File \"/usr/local/lib/python3.7/asyncio/base_events.py\", line 587, in run_until_complete\n",
      "    return future.result()\n",
      "  File \"/workspace/twint/app/app/scrapers/base.py\", line 171, in run\n",
      "    await self._run(n_workers, *args, **kwargs)\n",
      "  File \"/workspace/twint/app/app/scrapers/base.py\", line 150, in _run\n",
      "    for p in self.startpoints(*args, **kwargs):\n",
      "  File \"/workspace/twint/app/app/scrapers/cnbc.py\", line 55, in startpoints\n",
      "    for hit in es.scan_twint('CNBC'):\n",
      "  File \"/usr/local/lib/python3.7/site-packages/elasticsearch_dsl/search.py\", line 719, in scan\n",
      "    **self._params\n",
      "  File \"/usr/local/lib/python3.7/site-packages/elasticsearch/helpers/actions.py\", line 495, in scan\n",
      "    body=query, scroll=scroll, size=size, request_timeout=request_timeout, **kwargs\n",
      "  File \"/usr/local/lib/python3.7/site-packages/elasticsearch/client/utils.py\", line 139, in _wrapped\n",
      "    return func(*args, params=params, headers=headers, **kwargs)\n",
      "  File \"/usr/local/lib/python3.7/site-packages/elasticsearch/client/__init__.py\", line 1484, in search\n",
      "    body=body,\n",
      "  File \"/usr/local/lib/python3.7/site-packages/elasticsearch/transport.py\", line 352, in perform_request\n",
      "    timeout=timeout,\n",
      "  File \"/usr/local/lib/python3.7/site-packages/elasticsearch/connection/http_urllib3.py\", line 256, in perform_request\n",
      "    self._raise_error(response.status, raw_data)\n",
      "  File \"/usr/local/lib/python3.7/site-packages/elasticsearch/connection/base.py\", line 288, in _raise_error\n",
      "    status_code, error_message, additional_info\n",
      "elasticsearch.exceptions.NotFoundError: NotFoundError(404, 'index_not_found_exception', 'no such index [twinttweets]', twinttweets, index_or_alias)\n"
     ]
    }
   ],
   "source": [
    "%cd /workspace/twint/app\n",
    "# !chmod +x ./start.sh\n",
    "# !./start.sh\n",
    "\n",
    "# !python -m app.main run.scraper=cnbc run.n_workers=1\n",
    "# !python -m app.main run.scraper=cnyes_page run.n_workers=1 run.max_startpoints=10\n",
    "# !python -m app.main run.scraper=rss run.n_workers=1 run.loop_every=86400 scraper.rss.entry=./resource/rss_yahoo_us_stock.csv\n",
    "# !python -m app.main run.scraper=rss run.n_workers=1 run.loop_every=43200 scraper.rss.entry=./resource/rss_yahoo_us_indicies.csv\n",
    "# !python -m app.main run.scraper=rss run.n_workers=1 run.loop_every=43200 scraper.rss.entry=./resource/rss_yahoo_tw.csv\n",
    "# !python -m app.main run.scraper=rss run.n_workers=1 run.loop_every=7200 scraper.rss.entry=./resource/rss_news_us.csv\n",
    "# !python -m app.main run.scraper=moneydj_index run.n_workers=1 scraper.moneydj_index.until=3500 run.startpoints_csv='./outputs/2020-08-09/17-13-53/error_urls.csv'\n",
    "# !python -m app.main run.scraper=moneydj_index run.n_workers=1\n",
    "# !python -m app.main run.scraper=moneydj_page run.n_workers=1\n",
    "!python -m app.main run.scraper=cnbc run.n_workers=1 run.max_startpoints=1000 run.loop_every=3600  run.startpoints_csv=./error_urls.csv\n"
   ]
  },
  {
   "cell_type": "code",
   "execution_count": 1,
   "metadata": {},
   "outputs": [],
   "source": [
    "# run single scraper (for testing)\n",
    "%cd /workspace/twint/app\n",
    "import nest_asyncio\n",
    "nest_asyncio.apply()\n",
    "import asyncio\n",
    "from hydra.experimental import compose, initialize\n",
    "from app.scrapers import moneydj\n",
    "from app.store import es\n",
    "\n",
    "# initialize(config_dir=\"./app/app\")\n",
    "cfg = compose(\"config.yaml\")\n",
    "print(cfg)\n",
    "\n",
    "es.connect()\n",
    "scp = moneydj.MoneydjPageScraper(cfg)\n",
    "asyncio.run(scp.run())"
   ]
  },
  {
   "cell_type": "markdown",
   "metadata": {},
   "source": [
    "# twint\n",
    "\n",
    "twitter account: CNBC, CNNBusiness, businessinsider"
   ]
  },
  {
   "cell_type": "code",
   "execution_count": 1,
   "metadata": {},
   "outputs": [
    {
     "name": "stdout",
     "output_type": "stream",
     "text": [
      "Requirement already up-to-date: fake-useragent in /usr/local/lib/python3.7/site-packages (0.1.11)\n",
      "\u001b[33mWARNING: You are using pip version 20.0.2; however, version 20.1 is available.\n",
      "You should consider upgrading via the '/usr/local/bin/python -m pip install --upgrade pip' command.\u001b[0m\n"
     ]
    }
   ],
   "source": [
    "# %cd /workspace/twint\n",
    "# !pip install e .\n",
    "# !twint -u CNBC\n",
    "# !pip install -U fake-useragent"
   ]
  },
  {
   "cell_type": "code",
   "execution_count": 17,
   "metadata": {},
   "outputs": [],
   "source": [
    "import nest_asyncio\n",
    "nest_asyncio.apply()\n",
    "import twint\n",
    "\n",
    "c = twint.Config()\n",
    "c.Username = \"CNBC\"\n",
    "c.Elasticsearch = \"http://es:9200\"\n",
    "c.Until='2015-01-01 00:00:00'\n",
    "\n",
    "# c.Search = \"fruit\"\n",
    "twint.run.Search(c)"
   ]
  },
  {
   "cell_type": "markdown",
   "metadata": {},
   "source": [
    "# elasticsearch\n",
    "\n",
    "query twint\n",
    "```json\n",
    "{\n",
    "  \"_source\": [\n",
    "    \"date\",\n",
    "    \"username\"\n",
    "  ],\n",
    "  \"query\": {\n",
    "    \"bool\": {\n",
    "      \"must\": [\n",
    "        {\n",
    "          \"match\": {\n",
    "            \"username\": \"business\"\n",
    "          }\n",
    "        },\n",
    "        {\n",
    "          \"range\": {\n",
    "            \"date\": {\n",
    "              \"gt\": \"2004-01-01 00:00:00\",\n",
    "              \"lt\": \"2023-01-01 00:00:00\"\n",
    "            }\n",
    "          }\n",
    "        }\n",
    "      ]\n",
    "    }\n",
    "  },\n",
    "  \"from\": 0,\n",
    "  \"size\": 1000,\n",
    "  \"sort\": [\n",
    "    {\n",
    "      \"date\": \"asc\"\n",
    "    }\n",
    "  ]\n",
    "}\n",
    "```\n",
    "\n",
    "query cnyes\n",
    "http://localhost:9200/news_page/_search\n",
    "```json\n",
    "{\n",
    "  \"query\": {\n",
    "    \"bool\": {\n",
    "      \"filter\": [\n",
    "        {\n",
    "          \"wildcard\": {\n",
    "            \"from_url\": \"*cnyes.com*\"\n",
    "          }\n",
    "        },\n",
    "        {\n",
    "          \"range\": {\n",
    "            \"entry_published_at\": {\n",
    "              \"gte\": \"2020-05-01T00:00:00\",\n",
    "              \"lt\": \"2021-01-01T00:00:00\"\n",
    "            }\n",
    "          }\n",
    "        }\n",
    "      ]\n",
    "    }\n",
    "  },\n",
    "  \"from\": 0,\n",
    "  \"size\": 1000,\n",
    "  \"sort\": [\n",
    "    {\n",
    "      \"entry_published_at\": \"desc\"\n",
    "    }\n",
    "  ]\n",
    "}\n",
    "```\n",
    "\n",
    "```json\n",
    "{\n",
    "  \"query\": {\n",
    "    \"bool\": {\n",
    "      \"filter\": [\n",
    "        {\n",
    "          \"wildcard\": {\n",
    "            \"resolved_url\": \"*cnbc*\"\n",
    "          }\n",
    "        }\n",
    "      ]\n",
    "    }\n",
    "  },\n",
    "  \"from\": 0,\n",
    "  \"size\": 1000,\n",
    "  \"sort\": [\n",
    "    {\n",
    "      \"entry_published_at\": \"desc\"\n",
    "    }\n",
    "  ]\n",
    "}\n",
    "```"
   ]
  },
  {
   "cell_type": "code",
   "execution_count": 1,
   "metadata": {},
   "outputs": [
    {
     "name": "stdout",
     "output_type": "stream",
     "text": [
      "/workspace/twint/app/app\n",
      "{\"query\": {\"bool\": {\"filter\": [{\"wildcard\": {\"from_url\": \"www.moneydj.com\"}}]}}, \"sort\": [{\"created_at\": {\"order\": \"desc\"}}]}\n",
      "-------\n",
      "{'value': 80, 'relation': 'eq'}\n",
      "{'from_url': 'https://www.moneydj.com/KMDJ/News/NewsViewer.aspx?a=e91d494d-51b6-4a77-a8fb-905a5cbd2f82&c=MB010000', 'entry_title': '英國央行：負政策利率目前不是一項有效的經濟刺激工具', 'created_at': '2020-08-08T06:17:50.280029'}\n",
      "{'from_url': 'https://www.moneydj.com/KMDJ/News/NewsViewer.aspx?a=6a967d07-383f-4da1-a4ca-485a82cddab1&c=MB010000', 'entry_title': '中美晶入股宏捷科成為最大股東 發展氮化鎵', 'created_at': '2020-08-08T06:17:50.263146'}\n",
      "{'from_url': 'https://www.moneydj.com/KMDJ/News/NewsViewer.aspx?a=5c3cfc6e-f7fa-41c7-9a15-a72237f014f6&c=MB010000', 'entry_title': '《美股》科技股帶動 道瓊上漲0.68% Nasdaq續創新高', 'created_at': '2020-08-08T06:17:50.239180'}\n"
     ]
    }
   ],
   "source": [
    "%cd /workspace/twint/app/app\n",
    "import json\n",
    "from elasticsearch_dsl import connections, Document, Date, Keyword, Q, Search, Text, Range, Integer\n",
    "from store import es\n",
    "\n",
    "# query scraper-page\n",
    "q = Q(\"wildcard\", from_url=\"www.moneydj.com\".lower()) \n",
    "# \\ & \n",
    "#     Q(\"range\", created_at={\"gte\": \"2020-08-05\", \"lt\": None})\n",
    "# & \\ ~Q(\"term\", http_status=200)\n",
    "\n",
    "es.connect()\n",
    "s = es.Page.search().filter(q).sort('-created_at')\n",
    "resp = s.execute()\n",
    "\n",
    "print(json.dumps(s.to_dict()))\n",
    "print(\"-------\")\n",
    "print(resp.hits.total)\n",
    "for h in resp[0:3]:\n",
    "    print(h.to_dict())"
   ]
  },
  {
   "cell_type": "markdown",
   "metadata": {},
   "source": [
    "# Elasticsearch Dump\n",
    "\n",
    "Install nodejs & elasticdump first  \n",
    "https://github.com/nodesource/distributions/blob/master/README.md  \n",
    "https://github.com/taskrabbit/elasticsearch-dump  \n",
    "\n",
    "```bash\n",
    "curl -sL https://deb.nodesource.com/setup_14.x | sudo -E bash -\n",
    "sudo apt-get install -y nodejs\n",
    "npm install elasticdump -g\n",
    "```\n",
    "\n",
    "Dump & load  \n",
    "\n",
    "```bash\n",
    "# dump\n",
    "multielasticdump \\\n",
    "  --direction=dump \\\n",
    "  --match='^.*$' \\\n",
    "  --fsCompress \\\n",
    "  --input=http://es:9200 \\\n",
    "  --output=./dump_2020xxxx\n",
    "\n",
    "# load\n",
    "multielasticdump \\\n",
    "  --direction=load \\\n",
    "  --match='^.*$' \\\n",
    "  --input=./dump_2020xxxx \\\n",
    "  --output=http://es:9200 \\\n",
    "  --fsCompress\n",
    "\n",
    "# single\n",
    "\n",
    "elasticdump \\\n",
    "  --input=http://es:9200/twinttweets \\\n",
    "  --output=./twinttweets_mapping_20200503.json \\\n",
    "  --type=mapping\n",
    "elasticdump \\\n",
    "  --input=http://es:9200/twinttweets \\\n",
    "  --output=./twinttweets_index_20200503.json \\\n",
    "  --type=data\n",
    "\n",
    "elasticdump \\\n",
    "  --input=http://es:9200/twinttweets \\\n",
    "  --output=$ \\\n",
    "  | gzip > ./twinttweets_index_20200504.json.gz\n",
    "  \n",
    "elasticdump \\\n",
    "  --input=http://es:9200/news_page \\\n",
    "  --output=$ \\\n",
    "  | gzip > ./news_page_index_20200615.json.gz\n",
    "  \n",
    "elasticdump \\\n",
    "  --input=./twinttweets_index_20200602.json.gz \\\n",
    "  --output=http://es:9200/twinttweets \\\n",
    "  --fsCompress \n",
    "```"
   ]
  },
  {
   "cell_type": "markdown",
   "metadata": {},
   "source": [
    "# Stock\n",
    "\n",
    "https://twstock.readthedocs.io/zh_TW/latest/index.html\n"
   ]
  },
  {
   "cell_type": "code",
   "execution_count": 1,
   "metadata": {},
   "outputs": [
    {
     "name": "stdout",
     "output_type": "stream",
     "text": [
      "Collecting twstock\n",
      "  Downloading twstock-1.3.1-py3-none-any.whl (1.9 MB)\n",
      "\u001b[K     |████████████████████████████████| 1.9 MB 853 kB/s eta 0:00:01     |█████████████████████▋          | 1.3 MB 853 kB/s eta 0:00:01\n",
      "\u001b[?25hRequirement already satisfied: requests in /usr/local/lib/python3.7/site-packages (from twstock) (2.23.0)\n",
      "Requirement already satisfied: chardet<4,>=3.0.2 in /usr/local/lib/python3.7/site-packages (from requests->twstock) (3.0.4)\n",
      "Requirement already satisfied: idna<3,>=2.5 in /usr/local/lib/python3.7/site-packages (from requests->twstock) (2.9)\n",
      "Requirement already satisfied: urllib3!=1.25.0,!=1.25.1,<1.26,>=1.21.1 in /usr/local/lib/python3.7/site-packages (from requests->twstock) (1.25.9)\n",
      "Requirement already satisfied: certifi>=2017.4.17 in /usr/local/lib/python3.7/site-packages (from requests->twstock) (2020.4.5.1)\n",
      "Installing collected packages: twstock\n",
      "Successfully installed twstock-1.3.1\n",
      "\u001b[33mWARNING: You are using pip version 20.0.2; however, version 20.1.1 is available.\n",
      "You should consider upgrading via the '/usr/local/bin/python -m pip install --upgrade pip' command.\u001b[0m\n"
     ]
    }
   ],
   "source": [
    "!pip install twstock"
   ]
  },
  {
   "cell_type": "markdown",
   "metadata": {},
   "source": [
    "# app.tool"
   ]
  },
  {
   "cell_type": "code",
   "execution_count": 1,
   "metadata": {},
   "outputs": [
    {
     "name": "stdout",
     "output_type": "stream",
     "text": [
      "/workspace/twint/app\n"
     ]
    }
   ],
   "source": [
    "%cd /workspace/twint/app\n",
    "\n",
    "from app import tools\n",
    "\n",
    "tools.generate_rss_yahoo_csv(\n",
    "    save_to=\"./resource/rss_yahoo_us_indicies.csv\",\n",
    "        symbol_path=\"./resource/symbol_indicies.csv\")"
   ]
  },
  {
   "cell_type": "code",
   "execution_count": null,
   "metadata": {},
   "outputs": [],
   "source": []
  }
 ],
 "metadata": {
  "kernelspec": {
   "display_name": "Python 3",
   "language": "python",
   "name": "python3"
  },
  "language_info": {
   "codemirror_mode": {
    "name": "ipython",
    "version": 3
   },
   "file_extension": ".py",
   "mimetype": "text/x-python",
   "name": "python",
   "nbconvert_exporter": "python",
   "pygments_lexer": "ipython3",
   "version": "3.7.7"
  }
 },
 "nbformat": 4,
 "nbformat_minor": 4
}
