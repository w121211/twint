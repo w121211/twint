{
 "cells": [
  {
   "cell_type": "markdown",
   "metadata": {},
   "source": [
    "# app\n",
    "\n",
    "rss sources:\n",
    "https://tw.stock.yahoo.com/rss_index.html"
   ]
  },
  {
   "cell_type": "code",
   "execution_count": 1,
   "metadata": {},
   "outputs": [
    {
     "name": "stdout",
     "output_type": "stream",
     "text": [
      "/workspace/twint/app\n"
     ]
    }
   ],
   "source": [
    "%cd /workspace/twint/app\n",
    "# !pip install -e .\n",
    "# !python -m pytest tests/test_scrapers.py::test_cnbc_page_tags -v"
   ]
  },
  {
   "cell_type": "code",
   "execution_count": 7,
   "metadata": {},
   "outputs": [
    {
     "name": "stdout",
     "output_type": "stream",
     "text": [
      "/workspace/twint/app\n",
      "[2020-06-25 17:49:26,764][HYDRA] Installed Hydra Plugins\n",
      "[2020-06-25 17:49:26,764][HYDRA] ***********************\n",
      "[2020-06-25 17:49:26,765][HYDRA] \tSearchPathPlugin:\n",
      "[2020-06-25 17:49:26,765][HYDRA] \t-----------------\n",
      "[2020-06-25 17:49:26,767][HYDRA] \tSweeper:\n",
      "[2020-06-25 17:49:26,768][HYDRA] \t--------\n",
      "[2020-06-25 17:49:26,770][HYDRA] \t\tBasicSweeper\n",
      "[2020-06-25 17:49:26,770][HYDRA] \tLauncher:\n",
      "[2020-06-25 17:49:26,770][HYDRA] \t---------\n",
      "[2020-06-25 17:49:26,772][HYDRA] \t\tBasicLauncher\n",
      "[2020-06-25 17:49:26,772][HYDRA] \n",
      "[2020-06-25 17:49:26,773][HYDRA] Hydra config search path\n",
      "[2020-06-25 17:49:26,773][HYDRA] ************************\n",
      "[2020-06-25 17:49:26,774][HYDRA] | Provider | Search path               |\n",
      "[2020-06-25 17:49:26,774][HYDRA] ----------------------------------------\n",
      "[2020-06-25 17:49:26,774][HYDRA] | hydra  | pkg://hydra.conf          |\n",
      "[2020-06-25 17:49:26,774][HYDRA] | main   | /workspace/twint/app/app  |\n",
      "[2020-06-25 17:49:26,775][HYDRA] \n",
      "[2020-06-25 17:49:26,775][HYDRA] Composition trace\n",
      "[2020-06-25 17:49:26,776][HYDRA] *****************\n",
      "[2020-06-25 17:49:26,776][HYDRA] | Provider | Search path               | File                              |\n",
      "[2020-06-25 17:49:26,776][HYDRA] ----------------------------------------------------------------------------\n",
      "[2020-06-25 17:49:26,777][HYDRA] | hydra  | pkg://hydra.conf          | hydra.yaml                        |\n",
      "[2020-06-25 17:49:26,777][HYDRA] | hydra  | pkg://hydra.conf          | hydra/hydra_logging/default.yaml  |\n",
      "[2020-06-25 17:49:26,777][HYDRA] | hydra  | pkg://hydra.conf          | hydra/job_logging/default.yaml    |\n",
      "[2020-06-25 17:49:26,778][HYDRA] | hydra  | pkg://hydra.conf          | hydra/launcher/basic.yaml         |\n",
      "[2020-06-25 17:49:26,778][HYDRA] | hydra  | pkg://hydra.conf          | hydra/sweeper/basic.yaml          |\n",
      "[2020-06-25 17:49:26,778][HYDRA] | hydra  | pkg://hydra.conf          | hydra/output/default.yaml         |\n",
      "[2020-06-25 17:49:26,779][HYDRA] | hydra  | pkg://hydra.conf          | hydra/help/default.yaml           |\n",
      "[2020-06-25 17:49:26,779][HYDRA] | hydra  | pkg://hydra.conf          | hydra/hydra_help/default.yaml     |\n",
      "[2020-06-25 17:49:26,779][HYDRA] | main   | /workspace/twint/app/app  | config.yaml                       |\n",
      "[2020-06-25 17:49:26,872][asyncio][DEBUG] - Using selector: EpollSelector\n",
      "[2020-06-25 17:49:26,877][app.scrapers.cnbc][INFO] - scraper start running: 1 workers\n",
      "[2020-06-25 17:49:29,306][app.scrapers.cnbc][INFO] - page fetching https://cnb.cx/2Vl4nts\n",
      "[2020-06-25 17:49:29,629][app.scrapers.cnbc][INFO] - page downloaded https://cnb.cx/2Vl4nts\n",
      "[2020-06-25 17:49:32,778][app.scrapers.cnbc][INFO] - page scraped https://cnb.cx/2Vl4nts\n",
      "[2020-06-25 17:49:36,389][app.scrapers.cnbc][INFO] - page fetching http://cnb.cx/sytyjc\n",
      "[2020-06-25 17:49:36,467][app.scrapers.cnbc][INFO] - page downloaded http://cnb.cx/sytyjc\n",
      "[2020-06-25 17:49:39,624][app.scrapers.cnbc][INFO] - page scraped http://cnb.cx/sytyjc\n",
      "[2020-06-25 17:49:39,641][app.scrapers.cnbc][INFO] - all jobs done.\n"
     ]
    }
   ],
   "source": [
    "%cd /workspace/twint/app\n",
    "!python -m app.main hydra.verbose=true"
   ]
  },
  {
   "cell_type": "markdown",
   "metadata": {},
   "source": [
    "# Twint"
   ]
  },
  {
   "cell_type": "code",
   "execution_count": 1,
   "metadata": {},
   "outputs": [
    {
     "name": "stdout",
     "output_type": "stream",
     "text": [
      "Requirement already up-to-date: fake-useragent in /usr/local/lib/python3.7/site-packages (0.1.11)\n",
      "\u001b[33mWARNING: You are using pip version 20.0.2; however, version 20.1 is available.\n",
      "You should consider upgrading via the '/usr/local/bin/python -m pip install --upgrade pip' command.\u001b[0m\n"
     ]
    }
   ],
   "source": [
    "# %cd /workspace/twint\n",
    "# !pip install e .\n",
    "# !twint -u CNBC\n",
    "# !pip install -U fake-useragent"
   ]
  },
  {
   "cell_type": "code",
   "execution_count": 17,
   "metadata": {},
   "outputs": [],
   "source": [
    "import nest_asyncio\n",
    "nest_asyncio.apply()\n",
    "import twint\n",
    "\n",
    "c = twint.Config()\n",
    "c.Username = \"CNBC\"\n",
    "c.Elasticsearch = \"http://es:9200\"\n",
    "c.Until='2015-01-01 00:00:00'\n",
    "\n",
    "# c.Search = \"fruit\"\n",
    "twint.run.Search(c)"
   ]
  },
  {
   "cell_type": "markdown",
   "metadata": {},
   "source": [
    "# elasticsearch\n",
    "\n",
    "query twint\n",
    "```json\n",
    "{\n",
    "  \"_source\": [\n",
    "    \"date\",\n",
    "    \"username\"\n",
    "  ],\n",
    "  \"query\": {\n",
    "    \"bool\": {\n",
    "      \"must\": [\n",
    "        {\n",
    "          \"match\": {\n",
    "            \"username\": \"business\"\n",
    "          }\n",
    "        },\n",
    "        {\n",
    "          \"range\": {\n",
    "            \"date\": {\n",
    "              \"gt\": \"2004-01-01 00:00:00\",\n",
    "              \"lt\": \"2023-01-01 00:00:00\"\n",
    "            }\n",
    "          }\n",
    "        }\n",
    "      ]\n",
    "    }\n",
    "  },\n",
    "  \"from\": 0,\n",
    "  \"size\": 1000,\n",
    "  \"sort\": [\n",
    "    {\n",
    "      \"date\": \"asc\"\n",
    "    }\n",
    "  ]\n",
    "}\n",
    "```\n",
    "\n",
    "query cnyes\n",
    "http://localhost:9200/news_page/_search\n",
    "```json\n",
    "{\n",
    "  \"query\": {\n",
    "    \"bool\": {\n",
    "      \"filter\": [\n",
    "        {\n",
    "          \"wildcard\": {\n",
    "            \"from_url\": \"*cnyes.com*\"\n",
    "          }\n",
    "        },\n",
    "        {\n",
    "          \"range\": {\n",
    "            \"entry_published_at\": {\n",
    "              \"gte\": \"2020-05-01T00:00:00\",\n",
    "              \"lt\": \"2021-01-01T00:00:00\"\n",
    "            }\n",
    "          }\n",
    "        }\n",
    "      ]\n",
    "    }\n",
    "  },\n",
    "  \"from\": 0,\n",
    "  \"size\": 1000,\n",
    "  \"sort\": [\n",
    "    {\n",
    "      \"entry_published_at\": \"desc\"\n",
    "    }\n",
    "  ]\n",
    "}\n",
    "```\n",
    "\n",
    "```json\n",
    "{\n",
    "  \"query\": {\n",
    "    \"bool\": {\n",
    "      \"filter\": [\n",
    "        {\n",
    "          \"wildcard\": {\n",
    "            \"resolved_url\": \"*cnbc*\"\n",
    "          }\n",
    "        }\n",
    "      ]\n",
    "    }\n",
    "  },\n",
    "  \"from\": 0,\n",
    "  \"size\": 1000,\n",
    "  \"sort\": [\n",
    "    {\n",
    "      \"entry_published_at\": \"desc\"\n",
    "    }\n",
    "  ]\n",
    "}\n",
    "```"
   ]
  },
  {
   "cell_type": "markdown",
   "metadata": {},
   "source": [
    "# Elasticsearch Dump\n",
    "\n",
    "https://github.com/taskrabbit/elasticsearch-dump  \n",
    "\n",
    "```\n",
    "npm install elasticdump -g\n",
    "```\n",
    "\n",
    "dump \n",
    "\n",
    "```\n",
    "multielasticdump \\\n",
    "  --direction=dump \\\n",
    "  --match='^.*$' \\\n",
    "  --input=http://es:9200 \\\n",
    "  --output=./dump \\\n",
    "  --fsCompress\n",
    "\n",
    "multielasticdump \\\n",
    "  --direction=load \\\n",
    "  --match='^.*$' \\\n",
    "  --input=./dump \\\n",
    "  --output=http://es:9200 \\\n",
    "  --fsCompress\n",
    "\n",
    "\n",
    "elasticdump \\\n",
    "  --input=http://es:9200/twinttweets \\\n",
    "  --output=./twinttweets_mapping_20200503.json \\\n",
    "  --type=mapping\n",
    "elasticdump \\\n",
    "  --input=http://es:9200/twinttweets \\\n",
    "  --output=./twinttweets_index_20200503.json \\\n",
    "  --type=data\n",
    "\n",
    "elasticdump \\\n",
    "  --input=http://es:9200/twinttweets \\\n",
    "  --output=$ \\\n",
    "  | gzip > ./twinttweets_index_20200504.json.gz\n",
    "  \n",
    "elasticdump \\\n",
    "  --input=http://es:9200/news_page \\\n",
    "  --output=$ \\\n",
    "  | gzip > ./news_page_index_20200615.json.gz\n",
    "```\n",
    "\n",
    "import\n",
    "\n",
    "```\n",
    "elasticdump \\\n",
    "  --input=./twinttweets_index_20200602.json.gz \\\n",
    "  --output=http://es:9200/twinttweets \\\n",
    "  --fsCompress\n",
    "```"
   ]
  },
  {
   "cell_type": "markdown",
   "metadata": {},
   "source": [
    "# Stock\n",
    "\n",
    "https://twstock.readthedocs.io/zh_TW/latest/index.html\n"
   ]
  },
  {
   "cell_type": "code",
   "execution_count": 1,
   "metadata": {},
   "outputs": [
    {
     "name": "stdout",
     "output_type": "stream",
     "text": [
      "Collecting twstock\n",
      "  Downloading twstock-1.3.1-py3-none-any.whl (1.9 MB)\n",
      "\u001b[K     |████████████████████████████████| 1.9 MB 853 kB/s eta 0:00:01     |█████████████████████▋          | 1.3 MB 853 kB/s eta 0:00:01\n",
      "\u001b[?25hRequirement already satisfied: requests in /usr/local/lib/python3.7/site-packages (from twstock) (2.23.0)\n",
      "Requirement already satisfied: chardet<4,>=3.0.2 in /usr/local/lib/python3.7/site-packages (from requests->twstock) (3.0.4)\n",
      "Requirement already satisfied: idna<3,>=2.5 in /usr/local/lib/python3.7/site-packages (from requests->twstock) (2.9)\n",
      "Requirement already satisfied: urllib3!=1.25.0,!=1.25.1,<1.26,>=1.21.1 in /usr/local/lib/python3.7/site-packages (from requests->twstock) (1.25.9)\n",
      "Requirement already satisfied: certifi>=2017.4.17 in /usr/local/lib/python3.7/site-packages (from requests->twstock) (2020.4.5.1)\n",
      "Installing collected packages: twstock\n",
      "Successfully installed twstock-1.3.1\n",
      "\u001b[33mWARNING: You are using pip version 20.0.2; however, version 20.1.1 is available.\n",
      "You should consider upgrading via the '/usr/local/bin/python -m pip install --upgrade pip' command.\u001b[0m\n"
     ]
    }
   ],
   "source": [
    "!pip install twstock"
   ]
  }
 ],
 "metadata": {
  "kernelspec": {
   "display_name": "Python 3",
   "language": "python",
   "name": "python3"
  },
  "language_info": {
   "codemirror_mode": {
    "name": "ipython",
    "version": 3
   },
   "file_extension": ".py",
   "mimetype": "text/x-python",
   "name": "python",
   "nbconvert_exporter": "python",
   "pygments_lexer": "ipython3",
   "version": "3.7.7"
  }
 },
 "nbformat": 4,
 "nbformat_minor": 4
}