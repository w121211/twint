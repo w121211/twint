{
 "cells": [
  {
   "cell_type": "markdown",
   "metadata": {},
   "source": [
    "# app\n",
    "\n",
    "rss sources:\n",
    "https://tw.stock.yahoo.com/rss_index.html"
   ]
  },
  {
   "cell_type": "code",
   "execution_count": 1,
   "metadata": {},
   "outputs": [
    {
     "name": "stdout",
     "output_type": "stream",
     "text": [
      "/workspace/twint/app\n",
      "Obtaining file:///workspace/twint/app\n",
      "Installing collected packages: app\n",
      "  Running setup.py develop for app\n",
      "Successfully installed app\n",
      "\u001b[33mWARNING: You are using pip version 20.0.2; however, version 20.1 is available.\n",
      "You should consider upgrading via the '/usr/local/bin/python -m pip install --upgrade pip' command.\u001b[0m\n"
     ]
    }
   ],
   "source": [
    "%cd /workspace/twint/app\n",
    "!pip install -e ."
   ]
  },
  {
   "cell_type": "code",
   "execution_count": null,
   "metadata": {},
   "outputs": [
    {
     "name": "stdout",
     "output_type": "stream",
     "text": [
      "/workspace/twint/app\n",
      "[2020-06-17 17:59:24,971][HYDRA] Installed Hydra Plugins\n",
      "[2020-06-17 17:59:24,971][HYDRA] ***********************\n",
      "[2020-06-17 17:59:24,972][HYDRA] \tSearchPathPlugin:\n",
      "[2020-06-17 17:59:24,972][HYDRA] \t-----------------\n",
      "[2020-06-17 17:59:24,974][HYDRA] \tSweeper:\n",
      "[2020-06-17 17:59:24,974][HYDRA] \t--------\n",
      "[2020-06-17 17:59:24,975][HYDRA] \t\tBasicSweeper\n",
      "[2020-06-17 17:59:24,976][HYDRA] \tLauncher:\n",
      "[2020-06-17 17:59:24,976][HYDRA] \t---------\n",
      "[2020-06-17 17:59:24,977][HYDRA] \t\tBasicLauncher\n",
      "[2020-06-17 17:59:24,977][HYDRA] \n",
      "[2020-06-17 17:59:24,977][HYDRA] Hydra config search path\n",
      "[2020-06-17 17:59:24,977][HYDRA] ************************\n",
      "[2020-06-17 17:59:24,977][HYDRA] | Provider | Search path               |\n",
      "[2020-06-17 17:59:24,977][HYDRA] ----------------------------------------\n",
      "[2020-06-17 17:59:24,978][HYDRA] | hydra  | pkg://hydra.conf          |\n",
      "[2020-06-17 17:59:24,978][HYDRA] | main   | /workspace/twint/app/app  |\n",
      "[2020-06-17 17:59:24,978][HYDRA] \n",
      "[2020-06-17 17:59:24,978][HYDRA] Composition trace\n",
      "[2020-06-17 17:59:24,978][HYDRA] *****************\n",
      "[2020-06-17 17:59:24,978][HYDRA] | Provider | Search path               | File                              |\n",
      "[2020-06-17 17:59:24,978][HYDRA] ----------------------------------------------------------------------------\n",
      "[2020-06-17 17:59:24,978][HYDRA] | hydra  | pkg://hydra.conf          | hydra.yaml                        |\n",
      "[2020-06-17 17:59:24,978][HYDRA] | hydra  | pkg://hydra.conf          | hydra/hydra_logging/default.yaml  |\n",
      "[2020-06-17 17:59:24,978][HYDRA] | hydra  | pkg://hydra.conf          | hydra/job_logging/default.yaml    |\n",
      "[2020-06-17 17:59:24,979][HYDRA] | hydra  | pkg://hydra.conf          | hydra/launcher/basic.yaml         |\n",
      "[2020-06-17 17:59:24,979][HYDRA] | hydra  | pkg://hydra.conf          | hydra/sweeper/basic.yaml          |\n",
      "[2020-06-17 17:59:24,979][HYDRA] | hydra  | pkg://hydra.conf          | hydra/output/default.yaml         |\n",
      "[2020-06-17 17:59:24,979][HYDRA] | hydra  | pkg://hydra.conf          | hydra/help/default.yaml           |\n",
      "[2020-06-17 17:59:24,979][HYDRA] | hydra  | pkg://hydra.conf          | hydra/hydra_help/default.yaml     |\n",
      "[2020-06-17 17:59:24,979][HYDRA] | main   | /workspace/twint/app/app  | config.yaml                       |\n",
      "[2020-06-17 17:59:25,075][asyncio][DEBUG] - Using selector: EpollSelector\n",
      "[2020-06-17 17:59:25,078][app.scrapers.cnbc][INFO] - scraper start running: 3 workers\n",
      "0 <Hit(twinttweets/153192462440075267_raw_): {'id': '153192462440075267', 'conversation_id': '15319246244...}>\n",
      "1 <Hit(twinttweets/153135845933723650_raw_): {'id': '153135845933723650', 'conversation_id': '15313584593...}>\n",
      "2 <Hit(twinttweets/153085503275667456_raw_): {'id': '153085503275667456', 'conversation_id': '15308550327...}>\n",
      "3 <Hit(twinttweets/152982876705656834_raw_): {'id': '152982876705656834', 'conversation_id': '15298287670...}>\n",
      "4 <Hit(twinttweets/152946732550979585_raw_): {'id': '152946732550979585', 'conversation_id': '15294673255...}>\n",
      "5 <Hit(twinttweets/152867835570434048_raw_): {'id': '152867835570434048', 'conversation_id': '15286783557...}>\n",
      "6 <Hit(twinttweets/152805133313515521_raw_): {'id': '152805133313515521', 'conversation_id': '15280513331...}>\n",
      "7 <Hit(twinttweets/152796648811143168_raw_): {'id': '152796648811143168', 'conversation_id': '15279664881...}>\n",
      "8 <Hit(twinttweets/152773438266814464_raw_): {'id': '152773438266814464', 'conversation_id': '15277343826...}>\n",
      "9 <Hit(twinttweets/152749026486398976_raw_): {'id': '152749026486398976', 'conversation_id': '15274902648...}>\n",
      "10 <Hit(twinttweets/152714454352674816_raw_): {'id': '152714454352674816', 'conversation_id': '15271445435...}>\n",
      "11 <Hit(twinttweets/152697600561258496_raw_): {'id': '152697600561258496', 'conversation_id': '15269760056...}>\n",
      "12 <Hit(twinttweets/152694180123127808_raw_): {'id': '152694180123127808', 'conversation_id': '15269418012...}>\n",
      "13 <Hit(twinttweets/152559537088503808_raw_): {'id': '152559537088503808', 'conversation_id': '15255953708...}>\n",
      "14 <Hit(twinttweets/152505458563878913_raw_): {'id': '152505458563878913', 'conversation_id': '15250545856...}>\n",
      "15 <Hit(twinttweets/152482774622810112_raw_): {'id': '152482774622810112', 'conversation_id': '15248277462...}>\n",
      "16 <Hit(twinttweets/152459485783404544_raw_): {'id': '152459485783404544', 'conversation_id': '15245948578...}>\n",
      "17 <Hit(twinttweets/152441253441703936_raw_): {'id': '152441253441703936', 'conversation_id': '15244125344...}>\n",
      "18 <Hit(twinttweets/152438060641026049_raw_): {'id': '152438060641026049', 'conversation_id': '15243806064...}>\n",
      "19 <Hit(twinttweets/152389357981011969_raw_): {'id': '152389357981011969', 'conversation_id': '15238935798...}>\n",
      "20 <Hit(twinttweets/152350662280220672_raw_): {'id': '152350662280220672', 'conversation_id': '15235066228...}>\n",
      "21 <Hit(twinttweets/152336215545356289_raw_): {'id': '152336215545356289', 'conversation_id': '15233621554...}>\n",
      "22 <Hit(twinttweets/152331797521379329_raw_): {'id': '152331797521379329', 'conversation_id': '15233179752...}>\n",
      "23 <Hit(twinttweets/152143064968855552_raw_): {'id': '152143064968855552', 'conversation_id': '15214306496...}>\n",
      "24 <Hit(twinttweets/152078862426193921_raw_): {'id': '152078862426193921', 'conversation_id': '15207886242...}>\n",
      "25 <Hit(twinttweets/152071562890182657_raw_): {'id': '152071562890182657', 'conversation_id': '15207156289...}>\n",
      "26 <Hit(twinttweets/152053322218606592_raw_): {'id': '152053322218606592', 'conversation_id': '15205332221...}>\n",
      "27 <Hit(twinttweets/151988928323391489_raw_): {'id': '151988928323391489', 'conversation_id': '15198892832...}>\n",
      "28 <Hit(twinttweets/151973364863471619_raw_): {'id': '151973364863471619', 'conversation_id': '15197336486...}>\n",
      "29 <Hit(twinttweets/151969433492004864_raw_): {'id': '151969433492004864', 'conversation_id': '15196943349...}>\n",
      "30 <Hit(twinttweets/151780690432770049_raw_): {'id': '151780690432770049', 'conversation_id': '15178069043...}>\n",
      "[2020-06-17 17:59:25,400][app.scrapers.cnbc][INFO] - page existed, skip http://cnb.cx/tsMAua\n",
      "[2020-06-17 17:59:25,411][app.scrapers.cnbc][INFO] - page existed, skip http://cnb.cx/s6osEe\n",
      "[2020-06-17 17:59:25,421][app.scrapers.cnbc][INFO] - page existed, skip http://cnb.cx/rTzAA0\n",
      "[2020-06-17 17:59:25,442][app.scrapers.cnbc][INFO] - page existed, skip http://cnb.cx/tMaSij\n",
      "[2020-06-17 17:59:25,451][app.scrapers.cnbc][INFO] - page existed, skip http://cnb.cx/uXtUBE\n",
      "[2020-06-17 17:59:25,481][app.scrapers.cnbc][INFO] - page existed, skip http://bit.ly/iWfIci\n",
      "{'http': 'http://206.214.82.173:3128', 'https': 'http://206.214.82.173:3128'}\n",
      "[2020-06-17 17:59:25,515][app.scrapers.cnbc][INFO] - page existed, skip http://cnb.cx/s06YmS\n",
      "[2020-06-17 17:59:25,537][app.scrapers.cnbc][INFO] - page existed, skip http://cnb.cx/s6osEe\n",
      "[2020-06-17 17:59:25,559][app.scrapers.cnbc][INFO] - page existed, skip http://cnb.cx/uWFWMx\n",
      "{'http': 'http://173.234.248.66:3128', 'https': 'http://173.234.248.66:3128'}\n",
      "{'http': 'http://206.214.82.218:3128', 'https': 'http://206.214.82.218:3128'}\n",
      "[2020-06-17 17:59:28,507][app.scrapers.cnbc][INFO] - start scraping page http://classic.cnbc.com/id/15840232?video=3000064742&play=1\n",
      "[2020-06-17 17:59:33,906][urllib3.connectionpool][WARNING] - Retrying (Retry(total=2, connect=None, read=None, redirect=None, status=None)) after connection broken by 'ReadTimeoutError(\"HTTPConnectionPool(host='206.214.82.173', port=3128): Read timed out. (read timeout=5)\")': http://classic.cnbc.com/id/15840232?video=3000064742&play=1\n",
      "[2020-06-17 17:59:39,221][urllib3.connectionpool][WARNING] - Retrying (Retry(total=1, connect=None, read=None, redirect=None, status=None)) after connection broken by 'ReadTimeoutError(\"HTTPConnectionPool(host='206.214.82.173', port=3128): Read timed out. (read timeout=5)\")': http://classic.cnbc.com/id/15840232?video=3000064742&play=1\n",
      "[2020-06-17 17:59:44,553][urllib3.connectionpool][WARNING] - Retrying (Retry(total=0, connect=None, read=None, redirect=None, status=None)) after connection broken by 'ReadTimeoutError(\"HTTPConnectionPool(host='206.214.82.173', port=3128): Read timed out. (read timeout=5)\")': http://classic.cnbc.com/id/15840232?video=3000064742&play=1\n",
      "[2020-06-17 17:59:49,904][app.scrapers.cnbc][INFO] - start scraping page http://video.cnbc.com/gallery/?video=3000064741\n"
     ]
    },
    {
     "name": "stdout",
     "output_type": "stream",
     "text": [
      "[2020-06-17 17:59:57,838][app.scrapers.cnbc][INFO] - page scraped http://video.cnbc.com/gallery/?video=3000064741\n",
      "{'http': 'http://206.214.82.80:3128', 'https': 'http://206.214.82.80:3128'}\n",
      "[2020-06-17 17:59:57,848][app.scrapers.cnbc][INFO] - start scraping page http://video.cnbc.com/gallery/?video=3000064742\n",
      "[2020-06-17 18:00:04,724][app.scrapers.cnbc][INFO] - start scraping page http://ow.ly/7WtzF\n",
      "[2020-06-17 18:00:10,064][urllib3.connectionpool][WARNING] - Retrying (Retry(total=2, connect=None, read=None, redirect=None, status=None)) after connection broken by 'ReadTimeoutError(\"HTTPConnectionPool(host='206.214.82.80', port=3128): Read timed out. (read timeout=5)\")': http://ow.ly/7WtzF\n",
      "[2020-06-17 18:00:16,133][app.scrapers.cnbc][INFO] - fetch error & skiped: 404 Client Error: Not Found for url: https://www.cnbc.com/id/17689937/site/14081545/\n",
      "[2020-06-17 18:00:16,134][app.scrapers.cnbc][ERROR] - 404 Client Error: Not Found for url: https://www.cnbc.com/id/17689937/site/14081545/\n",
      "{'http': 'http://192.161.163.206:3128', 'https': 'http://192.161.163.206:3128'}\n",
      "[2020-06-17 18:00:19,155][app.scrapers.cnbc][INFO] - start scraping page http://cnb.cx/s1ZGYe\n",
      "[2020-06-17 18:00:23,133][app.scrapers.cnbc][INFO] - fetch error & skiped: 404 Client Error: Not Found for url: https://www.cnbc.com/id/45808787\n",
      "[2020-06-17 18:00:23,136][app.scrapers.cnbc][ERROR] - 404 Client Error: Not Found for url: https://www.cnbc.com/id/45808787\n",
      "[2020-06-17 18:00:23,165][app.scrapers.cnbc][INFO] - page existed, skip http://bit.ly/iWfIci\n",
      "{'http': 'http://192.161.163.220:3128', 'https': 'http://192.161.163.220:3128'}\n",
      "[2020-06-17 18:00:26,151][app.scrapers.cnbc][INFO] - start scraping page http://www.searsmedia.com/tools/122711_close.pdf\n"
     ]
    }
   ],
   "source": [
    "%cd /workspace/twint/app\n",
    "!python -m app.main hydra.verbose=true"
   ]
  },
  {
   "cell_type": "markdown",
   "metadata": {},
   "source": [
    "# Twint"
   ]
  },
  {
   "cell_type": "code",
   "execution_count": 1,
   "metadata": {},
   "outputs": [
    {
     "name": "stdout",
     "output_type": "stream",
     "text": [
      "Requirement already up-to-date: fake-useragent in /usr/local/lib/python3.7/site-packages (0.1.11)\n",
      "\u001b[33mWARNING: You are using pip version 20.0.2; however, version 20.1 is available.\n",
      "You should consider upgrading via the '/usr/local/bin/python -m pip install --upgrade pip' command.\u001b[0m\n"
     ]
    }
   ],
   "source": [
    "# %cd /workspace/twint\n",
    "# !pip install e .\n",
    "# !twint -u CNBC\n",
    "# !pip install -U fake-useragent"
   ]
  },
  {
   "cell_type": "code",
   "execution_count": 17,
   "metadata": {},
   "outputs": [],
   "source": [
    "import nest_asyncio\n",
    "nest_asyncio.apply()\n",
    "import twint\n",
    "\n",
    "c = twint.Config()\n",
    "c.Username = \"CNBC\"\n",
    "c.Elasticsearch = \"http://es:9200\"\n",
    "c.Until='2015-01-01 00:00:00'\n",
    "\n",
    "# c.Search = \"fruit\"\n",
    "twint.run.Search(c)"
   ]
  },
  {
   "cell_type": "markdown",
   "metadata": {},
   "source": [
    "# elasticsearch\n",
    "\n",
    "query twint\n",
    "```json\n",
    "{\n",
    "  \"_source\": [\n",
    "    \"date\",\n",
    "    \"username\"\n",
    "  ],\n",
    "  \"query\": {\n",
    "    \"bool\": {\n",
    "      \"must\": [\n",
    "        {\n",
    "          \"match\": {\n",
    "            \"username\": \"business\"\n",
    "          }\n",
    "        },\n",
    "        {\n",
    "          \"range\": {\n",
    "            \"date\": {\n",
    "              \"gt\": \"2004-01-01 00:00:00\",\n",
    "              \"lt\": \"2023-01-01 00:00:00\"\n",
    "            }\n",
    "          }\n",
    "        }\n",
    "      ]\n",
    "    }\n",
    "  },\n",
    "  \"from\": 0,\n",
    "  \"size\": 1000,\n",
    "  \"sort\": [\n",
    "    {\n",
    "      \"date\": \"asc\"\n",
    "    }\n",
    "  ]\n",
    "}\n",
    "```\n",
    "\n",
    "query cnyes\n",
    "```json\n",
    "http://localhost:9200/news_page/_search\n",
    "{\n",
    "  \"query\": {\n",
    "    \"bool\": {\n",
    "      \"filter\": [\n",
    "        {\n",
    "          \"wildcard\": {\n",
    "            \"from_url\": \"*cnyes.com*\"\n",
    "          }\n",
    "        },\n",
    "        {\n",
    "          \"range\": {\n",
    "            \"entry_published_at\": {\n",
    "              \"gte\": \"2020-05-01T00:00:00\",\n",
    "              \"lt\": \"2021-01-01T00:00:00\"\n",
    "            }\n",
    "          }\n",
    "        }\n",
    "      ]\n",
    "    }\n",
    "  },\n",
    "  \"from\": 0,\n",
    "  \"size\": 1000,\n",
    "  \"sort\": [\n",
    "    {\n",
    "      \"entry_published_at\": \"desc\"\n",
    "    }\n",
    "  ]\n",
    "}\n",
    "```\n",
    "\n",
    "```json\n",
    "{\n",
    "  \"query\": {\n",
    "    \"bool\": {\n",
    "      \"filter\": [\n",
    "        {\n",
    "          \"wildcard\": {\n",
    "            \"resolved_url\": \"*cnbc*\"\n",
    "          }\n",
    "        }\n",
    "      ]\n",
    "    }\n",
    "  },\n",
    "  \"from\": 0,\n",
    "  \"size\": 1000,\n",
    "  \"sort\": [\n",
    "    {\n",
    "      \"entry_published_at\": \"desc\"\n",
    "    }\n",
    "  ]\n",
    "}\n",
    "```\n",
    "\n",
    "\n",
    "dump: https://github.com/taskrabbit/elasticsearch-dump  \n",
    "\n",
    "```\n",
    "elasticdump \\\n",
    "  --input=http://es:9200/twinttweets \\\n",
    "  --output=./twinttweets_mapping_20200503.json \\\n",
    "  --type=mapping\n",
    "elasticdump \\\n",
    "  --input=http://es:9200/twinttweets \\\n",
    "  --output=./twinttweets_index_20200503.json \\\n",
    "  --type=data\n",
    "\n",
    "elasticdump \\\n",
    "  --input=http://es:9200/twinttweets \\\n",
    "  --output=$ \\\n",
    "  | gzip > ./twinttweets_index_20200504.json.gz\n",
    "  \n",
    "elasticdump \\\n",
    "  --input=http://es:9200/news_page \\\n",
    "  --output=$ \\\n",
    "  | gzip > ./news_page_index_20200615.json.gz\n",
    "\n",
    "```"
   ]
  },
  {
   "cell_type": "markdown",
   "metadata": {},
   "source": [
    "# Stock\n",
    "\n",
    "https://twstock.readthedocs.io/zh_TW/latest/index.html\n"
   ]
  },
  {
   "cell_type": "code",
   "execution_count": 1,
   "metadata": {},
   "outputs": [
    {
     "name": "stdout",
     "output_type": "stream",
     "text": [
      "Collecting twstock\n",
      "  Downloading twstock-1.3.1-py3-none-any.whl (1.9 MB)\n",
      "\u001b[K     |████████████████████████████████| 1.9 MB 853 kB/s eta 0:00:01     |█████████████████████▋          | 1.3 MB 853 kB/s eta 0:00:01\n",
      "\u001b[?25hRequirement already satisfied: requests in /usr/local/lib/python3.7/site-packages (from twstock) (2.23.0)\n",
      "Requirement already satisfied: chardet<4,>=3.0.2 in /usr/local/lib/python3.7/site-packages (from requests->twstock) (3.0.4)\n",
      "Requirement already satisfied: idna<3,>=2.5 in /usr/local/lib/python3.7/site-packages (from requests->twstock) (2.9)\n",
      "Requirement already satisfied: urllib3!=1.25.0,!=1.25.1,<1.26,>=1.21.1 in /usr/local/lib/python3.7/site-packages (from requests->twstock) (1.25.9)\n",
      "Requirement already satisfied: certifi>=2017.4.17 in /usr/local/lib/python3.7/site-packages (from requests->twstock) (2020.4.5.1)\n",
      "Installing collected packages: twstock\n",
      "Successfully installed twstock-1.3.1\n",
      "\u001b[33mWARNING: You are using pip version 20.0.2; however, version 20.1.1 is available.\n",
      "You should consider upgrading via the '/usr/local/bin/python -m pip install --upgrade pip' command.\u001b[0m\n"
     ]
    }
   ],
   "source": [
    "!pip install twstock"
   ]
  }
 ],
 "metadata": {
  "kernelspec": {
   "display_name": "Python 3",
   "language": "python",
   "name": "python3"
  },
  "language_info": {
   "codemirror_mode": {
    "name": "ipython",
    "version": 3
   },
   "file_extension": ".py",
   "mimetype": "text/x-python",
   "name": "python",
   "nbconvert_exporter": "python",
   "pygments_lexer": "ipython3",
   "version": "3.7.7"
  }
 },
 "nbformat": 4,
 "nbformat_minor": 4
}
