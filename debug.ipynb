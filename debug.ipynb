{
 "cells": [
  {
   "cell_type": "markdown",
   "metadata": {},
   "source": [
    "### 參考\n",
    "\n",
    "aiohttp scraper: https://github.com/gaojiuli/gain  \n",
    "tweet熱度：https://github.com/shirosaidev/stocksight  \n",
    "reuters scraper: https://github.com/wenyenwei/tensorflow-stock-news  \n",
    "https://stocknewsapi.com/  \n",
    "https://stackoverflow.com/questions/51537063/url-format-for-google-news-rss-feed  \n",
    "https://github.com/niderhoff/nlp-datasets"
   ]
  },
  {
   "cell_type": "code",
   "execution_count": 1,
   "metadata": {},
   "outputs": [
    {
     "name": "stderr",
     "output_type": "stream",
     "text": [
      "[nltk_data] Downloading package punkt to /root/nltk_data...\n",
      "[nltk_data]   Unzipping tokenizers/punkt.zip.\n"
     ]
    },
    {
     "data": {
      "text/plain": [
       "True"
      ]
     },
     "execution_count": 1,
     "metadata": {},
     "output_type": "execute_result"
    }
   ],
   "source": [
    "# https://github.com/LIAAD/yake\n",
    "# !pip install nest_asyncio newspaper3k feedparser psycopg2\n",
    "import nest_asyncio\n",
    "nest_asyncio.apply()\n",
    "\n",
    "import nltk\n",
    "nltk.download('punkt')"
   ]
  },
  {
   "cell_type": "markdown",
   "metadata": {},
   "source": [
    "# Newspaper3k"
   ]
  },
  {
   "cell_type": "code",
   "execution_count": 6,
   "metadata": {},
   "outputs": [],
   "source": [
    "import newspaper\n",
    "\n",
    "cnbc = newspaper.build('https://www.cnbc.com/markets/')"
   ]
  },
  {
   "cell_type": "code",
   "execution_count": 10,
   "metadata": {},
   "outputs": [],
   "source": [
    "for a in cnbc.articles:\n",
    "    print(a)"
   ]
  },
  {
   "cell_type": "code",
   "execution_count": 4,
   "metadata": {},
   "outputs": [
    {
     "name": "stderr",
     "output_type": "stream",
     "text": [
      "Building prefix dict from /usr/local/lib/python3.7/site-packages/jieba/dict.txt ...\n",
      "Loading model from cache /tmp/jieba.cache\n",
      "Loading model cost 1.7376432418823242 seconds.\n",
      "Prefix dict has been built succesfully.\n"
     ]
    },
    {
     "data": {
      "text/plain": [
       "defaultdict(dict,\n",
       "            {'al': {'android': {'app_name': 'Yahoo奇摩',\n",
       "               'package': 'com.yahoo.mobile.client.android.superapp',\n",
       "               'url': 'ysuper://story/%E5%8F%B0%E5%8C%97%E8%82%A1%E5%B8%82-%E6%95%A3%E6%88%B6%E8%B3%87%E9%87%91%E5%9B%9E%E7%B1%A0-%E6%8D%A7%E7%B4%85%E9%8A%85%E6%9D%BF%E8%82%A1-083011251/ab7c6727-940d-3d42-bd46-c8c887fc9083'},\n",
       "              'ios': {'app_name': 'Yahoo奇摩',\n",
       "               'app_store_id': 1437216700,\n",
       "               'url': 'ysuper://story/%E5%8F%B0%E5%8C%97%E8%82%A1%E5%B8%82-%E6%95%A3%E6%88%B6%E8%B3%87%E9%87%91%E5%9B%9E%E7%B1%A0-%E6%8D%A7%E7%B4%85%E9%8A%85%E6%9D%BF%E8%82%A1-083011251/ab7c6727-940d-3d42-bd46-c8c887fc9083'}},\n",
       "             'og': {'type': 'article',\n",
       "              'description': '【時報-台北電】台股投資人信心回升、資金回籠，集中市場融資餘額近期回升至1,100億元以上，朝1,200億元邁進中，並已完全回補3月19日融資大砍118億元的恐慌性拋售潮，低價銅板股仍是散戶進場首選。 \\u3000台股本波上演破底翻，指數從8,523點低點攻抵萬一與年線關卡，僅花了不到50個交易日，急殺急漲氣氛讓投資人情緒大洗三溫暖。 \\u3000近期隨著台股一路收復月、季線、萬點，再四度挑戰年線，集中市場的融資餘額已經回升至1,150億元左右，以3月19日投資人最恐慌當日、融資大砍118億元為分界點，這段期間以來，融資餘額已回補了226億元。 ...',\n",
       "              'site_name': 'Yahoo奇摩股市',\n",
       "              'title': '《台北股市》散戶資金回籠 捧紅銅板股 - Yahoo奇摩股市',\n",
       "              'url': 'https://tw.stock.yahoo.com/news/%E5%8F%B0%E5%8C%97%E8%82%A1%E5%B8%82-%E6%95%A3%E6%88%B6%E8%B3%87%E9%87%91%E5%9B%9E%E7%B1%A0-%E6%8D%A7%E7%B4%85%E9%8A%85%E6%9D%BF%E8%82%A1-083011251.html'},\n",
       "             'fb': {'app_id': 399384933466174, 'pages': 114062348679049},\n",
       "             'apple-itunes-app': 'app-id=1437216700,app-argument=ysuper://story/%E5%8F%B0%E5%8C%97%E8%82%A1%E5%B8%82-%E6%95%A3%E6%88%B6%E8%B3%87%E9%87%91%E5%9B%9E%E7%B1%A0-%E6%8D%A7%E7%B4%85%E9%8A%85%E6%9D%BF%E8%82%A1-083011251/ab7c6727-940d-3d42-bd46-c8c887fc9083',\n",
       "             'twitter': {'dnt': 'on',\n",
       "              'card': 'summary',\n",
       "              'site': '@Yahoo',\n",
       "              'description': '【時報-台北電】台股投資人信心回升、資金回籠，集中市場融資餘額近期回升至1,100億元以上，朝1,200億元邁進中，並已完全回補3月19日融資大砍118億元的恐慌性拋售潮，低價銅板股仍是散戶進場首選。 \\u3000台股本波上演破底翻，指數從8,523點低點攻抵萬一與年線關卡，僅花了不到50個交易日，急殺急漲氣氛讓投資人情緒大洗三溫暖。 \\u3000近期隨著台股一路收復月、季線、萬點，再四度挑戰年線，集中市場的融資餘額已經回升至1,150億元左右，以3月19日投資人最恐慌當日、融資大砍118億元為分界點，這段期間以來，融資餘額已回補了226億元。 ...',\n",
       "              'title': '《台北股市》散戶資金回籠 捧紅銅板股 - Yahoo奇摩股市'},\n",
       "             'referrer': 'origin',\n",
       "             'oath': {'guce': {'consent-host': 'guce.yahoo.com'}},\n",
       "             'description': '【時報-台北電】台股投資人信心回升、資金回籠，集中市場融資餘額近期回升至1,100億元以上，朝1,200億元邁進中，並已完全回補3月19日融資大砍118億元的恐慌性拋售潮，低價銅板股仍是散戶進場首選。 \\u3000台股本波上演破底翻，指數從8,523點低點攻抵萬一與年線關卡，僅花了不到50個交易日，急殺急漲氣氛讓投資人情緒大洗三溫暖。 \\u3000近期隨著台股一路收復月、季線、萬點，再四度挑戰年線，集中市場的融資餘額已經回升至1,150億元左右，以3月19日投資人最恐慌當日、融資大砍118億元為分界點，這段期間以來，融資餘額已回補了226億元。 ...'})"
      ]
     },
     "execution_count": 4,
     "metadata": {},
     "output_type": "execute_result"
    }
   ],
   "source": [
    "import newspaper\n",
    "\n",
    "# url = \"https://www.cnbc.com/2020/04/20/oil-markets-us-crude-futures-in-focus-as-coronavirus-dents-demand.html\"\n",
    "# url = \"https://news.cnyes.com/news/id/4474677\"\n",
    "url = \"https://tw.stock.yahoo.com/news/%E5%8F%B0%E5%8C%97%E8%82%A1%E5%B8%82-%E6%95%A3%E6%88%B6%E8%B3%87%E9%87%91%E5%9B%9E%E7%B1%A0-%E6%8D%A7%E7%B4%85%E9%8A%85%E6%9D%BF%E8%82%A1-083011251.html\"\n",
    "a = newspaper.Article(url=url)\n",
    "a.download()\n",
    "a.parse()\n",
    "a.meta_data"
   ]
  },
  {
   "cell_type": "code",
   "execution_count": 36,
   "metadata": {},
   "outputs": [
    {
     "name": "stdout",
     "output_type": "stream",
     "text": [
      "b'<a href=\"https://invest.cnyes.com/twstock/tws/2301\">2301-TW</a>) &#20170; (9) &#26085;&#20659;&#20986;&#26071;&#19979;&#24037;&#26989;&#33258;&#21205;&#21270;&#20107;&#26989;&#37096;&#35009;&#21729;&#30334;&#20154;&#65292;&#23565;&#27492;&#65292;&#20809;&#23542;&#31185;&#28548;&#28165;&#65292;&#21482;&#26159;&#22240;&#25033;&#32771;&#26680;&#65292;&#36914;&#34892;&#30340;&#32068;&#32340;&#20839;&#37096;&#24120;&#24907;&#24615;&#35519;&#25972;&#65292;&#20197;&#20839;&#36681;&#28858;&#20778;&#20808;&#65292;&#20006;&#38750;&#22914;&#22806;&#20659;&#25152;&#35498;&#30340;&#35009;&#21729;&#19978;&#30334;&#20154;&#12290;'\n"
     ]
    }
   ],
   "source": [
    "from lxml import etree\n",
    "\n",
    "for e in a.clean_top_node.cssselect('a'):\n",
    "    print(etree.tostring(e))\n",
    "\n",
    "# for p in set([e.getparent() for e in node.cssselect('a')]):\n",
    "#     text = etree.tostring(\n",
    "#         p, method='text', encoding='utf-8').decode('utf-8').strip()\n",
    "#     tk = _Ticker(text)\n",
    "\n",
    "#     for a in p.cssselect('a'):\n",
    "#         href = a.get('href')\n",
    "#         queries = dict(urllib.parse.parse_qsl(\n",
    "#             urllib.parse.urlsplit(href).query))\n",
    "#         try:\n",
    "#             tk.labels.append((a.text, queries['symbol']))\n",
    "#         except KeyError:\n",
    "#             continue\n",
    "#     if len(tk.labels) > 0:\n",
    "#         tickers.append(tk)"
   ]
  },
  {
   "cell_type": "code",
   "execution_count": 27,
   "metadata": {},
   "outputs": [
    {
     "name": "stdout",
     "output_type": "stream",
     "text": [
      "<class 'str'>\n",
      "<class 'float'>\n",
      "True\n",
      "nan https://tw.stock.yahoo.com/rss/url/d/e/N2.html\n",
      "<class 'str'>\n",
      "<class 'float'>\n",
      "True\n",
      "nan https://tw.stock.yahoo.com/rss/url/d/e/N3.html\n",
      "<class 'str'>\n",
      "<class 'float'>\n",
      "True\n",
      "nan https://tw.stock.yahoo.com/rss/url/d/e/N4.html\n",
      "<class 'str'>\n",
      "<class 'float'>\n",
      "True\n",
      "nan https://tw.stock.yahoo.com/rss/url/d/e/N5.html\n",
      "<class 'str'>\n",
      "<class 'float'>\n",
      "True\n",
      "nan https://tw.stock.yahoo.com/rss/url/d/e/N6.html\n",
      "<class 'str'>\n",
      "<class 'float'>\n",
      "True\n",
      "nan https://tw.stock.yahoo.com/rss/url/d/e/N7.html\n",
      "<class 'str'>\n",
      "<class 'float'>\n",
      "True\n",
      "nan https://tw.stock.yahoo.com/rss/url/d/e/N8.html\n",
      "<class 'str'>\n",
      "<class 'float'>\n",
      "True\n",
      "nan https://tw.stock.yahoo.com/rss/url/d/e/N9.html\n",
      "<class 'str'>\n",
      "<class 'float'>\n",
      "True\n",
      "nan https://tw.stock.yahoo.com/rss/url/d/e/N10.html\n",
      "<class 'str'>\n",
      "<class 'float'>\n",
      "True\n",
      "nan https://tw.stock.yahoo.com/rss/url/d/e/N11.html\n",
      "<class 'str'>\n",
      "<class 'float'>\n",
      "True\n",
      "nan https://tw.stock.yahoo.com/rss/url/d/e/N12.html\n",
      "<class 'str'>\n",
      "<class 'float'>\n",
      "True\n",
      "nan https://tw.stock.yahoo.com/rss/url/d/e/N13.html\n"
     ]
    }
   ],
   "source": [
    "import pandas as pd\n",
    "import numpy as np\n",
    "\n",
    "df = pd.read_csv('/workspace/twint/app/resource/rss_yahoo_tw.csv')\n",
    "# return df.iterrows()\n",
    "for index, r in df.iterrows():\n",
    "    print(type(r['url']))    \n",
    "    print(type(r['ticker']))    \n",
    "    print(np.isnan(r['ticker']))\n",
    "    print(r['ticker'], r['url'])\n",
    "    \n",
    "# pd.DataFrame({\n",
    "#     \"url\": [1,2,3,4]\n",
    "# })\n"
   ]
  },
  {
   "cell_type": "markdown",
   "metadata": {},
   "source": [
    "# aiohttp"
   ]
  },
  {
   "cell_type": "code",
   "execution_count": 39,
   "metadata": {},
   "outputs": [],
   "source": [
    "import aiohttp\n",
    "from newspaper import Article\n",
    "\n",
    "# url = 'http://bit.ly/K0Z1F'\n",
    "# url = 'https://www.cnbc.com/2020/04/19/why-big-techs-coronavirus-goodwill-wont-help-in-antitrust-probes.html'\n",
    "url = 'https://news.cnyes.com/news/id/4474677'\n",
    "\n",
    "async def get():\n",
    "    async with aiohttp.ClientSession() as sess:\n",
    "        async with sess.get(url) as resp:\n",
    "#             print(resp)\n",
    "#             print(resp.status)\n",
    "#             print(resp.headers)\n",
    "#             print(resp.url)\n",
    "#             print(resp.history)\n",
    "            html = await resp.text()\n",
    "#             article = Article(str(resp.url))\n",
    "#             article.set_html()\n",
    "#             article.parse()\n",
    "            return resp, html\n",
    "\n",
    "# article, resp = await get()\n",
    "# print(article)\n",
    "try:\n",
    "    resp, html = await get()\n",
    "except aiohttp.ClientError as e:\n",
    "    print(e)"
   ]
  },
  {
   "cell_type": "code",
   "execution_count": 11,
   "metadata": {},
   "outputs": [
    {
     "name": "stdout",
     "output_type": "stream",
     "text": [
      "None\n"
     ]
    }
   ],
   "source": [
    "import re\n",
    "\n",
    "\n",
    "p = re.compile(r'^\\/tag\\/(\\w+)') \n",
    "m = p.search('/tag/') \n",
    "# print(m.group())\n",
    "print(m)\n",
    "# m.group(1)\n",
    "if m is not None:\n",
    "    print(m.group(1))"
   ]
  },
  {
   "cell_type": "code",
   "execution_count": 48,
   "metadata": {},
   "outputs": [
    {
     "name": "stdout",
     "output_type": "stream",
     "text": [
      "/tag/光寶科\n",
      "/tag/LED\n",
      "/tag/資訊\n",
      "/tag/電源\n",
      "/tag/裁員\n"
     ]
    }
   ],
   "source": [
    "from bs4 import BeautifulSoup\n",
    "\n",
    "soup = BeautifulSoup(html, 'html.parser')\n",
    "for link in soup.find_all('a'):\n",
    "    href = link.get('href')\n",
    "    if href is not None and '/tag/' in href:\n",
    "        print(href)\n",
    "#     print(link.get('href'))\n",
    "    "
   ]
  },
  {
   "cell_type": "code",
   "execution_count": 28,
   "metadata": {},
   "outputs": [
    {
     "name": "stdout",
     "output_type": "stream",
     "text": [
      "200\n",
      "<class 'int'>\n"
     ]
    }
   ],
   "source": [
    "import asyncio\n",
    "import aiohttp\n",
    "from fake_useragent import UserAgent\n",
    "\n",
    "# url = \"https://www.cnbc.com/id/45044666\" # 404\n",
    "urls = [\n",
    "    \"https://httpstat.us/404\",\n",
    "    \"https://httpstat.us/200\",\n",
    "]\n",
    "\n",
    "async def get(url):\n",
    "    ua = UserAgent(verify_ssl=False, use_cache_server=False).random\n",
    "    async with aiohttp.ClientSession(raise_for_status=True, headers=[(\"User-Agent\", ua)]) as sess:\n",
    "            async with sess.get(url) as resp:\n",
    "                return resp\n",
    "\n",
    "\n",
    "# await asyncio.gather(*[get(u) for u in urls])\n",
    "\n",
    "\n",
    "    \n",
    "try:\n",
    "    resp = await get(urls[1])\n",
    "    print(resp.status)\n",
    "    print(type(resp.status))\n",
    "except aiohttp.ClientResponseError as e:\n",
    "    print(e)\n",
    "    print(type(e.status))\n",
    "    print(e.headers)\n",
    "    print(e.request_info.real_url)\n",
    "    print(e.request_info)"
   ]
  },
  {
   "cell_type": "code",
   "execution_count": 137,
   "metadata": {},
   "outputs": [
    {
     "data": {
      "text/plain": [
       "collections.defaultdict"
      ]
     },
     "execution_count": 137,
     "metadata": {},
     "output_type": "execute_result"
    }
   ],
   "source": [
    "import json\n",
    "# article.meta_keywords\n",
    "# article.meta_site_name\n",
    "# s = json.dumps(article.meta_data)\n",
    "# json.loads(s)\n",
    "# article.article_html\n",
    "# article.source_url\n",
    "type(article.meta_data)"
   ]
  },
  {
   "cell_type": "code",
   "execution_count": 2,
   "metadata": {},
   "outputs": [
    {
     "data": {
      "text/plain": [
       "<Element div at 0x7f81a24329b0>"
      ]
     },
     "execution_count": 2,
     "metadata": {},
     "output_type": "execute_result"
    }
   ],
   "source": [
    "from lxml import etree\n",
    "\n",
    "article.clean_top_node"
   ]
  },
  {
   "cell_type": "code",
   "execution_count": 120,
   "metadata": {},
   "outputs": [
    {
     "name": "stdout",
     "output_type": "stream",
     "text": [
      "ParsedTicker(text=\"Recent actions by both agencies back up their claims. At the end of March, the DOJ Antitrust Division announced it would require military technology companies Raytheon and United Technologies Corporation to divest parts of their businesses to proceed with their proposed merger. On April 1, the FTC announced its lawsuit to unwind tobacco company Altria's $12.8 billion investment in Juul, the e-cigarette company accused of luring adolescents to its products with its marketing.\", tickers=[_TickerAnchor(text='Raytheon ', ticker='UTX'), _TickerAnchor(text='Altria', ticker='MO')])\n",
      "ParsedTicker(text='Up until recently, Facebook, Google, Amazon and Apple had been met with unyielding scrutiny in Washington and most state attorneys general offices, barraged by questions of dominance and privacy violations. Facebook and Google have been most visibly pursued by federal authorities and state attorneys.', tickers=[_TickerAnchor(text='Facebook', ticker='FB'), _TickerAnchor(text='Google', ticker='GOOGL'), _TickerAnchor(text='Amazon', ticker='AMZN'), _TickerAnchor(text='Apple', ticker='AAPL'), _TickerAnchor(text='Google', ticker='GOOGL')])\n",
      "ParsedTicker(text=\"Still, with tech companies ingraining themselves in the federal government's recovery plans, government watchdogs fear White House pressure could taint the probes. Antitrust professionals have frequently pointed to a handful of cases undertaken by the Trump administration's Antitrust Division, like its attempt to block AT&T's acquisition of Time Warner, that they argue were influenced by the White House. The Antitrust Division has repeatedly denied outside influence.\", tickers=[_TickerAnchor(text='AT&T', ticker='T')])\n"
     ]
    }
   ],
   "source": [
    "from urllib import parse\n",
    "import urllib\n",
    "from lxml import etree\n",
    "# from bs4 import BeautifulSoup\n",
    "\n",
    "# resp\n",
    "# resp.headers\n",
    "article.meta_data\n",
    "# type(article.top_node)\n",
    "# tostring(article.top_node)\n",
    "\n",
    "# soup = BeautifulSoup(article.top_node, 'lxml')\n",
    "# BeautifulSoup(doc, 'lxml')\n",
    "# soup\n",
    "\n",
    "# type(article.top_node)\n",
    "# print(etree.tostring(article.top_node, pretty_print=True).decode('utf-8'))\n",
    "# print(etree.tostring(article.clean_top_node, pretty_print=True).decode('utf-8'))\n",
    "# print('this is a \\'try')\n",
    "\n",
    "# for e in article.clean_top_node.cssselect('a'):\n",
    "#     print(etree.tostring(e))\n",
    "#     print(e.getparent().text)\n",
    "#     print(e.text)\n",
    "#     print(e.get('href'))\n",
    "#     print(e.keys())\n",
    "\n",
    "# es = article.clean_top_node.cssselect('a')\n",
    "# href = e.get('href')\n",
    "# print(dict(urllib.parse.parse_qsl(urllib.parse.urlsplit(href).query)))\n",
    "# print(e.text)\n",
    "# print(etree.tostring(e.getparent(), method='text', pretty_print=True, encoding='utf-8').decode('utf-8'))\n",
    "# print(e.getparent().text)\n",
    "# print(etree.tostring(article.clean_top_node, pretty_print=True).decode('utf-8'))\n",
    "\n",
    "# es[0].getparent() is es[1].getparent()\n",
    "# set([es[0].getparent(), es[1].getparent()])\n",
    "# e = es[0].getparent()\n",
    "# # e.cssselect('a')\n",
    "# print(etree.tostring(e, method='text', encoding='utf-8').decode('utf-8').strip())\n",
    "# for a in e.cssselect('a'):\n",
    "#     print(etree.tostring(a, with_tail=False))\n",
    "#     print(a.text)\n",
    "#     print(a.items())\n",
    "\n",
    "import dataclasses\n",
    "from typing import Tuple, List\n",
    "\n",
    "\n",
    "@dataclasses.dataclass\n",
    "class _TickerAnchor:\n",
    "    text: str\n",
    "    ticker: str\n",
    "\n",
    "\n",
    "@dataclasses.dataclass\n",
    "class ParsedTicker:\n",
    "    '''<p>...some text...<a href='$AAA'>...some anchor text</a>...<a>....</a>...</p>\n",
    "    '''\n",
    "    text: str\n",
    "    tickers: List[_TickerAnchor] = dataclasses.field(default_factory=list)\n",
    "\n",
    "\n",
    "node =  article.clean_top_node\n",
    "\n",
    "data = []\n",
    "for p in set([e.getparent() for e in node.cssselect('a')]):\n",
    "    text = etree.tostring(\n",
    "        p, method='text', encoding='utf-8').decode('utf-8').strip()\n",
    "    parsed = ParsedTicker(text)\n",
    "#     print(parsed)\n",
    "    for a in p.cssselect('a'):\n",
    "#         etree.tostring(a)\n",
    "        href = a.get('href')\n",
    "        queries = dict(urllib.parse.parse_qsl(\n",
    "            urllib.parse.urlsplit(href).query))\n",
    "        try:\n",
    "            parsed.tickers.append(\n",
    "                _TickerAnchor(a.text, queries['symbol'])\n",
    "            )\n",
    "        except KeyError:\n",
    "            continue\n",
    "    if len(parsed.tickers) > 0:\n",
    "        data.append(parsed)\n",
    "        print(parsed)\n",
    "\n",
    "# data[2]"
   ]
  },
  {
   "cell_type": "code",
   "execution_count": 50,
   "metadata": {},
   "outputs": [
    {
     "name": "stdout",
     "output_type": "stream",
     "text": [
      "SplitResult(scheme='', netloc='', path='/quotes/', query='symbol=FB', fragment='')\n"
     ]
    },
    {
     "data": {
      "text/plain": [
       "{'symbol': 'FB'}"
      ]
     },
     "execution_count": 50,
     "metadata": {},
     "output_type": "execute_result"
    }
   ],
   "source": [
    "from urllib import parse\n",
    "import urllib\n",
    "url = \"/quotes/?symbol=FB\"\n",
    "# url = \"http://www.example.org/default.html?ct=32&op=92&item=98\"\n",
    "print(urllib.parse.urlsplit(url))\n",
    "# parse.parse_qs(parse.urlsplit(url).query)\n",
    "dict(urllib.parse.parse_qsl(urllib.parse.urlsplit(url).query))"
   ]
  },
  {
   "cell_type": "markdown",
   "metadata": {},
   "source": [
    "# asyncio"
   ]
  },
  {
   "cell_type": "code",
   "execution_count": 19,
   "metadata": {},
   "outputs": [
    {
     "name": "stdout",
     "output_type": "stream",
     "text": [
      "name 'whatevererror' is not defined\n",
      "name 'whatevererror' is not defined\n",
      "name 'whatevererror' is not defined\n",
      "name 'whatevererror' is not defined\n",
      "name 'whatevererror' is not defined\n",
      "name 'whatevererror' is not defined\n",
      "name 'whatevererror' is not defined\n",
      "name 'whatevererror' is not defined\n",
      "name 'whatevererror' is not defined\n",
      "name 'whatevererror' is not defined\n",
      "name 'whatevererror' is not defined\n",
      "name 'whatevererror' is not defined\n",
      "name 'whatevererror' is not defined\n",
      "name 'whatevererror' is not defined\n",
      "name 'whatevererror' is not defined\n",
      "name 'whatevererror' is not defined\n",
      "name 'whatevererror' is not defined\n",
      "name 'whatevererror' is not defined\n",
      "name 'whatevererror' is not defined\n",
      "name 'whatevererror' is not defined\n",
      "\n",
      "\n",
      "\n",
      "[ValueError('task_done() called too many times'), ValueError('task_done() called too many times'), ValueError('task_done() called too many times')]\n",
      "====\n",
      "3 workers slept in parallel for 3.66 seconds\n",
      "total expected sleep time: 10.12 seconds\n"
     ]
    }
   ],
   "source": [
    "import nest_asyncio\n",
    "nest_asyncio.apply()\n",
    "import asyncio\n",
    "import random\n",
    "import time\n",
    "\n",
    "\n",
    "async def worker(name, queue):\n",
    "    while True:\n",
    "        try:\n",
    "            # Get a \"work item\" out of the queue.\n",
    "            sleep_for = await queue.get()\n",
    "\n",
    "            # Sleep for the \"sleep_for\" seconds.\n",
    "            await asyncio.sleep(sleep_for)\n",
    "\n",
    "            raise whatevererror('some error')\n",
    "\n",
    "            # Notify the queue that the \"work item\" has been processed.\n",
    "\n",
    "            print(f'{name} has slept for {sleep_for:.2f} seconds')\n",
    "        except Exception as e:\n",
    "            print(e)\n",
    "        finally:\n",
    "            queue.task_done()\n",
    "\n",
    "async def worker2(name, queue):\n",
    "    # Get a \"work item\" out of the queue.\n",
    "    sleep_for = await queue.get()\n",
    "\n",
    "    # Sleep for the \"sleep_for\" seconds.\n",
    "    await asyncio.sleep(sleep_for)\n",
    "\n",
    "    raise Exception('some error')\n",
    "\n",
    "    # Notify the queue that the \"work item\" has been processed.\n",
    "\n",
    "    print(f'{name} has slept for {sleep_for:.2f} seconds')\n",
    "\n",
    "    queue.task_done()\n",
    "            \n",
    "            \n",
    "async def main():\n",
    "    # Create a queue that we will use to store our \"workload\".\n",
    "    queue = asyncio.Queue()\n",
    "\n",
    "    # Generate random timings and put them into the queue.\n",
    "    total_sleep_time = 0\n",
    "    for _ in range(20):\n",
    "        sleep_for = random.uniform(0.05, 1.0)\n",
    "        total_sleep_time += sleep_for\n",
    "        queue.put_nowait(sleep_for)\n",
    "\n",
    "    # Create three worker tasks to process the queue concurrently.\n",
    "    tasks = []\n",
    "    for i in range(3):\n",
    "        task = asyncio.create_task(worker(f'worker-{i}', queue))\n",
    "        tasks.append(task)\n",
    "\n",
    "    # Wait until the queue is fully processed.\n",
    "    started_at = time.monotonic()\n",
    "    await queue.join()\n",
    "#     await asyncio.sleep(1)\n",
    "    total_slept_for = time.monotonic() - started_at\n",
    "\n",
    "    # Cancel our worker tasks.\n",
    "    for task in tasks:\n",
    "        task.cancel()\n",
    "\n",
    "    # Wait until all worker tasks are cancelled.\n",
    "    res = await asyncio.gather(*tasks, return_exceptions=True)\n",
    "#     res = await asyncio.gather(*tasks)\n",
    "    print(res)\n",
    "\n",
    "    print('====')\n",
    "    print(f'3 workers slept in parallel for {total_slept_for:.2f} seconds')\n",
    "    print(f'total expected sleep time: {total_sleep_time:.2f} seconds')\n",
    "\n",
    "async def afn():\n",
    "    while True:\n",
    "        await asyncio.sleep(1)\n",
    "        raise Exception('some error')\n",
    "        print(f'has slept for 1 seconds')\n",
    "\n",
    "async def gafn():\n",
    "    res = await asyncio.gather(afn(), return_exceptions=True)\n",
    "    print(res)\n",
    "    \n",
    "def fn():\n",
    "    while True:\n",
    "        raise Exception('some error')\n",
    "        print(f'has slept for 1 seconds')\n",
    "\n",
    "    \n",
    "asyncio.run(main())\n",
    "# asyncio.run(gafn())\n",
    "# fn()"
   ]
  },
  {
   "cell_type": "markdown",
   "metadata": {},
   "source": [
    "# feedparser, rss"
   ]
  },
  {
   "cell_type": "code",
   "execution_count": 1,
   "metadata": {},
   "outputs": [
    {
     "name": "stdout",
     "output_type": "stream",
     "text": [
      "200\n",
      "<CIMultiDictProxy('Date': 'Sun, 31 May 2020 07:33:42 GMT', 'P3P': 'policyref=\"https://policies.yahoo.com/w3c/p3p.xml\", CP=\"CAO DSP COR CUR ADM DEV TAI PSA PSD IVAi IVDi CONi TELo OTPi OUR DELi SAMi OTRi UNRi PUBi IND PHY ONL UNI PUR FIN COM NAV INT DEM CNT STA POL HEA PRE LOC GOV\"', 'Vary': 'Accept-Encoding', 'Content-Encoding': 'gzip', 'Content-Length': '2453', 'Content-Type': 'text/xml;charset=Big5', 'Age': '0', 'Connection': 'keep-alive', 'Strict-Transport-Security': 'max-age=31536000', 'Server': 'ATS', 'Expect-CT': 'max-age=31536000, report-uri=\"http://csp.yahoo.com/beacon/csp?src=yahoocom-expect-ct-report-only\"', 'Referrer-Policy': 'no-referrer-when-downgrade', 'X-Content-Type-Options': 'nosniff', 'X-XSS-Protection': '1; mode=block', 'Content-Security-Policy': 'frame-ancestors https://*.yahoo.com https://*.yahoo.net https://*.yahoo.com.tw https://*.yahoo.com.hk https://*.yahoodns.net https://tw.discount.yahoo.net;')>\n"
     ]
    },
    {
     "data": {
      "text/plain": [
       "{'feed': {'language': 'zh-tw',\n",
       "  'updated': 'Sun, 31 May 2020 00:57:58 GMT',\n",
       "  'updated_parsed': time.struct_time(tm_year=2020, tm_mon=5, tm_mday=31, tm_hour=0, tm_min=57, tm_sec=58, tm_wday=6, tm_yday=152, tm_isdst=0),\n",
       "  'title': 'Yahoo!奇摩股市 - 台股盤勢',\n",
       "  'title_detail': {'type': 'text/plain',\n",
       "   'language': None,\n",
       "   'base': '',\n",
       "   'value': 'Yahoo!奇摩股市 - 台股盤勢'},\n",
       "  'links': [{'rel': 'alternate',\n",
       "    'type': 'text/html',\n",
       "    'href': 'https://tw.stock.yahoo.com/'}],\n",
       "  'link': 'https://tw.stock.yahoo.com/',\n",
       "  'subtitle': 'Yahoo!奇摩股市',\n",
       "  'subtitle_detail': {'type': 'text/html',\n",
       "   'language': None,\n",
       "   'base': '',\n",
       "   'value': 'Yahoo!奇摩股市'},\n",
       "  'ttl': '5',\n",
       "  'image': {'title': 'Yahoo!奇摩股市 - 台股盤勢',\n",
       "   'title_detail': {'type': 'text/plain',\n",
       "    'language': None,\n",
       "    'base': '',\n",
       "    'value': 'Yahoo!奇摩股市 - 台股盤勢'},\n",
       "   'href': 'https://s.yimg.com/rz/d/yahoo_finance_zh-Hant-TW_s_f_p_bestfit_stock.png',\n",
       "   'links': [{'rel': 'alternate',\n",
       "     'type': 'text/html',\n",
       "     'href': 'https://tw.stock.yahoo.com/'}],\n",
       "   'link': 'https://tw.stock.yahoo.com/'}},\n",
       " 'entries': [{'title': '《各報要聞》川普出招制裁陸！撤銷香港特殊待遇 宣布退出世衛',\n",
       "   'title_detail': {'type': 'text/plain',\n",
       "    'language': None,\n",
       "    'base': '',\n",
       "    'value': '《各報要聞》川普出招制裁陸！撤銷香港特殊待遇 宣布退出世衛'},\n",
       "   'links': [{'rel': 'alternate',\n",
       "     'type': 'text/html',\n",
       "     'href': 'https://tw.stock.yahoo.com/news/各報要聞-川普出招制裁陸-撤銷香港特殊待遇-宣布退出世衛-005758046.html'}],\n",
       "   'link': 'https://tw.stock.yahoo.com/news/各報要聞-川普出招制裁陸-撤銷香港特殊待遇-宣布退出世衛-005758046.html',\n",
       "   'published': 'Sun, 31 May 2020 08:57:58 CST',\n",
       "   'published_parsed': time.struct_time(tm_year=2020, tm_mon=5, tm_mday=31, tm_hour=14, tm_min=57, tm_sec=58, tm_wday=6, tm_yday=152, tm_isdst=0),\n",
       "   'id': '',\n",
       "   'guidislink': False,\n",
       "   'summary': '【時報-台北電】大陸全國人大28日通過港版「國安法」後，美國總統川普當地時間29日下午召開記者會，他指責大陸破壞對香港及世界承諾，而作為懲罰陸方措施的一環，美國將撤銷給予香港的特殊待遇，包括單獨關稅區...',\n",
       "   'summary_detail': {'type': 'text/html',\n",
       "    'language': None,\n",
       "    'base': '',\n",
       "    'value': '【時報-台北電】大陸全國人大28日通過港版「國安法」後，美國總統川普當地時間29日下午召開記者會，他指責大陸破壞對香港及世界承諾，而作為懲罰陸方措施的一環，美國將撤銷給予香港的特殊待遇，包括單獨關稅區...'}},\n",
       "  {'title': '《各報要聞》拚內需，國營事業打頭陣 台電電廠今明年砸近千億擴建',\n",
       "   'title_detail': {'type': 'text/plain',\n",
       "    'language': None,\n",
       "    'base': '',\n",
       "    'value': '《各報要聞》拚內需，國營事業打頭陣 台電電廠今明年砸近千億擴建'},\n",
       "   'links': [{'rel': 'alternate',\n",
       "     'type': 'text/html',\n",
       "     'href': 'https://tw.stock.yahoo.com/news/各報要聞-拚內需-國營事業打頭陣-台電電廠今明年砸近千億擴建-005757420.html'}],\n",
       "   'link': 'https://tw.stock.yahoo.com/news/各報要聞-拚內需-國營事業打頭陣-台電電廠今明年砸近千億擴建-005757420.html',\n",
       "   'published': 'Sun, 31 May 2020 08:57:57 CST',\n",
       "   'published_parsed': time.struct_time(tm_year=2020, tm_mon=5, tm_mday=31, tm_hour=14, tm_min=57, tm_sec=57, tm_wday=6, tm_yday=152, tm_isdst=0),\n",
       "   'id': '',\n",
       "   'guidislink': False,\n",
       "   'summary': '【時報-台北電】後疫情時期，政府全力加速重大投資、公共建設，將由國營事業台電打頭陣，四大燃氣電廠今明兩年之內，更新擴建投資金額高達945億元，除活絡國內相關產業供應鏈，更要力拚擴大後疫情時期的內需市場...',\n",
       "   'summary_detail': {'type': 'text/html',\n",
       "    'language': None,\n",
       "    'base': '',\n",
       "    'value': '【時報-台北電】後疫情時期，政府全力加速重大投資、公共建設，將由國營事業台電打頭陣，四大燃氣電廠今明兩年之內，更新擴建投資金額高達945億元，除活絡國內相關產業供應鏈，更要力拚擴大後疫情時期的內需市場...'}},\n",
       "  {'title': '《各報要聞》台股六月天 選股首重高大上',\n",
       "   'title_detail': {'type': 'text/plain',\n",
       "    'language': None,\n",
       "    'base': '',\n",
       "    'value': '《各報要聞》台股六月天 選股首重高大上'},\n",
       "   'links': [{'rel': 'alternate',\n",
       "     'type': 'text/html',\n",
       "     'href': 'https://tw.stock.yahoo.com/news/各報要聞-台股六月天-選股首重高大上-005757144.html'}],\n",
       "   'link': 'https://tw.stock.yahoo.com/news/各報要聞-台股六月天-選股首重高大上-005757144.html',\n",
       "   'published': 'Sun, 31 May 2020 08:57:57 CST',\n",
       "   'published_parsed': time.struct_time(tm_year=2020, tm_mon=5, tm_mday=31, tm_hour=14, tm_min=57, tm_sec=57, tm_wday=6, tm_yday=152, tm_isdst=0),\n",
       "   'id': '',\n",
       "   'guidislink': False,\n",
       "   'summary': '【時報-台北電】時序進入6月的上市櫃股東會旺季，法人指出，股利配發將是重頭戲，加上資金派對喊燒，外資5月大賣後，可望回補部分持股，配合疫情趨緩，市場期待點燃旺季行情，高殖利率、大型股及營運動能向上的個...',\n",
       "   'summary_detail': {'type': 'text/html',\n",
       "    'language': None,\n",
       "    'base': '',\n",
       "    'value': '【時報-台北電】時序進入6月的上市櫃股東會旺季，法人指出，股利配發將是重頭戲，加上資金派對喊燒，外資5月大賣後，可望回補部分持股，配合疫情趨緩，市場期待點燃旺季行情，高殖利率、大型股及營運動能向上的個...'}},\n",
       "  {'title': '《各報要聞》川普新制裁雷大雨小？美股反彈 費半大漲',\n",
       "   'title_detail': {'type': 'text/plain',\n",
       "    'language': None,\n",
       "    'base': '',\n",
       "    'value': '《各報要聞》川普新制裁雷大雨小？美股反彈 費半大漲'},\n",
       "   'links': [{'rel': 'alternate',\n",
       "     'type': 'text/html',\n",
       "     'href': 'https://tw.stock.yahoo.com/news/各報要聞-川普新制裁雷大雨小-美股反彈-費半大漲-005757592.html'}],\n",
       "   'link': 'https://tw.stock.yahoo.com/news/各報要聞-川普新制裁雷大雨小-美股反彈-費半大漲-005757592.html',\n",
       "   'published': 'Sun, 31 May 2020 08:57:57 CST',\n",
       "   'published_parsed': time.struct_time(tm_year=2020, tm_mon=5, tm_mday=31, tm_hour=14, tm_min=57, tm_sec=57, tm_wday=6, tm_yday=152, tm_isdst=0),\n",
       "   'id': '',\n",
       "   'guidislink': False,\n",
       "   'summary': '【時報-台北電】港版國安法再次引發中美關係緊張，美國總統川普29日記者會上表示，擬取消香港優惠待遇，不過，最受注意的開徵關稅或制裁大陸等措施並未提及，讓市場鬆了一口氣，不僅帶動美股反轉走高、更激勵半導...',\n",
       "   'summary_detail': {'type': 'text/html',\n",
       "    'language': None,\n",
       "    'base': '',\n",
       "    'value': '【時報-台北電】港版國安法再次引發中美關係緊張，美國總統川普29日記者會上表示，擬取消香港優惠待遇，不過，最受注意的開徵關稅或制裁大陸等措施並未提及，讓市場鬆了一口氣，不僅帶動美股反轉走高、更激勵半導...'}},\n",
       "  {'title': '《各報要聞》美制裁港 陸反制呼之欲出',\n",
       "   'title_detail': {'type': 'text/plain',\n",
       "    'language': None,\n",
       "    'base': '',\n",
       "    'value': '《各報要聞》美制裁港 陸反制呼之欲出'},\n",
       "   'links': [{'rel': 'alternate',\n",
       "     'type': 'text/html',\n",
       "     'href': 'https://tw.stock.yahoo.com/news/各報要聞-美制裁港-陸反制呼之欲出-005757267.html'}],\n",
       "   'link': 'https://tw.stock.yahoo.com/news/各報要聞-美制裁港-陸反制呼之欲出-005757267.html',\n",
       "   'published': 'Sun, 31 May 2020 08:57:57 CST',\n",
       "   'published_parsed': time.struct_time(tm_year=2020, tm_mon=5, tm_mday=31, tm_hour=14, tm_min=57, tm_sec=57, tm_wday=6, tm_yday=152, tm_isdst=0),\n",
       "   'id': '',\n",
       "   'guidislink': False,\n",
       "   'summary': '【時報-台北電】中美衝突因「港版國安法」急遽升溫，在美國總統川普30日凌晨宣布取消香港特殊優惠待遇、智財權等一連制裁舉措後，發球權回到中方手上。外界預料，中方反制除了「雙反」、反壟斷法等傳統招數外，6...',\n",
       "   'summary_detail': {'type': 'text/html',\n",
       "    'language': None,\n",
       "    'base': '',\n",
       "    'value': '【時報-台北電】中美衝突因「港版國安法」急遽升溫，在美國總統川普30日凌晨宣布取消香港特殊優惠待遇、智財權等一連制裁舉措後，發球權回到中方手上。外界預料，中方反制除了「雙反」、反壟斷法等傳統招數外，6...'}},\n",
       "  {'title': '《各報要聞》漲勢史上最猛！西德州油價 5月狂飆近九成',\n",
       "   'title_detail': {'type': 'text/plain',\n",
       "    'language': None,\n",
       "    'base': '',\n",
       "    'value': '《各報要聞》漲勢史上最猛！西德州油價 5月狂飆近九成'},\n",
       "   'links': [{'rel': 'alternate',\n",
       "     'type': 'text/html',\n",
       "     'href': 'https://tw.stock.yahoo.com/news/各報要聞-漲勢史上最猛-西德州油價-5月狂飆近九成-005757441.html'}],\n",
       "   'link': 'https://tw.stock.yahoo.com/news/各報要聞-漲勢史上最猛-西德州油價-5月狂飆近九成-005757441.html',\n",
       "   'published': 'Sun, 31 May 2020 08:57:57 CST',\n",
       "   'published_parsed': time.struct_time(tm_year=2020, tm_mon=5, tm_mday=31, tm_hour=14, tm_min=57, tm_sec=57, tm_wday=6, tm_yday=152, tm_isdst=0),\n",
       "   'id': '',\n",
       "   'guidislink': False,\n",
       "   'summary': '【時報-台北電】由於中美貿易協議不見生變，加上全球原油供給持續減少，帶動美國西德州油價在5月最後一個交易日大漲逾5％，使得該油價5月全月狂飆88％，締造史上最高紀錄。儘管如此，西德州油價與1月締造的近...',\n",
       "   'summary_detail': {'type': 'text/html',\n",
       "    'language': None,\n",
       "    'base': '',\n",
       "    'value': '【時報-台北電】由於中美貿易協議不見生變，加上全球原油供給持續減少，帶動美國西德州油價在5月最後一個交易日大漲逾5％，使得該油價5月全月狂飆88％，締造史上最高紀錄。儘管如此，西德州油價與1月締造的近...'}},\n",
       "  {'title': '《各報要聞》15檔Q2贏面大 法人卡位',\n",
       "   'title_detail': {'type': 'text/plain',\n",
       "    'language': None,\n",
       "    'base': '',\n",
       "    'value': '《各報要聞》15檔Q2贏面大 法人卡位'},\n",
       "   'links': [{'rel': 'alternate',\n",
       "     'type': 'text/html',\n",
       "     'href': 'https://tw.stock.yahoo.com/news/各報要聞-15檔q2贏面大-法人卡位-005756255.html'}],\n",
       "   'link': 'https://tw.stock.yahoo.com/news/各報要聞-15檔q2贏面大-法人卡位-005756255.html',\n",
       "   'published': 'Sun, 31 May 2020 08:57:56 CST',\n",
       "   'published_parsed': time.struct_time(tm_year=2020, tm_mon=5, tm_mday=31, tm_hour=14, tm_min=57, tm_sec=56, tm_wday=6, tm_yday=152, tm_isdst=0),\n",
       "   'id': '',\n",
       "   'guidislink': False,\n",
       "   'summary': '【時報-台北電】台股在年線及萬一關卡間來回震盪，投資人高度關注6月走勢，市場專家表示，法人已超前在5月合併營收發布前部署，卡位營運強勁、第二季財報佳、展望樂觀的個股，包括元太、英業達等15檔個股各擁題...',\n",
       "   'summary_detail': {'type': 'text/html',\n",
       "    'language': None,\n",
       "    'base': '',\n",
       "    'value': '【時報-台北電】台股在年線及萬一關卡間來回震盪，投資人高度關注6月走勢，市場專家表示，法人已超前在5月合併營收發布前部署，卡位營運強勁、第二季財報佳、展望樂觀的個股，包括元太、英業達等15檔個股各擁題...'}},\n",
       "  {'title': '《台北股市》散戶資金回籠 捧紅銅板股',\n",
       "   'title_detail': {'type': 'text/plain',\n",
       "    'language': None,\n",
       "    'base': '',\n",
       "    'value': '《台北股市》散戶資金回籠 捧紅銅板股'},\n",
       "   'links': [{'rel': 'alternate',\n",
       "     'type': 'text/html',\n",
       "     'href': 'https://tw.stock.yahoo.com/news/台北股市-散戶資金回籠-捧紅銅板股-083011251.html'}],\n",
       "   'link': 'https://tw.stock.yahoo.com/news/台北股市-散戶資金回籠-捧紅銅板股-083011251.html',\n",
       "   'published': 'Sat, 30 May 2020 16:30:11 CST',\n",
       "   'published_parsed': time.struct_time(tm_year=2020, tm_mon=5, tm_mday=30, tm_hour=22, tm_min=30, tm_sec=11, tm_wday=5, tm_yday=151, tm_isdst=0),\n",
       "   'id': '',\n",
       "   'guidislink': False,\n",
       "   'summary': '【時報-台北電】台股投資人信心回升、資金回籠，集中市場融資餘額近期回升至1,100億元以上，朝1,200億元邁進中，並已完全回補3月19日融資大砍118億元的恐慌性拋售潮，低價銅板股仍是散戶進場首選。...',\n",
       "   'summary_detail': {'type': 'text/html',\n",
       "    'language': None,\n",
       "    'base': '',\n",
       "    'value': '【時報-台北電】台股投資人信心回升、資金回籠，集中市場融資餘額近期回升至1,100億元以上，朝1,200億元邁進中，並已完全回補3月19日融資大砍118億元的恐慌性拋售潮，低價銅板股仍是散戶進場首選。...'}},\n",
       "  {'title': '《各報要聞》13檔三多匯聚 號角響起',\n",
       "   'title_detail': {'type': 'text/plain',\n",
       "    'language': None,\n",
       "    'base': '',\n",
       "    'value': '《各報要聞》13檔三多匯聚 號角響起'},\n",
       "   'links': [{'rel': 'alternate',\n",
       "     'type': 'text/html',\n",
       "     'href': 'https://tw.stock.yahoo.com/news/各報要聞-13檔三多匯聚-號角響起-010604206.html'}],\n",
       "   'link': 'https://tw.stock.yahoo.com/news/各報要聞-13檔三多匯聚-號角響起-010604206.html',\n",
       "   'published': 'Sat, 30 May 2020 09:06:04 CST',\n",
       "   'published_parsed': time.struct_time(tm_year=2020, tm_mon=5, tm_mday=30, tm_hour=15, tm_min=6, tm_sec=4, tm_wday=5, tm_yday=151, tm_isdst=0),\n",
       "   'id': '',\n",
       "   'guidislink': False,\n",
       "   'summary': '【時報-各報要聞】受美中關係緊張影響，大盤5月數度站上萬一大關都未能穩住，行情由個股點放表態。投資專家建議，現階段可用三大法人連日買超、KD指標向上、營收具成長題材為條件，挑選群電、復盛應用等13檔籌...',\n",
       "   'summary_detail': {'type': 'text/html',\n",
       "    'language': None,\n",
       "    'base': '',\n",
       "    'value': '【時報-各報要聞】受美中關係緊張影響，大盤5月數度站上萬一大關都未能穩住，行情由個股點放表態。投資專家建議，現階段可用三大法人連日買超、KD指標向上、營收具成長題材為條件，挑選群電、復盛應用等13檔籌...'}},\n",
       "  {'title': '《各報要聞》美元指數創2個半月新低',\n",
       "   'title_detail': {'type': 'text/plain',\n",
       "    'language': None,\n",
       "    'base': '',\n",
       "    'value': '《各報要聞》美元指數創2個半月新低'},\n",
       "   'links': [{'rel': 'alternate',\n",
       "     'type': 'text/html',\n",
       "     'href': 'https://tw.stock.yahoo.com/news/各報要聞-美元指數創2個半月新低-010603787.html'}],\n",
       "   'link': 'https://tw.stock.yahoo.com/news/各報要聞-美元指數創2個半月新低-010603787.html',\n",
       "   'published': 'Sat, 30 May 2020 09:06:03 CST',\n",
       "   'published_parsed': time.struct_time(tm_year=2020, tm_mon=5, tm_mday=30, tm_hour=15, tm_min=6, tm_sec=3, tm_wday=5, tm_yday=151, tm_isdst=0),\n",
       "   'id': '',\n",
       "   'guidislink': False,\n",
       "   'summary': '【時報-各報要聞】儘管中美關係因香港問題緊張情勢升高，但因全球經濟陸續解封帶動資金湧向風險性資產，美元短線賣相不佳連連走貶，周五兌歐元再貶0.5％，並失守1.11美元支撐，創二個月新低，追蹤兌六大對手...',\n",
       "   'summary_detail': {'type': 'text/html',\n",
       "    'language': None,\n",
       "    'base': '',\n",
       "    'value': '【時報-各報要聞】儘管中美關係因香港問題緊張情勢升高，但因全球經濟陸續解封帶動資金湧向風險性資產，美元短線賣相不佳連連走貶，周五兌歐元再貶0.5％，並失守1.11美元支撐，創二個月新低，追蹤兌六大對手...'}}],\n",
       " 'bozo': 1,\n",
       " 'encoding': 'utf-8',\n",
       " 'bozo_exception': feedparser.CharacterEncodingOverride('document declared as big5, but parsed as utf-8'),\n",
       " 'version': 'rss20',\n",
       " 'namespaces': {}}"
      ]
     },
     "execution_count": 1,
     "metadata": {},
     "output_type": "execute_result"
    }
   ],
   "source": [
    "import aiohttp\n",
    "import feedparser\n",
    "\n",
    "headers = {\n",
    "#     \"If-None-Match\": \"246ce00049b1df9930d4dc344180574f\"\n",
    "}\n",
    "\n",
    "async def get():\n",
    "    async with aiohttp.ClientSession() as session:\n",
    "#         async with session.get('http://finance.yahoo.com/rss/industry?s=yhoo', headers=headers) as resp:\n",
    "        async with session.get('https://tw.stock.yahoo.com/rss/url/d/e/N2.html', headers=headers) as resp:\n",
    "            print(resp.status)\n",
    "            print(resp.headers)\n",
    "            t = await resp.text()\n",
    "            return feedparser.parse(t)\n",
    "\n",
    "await get()"
   ]
  },
  {
   "cell_type": "code",
   "execution_count": 2,
   "metadata": {},
   "outputs": [],
   "source": [
    "import feedparser\n",
    "f = feedparser.parse('https://tw.stock.yahoo.com/rss/url/d/e/N2.html')"
   ]
  },
  {
   "cell_type": "code",
   "execution_count": 3,
   "metadata": {},
   "outputs": [
    {
     "data": {
      "text/plain": [
       "{'title': '《各報要聞》川普出招制裁陸！撤銷香港特殊待遇 宣布退出世衛',\n",
       " 'title_detail': {'type': 'text/plain',\n",
       "  'language': None,\n",
       "  'base': 'https://tw.stock.yahoo.com/rss/url/d/e/N2.html',\n",
       "  'value': '《各報要聞》川普出招制裁陸！撤銷香港特殊待遇 宣布退出世衛'},\n",
       " 'links': [{'rel': 'alternate',\n",
       "   'type': 'text/html',\n",
       "   'href': 'https://tw.stock.yahoo.com/news/各報要聞-川普出招制裁陸-撤銷香港特殊待遇-宣布退出世衛-005758046.html'}],\n",
       " 'link': 'https://tw.stock.yahoo.com/news/各報要聞-川普出招制裁陸-撤銷香港特殊待遇-宣布退出世衛-005758046.html',\n",
       " 'published': 'Sun, 31 May 2020 08:57:58 CST',\n",
       " 'published_parsed': time.struct_time(tm_year=2020, tm_mon=5, tm_mday=31, tm_hour=14, tm_min=57, tm_sec=58, tm_wday=6, tm_yday=152, tm_isdst=0),\n",
       " 'id': '',\n",
       " 'guidislink': False,\n",
       " 'summary': '【時報-台北電】大陸全國人大28日通過港版「國安法」後，美國總統川普當地時間29日下午召開記者會，他指責大陸破壞對香港及世界承諾，而作為懲罰陸方措施的一環，美國將撤銷給予香港的特殊待遇，包括單獨關稅區...',\n",
       " 'summary_detail': {'type': 'text/html',\n",
       "  'language': None,\n",
       "  'base': 'https://tw.stock.yahoo.com/rss/url/d/e/N2.html',\n",
       "  'value': '【時報-台北電】大陸全國人大28日通過港版「國安法」後，美國總統川普當地時間29日下午召開記者會，他指責大陸破壞對香港及世界承諾，而作為懲罰陸方措施的一環，美國將撤銷給予香港的特殊待遇，包括單獨關稅區...'}}"
      ]
     },
     "execution_count": 3,
     "metadata": {},
     "output_type": "execute_result"
    }
   ],
   "source": [
    "# import json\n",
    "# import pprint\n",
    "\n",
    "# # pprint.pprint(f['entries'][0])\n",
    "# # j = json.dumps(f['entries'][0])\n",
    "# entries = json.loads(a)\n",
    "# len(entries)\n",
    "# entries[0]\n",
    "\n",
    "# f['entries'][0]\n",
    "# f\n",
    "f[\"entries\"][0]"
   ]
  },
  {
   "cell_type": "code",
   "execution_count": 30,
   "metadata": {},
   "outputs": [
    {
     "name": "stdout",
     "output_type": "stream",
     "text": [
      "1588509731.906466\n",
      "['https://news.cnyes.com/api/v3/news/category/headline?startAt=1262304000&endAt=1264896000&limit=100', 'https://news.cnyes.com/api/v3/news/category/headline?startAt=1264896000&endAt=1267488000&limit=100', 'https://news.cnyes.com/api/v3/news/category/headline?startAt=1267488000&endAt=1270080000&limit=100', 'https://news.cnyes.com/api/v3/news/category/headline?startAt=1270080000&endAt=1272672000&limit=100', 'https://news.cnyes.com/api/v3/news/category/headline?startAt=1272672000&endAt=1275264000&limit=100', 'https://news.cnyes.com/api/v3/news/category/headline?startAt=1275264000&endAt=1277856000&limit=100', 'https://news.cnyes.com/api/v3/news/category/headline?startAt=1277856000&endAt=1280448000&limit=100', 'https://news.cnyes.com/api/v3/news/category/headline?startAt=1280448000&endAt=1283040000&limit=100', 'https://news.cnyes.com/api/v3/news/category/headline?startAt=1283040000&endAt=1285632000&limit=100', 'https://news.cnyes.com/api/v3/news/category/headline?startAt=1285632000&endAt=1288224000&limit=100', 'https://news.cnyes.com/api/v3/news/category/headline?startAt=1288224000&endAt=1290816000&limit=100', 'https://news.cnyes.com/api/v3/news/category/headline?startAt=1290816000&endAt=1293408000&limit=100', 'https://news.cnyes.com/api/v3/news/category/headline?startAt=1293408000&endAt=1296000000&limit=100', 'https://news.cnyes.com/api/v3/news/category/headline?startAt=1296000000&endAt=1298592000&limit=100', 'https://news.cnyes.com/api/v3/news/category/headline?startAt=1298592000&endAt=1301184000&limit=100', 'https://news.cnyes.com/api/v3/news/category/headline?startAt=1301184000&endAt=1303776000&limit=100', 'https://news.cnyes.com/api/v3/news/category/headline?startAt=1303776000&endAt=1306368000&limit=100', 'https://news.cnyes.com/api/v3/news/category/headline?startAt=1306368000&endAt=1308960000&limit=100', 'https://news.cnyes.com/api/v3/news/category/headline?startAt=1308960000&endAt=1311552000&limit=100', 'https://news.cnyes.com/api/v3/news/category/headline?startAt=1311552000&endAt=1314144000&limit=100', 'https://news.cnyes.com/api/v3/news/category/headline?startAt=1314144000&endAt=1316736000&limit=100', 'https://news.cnyes.com/api/v3/news/category/headline?startAt=1316736000&endAt=1319328000&limit=100', 'https://news.cnyes.com/api/v3/news/category/headline?startAt=1319328000&endAt=1321920000&limit=100', 'https://news.cnyes.com/api/v3/news/category/headline?startAt=1321920000&endAt=1324512000&limit=100', 'https://news.cnyes.com/api/v3/news/category/headline?startAt=1324512000&endAt=1327104000&limit=100', 'https://news.cnyes.com/api/v3/news/category/headline?startAt=1327104000&endAt=1329696000&limit=100', 'https://news.cnyes.com/api/v3/news/category/headline?startAt=1329696000&endAt=1332288000&limit=100', 'https://news.cnyes.com/api/v3/news/category/headline?startAt=1332288000&endAt=1334880000&limit=100', 'https://news.cnyes.com/api/v3/news/category/headline?startAt=1334880000&endAt=1337472000&limit=100', 'https://news.cnyes.com/api/v3/news/category/headline?startAt=1337472000&endAt=1340064000&limit=100', 'https://news.cnyes.com/api/v3/news/category/headline?startAt=1340064000&endAt=1342656000&limit=100', 'https://news.cnyes.com/api/v3/news/category/headline?startAt=1342656000&endAt=1345248000&limit=100', 'https://news.cnyes.com/api/v3/news/category/headline?startAt=1345248000&endAt=1347840000&limit=100', 'https://news.cnyes.com/api/v3/news/category/headline?startAt=1347840000&endAt=1350432000&limit=100', 'https://news.cnyes.com/api/v3/news/category/headline?startAt=1350432000&endAt=1353024000&limit=100', 'https://news.cnyes.com/api/v3/news/category/headline?startAt=1353024000&endAt=1355616000&limit=100', 'https://news.cnyes.com/api/v3/news/category/headline?startAt=1355616000&endAt=1358208000&limit=100', 'https://news.cnyes.com/api/v3/news/category/headline?startAt=1358208000&endAt=1360800000&limit=100', 'https://news.cnyes.com/api/v3/news/category/headline?startAt=1360800000&endAt=1363392000&limit=100', 'https://news.cnyes.com/api/v3/news/category/headline?startAt=1363392000&endAt=1365984000&limit=100', 'https://news.cnyes.com/api/v3/news/category/headline?startAt=1365984000&endAt=1368576000&limit=100', 'https://news.cnyes.com/api/v3/news/category/headline?startAt=1368576000&endAt=1371168000&limit=100', 'https://news.cnyes.com/api/v3/news/category/headline?startAt=1371168000&endAt=1373760000&limit=100', 'https://news.cnyes.com/api/v3/news/category/headline?startAt=1373760000&endAt=1376352000&limit=100', 'https://news.cnyes.com/api/v3/news/category/headline?startAt=1376352000&endAt=1378944000&limit=100', 'https://news.cnyes.com/api/v3/news/category/headline?startAt=1378944000&endAt=1381536000&limit=100', 'https://news.cnyes.com/api/v3/news/category/headline?startAt=1381536000&endAt=1384128000&limit=100', 'https://news.cnyes.com/api/v3/news/category/headline?startAt=1384128000&endAt=1386720000&limit=100', 'https://news.cnyes.com/api/v3/news/category/headline?startAt=1386720000&endAt=1389312000&limit=100', 'https://news.cnyes.com/api/v3/news/category/headline?startAt=1389312000&endAt=1391904000&limit=100', 'https://news.cnyes.com/api/v3/news/category/headline?startAt=1391904000&endAt=1394496000&limit=100', 'https://news.cnyes.com/api/v3/news/category/headline?startAt=1394496000&endAt=1397088000&limit=100', 'https://news.cnyes.com/api/v3/news/category/headline?startAt=1397088000&endAt=1399680000&limit=100', 'https://news.cnyes.com/api/v3/news/category/headline?startAt=1399680000&endAt=1402272000&limit=100', 'https://news.cnyes.com/api/v3/news/category/headline?startAt=1402272000&endAt=1404864000&limit=100', 'https://news.cnyes.com/api/v3/news/category/headline?startAt=1404864000&endAt=1407456000&limit=100', 'https://news.cnyes.com/api/v3/news/category/headline?startAt=1407456000&endAt=1410048000&limit=100', 'https://news.cnyes.com/api/v3/news/category/headline?startAt=1410048000&endAt=1412640000&limit=100', 'https://news.cnyes.com/api/v3/news/category/headline?startAt=1412640000&endAt=1415232000&limit=100', 'https://news.cnyes.com/api/v3/news/category/headline?startAt=1415232000&endAt=1417824000&limit=100', 'https://news.cnyes.com/api/v3/news/category/headline?startAt=1417824000&endAt=1420416000&limit=100', 'https://news.cnyes.com/api/v3/news/category/headline?startAt=1420416000&endAt=1423008000&limit=100', 'https://news.cnyes.com/api/v3/news/category/headline?startAt=1423008000&endAt=1425600000&limit=100', 'https://news.cnyes.com/api/v3/news/category/headline?startAt=1425600000&endAt=1428192000&limit=100', 'https://news.cnyes.com/api/v3/news/category/headline?startAt=1428192000&endAt=1430784000&limit=100', 'https://news.cnyes.com/api/v3/news/category/headline?startAt=1430784000&endAt=1433376000&limit=100', 'https://news.cnyes.com/api/v3/news/category/headline?startAt=1433376000&endAt=1435968000&limit=100', 'https://news.cnyes.com/api/v3/news/category/headline?startAt=1435968000&endAt=1438560000&limit=100', 'https://news.cnyes.com/api/v3/news/category/headline?startAt=1438560000&endAt=1441152000&limit=100', 'https://news.cnyes.com/api/v3/news/category/headline?startAt=1441152000&endAt=1443744000&limit=100', 'https://news.cnyes.com/api/v3/news/category/headline?startAt=1443744000&endAt=1446336000&limit=100', 'https://news.cnyes.com/api/v3/news/category/headline?startAt=1446336000&endAt=1448928000&limit=100', 'https://news.cnyes.com/api/v3/news/category/headline?startAt=1448928000&endAt=1451520000&limit=100', 'https://news.cnyes.com/api/v3/news/category/headline?startAt=1451520000&endAt=1454112000&limit=100', 'https://news.cnyes.com/api/v3/news/category/headline?startAt=1454112000&endAt=1456704000&limit=100', 'https://news.cnyes.com/api/v3/news/category/headline?startAt=1456704000&endAt=1459296000&limit=100', 'https://news.cnyes.com/api/v3/news/category/headline?startAt=1459296000&endAt=1461888000&limit=100', 'https://news.cnyes.com/api/v3/news/category/headline?startAt=1461888000&endAt=1464480000&limit=100', 'https://news.cnyes.com/api/v3/news/category/headline?startAt=1464480000&endAt=1467072000&limit=100', 'https://news.cnyes.com/api/v3/news/category/headline?startAt=1467072000&endAt=1469664000&limit=100', 'https://news.cnyes.com/api/v3/news/category/headline?startAt=1469664000&endAt=1472256000&limit=100', 'https://news.cnyes.com/api/v3/news/category/headline?startAt=1472256000&endAt=1474848000&limit=100', 'https://news.cnyes.com/api/v3/news/category/headline?startAt=1474848000&endAt=1477440000&limit=100', 'https://news.cnyes.com/api/v3/news/category/headline?startAt=1477440000&endAt=1480032000&limit=100', 'https://news.cnyes.com/api/v3/news/category/headline?startAt=1480032000&endAt=1482624000&limit=100', 'https://news.cnyes.com/api/v3/news/category/headline?startAt=1482624000&endAt=1485216000&limit=100', 'https://news.cnyes.com/api/v3/news/category/headline?startAt=1485216000&endAt=1487808000&limit=100', 'https://news.cnyes.com/api/v3/news/category/headline?startAt=1487808000&endAt=1490400000&limit=100', 'https://news.cnyes.com/api/v3/news/category/headline?startAt=1490400000&endAt=1492992000&limit=100', 'https://news.cnyes.com/api/v3/news/category/headline?startAt=1492992000&endAt=1495584000&limit=100', 'https://news.cnyes.com/api/v3/news/category/headline?startAt=1495584000&endAt=1498176000&limit=100', 'https://news.cnyes.com/api/v3/news/category/headline?startAt=1498176000&endAt=1500768000&limit=100', 'https://news.cnyes.com/api/v3/news/category/headline?startAt=1500768000&endAt=1503360000&limit=100', 'https://news.cnyes.com/api/v3/news/category/headline?startAt=1503360000&endAt=1505952000&limit=100', 'https://news.cnyes.com/api/v3/news/category/headline?startAt=1505952000&endAt=1508544000&limit=100', 'https://news.cnyes.com/api/v3/news/category/headline?startAt=1508544000&endAt=1511136000&limit=100', 'https://news.cnyes.com/api/v3/news/category/headline?startAt=1511136000&endAt=1513728000&limit=100', 'https://news.cnyes.com/api/v3/news/category/headline?startAt=1513728000&endAt=1516320000&limit=100', 'https://news.cnyes.com/api/v3/news/category/headline?startAt=1516320000&endAt=1518912000&limit=100', 'https://news.cnyes.com/api/v3/news/category/headline?startAt=1518912000&endAt=1521504000&limit=100', 'https://news.cnyes.com/api/v3/news/category/headline?startAt=1521504000&endAt=1524096000&limit=100', 'https://news.cnyes.com/api/v3/news/category/headline?startAt=1524096000&endAt=1526688000&limit=100', 'https://news.cnyes.com/api/v3/news/category/headline?startAt=1526688000&endAt=1529280000&limit=100', 'https://news.cnyes.com/api/v3/news/category/headline?startAt=1529280000&endAt=1531872000&limit=100', 'https://news.cnyes.com/api/v3/news/category/headline?startAt=1531872000&endAt=1534464000&limit=100', 'https://news.cnyes.com/api/v3/news/category/headline?startAt=1534464000&endAt=1537056000&limit=100', 'https://news.cnyes.com/api/v3/news/category/headline?startAt=1537056000&endAt=1539648000&limit=100', 'https://news.cnyes.com/api/v3/news/category/headline?startAt=1539648000&endAt=1542240000&limit=100', 'https://news.cnyes.com/api/v3/news/category/headline?startAt=1542240000&endAt=1544832000&limit=100', 'https://news.cnyes.com/api/v3/news/category/headline?startAt=1544832000&endAt=1547424000&limit=100', 'https://news.cnyes.com/api/v3/news/category/headline?startAt=1547424000&endAt=1550016000&limit=100', 'https://news.cnyes.com/api/v3/news/category/headline?startAt=1550016000&endAt=1552608000&limit=100', 'https://news.cnyes.com/api/v3/news/category/headline?startAt=1552608000&endAt=1555200000&limit=100', 'https://news.cnyes.com/api/v3/news/category/headline?startAt=1555200000&endAt=1557792000&limit=100', 'https://news.cnyes.com/api/v3/news/category/headline?startAt=1557792000&endAt=1560384000&limit=100', 'https://news.cnyes.com/api/v3/news/category/headline?startAt=1560384000&endAt=1562976000&limit=100', 'https://news.cnyes.com/api/v3/news/category/headline?startAt=1562976000&endAt=1565568000&limit=100', 'https://news.cnyes.com/api/v3/news/category/headline?startAt=1565568000&endAt=1568160000&limit=100', 'https://news.cnyes.com/api/v3/news/category/headline?startAt=1568160000&endAt=1570752000&limit=100', 'https://news.cnyes.com/api/v3/news/category/headline?startAt=1570752000&endAt=1573344000&limit=100', 'https://news.cnyes.com/api/v3/news/category/headline?startAt=1573344000&endAt=1575936000&limit=100', 'https://news.cnyes.com/api/v3/news/category/headline?startAt=1575936000&endAt=1578528000&limit=100', 'https://news.cnyes.com/api/v3/news/category/headline?startAt=1578528000&endAt=1581120000&limit=100', 'https://news.cnyes.com/api/v3/news/category/headline?startAt=1581120000&endAt=1583712000&limit=100', 'https://news.cnyes.com/api/v3/news/category/headline?startAt=1583712000&endAt=1586304000&limit=100', 'https://news.cnyes.com/api/v3/news/category/headline?startAt=1586304000&endAt=1588509731&limit=100']\n"
     ]
    }
   ],
   "source": [
    "import datetime\n",
    "import json\n",
    "t = [2020, 4, 14, 21, 35, 43, 1, 105, 0]\n",
    "\n",
    "# datetime.datetime.now().timestamp()\n",
    "# datetime.datetime.fromtimestamp(1588500008)\n",
    "\n",
    "# d = datetime.timedelta(days=30)\n",
    "# until - d\n",
    "\n",
    "# json.dumps(datetime.datetime(*t[:7]))\n",
    "\n",
    "def startpoints(start: datetime.datetime, until: datetime.datetime):\n",
    "    urls = []\n",
    "    while start < until:\n",
    "        _until = start + datetime.timedelta(days=30)\n",
    "        if _until > until:\n",
    "            _until = until\n",
    "        urls.append('https://news.cnyes.com/api/v3/news/category/headline' +\n",
    "                    f'?startAt={int(start.timestamp())}' +\n",
    "                    f'&endAt={int(_until.timestamp())}' +\n",
    "                    '&limit=100')\n",
    "        start = _until\n",
    "    return urls\n",
    "\n",
    "start = datetime.datetime(2010, 1, 1)\n",
    "until = datetime.datetime.now()\n",
    "print(until.timestamp())\n",
    "print(startpoints(start, until))"
   ]
  },
  {
   "cell_type": "code",
   "execution_count": 23,
   "metadata": {},
   "outputs": [
    {
     "name": "stdout",
     "output_type": "stream",
     "text": [
      "2020-04-12 13:20:00\n",
      "sleep for 5955 seconds\n"
     ]
    }
   ],
   "source": [
    "from time import mktime\n",
    "import datetime\n",
    " \n",
    "fetched_at = datetime.datetime(2020, 4, 12, 10, 0, 0)\n",
    "freq = datetime.timedelta(seconds=12000)\n",
    "print(fetched_at + freq)\n",
    "secs_to_sleep = (fetched_at + freq - datetime.datetime.now()).total_seconds()\n",
    "\n",
    "if secs_to_sleep > 0:\n",
    "    print(\"sleep for {} seconds\".format(int(secs_to_sleep)))\n",
    "else:\n",
    "    print(\"scrape\")"
   ]
  },
  {
   "cell_type": "markdown",
   "metadata": {},
   "source": [
    "# twint, elasticsearch"
   ]
  },
  {
   "cell_type": "code",
   "execution_count": 28,
   "metadata": {},
   "outputs": [
    {
     "name": "stdout",
     "output_type": "stream",
     "text": [
      "[+] Indexing to Elasticsearch @ http://es:9200\n",
      "...................."
     ]
    }
   ],
   "source": [
    "import twint\n",
    "\n",
    "c = twint.Config()\n",
    "\n",
    "# c.Username = \"YahooFinance\"\n",
    "# c.Username = \"CNBC\"\n",
    "c.Search = '$AAPL'\n",
    "c.Limit = 10\n",
    "# c.Since= '2017-12-27'\n",
    "# c.Until = '2017-12-31'\n",
    "# c.Store_csv = True\n",
    "# c.Output = \"none\"\n",
    "c.Elasticsearch = \"http://es:9200\"\n",
    "c.Debug = True\n",
    "\n",
    "twint.run.Search(c)"
   ]
  },
  {
   "cell_type": "code",
   "execution_count": 6,
   "metadata": {},
   "outputs": [],
   "source": [
    "from lxml import etree\n",
    "\n",
    "# html = etree.tostring(article.clean_top_node, encoding='utf-8').decode('utf-8')\n",
    "# e = etree.fromstring(html)\n",
    "# etree.tostring(e)\n",
    "# print(etree.tostring(article.top_node)[:300])\n",
    "# print(etree.tostring(article.clean_top_node)[:300])\n",
    "import logging\n",
    "import sys\n",
    "\n",
    "log = logging.getLogger(\"elasticsearch\")\n",
    "log.addHandler(logging.StreamHandler(sys.stdout))"
   ]
  },
  {
   "cell_type": "code",
   "execution_count": 7,
   "metadata": {},
   "outputs": [],
   "source": [
    "import elasticsearch\n",
    "from elasticsearch_dsl import Q\n",
    "from app.store import es\n",
    "\n",
    "es.init()\n",
    "# client = elasticsearch.Elasticsearch(['es:9200'])\n",
    "# client.indices.delete(index=\"news_rss\")\n",
    "# client.indices.delete(index=\"news_page\")\n",
    "\n",
    "def f():\n",
    "    s = es.Page.search()\n",
    "#     s = s.filter('wildcard', from_url=\"*cnyes*\").filter('term', http_status=\"*cnyes*\")\n",
    "    q = Q('wildcard', from_url=\"*cnyes.com*\") \\\n",
    "            & ~Q(\"term\", http_status=200)\n",
    "    print(q)\n",
    "    s = s.filter(q)\n",
    "    \n",
    "    results = s.execute()\n",
    "    for page in results:\n",
    "        print(page.from_url, page.http_status)\n",
    "    # s.scan()\n",
    "#     for p in s.scan():\n",
    "#         yield p.from_url\n",
    "\n",
    "# for x in f():\n",
    "#     print(x)\n",
    "#     break\n",
    "# f()"
   ]
  },
  {
   "cell_type": "code",
   "execution_count": 5,
   "metadata": {},
   "outputs": [
    {
     "data": {
      "text/plain": [
       "{'meta': {}, '_d_': {'from_url': 'aaa.com'}}"
      ]
     },
     "execution_count": 5,
     "metadata": {},
     "output_type": "execute_result"
    }
   ],
   "source": [
    "from app.store import es\n",
    "\n",
    "p = es.Page(from_url=\"aaa.com\")\n",
    "p.__dict__"
   ]
  },
  {
   "cell_type": "code",
   "execution_count": 40,
   "metadata": {},
   "outputs": [
    {
     "name": "stdout",
     "output_type": "stream",
     "text": [
      "Rss(index='news_rss', id='https://some.url.com/?query=like&thisad')\n"
     ]
    }
   ],
   "source": [
    "import json\n",
    "import datetime\n",
    "from lxml import etree\n",
    "import elasticsearch\n",
    "from elasticsearch_dsl import connections, Document, Date, Keyword, Q, Search, Text, Range, Integer\n",
    "\n",
    "class Rss(Document):\n",
    "    url = Keyword(required=True)\n",
    "    ticker = Keyword()\n",
    "    freq = Integer()  # seconds (default: 2 days)\n",
    "    n_retries = Integer()\n",
    "    fetched_at = Date()\n",
    "\n",
    "    class Index:\n",
    "        name = \"news_rss\"\n",
    "        settings = {\n",
    "            'number_of_shards': 1,\n",
    "            'number_of_replicas': 0\n",
    "        }\n",
    "\n",
    "    def save(self, **kwargs):\n",
    "        self.meta.id = self.url\n",
    "        self.n_retries = self.n_retries or 0\n",
    "        self.freq = self.freq or 2*24*60*60\n",
    "        # self.created_at = datetime.datetime.now()\n",
    "        return super().save(**kwargs)\n",
    "    \n",
    "    @classmethod\n",
    "    def get_or_create(cls, url) -> Rss:\n",
    "        try:\n",
    "            rss = cls.get(id=url)\n",
    "        except elasticsearch.NotFoundError:\n",
    "            rss = cls(url=url)\n",
    "            rss.save()\n",
    "        return rss\n",
    "\n",
    "connections.create_connection(hosts=['es:9200'])\n",
    "Rss.init()\n",
    "\n",
    "# rss = Rss(url=\"https://some.url.com/?query=like&this\")\n",
    "# rss.save()\n",
    "\n",
    "r = Rss.get_or_create(\"https://some.url.com/?query=like&thisad\")\n",
    "# print(r.n_retries)\n",
    "print(r)\n",
    "\n",
    "\n",
    "# for i, hit in enumerate(scan_twint('ReutersBiz')):\n",
    "#     print(hit.urls)\n",
    "#     if i > 10:\n",
    "#         break\n",
    "\n",
    "# connections.create_connection(hosts=['es:9200'])\n",
    "# connections.create_connection(hosts=['es:9200'])\n",
    "# Page.init()\n",
    "# s = Page.search()\n",
    "# s.query = Q({\"match\": {\"src_url\": \"aaa.com\"}})\n",
    "# resp = s.execute()\n",
    "# print(resp.hits.total.value)\n",
    "# Page.is_existed('aaav.com')\n",
    "\n",
    "\n"
   ]
  },
  {
   "cell_type": "markdown",
   "metadata": {},
   "source": [
    "# @dataclass, namedtuple"
   ]
  },
  {
   "cell_type": "code",
   "execution_count": 79,
   "metadata": {},
   "outputs": [
    {
     "data": {
      "text/plain": [
       "ParsedTicker(p_text='some p text', tickers=[{'a_text': 'some a text', 'ticker': 'AAA'}])"
      ]
     },
     "execution_count": 79,
     "metadata": {},
     "output_type": "execute_result"
    }
   ],
   "source": [
    "import json\n",
    "import dataclasses \n",
    "from typing import Tuple, List\n",
    "\n",
    "@dataclasses.dataclass\n",
    "class _TickerAnchor:\n",
    "    a_text: str\n",
    "    ticker: str\n",
    "\n",
    "@dataclasses.dataclass\n",
    "class ParsedTicker:\n",
    "    p_text: str  # <p>...text...</p>\n",
    "    tickers: List[_TickerAnchor]\n",
    "    \n",
    "\n",
    "t = ParsedTicker('some p text', [_TickerAnchor('some a text', 'AAA')])\n",
    "s = json.dumps(dataclasses.asdict(t))\n",
    "ParsedTicker(**json.loads(s))"
   ]
  },
  {
   "cell_type": "code",
   "execution_count": null,
   "metadata": {},
   "outputs": [],
   "source": [
    "from collections import namedtuple\n",
    "\n",
    "ParsedTicker = namedtuple('ParsedTicker', ['p_text', 'symbols'])\n",
    "Symbol = namedtuple('Symbol', ['a_text', 'symbol'])\n",
    "\n",
    "Symbol"
   ]
  },
  {
   "cell_type": "code",
   "execution_count": 3,
   "metadata": {},
   "outputs": [
    {
     "name": "stdout",
     "output_type": "stream",
     "text": [
      "/workspace/twint/app\n",
      "Page(index='news_page', id='aaa.com')\n"
     ]
    }
   ],
   "source": [
    "%cd /workspace/twint/app\n",
    "from app.store import es\n",
    "\n",
    "es.init()\n",
    "p = es.Page(from_url=\"aaa.com\")\n",
    "p.save()\n",
    "# p.meta.id = 'aaa'\n",
    "print(p)\n",
    "# p.meta.id = 'bbb'\n",
    "# p.meta.id\n",
    "# p.save()\n",
    "# type(p.meta)\n",
    "# p.meta.id = 'aaa.com'\n",
    "# p.save()\n",
    "# p.created_at is None\n",
    "\n",
    "# p = es.Page.get(id=\"aaa.com\")\n",
    "# p.meta.id='aaa'\n",
    "# p.save()"
   ]
  },
  {
   "cell_type": "code",
   "execution_count": 31,
   "metadata": {},
   "outputs": [
    {
     "data": {
      "text/plain": [
       "{1, 2, 3, 4}"
      ]
     },
     "execution_count": 31,
     "metadata": {},
     "output_type": "execute_result"
    }
   ],
   "source": [
    "a = [1,2,3]\n",
    "b = set(a)\n",
    "b.add(4)\n",
    "b\n",
    "b"
   ]
  }
 ],
 "metadata": {
  "kernelspec": {
   "display_name": "Python 3",
   "language": "python",
   "name": "python3"
  },
  "language_info": {
   "codemirror_mode": {
    "name": "ipython",
    "version": 3
   },
   "file_extension": ".py",
   "mimetype": "text/x-python",
   "name": "python",
   "nbconvert_exporter": "python",
   "pygments_lexer": "ipython3",
   "version": "3.7.7"
  }
 },
 "nbformat": 4,
 "nbformat_minor": 4
}
