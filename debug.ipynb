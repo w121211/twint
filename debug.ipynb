{
 "cells": [
  {
   "cell_type": "markdown",
   "metadata": {},
   "source": [
    "### 參考\n",
    "\n",
    "aiohttp scraper: https://github.com/gaojiuli/gain  \n",
    "tweet熱度：https://github.com/shirosaidev/stocksight  \n",
    "reuters scraper: https://github.com/wenyenwei/tensorflow-stock-news  \n",
    "https://stocknewsapi.com/  \n",
    "https://stackoverflow.com/questions/51537063/url-format-for-google-news-rss-feed  \n",
    "https://github.com/niderhoff/nlp-datasets"
   ]
  },
  {
   "cell_type": "code",
   "execution_count": 1,
   "metadata": {},
   "outputs": [
    {
     "name": "stderr",
     "output_type": "stream",
     "text": [
      "[nltk_data] Downloading package punkt to /root/nltk_data...\n",
      "[nltk_data]   Unzipping tokenizers/punkt.zip.\n"
     ]
    },
    {
     "data": {
      "text/plain": [
       "True"
      ]
     },
     "execution_count": 1,
     "metadata": {},
     "output_type": "execute_result"
    }
   ],
   "source": [
    "# https://github.com/LIAAD/yake\n",
    "# !pip install nest_asyncio newspaper3k feedparser psycopg2\n",
    "import nest_asyncio\n",
    "nest_asyncio.apply()\n",
    "\n",
    "import nltk\n",
    "nltk.download('punkt')"
   ]
  },
  {
   "cell_type": "markdown",
   "metadata": {},
   "source": [
    "# Newspaper3k"
   ]
  },
  {
   "cell_type": "code",
   "execution_count": 6,
   "metadata": {},
   "outputs": [],
   "source": [
    "import newspaper\n",
    "\n",
    "cnbc = newspaper.build('https://www.cnbc.com/markets/')"
   ]
  },
  {
   "cell_type": "code",
   "execution_count": 10,
   "metadata": {},
   "outputs": [],
   "source": [
    "for a in cnbc.articles:\n",
    "    print(a)"
   ]
  },
  {
   "cell_type": "code",
   "execution_count": 31,
   "metadata": {},
   "outputs": [
    {
     "name": "stderr",
     "output_type": "stream",
     "text": [
      "Building prefix dict from /usr/local/lib/python3.7/site-packages/jieba/dict.txt ...\n",
      "Dumping model to file cache /tmp/jieba.cache\n",
      "Loading model cost 2.5148985385894775 seconds.\n",
      "Prefix dict has been built succesfully.\n"
     ]
    },
    {
     "data": {
      "text/plain": [
       "defaultdict(dict,\n",
       "            {'fb': {'app_id': 325242790993768,\n",
       "              'pages': '107207125979624,341172005895696,316306791736155,659317060868369,586654018059088'},\n",
       "             'og': {'site_name': 'Anue鉅亨',\n",
       "              'locale': 'zh_TW',\n",
       "              'title': '傳裁員百人 光寶科：組織內部常態性調整 | Anue鉅亨 - 台股新聞',\n",
       "              'description': '光寶科 (2301-TW) 今 (9) 日傳出旗下工業自動化事業部裁員百人，對此，光寶科澄清，只是因應考核，進行的組織內部常態性調整，以內轉為優先，並非如外傳所說的裁員上百人。',\n",
       "              'type': 'article',\n",
       "              'url': 'https://news.cnyes.com/news/id/4474677',\n",
       "              'image': {'identifier': 'https://cimg.cnyes.cool/prod/news/4474677/l/6c70bdba22cec95ed8ccfc54b4031508.jpg',\n",
       "               'width': 640,\n",
       "               'height': 360}},\n",
       "             'description': '光寶科 (2301-TW) 今 (9) 日傳出旗下工業自動化事業部裁員百人，對此，光寶科澄清，只是因應考核，進行的組織內部常態性調整，以內轉為優先，並非如外傳所說的裁員上百人。',\n",
       "             'article': {'publisher': 'https://www.facebook.com/cnYES',\n",
       "              'published_time': '2020-05-09T14:55:27+08:00',\n",
       "              'author': 'https://www.facebook.com/cnYES'},\n",
       "             'msapplication-TileColor': '#da532c',\n",
       "             'msapplication-TileImage': '/mstile-144x144.png',\n",
       "             'theme-color': '#ffffff',\n",
       "             'viewport': 'width=device-width, initial-scale=1, user-scalable=yes',\n",
       "             'buildName': '3.14.0'})"
      ]
     },
     "execution_count": 31,
     "metadata": {},
     "output_type": "execute_result"
    }
   ],
   "source": [
    "import newspaper\n",
    "\n",
    "# url = \"https://www.cnbc.com/2020/04/20/oil-markets-us-crude-futures-in-focus-as-coronavirus-dents-demand.html\"\n",
    "url = \"https://news.cnyes.com/news/id/4474677\"\n",
    "a = newspaper.Article(url=url)\n",
    "a.download()\n",
    "a.parse()\n",
    "a.meta_data"
   ]
  },
  {
   "cell_type": "code",
   "execution_count": 36,
   "metadata": {},
   "outputs": [
    {
     "name": "stdout",
     "output_type": "stream",
     "text": [
      "b'<a href=\"https://invest.cnyes.com/twstock/tws/2301\">2301-TW</a>) &#20170; (9) &#26085;&#20659;&#20986;&#26071;&#19979;&#24037;&#26989;&#33258;&#21205;&#21270;&#20107;&#26989;&#37096;&#35009;&#21729;&#30334;&#20154;&#65292;&#23565;&#27492;&#65292;&#20809;&#23542;&#31185;&#28548;&#28165;&#65292;&#21482;&#26159;&#22240;&#25033;&#32771;&#26680;&#65292;&#36914;&#34892;&#30340;&#32068;&#32340;&#20839;&#37096;&#24120;&#24907;&#24615;&#35519;&#25972;&#65292;&#20197;&#20839;&#36681;&#28858;&#20778;&#20808;&#65292;&#20006;&#38750;&#22914;&#22806;&#20659;&#25152;&#35498;&#30340;&#35009;&#21729;&#19978;&#30334;&#20154;&#12290;'\n"
     ]
    }
   ],
   "source": [
    "from lxml import etree\n",
    "\n",
    "for e in a.clean_top_node.cssselect('a'):\n",
    "    print(etree.tostring(e))\n",
    "\n",
    "# for p in set([e.getparent() for e in node.cssselect('a')]):\n",
    "#     text = etree.tostring(\n",
    "#         p, method='text', encoding='utf-8').decode('utf-8').strip()\n",
    "#     tk = _Ticker(text)\n",
    "\n",
    "#     for a in p.cssselect('a'):\n",
    "#         href = a.get('href')\n",
    "#         queries = dict(urllib.parse.parse_qsl(\n",
    "#             urllib.parse.urlsplit(href).query))\n",
    "#         try:\n",
    "#             tk.labels.append((a.text, queries['symbol']))\n",
    "#         except KeyError:\n",
    "#             continue\n",
    "#     if len(tk.labels) > 0:\n",
    "#         tickers.append(tk)"
   ]
  },
  {
   "cell_type": "code",
   "execution_count": 10,
   "metadata": {},
   "outputs": [
    {
     "data": {
      "text/html": [
       "<div>\n",
       "<style scoped>\n",
       "    .dataframe tbody tr th:only-of-type {\n",
       "        vertical-align: middle;\n",
       "    }\n",
       "\n",
       "    .dataframe tbody tr th {\n",
       "        vertical-align: top;\n",
       "    }\n",
       "\n",
       "    .dataframe thead th {\n",
       "        text-align: right;\n",
       "    }\n",
       "</style>\n",
       "<table border=\"1\" class=\"dataframe\">\n",
       "  <thead>\n",
       "    <tr style=\"text-align: right;\">\n",
       "      <th></th>\n",
       "      <th>url</th>\n",
       "    </tr>\n",
       "  </thead>\n",
       "  <tbody>\n",
       "    <tr>\n",
       "      <th>0</th>\n",
       "      <td>1</td>\n",
       "    </tr>\n",
       "    <tr>\n",
       "      <th>1</th>\n",
       "      <td>2</td>\n",
       "    </tr>\n",
       "    <tr>\n",
       "      <th>2</th>\n",
       "      <td>3</td>\n",
       "    </tr>\n",
       "    <tr>\n",
       "      <th>3</th>\n",
       "      <td>4</td>\n",
       "    </tr>\n",
       "  </tbody>\n",
       "</table>\n",
       "</div>"
      ],
      "text/plain": [
       "   url\n",
       "0    1\n",
       "1    2\n",
       "2    3\n",
       "3    4"
      ]
     },
     "execution_count": 10,
     "metadata": {},
     "output_type": "execute_result"
    }
   ],
   "source": [
    "import pandas as pd\n",
    "# df = pd.read_csv('/workspace/twint/rss/resource/rss.csv')\n",
    "# # return df.iterrows()\n",
    "# for index, r in df.iterrows():\n",
    "#     print(r['ticker'], r['url'])\n",
    "    \n",
    "pd.DataFrame({\n",
    "    \"url\": [1,2,3,4]\n",
    "})\n"
   ]
  },
  {
   "cell_type": "markdown",
   "metadata": {},
   "source": [
    "# aiohttp"
   ]
  },
  {
   "cell_type": "code",
   "execution_count": 39,
   "metadata": {},
   "outputs": [],
   "source": [
    "import aiohttp\n",
    "from newspaper import Article\n",
    "\n",
    "# url = 'http://bit.ly/K0Z1F'\n",
    "# url = 'https://www.cnbc.com/2020/04/19/why-big-techs-coronavirus-goodwill-wont-help-in-antitrust-probes.html'\n",
    "url = 'https://news.cnyes.com/news/id/4474677'\n",
    "\n",
    "async def get():\n",
    "    async with aiohttp.ClientSession() as sess:\n",
    "        async with sess.get(url) as resp:\n",
    "#             print(resp)\n",
    "#             print(resp.status)\n",
    "#             print(resp.headers)\n",
    "#             print(resp.url)\n",
    "#             print(resp.history)\n",
    "            html = await resp.text()\n",
    "#             article = Article(str(resp.url))\n",
    "#             article.set_html()\n",
    "#             article.parse()\n",
    "            return resp, html\n",
    "\n",
    "# article, resp = await get()\n",
    "# print(article)\n",
    "try:\n",
    "    resp, html = await get()\n",
    "except aiohttp.ClientError as e:\n",
    "    print(e)"
   ]
  },
  {
   "cell_type": "code",
   "execution_count": 11,
   "metadata": {},
   "outputs": [
    {
     "name": "stdout",
     "output_type": "stream",
     "text": [
      "None\n"
     ]
    }
   ],
   "source": [
    "import re\n",
    "\n",
    "\n",
    "p = re.compile(r'^\\/tag\\/(\\w+)') \n",
    "m = p.search('/tag/') \n",
    "# print(m.group())\n",
    "print(m)\n",
    "# m.group(1)\n",
    "if m is not None:\n",
    "    print(m.group(1))"
   ]
  },
  {
   "cell_type": "code",
   "execution_count": 48,
   "metadata": {},
   "outputs": [
    {
     "name": "stdout",
     "output_type": "stream",
     "text": [
      "/tag/光寶科\n",
      "/tag/LED\n",
      "/tag/資訊\n",
      "/tag/電源\n",
      "/tag/裁員\n"
     ]
    }
   ],
   "source": [
    "from bs4 import BeautifulSoup\n",
    "\n",
    "soup = BeautifulSoup(html, 'html.parser')\n",
    "for link in soup.find_all('a'):\n",
    "    href = link.get('href')\n",
    "    if href is not None and '/tag/' in href:\n",
    "        print(href)\n",
    "#     print(link.get('href'))\n",
    "    "
   ]
  },
  {
   "cell_type": "code",
   "execution_count": 28,
   "metadata": {},
   "outputs": [
    {
     "name": "stdout",
     "output_type": "stream",
     "text": [
      "200\n",
      "<class 'int'>\n"
     ]
    }
   ],
   "source": [
    "import asyncio\n",
    "import aiohttp\n",
    "from fake_useragent import UserAgent\n",
    "\n",
    "# url = \"https://www.cnbc.com/id/45044666\" # 404\n",
    "urls = [\n",
    "    \"https://httpstat.us/404\",\n",
    "    \"https://httpstat.us/200\",\n",
    "]\n",
    "\n",
    "async def get(url):\n",
    "    ua = UserAgent(verify_ssl=False, use_cache_server=False).random\n",
    "    async with aiohttp.ClientSession(raise_for_status=True, headers=[(\"User-Agent\", ua)]) as sess:\n",
    "            async with sess.get(url) as resp:\n",
    "                return resp\n",
    "\n",
    "\n",
    "# await asyncio.gather(*[get(u) for u in urls])\n",
    "\n",
    "\n",
    "    \n",
    "try:\n",
    "    resp = await get(urls[1])\n",
    "    print(resp.status)\n",
    "    print(type(resp.status))\n",
    "except aiohttp.ClientResponseError as e:\n",
    "    print(e)\n",
    "    print(type(e.status))\n",
    "    print(e.headers)\n",
    "    print(e.request_info.real_url)\n",
    "    print(e.request_info)"
   ]
  },
  {
   "cell_type": "code",
   "execution_count": 137,
   "metadata": {},
   "outputs": [
    {
     "data": {
      "text/plain": [
       "collections.defaultdict"
      ]
     },
     "execution_count": 137,
     "metadata": {},
     "output_type": "execute_result"
    }
   ],
   "source": [
    "import json\n",
    "# article.meta_keywords\n",
    "# article.meta_site_name\n",
    "# s = json.dumps(article.meta_data)\n",
    "# json.loads(s)\n",
    "# article.article_html\n",
    "# article.source_url\n",
    "type(article.meta_data)"
   ]
  },
  {
   "cell_type": "code",
   "execution_count": 2,
   "metadata": {},
   "outputs": [
    {
     "data": {
      "text/plain": [
       "<Element div at 0x7f81a24329b0>"
      ]
     },
     "execution_count": 2,
     "metadata": {},
     "output_type": "execute_result"
    }
   ],
   "source": [
    "from lxml import etree\n",
    "\n",
    "article.clean_top_node"
   ]
  },
  {
   "cell_type": "code",
   "execution_count": 120,
   "metadata": {},
   "outputs": [
    {
     "name": "stdout",
     "output_type": "stream",
     "text": [
      "ParsedTicker(text=\"Recent actions by both agencies back up their claims. At the end of March, the DOJ Antitrust Division announced it would require military technology companies Raytheon and United Technologies Corporation to divest parts of their businesses to proceed with their proposed merger. On April 1, the FTC announced its lawsuit to unwind tobacco company Altria's $12.8 billion investment in Juul, the e-cigarette company accused of luring adolescents to its products with its marketing.\", tickers=[_TickerAnchor(text='Raytheon ', ticker='UTX'), _TickerAnchor(text='Altria', ticker='MO')])\n",
      "ParsedTicker(text='Up until recently, Facebook, Google, Amazon and Apple had been met with unyielding scrutiny in Washington and most state attorneys general offices, barraged by questions of dominance and privacy violations. Facebook and Google have been most visibly pursued by federal authorities and state attorneys.', tickers=[_TickerAnchor(text='Facebook', ticker='FB'), _TickerAnchor(text='Google', ticker='GOOGL'), _TickerAnchor(text='Amazon', ticker='AMZN'), _TickerAnchor(text='Apple', ticker='AAPL'), _TickerAnchor(text='Google', ticker='GOOGL')])\n",
      "ParsedTicker(text=\"Still, with tech companies ingraining themselves in the federal government's recovery plans, government watchdogs fear White House pressure could taint the probes. Antitrust professionals have frequently pointed to a handful of cases undertaken by the Trump administration's Antitrust Division, like its attempt to block AT&T's acquisition of Time Warner, that they argue were influenced by the White House. The Antitrust Division has repeatedly denied outside influence.\", tickers=[_TickerAnchor(text='AT&T', ticker='T')])\n"
     ]
    }
   ],
   "source": [
    "from urllib import parse\n",
    "import urllib\n",
    "from lxml import etree\n",
    "# from bs4 import BeautifulSoup\n",
    "\n",
    "# resp\n",
    "# resp.headers\n",
    "article.meta_data\n",
    "# type(article.top_node)\n",
    "# tostring(article.top_node)\n",
    "\n",
    "# soup = BeautifulSoup(article.top_node, 'lxml')\n",
    "# BeautifulSoup(doc, 'lxml')\n",
    "# soup\n",
    "\n",
    "# type(article.top_node)\n",
    "# print(etree.tostring(article.top_node, pretty_print=True).decode('utf-8'))\n",
    "# print(etree.tostring(article.clean_top_node, pretty_print=True).decode('utf-8'))\n",
    "# print('this is a \\'try')\n",
    "\n",
    "# for e in article.clean_top_node.cssselect('a'):\n",
    "#     print(etree.tostring(e))\n",
    "#     print(e.getparent().text)\n",
    "#     print(e.text)\n",
    "#     print(e.get('href'))\n",
    "#     print(e.keys())\n",
    "\n",
    "# es = article.clean_top_node.cssselect('a')\n",
    "# href = e.get('href')\n",
    "# print(dict(urllib.parse.parse_qsl(urllib.parse.urlsplit(href).query)))\n",
    "# print(e.text)\n",
    "# print(etree.tostring(e.getparent(), method='text', pretty_print=True, encoding='utf-8').decode('utf-8'))\n",
    "# print(e.getparent().text)\n",
    "# print(etree.tostring(article.clean_top_node, pretty_print=True).decode('utf-8'))\n",
    "\n",
    "# es[0].getparent() is es[1].getparent()\n",
    "# set([es[0].getparent(), es[1].getparent()])\n",
    "# e = es[0].getparent()\n",
    "# # e.cssselect('a')\n",
    "# print(etree.tostring(e, method='text', encoding='utf-8').decode('utf-8').strip())\n",
    "# for a in e.cssselect('a'):\n",
    "#     print(etree.tostring(a, with_tail=False))\n",
    "#     print(a.text)\n",
    "#     print(a.items())\n",
    "\n",
    "import dataclasses\n",
    "from typing import Tuple, List\n",
    "\n",
    "\n",
    "@dataclasses.dataclass\n",
    "class _TickerAnchor:\n",
    "    text: str\n",
    "    ticker: str\n",
    "\n",
    "\n",
    "@dataclasses.dataclass\n",
    "class ParsedTicker:\n",
    "    '''<p>...some text...<a href='$AAA'>...some anchor text</a>...<a>....</a>...</p>\n",
    "    '''\n",
    "    text: str\n",
    "    tickers: List[_TickerAnchor] = dataclasses.field(default_factory=list)\n",
    "\n",
    "\n",
    "node =  article.clean_top_node\n",
    "\n",
    "data = []\n",
    "for p in set([e.getparent() for e in node.cssselect('a')]):\n",
    "    text = etree.tostring(\n",
    "        p, method='text', encoding='utf-8').decode('utf-8').strip()\n",
    "    parsed = ParsedTicker(text)\n",
    "#     print(parsed)\n",
    "    for a in p.cssselect('a'):\n",
    "#         etree.tostring(a)\n",
    "        href = a.get('href')\n",
    "        queries = dict(urllib.parse.parse_qsl(\n",
    "            urllib.parse.urlsplit(href).query))\n",
    "        try:\n",
    "            parsed.tickers.append(\n",
    "                _TickerAnchor(a.text, queries['symbol'])\n",
    "            )\n",
    "        except KeyError:\n",
    "            continue\n",
    "    if len(parsed.tickers) > 0:\n",
    "        data.append(parsed)\n",
    "        print(parsed)\n",
    "\n",
    "# data[2]"
   ]
  },
  {
   "cell_type": "code",
   "execution_count": 50,
   "metadata": {},
   "outputs": [
    {
     "name": "stdout",
     "output_type": "stream",
     "text": [
      "SplitResult(scheme='', netloc='', path='/quotes/', query='symbol=FB', fragment='')\n"
     ]
    },
    {
     "data": {
      "text/plain": [
       "{'symbol': 'FB'}"
      ]
     },
     "execution_count": 50,
     "metadata": {},
     "output_type": "execute_result"
    }
   ],
   "source": [
    "from urllib import parse\n",
    "import urllib\n",
    "url = \"/quotes/?symbol=FB\"\n",
    "# url = \"http://www.example.org/default.html?ct=32&op=92&item=98\"\n",
    "print(urllib.parse.urlsplit(url))\n",
    "# parse.parse_qs(parse.urlsplit(url).query)\n",
    "dict(urllib.parse.parse_qsl(urllib.parse.urlsplit(url).query))"
   ]
  },
  {
   "cell_type": "markdown",
   "metadata": {},
   "source": [
    "# asyncio"
   ]
  },
  {
   "cell_type": "code",
   "execution_count": 19,
   "metadata": {},
   "outputs": [
    {
     "name": "stdout",
     "output_type": "stream",
     "text": [
      "name 'whatevererror' is not defined\n",
      "name 'whatevererror' is not defined\n",
      "name 'whatevererror' is not defined\n",
      "name 'whatevererror' is not defined\n",
      "name 'whatevererror' is not defined\n",
      "name 'whatevererror' is not defined\n",
      "name 'whatevererror' is not defined\n",
      "name 'whatevererror' is not defined\n",
      "name 'whatevererror' is not defined\n",
      "name 'whatevererror' is not defined\n",
      "name 'whatevererror' is not defined\n",
      "name 'whatevererror' is not defined\n",
      "name 'whatevererror' is not defined\n",
      "name 'whatevererror' is not defined\n",
      "name 'whatevererror' is not defined\n",
      "name 'whatevererror' is not defined\n",
      "name 'whatevererror' is not defined\n",
      "name 'whatevererror' is not defined\n",
      "name 'whatevererror' is not defined\n",
      "name 'whatevererror' is not defined\n",
      "\n",
      "\n",
      "\n",
      "[ValueError('task_done() called too many times'), ValueError('task_done() called too many times'), ValueError('task_done() called too many times')]\n",
      "====\n",
      "3 workers slept in parallel for 3.66 seconds\n",
      "total expected sleep time: 10.12 seconds\n"
     ]
    }
   ],
   "source": [
    "import nest_asyncio\n",
    "nest_asyncio.apply()\n",
    "import asyncio\n",
    "import random\n",
    "import time\n",
    "\n",
    "\n",
    "async def worker(name, queue):\n",
    "    while True:\n",
    "        try:\n",
    "            # Get a \"work item\" out of the queue.\n",
    "            sleep_for = await queue.get()\n",
    "\n",
    "            # Sleep for the \"sleep_for\" seconds.\n",
    "            await asyncio.sleep(sleep_for)\n",
    "\n",
    "            raise whatevererror('some error')\n",
    "\n",
    "            # Notify the queue that the \"work item\" has been processed.\n",
    "\n",
    "            print(f'{name} has slept for {sleep_for:.2f} seconds')\n",
    "        except Exception as e:\n",
    "            print(e)\n",
    "        finally:\n",
    "            queue.task_done()\n",
    "\n",
    "async def worker2(name, queue):\n",
    "    # Get a \"work item\" out of the queue.\n",
    "    sleep_for = await queue.get()\n",
    "\n",
    "    # Sleep for the \"sleep_for\" seconds.\n",
    "    await asyncio.sleep(sleep_for)\n",
    "\n",
    "    raise Exception('some error')\n",
    "\n",
    "    # Notify the queue that the \"work item\" has been processed.\n",
    "\n",
    "    print(f'{name} has slept for {sleep_for:.2f} seconds')\n",
    "\n",
    "    queue.task_done()\n",
    "            \n",
    "            \n",
    "async def main():\n",
    "    # Create a queue that we will use to store our \"workload\".\n",
    "    queue = asyncio.Queue()\n",
    "\n",
    "    # Generate random timings and put them into the queue.\n",
    "    total_sleep_time = 0\n",
    "    for _ in range(20):\n",
    "        sleep_for = random.uniform(0.05, 1.0)\n",
    "        total_sleep_time += sleep_for\n",
    "        queue.put_nowait(sleep_for)\n",
    "\n",
    "    # Create three worker tasks to process the queue concurrently.\n",
    "    tasks = []\n",
    "    for i in range(3):\n",
    "        task = asyncio.create_task(worker(f'worker-{i}', queue))\n",
    "        tasks.append(task)\n",
    "\n",
    "    # Wait until the queue is fully processed.\n",
    "    started_at = time.monotonic()\n",
    "    await queue.join()\n",
    "#     await asyncio.sleep(1)\n",
    "    total_slept_for = time.monotonic() - started_at\n",
    "\n",
    "    # Cancel our worker tasks.\n",
    "    for task in tasks:\n",
    "        task.cancel()\n",
    "\n",
    "    # Wait until all worker tasks are cancelled.\n",
    "    res = await asyncio.gather(*tasks, return_exceptions=True)\n",
    "#     res = await asyncio.gather(*tasks)\n",
    "    print(res)\n",
    "\n",
    "    print('====')\n",
    "    print(f'3 workers slept in parallel for {total_slept_for:.2f} seconds')\n",
    "    print(f'total expected sleep time: {total_sleep_time:.2f} seconds')\n",
    "\n",
    "async def afn():\n",
    "    while True:\n",
    "        await asyncio.sleep(1)\n",
    "        raise Exception('some error')\n",
    "        print(f'has slept for 1 seconds')\n",
    "\n",
    "async def gafn():\n",
    "    res = await asyncio.gather(afn(), return_exceptions=True)\n",
    "    print(res)\n",
    "    \n",
    "def fn():\n",
    "    while True:\n",
    "        raise Exception('some error')\n",
    "        print(f'has slept for 1 seconds')\n",
    "\n",
    "    \n",
    "asyncio.run(main())\n",
    "# asyncio.run(gafn())\n",
    "# fn()"
   ]
  },
  {
   "cell_type": "markdown",
   "metadata": {},
   "source": [
    "# feedparser, rss"
   ]
  },
  {
   "cell_type": "code",
   "execution_count": 16,
   "metadata": {},
   "outputs": [
    {
     "name": "stdout",
     "output_type": "stream",
     "text": [
      "200\n",
      "<CIMultiDictProxy('X-Content-Type-Options': 'nosniff', 'X-Yahoo-Request-Id': 'fuuk2p1f8g7n2', 'Cache-Control': 'max-age=300, stale-while-revalidate=75', 'Content-Encoding': 'gzip', 'Content-Type': 'text/xml;charset=utf-8', 'Vary': 'Origin', 'Content-Length': '5707', 'Date': 'Sat, 04 Apr 2020 05:45:06 GMT', 'Age': '0', 'Strict-Transport-Security': 'max-age=31536000', 'Server': 'ATS', 'Expect-CT': 'max-age=31536000, report-uri=\"http://csp.yahoo.com/beacon/csp?src=yahoocom-expect-ct-report-only\"', 'Public-Key-Pins-Report-Only': 'max-age=2592000; pin-sha256=\"2fRAUXyxl4A1/XHrKNBmc8bTkzA7y4FB/GLJuNAzCqY=\"; pin-sha256=\"I/Lt/z7ekCWanjD0Cvj5EqXls2lOaThEA0H2Bg4BT/o=\"; pin-sha256=\"K87oWBWM9UZfyddvDfoxL+8lpNyoUB2ptGtn0fv6G2Q=\"; pin-sha256=\"Wd8xe/qfTwq3ylFNd3IpaqLHZbh2ZNCLluVzmeNkcpw=\"; pin-sha256=\"WoiWRyIOVNa9ihaBciRSC7XHjliYS9VwUGOIud4PB18=\"; pin-sha256=\"cGuxAXyFXFkWm61cF4HPWX8S0srS9j0aSqN0k4AP+4A=\"; pin-sha256=\"dolnbtzEBnELx/9lOEQ22e6OZO/QNb6VSSX2XHA3E7A=\"; pin-sha256=\"i7WTqTvh0OioIruIfFR4kMPnBqrS2rdiVPl/s2uC/CY=\"; pin-sha256=\"r/mIkG3eEpVdm+u/ko/cwxzOMo1bk4TyHIlByibiA5E=\"; pin-sha256=\"uUwZgwDOxcBXrQcntwu+kYFpkiVkOaezL0WYEZ3anJc=\"; includeSubdomains; report-uri=\"http://csp.yahoo.com/beacon/csp?src=yahoocom-hpkp-report-only\"', 'X-Frame-Options': 'SAMEORIGIN', 'X-XSS-Protection': '1; mode=block', 'Referrer-Policy': 'no-referrer-when-downgrade', 'Connection': 'keep-alive')>\n"
     ]
    },
    {
     "data": {
      "text/plain": [
       "{'feed': {'rights': 'Copyright (c) 2020 Yahoo! Inc. All rights reserved.',\n",
       "  'rights_detail': {'type': 'text/plain',\n",
       "   'language': None,\n",
       "   'base': '',\n",
       "   'value': 'Copyright (c) 2020 Yahoo! Inc. All rights reserved.'},\n",
       "  'subtitle': 'Latest Financial News for dis',\n",
       "  'subtitle_detail': {'type': 'text/html',\n",
       "   'language': None,\n",
       "   'base': '',\n",
       "   'value': 'Latest Financial News for dis'},\n",
       "  'image': {'height': 45,\n",
       "   'links': [{'rel': 'alternate',\n",
       "     'type': 'text/html',\n",
       "     'href': 'http://finance.yahoo.com/q/h?s=dis'}],\n",
       "   'link': 'http://finance.yahoo.com/q/h?s=dis',\n",
       "   'title': 'Yahoo! Finance: dis News',\n",
       "   'title_detail': {'type': 'text/plain',\n",
       "    'language': None,\n",
       "    'base': '',\n",
       "    'value': 'Yahoo! Finance: dis News'},\n",
       "   'href': 'http://l.yimg.com/a/i/brand/purplelogo/uh/us/fin.gif',\n",
       "   'width': 144},\n",
       "  'language': 'en-US',\n",
       "  'updated': 'Sat, 04 Apr 2020 05:45:06 +0000',\n",
       "  'updated_parsed': time.struct_time(tm_year=2020, tm_mon=4, tm_mday=4, tm_hour=5, tm_min=45, tm_sec=6, tm_wday=5, tm_yday=95, tm_isdst=0),\n",
       "  'links': [{'rel': 'alternate',\n",
       "    'type': 'text/html',\n",
       "    'href': 'http://finance.yahoo.com/q/h?s=dis'}],\n",
       "  'link': 'http://finance.yahoo.com/q/h?s=dis',\n",
       "  'title': 'Yahoo! Finance: dis News',\n",
       "  'title_detail': {'type': 'text/plain',\n",
       "   'language': None,\n",
       "   'base': '',\n",
       "   'value': 'Yahoo! Finance: dis News'}},\n",
       " 'entries': [{'summary': 'The advertising world is in crisis, and the maturation of digital ads means there won’t be an industry bright spot like there was in 2008',\n",
       "   'summary_detail': {'type': 'text/html',\n",
       "    'language': None,\n",
       "    'base': '',\n",
       "    'value': 'The advertising world is in crisis, and the maturation of digital ads means there won’t be an industry bright spot like there was in 2008'},\n",
       "   'id': '14ddf1fe-ef86-3574-8631-690d528fabf0',\n",
       "   'guidislink': False,\n",
       "   'links': [{'rel': 'alternate',\n",
       "     'type': 'text/html',\n",
       "     'href': 'https://finance.yahoo.com/m/14ddf1fe-ef86-3574-8631-690d528fabf0/google-and-facebook-can%E2%80%99t.html?.tsrc=rss'}],\n",
       "   'link': 'https://finance.yahoo.com/m/14ddf1fe-ef86-3574-8631-690d528fabf0/google-and-facebook-can%E2%80%99t.html?.tsrc=rss',\n",
       "   'published': 'Fri, 03 Apr 2020 23:15:00 +0000',\n",
       "   'published_parsed': time.struct_time(tm_year=2020, tm_mon=4, tm_mday=3, tm_hour=23, tm_min=15, tm_sec=0, tm_wday=4, tm_yday=94, tm_isdst=0),\n",
       "   'title': 'Google and Facebook Can’t Save the Advertising Industry This Time',\n",
       "   'title_detail': {'type': 'text/plain',\n",
       "    'language': None,\n",
       "    'base': '',\n",
       "    'value': 'Google and Facebook Can’t Save the Advertising Industry This Time'}},\n",
       "  {'summary': 'Wall Street&#39;s main indexes fell more than 1.5% on Friday as the coronavirus abruptly ended a record U.S. job growth streak of 113 months, intensifying fears of a deep economic slowdown. The survey considered data only until mid-March, before widespread U.S. lockdowns put more people out of work. &quot;Even as investors may be bracing for some grim economic reports over the next several weeks, we got a very sober reminder of what is to come by way of today’s jobs report,&quot; said Mark Luschini, chief investment strategist at Janney Montgomery Scott in Philadelphia.',\n",
       "   'summary_detail': {'type': 'text/html',\n",
       "    'language': None,\n",
       "    'base': '',\n",
       "    'value': 'Wall Street&#39;s main indexes fell more than 1.5% on Friday as the coronavirus abruptly ended a record U.S. job growth streak of 113 months, intensifying fears of a deep economic slowdown. The survey considered data only until mid-March, before widespread U.S. lockdowns put more people out of work. &quot;Even as investors may be bracing for some grim economic reports over the next several weeks, we got a very sober reminder of what is to come by way of today’s jobs report,&quot; said Mark Luschini, chief investment strategist at Janney Montgomery Scott in Philadelphia.'},\n",
       "   'id': '74e19d64-967d-3bd1-bd6e-ab08938a780f',\n",
       "   'guidislink': False,\n",
       "   'links': [{'rel': 'alternate',\n",
       "     'type': 'text/html',\n",
       "     'href': 'https://finance.yahoo.com/news/us-stocks-wall-street-falls-204442382.html?.tsrc=rss'}],\n",
       "   'link': 'https://finance.yahoo.com/news/us-stocks-wall-street-falls-204442382.html?.tsrc=rss',\n",
       "   'published': 'Fri, 03 Apr 2020 20:44:42 +0000',\n",
       "   'published_parsed': time.struct_time(tm_year=2020, tm_mon=4, tm_mday=3, tm_hour=20, tm_min=44, tm_sec=42, tm_wday=4, tm_yday=94, tm_isdst=0),\n",
       "   'title': 'US STOCKS-Wall Street falls as coronavirus shreds U.S. payrolls',\n",
       "   'title_detail': {'type': 'text/plain',\n",
       "    'language': None,\n",
       "    'base': '',\n",
       "    'value': 'US STOCKS-Wall Street falls as coronavirus shreds U.S. payrolls'}},\n",
       "  {'summary': 'Disney is postponing the release dates for most of its upcoming films due to the disruption caused by the coronavirus pandemic, a media report says.',\n",
       "   'summary_detail': {'type': 'text/html',\n",
       "    'language': None,\n",
       "    'base': '',\n",
       "    'value': 'Disney is postponing the release dates for most of its upcoming films due to the disruption caused by the coronavirus pandemic, a media report says.'},\n",
       "   'id': '470eda62-0923-3c6d-b829-4c84329bcbb9',\n",
       "   'guidislink': False,\n",
       "   'links': [{'rel': 'alternate',\n",
       "     'type': 'text/html',\n",
       "     'href': 'https://finance.yahoo.com/m/470eda62-0923-3c6d-b829-4c84329bcbb9/disney-postpones-film.html?.tsrc=rss'}],\n",
       "   'link': 'https://finance.yahoo.com/m/470eda62-0923-3c6d-b829-4c84329bcbb9/disney-postpones-film.html?.tsrc=rss',\n",
       "   'published': 'Fri, 03 Apr 2020 20:22:00 +0000',\n",
       "   'published_parsed': time.struct_time(tm_year=2020, tm_mon=4, tm_mday=3, tm_hour=20, tm_min=22, tm_sec=0, tm_wday=4, tm_yday=94, tm_isdst=0),\n",
       "   'title': 'Disney Postpones Film Releases in Response to Coronavirus Outbreak',\n",
       "   'title_detail': {'type': 'text/plain',\n",
       "    'language': None,\n",
       "    'base': '',\n",
       "    'value': 'Disney Postpones Film Releases in Response to Coronavirus Outbreak'}},\n",
       "  {'summary': 'DOW UPDATE Dragged down by losses for shares of UnitedHealth and American Express, the Dow Jones Industrial Average is slumping Friday afternoon. The Dow (DJIA) was most recently trading 481 points lower (-2.',\n",
       "   'summary_detail': {'type': 'text/html',\n",
       "    'language': None,\n",
       "    'base': '',\n",
       "    'value': 'DOW UPDATE Dragged down by losses for shares of UnitedHealth and American Express, the Dow Jones Industrial Average is slumping Friday afternoon. The Dow (DJIA) was most recently trading 481 points lower (-2.'},\n",
       "   'id': 'aa05ada2-ef64-3d26-a231-37aa167e8f9c',\n",
       "   'guidislink': False,\n",
       "   'links': [{'rel': 'alternate',\n",
       "     'type': 'text/html',\n",
       "     'href': 'https://finance.yahoo.com/m/aa05ada2-ef64-3d26-a231-37aa167e8f9c/dow-down-481-points-on-losses.html?.tsrc=rss'}],\n",
       "   'link': 'https://finance.yahoo.com/m/aa05ada2-ef64-3d26-a231-37aa167e8f9c/dow-down-481-points-on-losses.html?.tsrc=rss',\n",
       "   'published': 'Fri, 03 Apr 2020 19:47:00 +0000',\n",
       "   'published_parsed': time.struct_time(tm_year=2020, tm_mon=4, tm_mday=3, tm_hour=19, tm_min=47, tm_sec=0, tm_wday=4, tm_yday=94, tm_isdst=0),\n",
       "   'title': 'Dow down 481 points on losses in UnitedHealth, American Express shares',\n",
       "   'title_detail': {'type': 'text/plain',\n",
       "    'language': None,\n",
       "    'base': '',\n",
       "    'value': 'Dow down 481 points on losses in UnitedHealth, American Express shares'}},\n",
       "  {'summary': 'HBO and AMC Networks are making hundreds of hours of programming available for free online to help people want to stay at home.',\n",
       "   'summary_detail': {'type': 'text/html',\n",
       "    'language': None,\n",
       "    'base': '',\n",
       "    'value': 'HBO and AMC Networks are making hundreds of hours of programming available for free online to help people want to stay at home.'},\n",
       "   'id': '939c0760-2449-38db-bf29-ef9750af0d07',\n",
       "   'guidislink': False,\n",
       "   'links': [{'rel': 'alternate',\n",
       "     'type': 'text/html',\n",
       "     'href': 'https://finance.yahoo.com/m/939c0760-2449-38db-bf29-ef9750af0d07/hbo-is-streaming-%E2%80%98the.html?.tsrc=rss'}],\n",
       "   'link': 'https://finance.yahoo.com/m/939c0760-2449-38db-bf29-ef9750af0d07/hbo-is-streaming-%E2%80%98the.html?.tsrc=rss',\n",
       "   'published': 'Fri, 03 Apr 2020 19:41:00 +0000',\n",
       "   'published_parsed': time.struct_time(tm_year=2020, tm_mon=4, tm_mday=3, tm_hour=19, tm_min=41, tm_sec=0, tm_wday=4, tm_yday=94, tm_isdst=0),\n",
       "   'title': 'HBO is streaming ‘The Sopranos’ and ‘The Wire’ for free during the coronavirus outbreak',\n",
       "   'title_detail': {'type': 'text/plain',\n",
       "    'language': None,\n",
       "    'base': '',\n",
       "    'value': 'HBO is streaming ‘The Sopranos’ and ‘The Wire’ for free during the coronavirus outbreak'}},\n",
       "  {'summary': 'Port Canaveral, the primary sea hub for Central Florida, will furlough 20% of its workforce due to the economic impact of the coronavirus pandemic.  The port, which has roughly 250 employees, said 50 workers from its cruise operations and recreation business segments will be affected.  “While Port Canaveral is open and operating, the current pandemic situation has had significant impact on our businesses,” said the port in a prepared statement.',\n",
       "   'summary_detail': {'type': 'text/html',\n",
       "    'language': None,\n",
       "    'base': '',\n",
       "    'value': 'Port Canaveral, the primary sea hub for Central Florida, will furlough 20% of its workforce due to the economic impact of the coronavirus pandemic.  The port, which has roughly 250 employees, said 50 workers from its cruise operations and recreation business segments will be affected.  “While Port Canaveral is open and operating, the current pandemic situation has had significant impact on our businesses,” said the port in a prepared statement.'},\n",
       "   'id': '15e345c4-7fce-3367-b11f-9f40303254ce',\n",
       "   'guidislink': False,\n",
       "   'links': [{'rel': 'alternate',\n",
       "     'type': 'text/html',\n",
       "     'href': 'https://finance.yahoo.com/m/15e345c4-7fce-3367-b11f-9f40303254ce/port-canaveral-to-furlough.html?.tsrc=rss'}],\n",
       "   'link': 'https://finance.yahoo.com/m/15e345c4-7fce-3367-b11f-9f40303254ce/port-canaveral-to-furlough.html?.tsrc=rss',\n",
       "   'published': 'Fri, 03 Apr 2020 18:42:04 +0000',\n",
       "   'published_parsed': time.struct_time(tm_year=2020, tm_mon=4, tm_mday=3, tm_hour=18, tm_min=42, tm_sec=4, tm_wday=4, tm_yday=94, tm_isdst=0),\n",
       "   'title': 'Port Canaveral to furlough 20% of its workforce',\n",
       "   'title_detail': {'type': 'text/plain',\n",
       "    'language': None,\n",
       "    'base': '',\n",
       "    'value': 'Port Canaveral to furlough 20% of its workforce'}},\n",
       "  {'summary': 'Walt Disney Co will release the action epic \"Mulan\" in movie theaters in July and Marvel\\'s \"Black Widow\" in November, the company said on Friday as it reshuffled a schedule disrupted by the global coronavirus outbreak.  Among other changes, Disney postponed the release of a new \"Indiana Jones\" movie by one year to July 2022, the company said in a statement.',\n",
       "   'summary_detail': {'type': 'text/html',\n",
       "    'language': None,\n",
       "    'base': '',\n",
       "    'value': 'Walt Disney Co will release the action epic \"Mulan\" in movie theaters in July and Marvel\\'s \"Black Widow\" in November, the company said on Friday as it reshuffled a schedule disrupted by the global coronavirus outbreak.  Among other changes, Disney postponed the release of a new \"Indiana Jones\" movie by one year to July 2022, the company said in a statement.'},\n",
       "   'id': 'ab1f027e-3f81-3e91-9192-62e9cfb676ee',\n",
       "   'guidislink': False,\n",
       "   'links': [{'rel': 'alternate',\n",
       "     'type': 'text/html',\n",
       "     'href': 'https://finance.yahoo.com/news/disney-release-mulan-july-part-183000239.html?.tsrc=rss'}],\n",
       "   'link': 'https://finance.yahoo.com/news/disney-release-mulan-july-part-183000239.html?.tsrc=rss',\n",
       "   'published': 'Fri, 03 Apr 2020 18:30:00 +0000',\n",
       "   'published_parsed': time.struct_time(tm_year=2020, tm_mon=4, tm_mday=3, tm_hour=18, tm_min=30, tm_sec=0, tm_wday=4, tm_yday=94, tm_isdst=0),\n",
       "   'title': 'Disney to release &#39;Mulan&#39; in July as part of virus-related movie shuffle',\n",
       "   'title_detail': {'type': 'text/html',\n",
       "    'language': None,\n",
       "    'base': '',\n",
       "    'value': 'Disney to release &#39;Mulan&#39; in July as part of virus-related movie shuffle'}},\n",
       "  {'summary': 'Quibi, the mobile streaming service that has raised a staggering $1.75 billion, debuts Monday in the most unpredictable of circumstances. Most of the country sits at home, thirsting for any form of entertainment. But will they consume content designed for on-the-go viewing while commuting to work or waiting in line for coffee?',\n",
       "   'summary_detail': {'type': 'text/html',\n",
       "    'language': None,\n",
       "    'base': '',\n",
       "    'value': 'Quibi, the mobile streaming service that has raised a staggering $1.75 billion, debuts Monday in the most unpredictable of circumstances. Most of the country sits at home, thirsting for any form of entertainment. But will they consume content designed for on-the-go viewing while commuting to work or waiting in line for coffee?'},\n",
       "   'id': 'cd9b6080-4f56-3a47-9fa1-09c3ca2f5000',\n",
       "   'guidislink': False,\n",
       "   'links': [{'rel': 'alternate',\n",
       "     'type': 'text/html',\n",
       "     'href': 'https://finance.yahoo.com/m/cd9b6080-4f56-3a47-9fa1-09c3ca2f5000/%E2%80%98honestly%2C-we-don%E2%80%99t-know-what.html?.tsrc=rss'}],\n",
       "   'link': 'https://finance.yahoo.com/m/cd9b6080-4f56-3a47-9fa1-09c3ca2f5000/%E2%80%98honestly%2C-we-don%E2%80%99t-know-what.html?.tsrc=rss',\n",
       "   'published': 'Fri, 03 Apr 2020 16:39:00 +0000',\n",
       "   'published_parsed': time.struct_time(tm_year=2020, tm_mon=4, tm_mday=3, tm_hour=16, tm_min=39, tm_sec=0, tm_wday=4, tm_yday=94, tm_isdst=0),\n",
       "   'title': '‘Honestly, we don’t know what to expect’: Meg Whitman’s big-money streaming startup Quibi to launch in a new world',\n",
       "   'title_detail': {'type': 'text/plain',\n",
       "    'language': None,\n",
       "    'base': '',\n",
       "    'value': '‘Honestly, we don’t know what to expect’: Meg Whitman’s big-money streaming startup Quibi to launch in a new world'}},\n",
       "  {'summary': 'Buy Disney on weakness to its weekly value level at $91.41 and reduce holdings on strength to its monthly risky level at $110.96.',\n",
       "   'summary_detail': {'type': 'text/html',\n",
       "    'language': None,\n",
       "    'base': '',\n",
       "    'value': 'Buy Disney on weakness to its weekly value level at $91.41 and reduce holdings on strength to its monthly risky level at $110.96.'},\n",
       "   'id': 'b42827d1-88b5-322c-a90e-3f711ad989ff',\n",
       "   'guidislink': False,\n",
       "   'links': [{'rel': 'alternate',\n",
       "     'type': 'text/html',\n",
       "     'href': 'https://finance.yahoo.com/m/b42827d1-88b5-322c-a90e-3f711ad989ff/how-to-trade-disney-as-it.html?.tsrc=rss'}],\n",
       "   'link': 'https://finance.yahoo.com/m/b42827d1-88b5-322c-a90e-3f711ad989ff/how-to-trade-disney-as-it.html?.tsrc=rss',\n",
       "   'published': 'Fri, 03 Apr 2020 15:59:00 +0000',\n",
       "   'published_parsed': time.struct_time(tm_year=2020, tm_mon=4, tm_mday=3, tm_hour=15, tm_min=59, tm_sec=0, tm_wday=4, tm_yday=94, tm_isdst=0),\n",
       "   'title': 'How to Trade Disney as It Furloughs Employees',\n",
       "   'title_detail': {'type': 'text/plain',\n",
       "    'language': None,\n",
       "    'base': '',\n",
       "    'value': 'How to Trade Disney as It Furloughs Employees'}},\n",
       "  {'summary': 'DOW UPDATE Dragged down by declines for shares of UnitedHealth and American Express, the Dow Jones Industrial Average is in selloff mode Friday morning. The Dow (DJIA) was most recently trading 396 points (1.',\n",
       "   'summary_detail': {'type': 'text/html',\n",
       "    'language': None,\n",
       "    'base': '',\n",
       "    'value': 'DOW UPDATE Dragged down by declines for shares of UnitedHealth and American Express, the Dow Jones Industrial Average is in selloff mode Friday morning. The Dow (DJIA) was most recently trading 396 points (1.'},\n",
       "   'id': '5a7b6b81-5e31-3a21-b6a0-cf5904b4e9e2',\n",
       "   'guidislink': False,\n",
       "   'links': [{'rel': 'alternate',\n",
       "     'type': 'text/html',\n",
       "     'href': 'https://finance.yahoo.com/m/5a7b6b81-5e31-3a21-b6a0-cf5904b4e9e2/unitedhealth%2C-american.html?.tsrc=rss'}],\n",
       "   'link': 'https://finance.yahoo.com/m/5a7b6b81-5e31-3a21-b6a0-cf5904b4e9e2/unitedhealth%2C-american.html?.tsrc=rss',\n",
       "   'published': 'Fri, 03 Apr 2020 15:54:00 +0000',\n",
       "   'published_parsed': time.struct_time(tm_year=2020, tm_mon=4, tm_mday=3, tm_hour=15, tm_min=54, tm_sec=0, tm_wday=4, tm_yday=94, tm_isdst=0),\n",
       "   'title': 'UnitedHealth, American Express share losses contribute to Dow&#39;s nearly 400-point fall',\n",
       "   'title_detail': {'type': 'text/html',\n",
       "    'language': None,\n",
       "    'base': '',\n",
       "    'value': 'UnitedHealth, American Express share losses contribute to Dow&#39;s nearly 400-point fall'}},\n",
       "  {'summary': 'Walt Disney Co&#39;s (NYSE: DIS) non-union theme park workers will be furloughed and there is no indication as to when the parks will reopen.Disney Staff Paid Through April 18 Disney Parks, Experiences and Products employ nearly 177,000 workers. It is not yet clear how many of the theme park cast members will be affected by the decision announced Thursday, CNBC reported. The theme park operator announced it would stop collecting payments for its annual park passes.&quot;Disney employees have received full pay and benefits during this time, and we&#39;ve committed to paying them through April 18, for a total of five additional weeks of compensation,&quot; Disney said in a statement. There&#39;s no indication of when the businesses can restart, according to the company.  &quot;We&#39;re forced to make the difficult decision to take the next step and furlough employees whose jobs aren&#39;t necessary at this time.&quot;  Furloughed Disney Employees To Receive Health Care Benefits Employees who are crucial to operations will continue in their roles, while those on furlough will receive full health care benefits. The employees can also continue to pursue their participation in the Disney Aspire education program.Federal compensation to the tune of $600 per week would be available to the employees under the CARES Act, which is injecting $2 trillion in stimulus in the U.S. economy. Disney Parks, Experiences and Products segment comprised 37% of the company&#39;s $69.6 billion in revenue last year, CNBC said. Leisure Industry Under Pressure Other theme parks and leisure industry businesses are also taking measures to cut staff as the COVID-19 epidemic hits hard. Seaworld Entertainment Inc. (NYSE: SEAS) announced Monday that it had furloughed 90% of its staff for an uncertain period of time.Mariott International Inc. (NASDAQ: MAR) has furloughed two-thirds of its 4,000 corporate employees, calling the present crisis worse than 9/11.DIS Price Action Disney shares were down 3.24% at $93.94 at the time of publication Friday. See more from Benzinga  * &#39;Fast & Furious 9&#39; Release Delayed By A Year Due To Coronavirus, Comcast Other Businesses Also Hit  * Here&#39;s The List Of Top Overpaid Executives In 2019  * Sling TV Starts Losing Subscribers As Streaming Wars Intensify(C) 2020 Benzinga.com. Benzinga does not provide investment advice. All rights reserved.',\n",
       "   'summary_detail': {'type': 'text/html',\n",
       "    'language': None,\n",
       "    'base': '',\n",
       "    'value': 'Walt Disney Co&#39;s (NYSE: DIS) non-union theme park workers will be furloughed and there is no indication as to when the parks will reopen.Disney Staff Paid Through April 18 Disney Parks, Experiences and Products employ nearly 177,000 workers. It is not yet clear how many of the theme park cast members will be affected by the decision announced Thursday, CNBC reported. The theme park operator announced it would stop collecting payments for its annual park passes.&quot;Disney employees have received full pay and benefits during this time, and we&#39;ve committed to paying them through April 18, for a total of five additional weeks of compensation,&quot; Disney said in a statement. There&#39;s no indication of when the businesses can restart, according to the company.  &quot;We&#39;re forced to make the difficult decision to take the next step and furlough employees whose jobs aren&#39;t necessary at this time.&quot;  Furloughed Disney Employees To Receive Health Care Benefits Employees who are crucial to operations will continue in their roles, while those on furlough will receive full health care benefits. The employees can also continue to pursue their participation in the Disney Aspire education program.Federal compensation to the tune of $600 per week would be available to the employees under the CARES Act, which is injecting $2 trillion in stimulus in the U.S. economy. Disney Parks, Experiences and Products segment comprised 37% of the company&#39;s $69.6 billion in revenue last year, CNBC said. Leisure Industry Under Pressure Other theme parks and leisure industry businesses are also taking measures to cut staff as the COVID-19 epidemic hits hard. Seaworld Entertainment Inc. (NYSE: SEAS) announced Monday that it had furloughed 90% of its staff for an uncertain period of time.Mariott International Inc. (NASDAQ: MAR) has furloughed two-thirds of its 4,000 corporate employees, calling the present crisis worse than 9/11.DIS Price Action Disney shares were down 3.24% at $93.94 at the time of publication Friday. See more from Benzinga  * &#39;Fast & Furious 9&#39; Release Delayed By A Year Due To Coronavirus, Comcast Other Businesses Also Hit  * Here&#39;s The List Of Top Overpaid Executives In 2019  * Sling TV Starts Losing Subscribers As Streaming Wars Intensify(C) 2020 Benzinga.com. Benzinga does not provide investment advice. All rights reserved.'},\n",
       "   'id': 'f1398646-6157-3bfd-aa2e-a7e04a74cac7',\n",
       "   'guidislink': False,\n",
       "   'links': [{'rel': 'alternate',\n",
       "     'type': 'text/html',\n",
       "     'href': 'https://finance.yahoo.com/news/disney-lays-off-non-union-145625082.html?.tsrc=rss'}],\n",
       "   'link': 'https://finance.yahoo.com/news/disney-lays-off-non-union-145625082.html?.tsrc=rss',\n",
       "   'published': 'Fri, 03 Apr 2020 14:56:25 +0000',\n",
       "   'published_parsed': time.struct_time(tm_year=2020, tm_mon=4, tm_mday=3, tm_hour=14, tm_min=56, tm_sec=25, tm_wday=4, tm_yday=94, tm_isdst=0),\n",
       "   'title': 'Disney Lays Off Non-Union Theme Park Workers, Maintains Health Care Benefits',\n",
       "   'title_detail': {'type': 'text/plain',\n",
       "    'language': None,\n",
       "    'base': '',\n",
       "    'value': 'Disney Lays Off Non-Union Theme Park Workers, Maintains Health Care Benefits'}},\n",
       "  {'summary': 'DOW UPDATE Behind losses for shares of UnitedHealth and Walt Disney, the Dow Jones Industrial Average is seeing a selloff Friday morning. The Dow (DJIA) was most recently trading 229 points lower (-1.',\n",
       "   'summary_detail': {'type': 'text/html',\n",
       "    'language': None,\n",
       "    'base': '',\n",
       "    'value': 'DOW UPDATE Behind losses for shares of UnitedHealth and Walt Disney, the Dow Jones Industrial Average is seeing a selloff Friday morning. The Dow (DJIA) was most recently trading 229 points lower (-1.'},\n",
       "   'id': 'ff689dbe-8598-31d4-b9a9-6dc630399c01',\n",
       "   'guidislink': False,\n",
       "   'links': [{'rel': 'alternate',\n",
       "     'type': 'text/html',\n",
       "     'href': 'https://finance.yahoo.com/m/ff689dbe-8598-31d4-b9a9-6dc630399c01/dow%26%2339%3Bs-229-point-drop-led.html?.tsrc=rss'}],\n",
       "   'link': 'https://finance.yahoo.com/m/ff689dbe-8598-31d4-b9a9-6dc630399c01/dow%26%2339%3Bs-229-point-drop-led.html?.tsrc=rss',\n",
       "   'published': 'Fri, 03 Apr 2020 14:52:00 +0000',\n",
       "   'published_parsed': time.struct_time(tm_year=2020, tm_mon=4, tm_mday=3, tm_hour=14, tm_min=52, tm_sec=0, tm_wday=4, tm_yday=94, tm_isdst=0),\n",
       "   'title': 'Dow&#39;s 229-point drop led by losses for shares of UnitedHealth, Walt Disney',\n",
       "   'title_detail': {'type': 'text/html',\n",
       "    'language': None,\n",
       "    'base': '',\n",
       "    'value': 'Dow&#39;s 229-point drop led by losses for shares of UnitedHealth, Walt Disney'}},\n",
       "  {'summary': 'DOW UPDATE Shares of UnitedHealth and American Express are trading lower Friday morning, sending the Dow Jones Industrial Average into negative territory. Shares of UnitedHealth (UNH) and American Express (AXP) are contributing to the blue-chip gauge&apos;s intraday decline, as the Dow (DJIA) was most recently trading 71 points (0.',\n",
       "   'summary_detail': {'type': 'text/html',\n",
       "    'language': None,\n",
       "    'base': '',\n",
       "    'value': 'DOW UPDATE Shares of UnitedHealth and American Express are trading lower Friday morning, sending the Dow Jones Industrial Average into negative territory. Shares of UnitedHealth (UNH) and American Express (AXP) are contributing to the blue-chip gauge&apos;s intraday decline, as the Dow (DJIA) was most recently trading 71 points (0.'},\n",
       "   'id': '59aca87d-abbd-3704-9420-bd4624efc988',\n",
       "   'guidislink': False,\n",
       "   'links': [{'rel': 'alternate',\n",
       "     'type': 'text/html',\n",
       "     'href': 'https://finance.yahoo.com/m/59aca87d-abbd-3704-9420-bd4624efc988/unitedhealth%2C-american.html?.tsrc=rss'}],\n",
       "   'link': 'https://finance.yahoo.com/m/59aca87d-abbd-3704-9420-bd4624efc988/unitedhealth%2C-american.html?.tsrc=rss',\n",
       "   'published': 'Fri, 03 Apr 2020 13:51:00 +0000',\n",
       "   'published_parsed': time.struct_time(tm_year=2020, tm_mon=4, tm_mday=3, tm_hour=13, tm_min=51, tm_sec=0, tm_wday=4, tm_yday=94, tm_isdst=0),\n",
       "   'title': 'UnitedHealth, American Express share losses lead Dow&#39;s nearly 75-point drop',\n",
       "   'title_detail': {'type': 'text/html',\n",
       "    'language': None,\n",
       "    'base': '',\n",
       "    'value': 'UnitedHealth, American Express share losses lead Dow&#39;s nearly 75-point drop'}},\n",
       "  {'summary': '',\n",
       "   'summary_detail': {'type': 'text/html',\n",
       "    'language': None,\n",
       "    'base': '',\n",
       "    'value': ''},\n",
       "   'id': 'af40dbec-a4aa-3f9a-933d-9a4a87cc9875',\n",
       "   'guidislink': False,\n",
       "   'links': [{'rel': 'alternate',\n",
       "     'type': 'text/html',\n",
       "     'href': 'https://finance.yahoo.com/news/us-stocks-wall-street-set-131726869.html?.tsrc=rss'}],\n",
       "   'link': 'https://finance.yahoo.com/news/us-stocks-wall-street-set-131726869.html?.tsrc=rss',\n",
       "   'published': 'Fri, 03 Apr 2020 13:17:26 +0000',\n",
       "   'published_parsed': time.struct_time(tm_year=2020, tm_mon=4, tm_mday=3, tm_hour=13, tm_min=17, tm_sec=26, tm_wday=4, tm_yday=94, tm_isdst=0),\n",
       "   'title': 'US STOCKS-Wall Street set to open lower as record jobs growth halts',\n",
       "   'title_detail': {'type': 'text/plain',\n",
       "    'language': None,\n",
       "    'base': '',\n",
       "    'value': 'US STOCKS-Wall Street set to open lower as record jobs growth halts'}},\n",
       "  {'summary': 'On CNBC&#39;s &quot;Trading Nation,&quot; Michael Bapis of Vios Advisors at Rockefeller Capital Management spoke about Walt Disney Co (NYSE: DIS).He said it&#39;s now a diversified business. If it was just a theme park company, he would be worried because it will take a year or two for this segment to recover. The other segments of the company are doing well and Bapis feels the selling is overdone and it&#39;s just a product of the environment.See Also: P/E Ratio Insights for Walt DisneyBapis would be a buyer of the stock and he expects that it would trade higher in 12 to 24 months. He also thinks its dividend is decent. Bapis added he wouldn&#39;t jump in head first, but he sees value in the name and he finds it closer to being overweight than underweight.Matt Maley of Miller Tabak agrees the selling is getting overdone, but he thinks the stock might retest $90. If it drops to this price level, he would be a buyer.Maley also sees the stock trading higher in 12 to 24 months.Latest Ratings for DIS  DateFirmActionFromTo  Apr 2020Atlantic EquitiesUpgradesNeutralOverweight  Apr 2020Guggenheim SecuritiesDowngradesBuyNeutral  Apr 2020Imperial CapitalMaintainsIn-Line    View More Analyst Ratings for DIS   View the Latest Analyst Ratings See more from Benzinga  * Guy Adami Sees Gold Moving Higher  * RNC Genter Capital CEO Likes Tech, Health Care, Financials In Volatile Market  * Cramer Shares His Thoughts On Procter & Gamble, Virgin Galactic And More(C) 2020 Benzinga.com. Benzinga does not provide investment advice. All rights reserved.',\n",
       "   'summary_detail': {'type': 'text/html',\n",
       "    'language': None,\n",
       "    'base': '',\n",
       "    'value': 'On CNBC&#39;s &quot;Trading Nation,&quot; Michael Bapis of Vios Advisors at Rockefeller Capital Management spoke about Walt Disney Co (NYSE: DIS).He said it&#39;s now a diversified business. If it was just a theme park company, he would be worried because it will take a year or two for this segment to recover. The other segments of the company are doing well and Bapis feels the selling is overdone and it&#39;s just a product of the environment.See Also: P/E Ratio Insights for Walt DisneyBapis would be a buyer of the stock and he expects that it would trade higher in 12 to 24 months. He also thinks its dividend is decent. Bapis added he wouldn&#39;t jump in head first, but he sees value in the name and he finds it closer to being overweight than underweight.Matt Maley of Miller Tabak agrees the selling is getting overdone, but he thinks the stock might retest $90. If it drops to this price level, he would be a buyer.Maley also sees the stock trading higher in 12 to 24 months.Latest Ratings for DIS  DateFirmActionFromTo  Apr 2020Atlantic EquitiesUpgradesNeutralOverweight  Apr 2020Guggenheim SecuritiesDowngradesBuyNeutral  Apr 2020Imperial CapitalMaintainsIn-Line    View More Analyst Ratings for DIS   View the Latest Analyst Ratings See more from Benzinga  * Guy Adami Sees Gold Moving Higher  * RNC Genter Capital CEO Likes Tech, Health Care, Financials In Volatile Market  * Cramer Shares His Thoughts On Procter & Gamble, Virgin Galactic And More(C) 2020 Benzinga.com. Benzinga does not provide investment advice. All rights reserved.'},\n",
       "   'id': 'db1c618e-3954-3162-8a33-3e13ab123247',\n",
       "   'guidislink': False,\n",
       "   'links': [{'rel': 'alternate',\n",
       "     'type': 'text/html',\n",
       "     'href': 'https://finance.yahoo.com/news/analysts-share-view-disney-115136027.html?.tsrc=rss'}],\n",
       "   'link': 'https://finance.yahoo.com/news/analysts-share-view-disney-115136027.html?.tsrc=rss',\n",
       "   'published': 'Fri, 03 Apr 2020 11:51:36 +0000',\n",
       "   'published_parsed': time.struct_time(tm_year=2020, tm_mon=4, tm_mday=3, tm_hour=11, tm_min=51, tm_sec=36, tm_wday=4, tm_yday=94, tm_isdst=0),\n",
       "   'title': 'Analysts Share Their View On Disney',\n",
       "   'title_detail': {'type': 'text/plain',\n",
       "    'language': None,\n",
       "    'base': '',\n",
       "    'value': 'Analysts Share Their View On Disney'}},\n",
       "  {'summary': 'With global infections topping 1 million and more U.S. states implementing stay-at-home orders, economists have slashed their forecasts for U.S. real GDP. Morgan Stanley now expects U.S. real GDP to plunge 38% in the second quarter. At 07:04 a.m. EDT, Dow e-minis were down 203 points, or 0.95%, S&P 500 e-minis were down 21.25 points, or 0.84% and Nasdaq 100 e-minis were down 64.25 points, or 0.84%.',\n",
       "   'summary_detail': {'type': 'text/html',\n",
       "    'language': None,\n",
       "    'base': '',\n",
       "    'value': 'With global infections topping 1 million and more U.S. states implementing stay-at-home orders, economists have slashed their forecasts for U.S. real GDP. Morgan Stanley now expects U.S. real GDP to plunge 38% in the second quarter. At 07:04 a.m. EDT, Dow e-minis were down 203 points, or 0.95%, S&P 500 e-minis were down 21.25 points, or 0.84% and Nasdaq 100 e-minis were down 64.25 points, or 0.84%.'},\n",
       "   'id': '9a6e11ec-bc45-358c-bbd2-8d0e9615c62d',\n",
       "   'guidislink': False,\n",
       "   'links': [{'rel': 'alternate',\n",
       "     'type': 'text/html',\n",
       "     'href': 'https://finance.yahoo.com/news/us-stocks-futures-dip-ahead-114939782.html?.tsrc=rss'}],\n",
       "   'link': 'https://finance.yahoo.com/news/us-stocks-futures-dip-ahead-114939782.html?.tsrc=rss',\n",
       "   'published': 'Fri, 03 Apr 2020 11:51:07 +0000',\n",
       "   'published_parsed': time.struct_time(tm_year=2020, tm_mon=4, tm_mday=3, tm_hour=11, tm_min=51, tm_sec=7, tm_wday=4, tm_yday=94, tm_isdst=0),\n",
       "   'title': 'US STOCKS-Futures dip ahead of payrolls, business activity data',\n",
       "   'title_detail': {'type': 'text/plain',\n",
       "    'language': None,\n",
       "    'base': '',\n",
       "    'value': 'US STOCKS-Futures dip ahead of payrolls, business activity data'}},\n",
       "  {'summary': 'Additionally, gold futures dropped 0.5% to $1,630.05/oz, while EUR/USD traded at $1.0808, down 0.5%.',\n",
       "   'summary_detail': {'type': 'text/html',\n",
       "    'language': None,\n",
       "    'base': '',\n",
       "    'value': 'Additionally, gold futures dropped 0.5% to $1,630.05/oz, while EUR/USD traded at $1.0808, down 0.5%.'},\n",
       "   'id': '5efe14d6-ae8a-3421-8bf6-1bc77dc7b9e6',\n",
       "   'guidislink': False,\n",
       "   'links': [{'rel': 'alternate',\n",
       "     'type': 'text/html',\n",
       "     'href': 'https://finance.yahoo.com/news/stocks-us-futures-lower-economic-065524872.html?.tsrc=rss'}],\n",
       "   'link': 'https://finance.yahoo.com/news/stocks-us-futures-lower-economic-065524872.html?.tsrc=rss',\n",
       "   'published': 'Fri, 03 Apr 2020 11:29:07 +0000',\n",
       "   'published_parsed': time.struct_time(tm_year=2020, tm_mon=4, tm_mday=3, tm_hour=11, tm_min=29, tm_sec=7, tm_wday=4, tm_yday=94, tm_isdst=0),\n",
       "   'title': 'Stocks - US Futures Lower; Economic Damage Mounts',\n",
       "   'title_detail': {'type': 'text/plain',\n",
       "    'language': None,\n",
       "    'base': '',\n",
       "    'value': 'Stocks - US Futures Lower; Economic Damage Mounts'}},\n",
       "  {'summary': 'Investing.com - Walt Disney (NYSE:DIS) Stock fell by 3.06% to trade at $94.02 by 10:19 (14:19 GMT) on Friday on the NYSE exchange.',\n",
       "   'summary_detail': {'type': 'text/html',\n",
       "    'language': None,\n",
       "    'base': '',\n",
       "    'value': 'Investing.com - Walt Disney (NYSE:DIS) Stock fell by 3.06% to trade at $94.02 by 10:19 (14:19 GMT) on Friday on the NYSE exchange.'},\n",
       "   'id': 'f851bec7-b14b-3d02-a6ea-24adb9ef55db',\n",
       "   'guidislink': False,\n",
       "   'links': [{'rel': 'alternate',\n",
       "     'type': 'text/html',\n",
       "     'href': 'https://finance.yahoo.com/news/walt-disney-stock-falls-3-102100957.html?.tsrc=rss'}],\n",
       "   'link': 'https://finance.yahoo.com/news/walt-disney-stock-falls-3-102100957.html?.tsrc=rss',\n",
       "   'published': 'Fri, 03 Apr 2020 10:21:00 +0000',\n",
       "   'published_parsed': time.struct_time(tm_year=2020, tm_mon=4, tm_mday=3, tm_hour=10, tm_min=21, tm_sec=0, tm_wday=4, tm_yday=94, tm_isdst=0),\n",
       "   'title': 'Walt Disney Stock Falls 3%',\n",
       "   'title_detail': {'type': 'text/plain',\n",
       "    'language': None,\n",
       "    'base': '',\n",
       "    'value': 'Walt Disney Stock Falls 3%'}}],\n",
       " 'bozo': 0,\n",
       " 'encoding': 'utf-8',\n",
       " 'version': 'rss20',\n",
       " 'namespaces': {}}"
      ]
     },
     "execution_count": 16,
     "metadata": {},
     "output_type": "execute_result"
    }
   ],
   "source": [
    "import aiohttp\n",
    "import feedparser\n",
    "\n",
    "headers = {\n",
    "#     \"If-None-Match\": \"246ce00049b1df9930d4dc344180574f\"\n",
    "}\n",
    "\n",
    "async def get():\n",
    "    async with aiohttp.ClientSession() as session:\n",
    "#         async with session.get('http://finance.yahoo.com/rss/industry?s=yhoo', headers=headers) as resp:\n",
    "        async with session.get('http://finance.yahoo.com/rss/headline?s=dis', headers=headers) as resp:\n",
    "            print(resp.status)\n",
    "            print(resp.headers)\n",
    "            t = await resp.text()\n",
    "            return feedparser.parse(t)\n",
    "\n",
    "await get()"
   ]
  },
  {
   "cell_type": "code",
   "execution_count": 44,
   "metadata": {},
   "outputs": [],
   "source": [
    "import feedparser\n",
    "f = feedparser.parse('http://finance.yahoo.com/rss/headline?s=dis')"
   ]
  },
  {
   "cell_type": "code",
   "execution_count": 48,
   "metadata": {},
   "outputs": [
    {
     "data": {
      "text/plain": [
       "{'summary': 'Custodial accounts of Congressman Amash’s three children purchased shares of the media and entertainment giant in March.',\n",
       " 'summary_detail': {'type': 'text/html',\n",
       "  'language': None,\n",
       "  'base': 'https://feeds.finance.yahoo.com/rss/2.0/headline?s=dis&region=US&lang=en-US',\n",
       "  'value': 'Custodial accounts of Congressman Amash’s three children purchased shares of the media and entertainment giant in March.'},\n",
       " 'id': '22776a1f-bf20-39a3-89db-8dc604d3498d',\n",
       " 'guidislink': False,\n",
       " 'links': [{'rel': 'alternate',\n",
       "   'type': 'text/html',\n",
       "   'href': 'https://finance.yahoo.com/m/22776a1f-bf20-39a3-89db-8dc604d3498d/congressman-justin-amash.html?.tsrc=rss'}],\n",
       " 'link': 'https://finance.yahoo.com/m/22776a1f-bf20-39a3-89db-8dc604d3498d/congressman-justin-amash.html?.tsrc=rss',\n",
       " 'published': 'Thu, 30 Apr 2020 21:38:00 +0000',\n",
       " 'published_parsed': time.struct_time(tm_year=2020, tm_mon=4, tm_mday=30, tm_hour=21, tm_min=38, tm_sec=0, tm_wday=3, tm_yday=121, tm_isdst=0),\n",
       " 'title': 'Congressman Justin Amash Discloses Purchases of Disney Stock',\n",
       " 'title_detail': {'type': 'text/plain',\n",
       "  'language': None,\n",
       "  'base': 'https://feeds.finance.yahoo.com/rss/2.0/headline?s=dis&region=US&lang=en-US',\n",
       "  'value': 'Congressman Justin Amash Discloses Purchases of Disney Stock'}}"
      ]
     },
     "execution_count": 48,
     "metadata": {},
     "output_type": "execute_result"
    }
   ],
   "source": [
    "# import json\n",
    "# import pprint\n",
    "\n",
    "# # pprint.pprint(f['entries'][0])\n",
    "# # j = json.dumps(f['entries'][0])\n",
    "# entries = json.loads(a)\n",
    "# len(entries)\n",
    "# entries[0]\n",
    "\n",
    "# f['entries'][0]\n",
    "# f\n",
    "f[\"entries\"][0]"
   ]
  },
  {
   "cell_type": "code",
   "execution_count": 30,
   "metadata": {},
   "outputs": [
    {
     "name": "stdout",
     "output_type": "stream",
     "text": [
      "1588509731.906466\n",
      "['https://news.cnyes.com/api/v3/news/category/headline?startAt=1262304000&endAt=1264896000&limit=100', 'https://news.cnyes.com/api/v3/news/category/headline?startAt=1264896000&endAt=1267488000&limit=100', 'https://news.cnyes.com/api/v3/news/category/headline?startAt=1267488000&endAt=1270080000&limit=100', 'https://news.cnyes.com/api/v3/news/category/headline?startAt=1270080000&endAt=1272672000&limit=100', 'https://news.cnyes.com/api/v3/news/category/headline?startAt=1272672000&endAt=1275264000&limit=100', 'https://news.cnyes.com/api/v3/news/category/headline?startAt=1275264000&endAt=1277856000&limit=100', 'https://news.cnyes.com/api/v3/news/category/headline?startAt=1277856000&endAt=1280448000&limit=100', 'https://news.cnyes.com/api/v3/news/category/headline?startAt=1280448000&endAt=1283040000&limit=100', 'https://news.cnyes.com/api/v3/news/category/headline?startAt=1283040000&endAt=1285632000&limit=100', 'https://news.cnyes.com/api/v3/news/category/headline?startAt=1285632000&endAt=1288224000&limit=100', 'https://news.cnyes.com/api/v3/news/category/headline?startAt=1288224000&endAt=1290816000&limit=100', 'https://news.cnyes.com/api/v3/news/category/headline?startAt=1290816000&endAt=1293408000&limit=100', 'https://news.cnyes.com/api/v3/news/category/headline?startAt=1293408000&endAt=1296000000&limit=100', 'https://news.cnyes.com/api/v3/news/category/headline?startAt=1296000000&endAt=1298592000&limit=100', 'https://news.cnyes.com/api/v3/news/category/headline?startAt=1298592000&endAt=1301184000&limit=100', 'https://news.cnyes.com/api/v3/news/category/headline?startAt=1301184000&endAt=1303776000&limit=100', 'https://news.cnyes.com/api/v3/news/category/headline?startAt=1303776000&endAt=1306368000&limit=100', 'https://news.cnyes.com/api/v3/news/category/headline?startAt=1306368000&endAt=1308960000&limit=100', 'https://news.cnyes.com/api/v3/news/category/headline?startAt=1308960000&endAt=1311552000&limit=100', 'https://news.cnyes.com/api/v3/news/category/headline?startAt=1311552000&endAt=1314144000&limit=100', 'https://news.cnyes.com/api/v3/news/category/headline?startAt=1314144000&endAt=1316736000&limit=100', 'https://news.cnyes.com/api/v3/news/category/headline?startAt=1316736000&endAt=1319328000&limit=100', 'https://news.cnyes.com/api/v3/news/category/headline?startAt=1319328000&endAt=1321920000&limit=100', 'https://news.cnyes.com/api/v3/news/category/headline?startAt=1321920000&endAt=1324512000&limit=100', 'https://news.cnyes.com/api/v3/news/category/headline?startAt=1324512000&endAt=1327104000&limit=100', 'https://news.cnyes.com/api/v3/news/category/headline?startAt=1327104000&endAt=1329696000&limit=100', 'https://news.cnyes.com/api/v3/news/category/headline?startAt=1329696000&endAt=1332288000&limit=100', 'https://news.cnyes.com/api/v3/news/category/headline?startAt=1332288000&endAt=1334880000&limit=100', 'https://news.cnyes.com/api/v3/news/category/headline?startAt=1334880000&endAt=1337472000&limit=100', 'https://news.cnyes.com/api/v3/news/category/headline?startAt=1337472000&endAt=1340064000&limit=100', 'https://news.cnyes.com/api/v3/news/category/headline?startAt=1340064000&endAt=1342656000&limit=100', 'https://news.cnyes.com/api/v3/news/category/headline?startAt=1342656000&endAt=1345248000&limit=100', 'https://news.cnyes.com/api/v3/news/category/headline?startAt=1345248000&endAt=1347840000&limit=100', 'https://news.cnyes.com/api/v3/news/category/headline?startAt=1347840000&endAt=1350432000&limit=100', 'https://news.cnyes.com/api/v3/news/category/headline?startAt=1350432000&endAt=1353024000&limit=100', 'https://news.cnyes.com/api/v3/news/category/headline?startAt=1353024000&endAt=1355616000&limit=100', 'https://news.cnyes.com/api/v3/news/category/headline?startAt=1355616000&endAt=1358208000&limit=100', 'https://news.cnyes.com/api/v3/news/category/headline?startAt=1358208000&endAt=1360800000&limit=100', 'https://news.cnyes.com/api/v3/news/category/headline?startAt=1360800000&endAt=1363392000&limit=100', 'https://news.cnyes.com/api/v3/news/category/headline?startAt=1363392000&endAt=1365984000&limit=100', 'https://news.cnyes.com/api/v3/news/category/headline?startAt=1365984000&endAt=1368576000&limit=100', 'https://news.cnyes.com/api/v3/news/category/headline?startAt=1368576000&endAt=1371168000&limit=100', 'https://news.cnyes.com/api/v3/news/category/headline?startAt=1371168000&endAt=1373760000&limit=100', 'https://news.cnyes.com/api/v3/news/category/headline?startAt=1373760000&endAt=1376352000&limit=100', 'https://news.cnyes.com/api/v3/news/category/headline?startAt=1376352000&endAt=1378944000&limit=100', 'https://news.cnyes.com/api/v3/news/category/headline?startAt=1378944000&endAt=1381536000&limit=100', 'https://news.cnyes.com/api/v3/news/category/headline?startAt=1381536000&endAt=1384128000&limit=100', 'https://news.cnyes.com/api/v3/news/category/headline?startAt=1384128000&endAt=1386720000&limit=100', 'https://news.cnyes.com/api/v3/news/category/headline?startAt=1386720000&endAt=1389312000&limit=100', 'https://news.cnyes.com/api/v3/news/category/headline?startAt=1389312000&endAt=1391904000&limit=100', 'https://news.cnyes.com/api/v3/news/category/headline?startAt=1391904000&endAt=1394496000&limit=100', 'https://news.cnyes.com/api/v3/news/category/headline?startAt=1394496000&endAt=1397088000&limit=100', 'https://news.cnyes.com/api/v3/news/category/headline?startAt=1397088000&endAt=1399680000&limit=100', 'https://news.cnyes.com/api/v3/news/category/headline?startAt=1399680000&endAt=1402272000&limit=100', 'https://news.cnyes.com/api/v3/news/category/headline?startAt=1402272000&endAt=1404864000&limit=100', 'https://news.cnyes.com/api/v3/news/category/headline?startAt=1404864000&endAt=1407456000&limit=100', 'https://news.cnyes.com/api/v3/news/category/headline?startAt=1407456000&endAt=1410048000&limit=100', 'https://news.cnyes.com/api/v3/news/category/headline?startAt=1410048000&endAt=1412640000&limit=100', 'https://news.cnyes.com/api/v3/news/category/headline?startAt=1412640000&endAt=1415232000&limit=100', 'https://news.cnyes.com/api/v3/news/category/headline?startAt=1415232000&endAt=1417824000&limit=100', 'https://news.cnyes.com/api/v3/news/category/headline?startAt=1417824000&endAt=1420416000&limit=100', 'https://news.cnyes.com/api/v3/news/category/headline?startAt=1420416000&endAt=1423008000&limit=100', 'https://news.cnyes.com/api/v3/news/category/headline?startAt=1423008000&endAt=1425600000&limit=100', 'https://news.cnyes.com/api/v3/news/category/headline?startAt=1425600000&endAt=1428192000&limit=100', 'https://news.cnyes.com/api/v3/news/category/headline?startAt=1428192000&endAt=1430784000&limit=100', 'https://news.cnyes.com/api/v3/news/category/headline?startAt=1430784000&endAt=1433376000&limit=100', 'https://news.cnyes.com/api/v3/news/category/headline?startAt=1433376000&endAt=1435968000&limit=100', 'https://news.cnyes.com/api/v3/news/category/headline?startAt=1435968000&endAt=1438560000&limit=100', 'https://news.cnyes.com/api/v3/news/category/headline?startAt=1438560000&endAt=1441152000&limit=100', 'https://news.cnyes.com/api/v3/news/category/headline?startAt=1441152000&endAt=1443744000&limit=100', 'https://news.cnyes.com/api/v3/news/category/headline?startAt=1443744000&endAt=1446336000&limit=100', 'https://news.cnyes.com/api/v3/news/category/headline?startAt=1446336000&endAt=1448928000&limit=100', 'https://news.cnyes.com/api/v3/news/category/headline?startAt=1448928000&endAt=1451520000&limit=100', 'https://news.cnyes.com/api/v3/news/category/headline?startAt=1451520000&endAt=1454112000&limit=100', 'https://news.cnyes.com/api/v3/news/category/headline?startAt=1454112000&endAt=1456704000&limit=100', 'https://news.cnyes.com/api/v3/news/category/headline?startAt=1456704000&endAt=1459296000&limit=100', 'https://news.cnyes.com/api/v3/news/category/headline?startAt=1459296000&endAt=1461888000&limit=100', 'https://news.cnyes.com/api/v3/news/category/headline?startAt=1461888000&endAt=1464480000&limit=100', 'https://news.cnyes.com/api/v3/news/category/headline?startAt=1464480000&endAt=1467072000&limit=100', 'https://news.cnyes.com/api/v3/news/category/headline?startAt=1467072000&endAt=1469664000&limit=100', 'https://news.cnyes.com/api/v3/news/category/headline?startAt=1469664000&endAt=1472256000&limit=100', 'https://news.cnyes.com/api/v3/news/category/headline?startAt=1472256000&endAt=1474848000&limit=100', 'https://news.cnyes.com/api/v3/news/category/headline?startAt=1474848000&endAt=1477440000&limit=100', 'https://news.cnyes.com/api/v3/news/category/headline?startAt=1477440000&endAt=1480032000&limit=100', 'https://news.cnyes.com/api/v3/news/category/headline?startAt=1480032000&endAt=1482624000&limit=100', 'https://news.cnyes.com/api/v3/news/category/headline?startAt=1482624000&endAt=1485216000&limit=100', 'https://news.cnyes.com/api/v3/news/category/headline?startAt=1485216000&endAt=1487808000&limit=100', 'https://news.cnyes.com/api/v3/news/category/headline?startAt=1487808000&endAt=1490400000&limit=100', 'https://news.cnyes.com/api/v3/news/category/headline?startAt=1490400000&endAt=1492992000&limit=100', 'https://news.cnyes.com/api/v3/news/category/headline?startAt=1492992000&endAt=1495584000&limit=100', 'https://news.cnyes.com/api/v3/news/category/headline?startAt=1495584000&endAt=1498176000&limit=100', 'https://news.cnyes.com/api/v3/news/category/headline?startAt=1498176000&endAt=1500768000&limit=100', 'https://news.cnyes.com/api/v3/news/category/headline?startAt=1500768000&endAt=1503360000&limit=100', 'https://news.cnyes.com/api/v3/news/category/headline?startAt=1503360000&endAt=1505952000&limit=100', 'https://news.cnyes.com/api/v3/news/category/headline?startAt=1505952000&endAt=1508544000&limit=100', 'https://news.cnyes.com/api/v3/news/category/headline?startAt=1508544000&endAt=1511136000&limit=100', 'https://news.cnyes.com/api/v3/news/category/headline?startAt=1511136000&endAt=1513728000&limit=100', 'https://news.cnyes.com/api/v3/news/category/headline?startAt=1513728000&endAt=1516320000&limit=100', 'https://news.cnyes.com/api/v3/news/category/headline?startAt=1516320000&endAt=1518912000&limit=100', 'https://news.cnyes.com/api/v3/news/category/headline?startAt=1518912000&endAt=1521504000&limit=100', 'https://news.cnyes.com/api/v3/news/category/headline?startAt=1521504000&endAt=1524096000&limit=100', 'https://news.cnyes.com/api/v3/news/category/headline?startAt=1524096000&endAt=1526688000&limit=100', 'https://news.cnyes.com/api/v3/news/category/headline?startAt=1526688000&endAt=1529280000&limit=100', 'https://news.cnyes.com/api/v3/news/category/headline?startAt=1529280000&endAt=1531872000&limit=100', 'https://news.cnyes.com/api/v3/news/category/headline?startAt=1531872000&endAt=1534464000&limit=100', 'https://news.cnyes.com/api/v3/news/category/headline?startAt=1534464000&endAt=1537056000&limit=100', 'https://news.cnyes.com/api/v3/news/category/headline?startAt=1537056000&endAt=1539648000&limit=100', 'https://news.cnyes.com/api/v3/news/category/headline?startAt=1539648000&endAt=1542240000&limit=100', 'https://news.cnyes.com/api/v3/news/category/headline?startAt=1542240000&endAt=1544832000&limit=100', 'https://news.cnyes.com/api/v3/news/category/headline?startAt=1544832000&endAt=1547424000&limit=100', 'https://news.cnyes.com/api/v3/news/category/headline?startAt=1547424000&endAt=1550016000&limit=100', 'https://news.cnyes.com/api/v3/news/category/headline?startAt=1550016000&endAt=1552608000&limit=100', 'https://news.cnyes.com/api/v3/news/category/headline?startAt=1552608000&endAt=1555200000&limit=100', 'https://news.cnyes.com/api/v3/news/category/headline?startAt=1555200000&endAt=1557792000&limit=100', 'https://news.cnyes.com/api/v3/news/category/headline?startAt=1557792000&endAt=1560384000&limit=100', 'https://news.cnyes.com/api/v3/news/category/headline?startAt=1560384000&endAt=1562976000&limit=100', 'https://news.cnyes.com/api/v3/news/category/headline?startAt=1562976000&endAt=1565568000&limit=100', 'https://news.cnyes.com/api/v3/news/category/headline?startAt=1565568000&endAt=1568160000&limit=100', 'https://news.cnyes.com/api/v3/news/category/headline?startAt=1568160000&endAt=1570752000&limit=100', 'https://news.cnyes.com/api/v3/news/category/headline?startAt=1570752000&endAt=1573344000&limit=100', 'https://news.cnyes.com/api/v3/news/category/headline?startAt=1573344000&endAt=1575936000&limit=100', 'https://news.cnyes.com/api/v3/news/category/headline?startAt=1575936000&endAt=1578528000&limit=100', 'https://news.cnyes.com/api/v3/news/category/headline?startAt=1578528000&endAt=1581120000&limit=100', 'https://news.cnyes.com/api/v3/news/category/headline?startAt=1581120000&endAt=1583712000&limit=100', 'https://news.cnyes.com/api/v3/news/category/headline?startAt=1583712000&endAt=1586304000&limit=100', 'https://news.cnyes.com/api/v3/news/category/headline?startAt=1586304000&endAt=1588509731&limit=100']\n"
     ]
    }
   ],
   "source": [
    "import datetime\n",
    "import json\n",
    "t = [2020, 4, 14, 21, 35, 43, 1, 105, 0]\n",
    "\n",
    "# datetime.datetime.now().timestamp()\n",
    "# datetime.datetime.fromtimestamp(1588500008)\n",
    "\n",
    "# d = datetime.timedelta(days=30)\n",
    "# until - d\n",
    "\n",
    "# json.dumps(datetime.datetime(*t[:7]))\n",
    "\n",
    "def startpoints(start: datetime.datetime, until: datetime.datetime):\n",
    "    urls = []\n",
    "    while start < until:\n",
    "        _until = start + datetime.timedelta(days=30)\n",
    "        if _until > until:\n",
    "            _until = until\n",
    "        urls.append('https://news.cnyes.com/api/v3/news/category/headline' +\n",
    "                    f'?startAt={int(start.timestamp())}' +\n",
    "                    f'&endAt={int(_until.timestamp())}' +\n",
    "                    '&limit=100')\n",
    "        start = _until\n",
    "    return urls\n",
    "\n",
    "start = datetime.datetime(2010, 1, 1)\n",
    "until = datetime.datetime.now()\n",
    "print(until.timestamp())\n",
    "print(startpoints(start, until))"
   ]
  },
  {
   "cell_type": "code",
   "execution_count": 23,
   "metadata": {},
   "outputs": [
    {
     "name": "stdout",
     "output_type": "stream",
     "text": [
      "2020-04-12 13:20:00\n",
      "sleep for 5955 seconds\n"
     ]
    }
   ],
   "source": [
    "from time import mktime\n",
    "import datetime\n",
    " \n",
    "fetched_at = datetime.datetime(2020, 4, 12, 10, 0, 0)\n",
    "freq = datetime.timedelta(seconds=12000)\n",
    "print(fetched_at + freq)\n",
    "secs_to_sleep = (fetched_at + freq - datetime.datetime.now()).total_seconds()\n",
    "\n",
    "if secs_to_sleep > 0:\n",
    "    print(\"sleep for {} seconds\".format(int(secs_to_sleep)))\n",
    "else:\n",
    "    print(\"scrape\")"
   ]
  },
  {
   "cell_type": "markdown",
   "metadata": {},
   "source": [
    "# twint, elasticsearch"
   ]
  },
  {
   "cell_type": "code",
   "execution_count": 28,
   "metadata": {},
   "outputs": [
    {
     "name": "stdout",
     "output_type": "stream",
     "text": [
      "[+] Indexing to Elasticsearch @ http://es:9200\n",
      "...................."
     ]
    }
   ],
   "source": [
    "import twint\n",
    "\n",
    "c = twint.Config()\n",
    "\n",
    "# c.Username = \"YahooFinance\"\n",
    "# c.Username = \"CNBC\"\n",
    "c.Search = '$AAPL'\n",
    "c.Limit = 10\n",
    "# c.Since= '2017-12-27'\n",
    "# c.Until = '2017-12-31'\n",
    "# c.Store_csv = True\n",
    "# c.Output = \"none\"\n",
    "c.Elasticsearch = \"http://es:9200\"\n",
    "c.Debug = True\n",
    "\n",
    "twint.run.Search(c)"
   ]
  },
  {
   "cell_type": "code",
   "execution_count": 6,
   "metadata": {},
   "outputs": [],
   "source": [
    "from lxml import etree\n",
    "\n",
    "# html = etree.tostring(article.clean_top_node, encoding='utf-8').decode('utf-8')\n",
    "# e = etree.fromstring(html)\n",
    "# etree.tostring(e)\n",
    "# print(etree.tostring(article.top_node)[:300])\n",
    "# print(etree.tostring(article.clean_top_node)[:300])\n",
    "import logging\n",
    "import sys\n",
    "\n",
    "log = logging.getLogger(\"elasticsearch\")\n",
    "log.addHandler(logging.StreamHandler(sys.stdout))"
   ]
  },
  {
   "cell_type": "code",
   "execution_count": 7,
   "metadata": {},
   "outputs": [],
   "source": [
    "import elasticsearch\n",
    "from elasticsearch_dsl import Q\n",
    "from app.store import es\n",
    "\n",
    "es.init()\n",
    "# client = elasticsearch.Elasticsearch(['es:9200'])\n",
    "# client.indices.delete(index=\"news_rss\")\n",
    "# client.indices.delete(index=\"news_page\")\n",
    "\n",
    "def f():\n",
    "    s = es.Page.search()\n",
    "#     s = s.filter('wildcard', from_url=\"*cnyes*\").filter('term', http_status=\"*cnyes*\")\n",
    "    q = Q('wildcard', from_url=\"*cnyes.com*\") \\\n",
    "            & ~Q(\"term\", http_status=200)\n",
    "    print(q)\n",
    "    s = s.filter(q)\n",
    "    \n",
    "    results = s.execute()\n",
    "    for page in results:\n",
    "        print(page.from_url, page.http_status)\n",
    "    # s.scan()\n",
    "#     for p in s.scan():\n",
    "#         yield p.from_url\n",
    "\n",
    "# for x in f():\n",
    "#     print(x)\n",
    "#     break\n",
    "# f()"
   ]
  },
  {
   "cell_type": "code",
   "execution_count": 5,
   "metadata": {},
   "outputs": [
    {
     "data": {
      "text/plain": [
       "{'meta': {}, '_d_': {'from_url': 'aaa.com'}}"
      ]
     },
     "execution_count": 5,
     "metadata": {},
     "output_type": "execute_result"
    }
   ],
   "source": [
    "from app.store import es\n",
    "\n",
    "p = es.Page(from_url=\"aaa.com\")\n",
    "p.__dict__"
   ]
  },
  {
   "cell_type": "code",
   "execution_count": 40,
   "metadata": {},
   "outputs": [
    {
     "name": "stdout",
     "output_type": "stream",
     "text": [
      "Rss(index='news_rss', id='https://some.url.com/?query=like&thisad')\n"
     ]
    }
   ],
   "source": [
    "import json\n",
    "import datetime\n",
    "from lxml import etree\n",
    "import elasticsearch\n",
    "from elasticsearch_dsl import connections, Document, Date, Keyword, Q, Search, Text, Range, Integer\n",
    "\n",
    "class Rss(Document):\n",
    "    url = Keyword(required=True)\n",
    "    ticker = Keyword()\n",
    "    freq = Integer()  # seconds (default: 2 days)\n",
    "    n_retries = Integer()\n",
    "    fetched_at = Date()\n",
    "\n",
    "    class Index:\n",
    "        name = \"news_rss\"\n",
    "        settings = {\n",
    "            'number_of_shards': 1,\n",
    "            'number_of_replicas': 0\n",
    "        }\n",
    "\n",
    "    def save(self, **kwargs):\n",
    "        self.meta.id = self.url\n",
    "        self.n_retries = self.n_retries or 0\n",
    "        self.freq = self.freq or 2*24*60*60\n",
    "        # self.created_at = datetime.datetime.now()\n",
    "        return super().save(**kwargs)\n",
    "    \n",
    "    @classmethod\n",
    "    def get_or_create(cls, url) -> Rss:\n",
    "        try:\n",
    "            rss = cls.get(id=url)\n",
    "        except elasticsearch.NotFoundError:\n",
    "            rss = cls(url=url)\n",
    "            rss.save()\n",
    "        return rss\n",
    "\n",
    "connections.create_connection(hosts=['es:9200'])\n",
    "Rss.init()\n",
    "\n",
    "# rss = Rss(url=\"https://some.url.com/?query=like&this\")\n",
    "# rss.save()\n",
    "\n",
    "r = Rss.get_or_create(\"https://some.url.com/?query=like&thisad\")\n",
    "# print(r.n_retries)\n",
    "print(r)\n",
    "\n",
    "\n",
    "# for i, hit in enumerate(scan_twint('ReutersBiz')):\n",
    "#     print(hit.urls)\n",
    "#     if i > 10:\n",
    "#         break\n",
    "\n",
    "# connections.create_connection(hosts=['es:9200'])\n",
    "# connections.create_connection(hosts=['es:9200'])\n",
    "# Page.init()\n",
    "# s = Page.search()\n",
    "# s.query = Q({\"match\": {\"src_url\": \"aaa.com\"}})\n",
    "# resp = s.execute()\n",
    "# print(resp.hits.total.value)\n",
    "# Page.is_existed('aaav.com')\n",
    "\n",
    "\n"
   ]
  },
  {
   "cell_type": "markdown",
   "metadata": {},
   "source": [
    "# @dataclass, namedtuple"
   ]
  },
  {
   "cell_type": "code",
   "execution_count": 79,
   "metadata": {},
   "outputs": [
    {
     "data": {
      "text/plain": [
       "ParsedTicker(p_text='some p text', tickers=[{'a_text': 'some a text', 'ticker': 'AAA'}])"
      ]
     },
     "execution_count": 79,
     "metadata": {},
     "output_type": "execute_result"
    }
   ],
   "source": [
    "import json\n",
    "import dataclasses \n",
    "from typing import Tuple, List\n",
    "\n",
    "@dataclasses.dataclass\n",
    "class _TickerAnchor:\n",
    "    a_text: str\n",
    "    ticker: str\n",
    "\n",
    "@dataclasses.dataclass\n",
    "class ParsedTicker:\n",
    "    p_text: str  # <p>...text...</p>\n",
    "    tickers: List[_TickerAnchor]\n",
    "    \n",
    "\n",
    "t = ParsedTicker('some p text', [_TickerAnchor('some a text', 'AAA')])\n",
    "s = json.dumps(dataclasses.asdict(t))\n",
    "ParsedTicker(**json.loads(s))"
   ]
  },
  {
   "cell_type": "code",
   "execution_count": null,
   "metadata": {},
   "outputs": [],
   "source": [
    "from collections import namedtuple\n",
    "\n",
    "ParsedTicker = namedtuple('ParsedTicker', ['p_text', 'symbols'])\n",
    "Symbol = namedtuple('Symbol', ['a_text', 'symbol'])\n",
    "\n",
    "Symbol"
   ]
  },
  {
   "cell_type": "code",
   "execution_count": 3,
   "metadata": {},
   "outputs": [
    {
     "name": "stdout",
     "output_type": "stream",
     "text": [
      "/workspace/twint/app\n",
      "Page(index='news_page', id='aaa.com')\n"
     ]
    }
   ],
   "source": [
    "%cd /workspace/twint/app\n",
    "from app.store import es\n",
    "\n",
    "es.init()\n",
    "p = es.Page(from_url=\"aaa.com\")\n",
    "p.save()\n",
    "# p.meta.id = 'aaa'\n",
    "print(p)\n",
    "# p.meta.id = 'bbb'\n",
    "# p.meta.id\n",
    "# p.save()\n",
    "# type(p.meta)\n",
    "# p.meta.id = 'aaa.com'\n",
    "# p.save()\n",
    "# p.created_at is None\n",
    "\n",
    "# p = es.Page.get(id=\"aaa.com\")\n",
    "# p.meta.id='aaa'\n",
    "# p.save()"
   ]
  }
 ],
 "metadata": {
  "kernelspec": {
   "display_name": "Python 3",
   "language": "python",
   "name": "python3"
  },
  "language_info": {
   "codemirror_mode": {
    "name": "ipython",
    "version": 3
   },
   "file_extension": ".py",
   "mimetype": "text/x-python",
   "name": "python",
   "nbconvert_exporter": "python",
   "pygments_lexer": "ipython3",
   "version": "3.7.7"
  }
 },
 "nbformat": 4,
 "nbformat_minor": 4
}
