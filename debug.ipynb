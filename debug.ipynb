{
 "cells": [
  {
   "cell_type": "markdown",
   "metadata": {},
   "source": [
    "### 參考\n",
    "\n",
    "aiohttp scraper: https://github.com/gaojiuli/gain  \n",
    "tweet熱度：https://github.com/shirosaidev/stocksight  \n",
    "reuters scraper: https://github.com/wenyenwei/tensorflow-stock-news  \n",
    "https://stocknewsapi.com/  \n",
    "https://stackoverflow.com/questions/51537063/url-format-for-google-news-rss-feed  \n",
    "https://github.com/niderhoff/nlp-datasets"
   ]
  },
  {
   "cell_type": "code",
   "execution_count": 1,
   "metadata": {},
   "outputs": [],
   "source": [
    "# https://github.com/LIAAD/yake\n",
    "# !pip install nest_asyncio newspaper3k feedparser psycopg2\n",
    "import nest_asyncio\n",
    "nest_asyncio.apply()\n",
    "\n",
    "# import nltk\n",
    "# nltk.download('punkt')"
   ]
  },
  {
   "cell_type": "markdown",
   "metadata": {},
   "source": [
    "# Redis"
   ]
  },
  {
   "cell_type": "code",
   "execution_count": 13,
   "metadata": {},
   "outputs": [],
   "source": [
    "import redis\n",
    "r = redis.Redis(host='redis', port=6379, db=0)\n",
    "# r.set('https://samples.openweathermap.org/data/2.5/weather', 'bar')\n",
    "# print(r.get('https://samples.openweathermap.org/data/2.5/weather1234'))\n",
    "# for\n",
    "# r.set\n",
    "# r.config_get('maxmemory-policy')\n",
    "r.config_get('maxmemory')\n",
    "for i in range(1000):\n",
    "    r.set(i, article_text)\n",
    "# r.set(0, 0)\n",
    "# print(r.get(999))"
   ]
  },
  {
   "cell_type": "code",
   "execution_count": 14,
   "metadata": {},
   "outputs": [
    {
     "name": "stdout",
     "output_type": "stream",
     "text": [
      "1 2\n"
     ]
    }
   ],
   "source": [
    "a = {'a':1, \"b\":2}\n",
    "def test(a, b):\n",
    "    print(a, b)\n",
    "test(**a)"
   ]
  },
  {
   "cell_type": "code",
   "execution_count": 12,
   "metadata": {},
   "outputs": [
    {
     "data": {
      "text/plain": [
       "{'html': 'this is a html string', 'status': 200}"
      ]
     },
     "execution_count": 12,
     "metadata": {},
     "output_type": "execute_result"
    }
   ],
   "source": [
    "import msgpack\n",
    "import redis\n",
    "\n",
    "url = \"example.com\"\n",
    "a = {\n",
    "    \"html\": \"this is a html string\",\n",
    "    \"status\": 200\n",
    "}\n",
    "# pk = msgpack.packb(a, use_bin_type=True)\n",
    "# #    '\\x93\\x01\\x02\\x03'\n",
    "# msgpack.unpackb(pk, raw=False)\n",
    "# _\n",
    "# pk\n",
    "\n",
    "r = redis.Redis(host='redis', port=6379, db=0)\n",
    "# r.set(url, msgpack.packb(a, use_bin_type=True))\n",
    "msgpack.unpackb(r.get(url), raw=False)"
   ]
  },
  {
   "cell_type": "code",
   "execution_count": 20,
   "metadata": {},
   "outputs": [
    {
     "name": "stdout",
     "output_type": "stream",
     "text": [
      "Berlin\n",
      "The weather in Berlin is b'light intensity drizzle'\n",
      "Berlin\n",
      "The weather in Berlin is b'light intensity drizzle'\n",
      "tokyo\n",
      "The weather in tokyo is b'light intensity drizzle'\n"
     ]
    }
   ],
   "source": [
    "import nest_asyncio\n",
    "nest_asyncio.apply()\n",
    "import aiohttp\n",
    "import asyncio\n",
    "\n",
    "from aiocache import cached, Cache\n",
    "import redis\n",
    "r = redis.Redis(host='redis', port=6379, db=0)\n",
    "\n",
    "# cache = Cache(Cache.REDIS, endpoint=\"redis\", port=6379)\n",
    "# await cache.clear()\n",
    "\n",
    "APP_ID = 'b6907d289e10d714a6e88b30761fae22'\n",
    "\n",
    "# @cached(ttl=3600)\n",
    "# @cached(ttl=3600, cache=Cache.REDIS, endpoint=\"redis\", port=6379)\n",
    "async def get_weather(city):\n",
    "    print(city)\n",
    "    async with aiohttp.ClientSession() as session:\n",
    "        url = f'https://samples.openweathermap.org/data/2.5/weather?q={city},de&appid={APP_ID}'\n",
    "        cached = r.get(url)\n",
    "        if cached is not None:\n",
    "            return cached\n",
    "        async with session.get(url) as response:\n",
    "            response = await response.json()\n",
    "            r.set(url, response['weather'][0]['description'])\n",
    "            return response['weather'][0]['description']\n",
    "\n",
    "loop = asyncio.get_event_loop()\n",
    "\n",
    "\n",
    "city = 'Berlin'\n",
    "# for _ in range(10):\n",
    "#     weather = loop.run_until_complete(get_weather(city))\n",
    "#     print(f\"The weather in {city} is {weather.lower()}\")\n",
    "weather = loop.run_until_complete(get_weather(city))\n",
    "print(f\"The weather in {city} is {weather.lower()}\")\n",
    "weather = loop.run_until_complete(get_weather(city))\n",
    "print(f\"The weather in {city} is {weather.lower()}\")\n",
    "\n",
    "city = \"tokyo\"\n",
    "weather = loop.run_until_complete(get_weather(city))\n",
    "print(f\"The weather in {city} is {weather.lower()}\")"
   ]
  },
  {
   "cell_type": "code",
   "execution_count": 4,
   "metadata": {},
   "outputs": [
    {
     "name": "stdout",
     "output_type": "stream",
     "text": [
      "Sleeping for three seconds zzzz.....\n"
     ]
    }
   ],
   "source": [
    "import nest_asyncio\n",
    "nest_asyncio.apply()\n",
    "\n",
    "import asyncio\n",
    "\n",
    "from collections import namedtuple\n",
    "\n",
    "from aiocache import cached, Cache\n",
    "from aiocache.serializers import PickleSerializer\n",
    "# With this we can store python objects in backends like Redis!\n",
    "\n",
    "Result = namedtuple('Result', \"content, status\")\n",
    "\n",
    "\n",
    "@cached(\n",
    "    ttl=10, cache=Cache.REDIS, endpoint=\"redis\", port=6379, key=\"key\", serializer=PickleSerializer())\n",
    "async def cached_call():\n",
    "    print(\"Sleeping for three seconds zzzz.....\")\n",
    "    await asyncio.sleep(3)\n",
    "    return Result(\"content\", 200)\n",
    "\n",
    "\n",
    "def run():\n",
    "    loop = asyncio.get_event_loop()\n",
    "    loop.run_until_complete(cached_call())\n",
    "    loop.run_until_complete(cached_call())\n",
    "    loop.run_until_complete(cached_call())\n",
    "    cache = Cache(Cache.REDIS, endpoint=\"redis\", port=6379)\n",
    "    loop.run_until_complete(cache.delete(\"key\"))\n",
    "    \n",
    "run()"
   ]
  },
  {
   "cell_type": "markdown",
   "metadata": {},
   "source": [
    "# twstock"
   ]
  },
  {
   "cell_type": "code",
   "execution_count": 33,
   "metadata": {},
   "outputs": [],
   "source": [
    "# !pip install twstock\n",
    "import twstock\n",
    "twstock.__update_codes()"
   ]
  },
  {
   "cell_type": "code",
   "execution_count": 36,
   "metadata": {},
   "outputs": [
    {
     "ename": "ConnectionError",
     "evalue": "HTTPConnectionPool(host='www.twse.com.tw', port=80): Max retries exceeded with url: /exchangeReport/STOCK_DAY?date=20200401&stockNo=2330 (Caused by NewConnectionError('<urllib3.connection.HTTPConnection object at 0x7f8efe4989d0>: Failed to establish a new connection: [Errno 111] Connection refused'))",
     "output_type": "error",
     "traceback": [
      "\u001b[0;31m---------------------------------------------------------------------------\u001b[0m",
      "\u001b[0;31mConnectionRefusedError\u001b[0m                    Traceback (most recent call last)",
      "\u001b[0;32m/usr/local/lib/python3.7/site-packages/urllib3/connection.py\u001b[0m in \u001b[0;36m_new_conn\u001b[0;34m(self)\u001b[0m\n\u001b[1;32m    159\u001b[0m             conn = connection.create_connection(\n\u001b[0;32m--> 160\u001b[0;31m                 \u001b[0;34m(\u001b[0m\u001b[0mself\u001b[0m\u001b[0;34m.\u001b[0m\u001b[0m_dns_host\u001b[0m\u001b[0;34m,\u001b[0m \u001b[0mself\u001b[0m\u001b[0;34m.\u001b[0m\u001b[0mport\u001b[0m\u001b[0;34m)\u001b[0m\u001b[0;34m,\u001b[0m \u001b[0mself\u001b[0m\u001b[0;34m.\u001b[0m\u001b[0mtimeout\u001b[0m\u001b[0;34m,\u001b[0m \u001b[0;34m**\u001b[0m\u001b[0mextra_kw\u001b[0m\u001b[0;34m\u001b[0m\u001b[0;34m\u001b[0m\u001b[0m\n\u001b[0m\u001b[1;32m    161\u001b[0m             )\n",
      "\u001b[0;32m/usr/local/lib/python3.7/site-packages/urllib3/util/connection.py\u001b[0m in \u001b[0;36mcreate_connection\u001b[0;34m(address, timeout, source_address, socket_options)\u001b[0m\n\u001b[1;32m     83\u001b[0m     \u001b[0;32mif\u001b[0m \u001b[0merr\u001b[0m \u001b[0;32mis\u001b[0m \u001b[0;32mnot\u001b[0m \u001b[0;32mNone\u001b[0m\u001b[0;34m:\u001b[0m\u001b[0;34m\u001b[0m\u001b[0;34m\u001b[0m\u001b[0m\n\u001b[0;32m---> 84\u001b[0;31m         \u001b[0;32mraise\u001b[0m \u001b[0merr\u001b[0m\u001b[0;34m\u001b[0m\u001b[0;34m\u001b[0m\u001b[0m\n\u001b[0m\u001b[1;32m     85\u001b[0m \u001b[0;34m\u001b[0m\u001b[0m\n",
      "\u001b[0;32m/usr/local/lib/python3.7/site-packages/urllib3/util/connection.py\u001b[0m in \u001b[0;36mcreate_connection\u001b[0;34m(address, timeout, source_address, socket_options)\u001b[0m\n\u001b[1;32m     73\u001b[0m                 \u001b[0msock\u001b[0m\u001b[0;34m.\u001b[0m\u001b[0mbind\u001b[0m\u001b[0;34m(\u001b[0m\u001b[0msource_address\u001b[0m\u001b[0;34m)\u001b[0m\u001b[0;34m\u001b[0m\u001b[0;34m\u001b[0m\u001b[0m\n\u001b[0;32m---> 74\u001b[0;31m             \u001b[0msock\u001b[0m\u001b[0;34m.\u001b[0m\u001b[0mconnect\u001b[0m\u001b[0;34m(\u001b[0m\u001b[0msa\u001b[0m\u001b[0;34m)\u001b[0m\u001b[0;34m\u001b[0m\u001b[0;34m\u001b[0m\u001b[0m\n\u001b[0m\u001b[1;32m     75\u001b[0m             \u001b[0;32mreturn\u001b[0m \u001b[0msock\u001b[0m\u001b[0;34m\u001b[0m\u001b[0;34m\u001b[0m\u001b[0m\n",
      "\u001b[0;31mConnectionRefusedError\u001b[0m: [Errno 111] Connection refused",
      "\nDuring handling of the above exception, another exception occurred:\n",
      "\u001b[0;31mNewConnectionError\u001b[0m                        Traceback (most recent call last)",
      "\u001b[0;32m/usr/local/lib/python3.7/site-packages/urllib3/connectionpool.py\u001b[0m in \u001b[0;36murlopen\u001b[0;34m(self, method, url, body, headers, retries, redirect, assert_same_host, timeout, pool_timeout, release_conn, chunked, body_pos, **response_kw)\u001b[0m\n\u001b[1;32m    676\u001b[0m                 \u001b[0mheaders\u001b[0m\u001b[0;34m=\u001b[0m\u001b[0mheaders\u001b[0m\u001b[0;34m,\u001b[0m\u001b[0;34m\u001b[0m\u001b[0;34m\u001b[0m\u001b[0m\n\u001b[0;32m--> 677\u001b[0;31m                 \u001b[0mchunked\u001b[0m\u001b[0;34m=\u001b[0m\u001b[0mchunked\u001b[0m\u001b[0;34m,\u001b[0m\u001b[0;34m\u001b[0m\u001b[0;34m\u001b[0m\u001b[0m\n\u001b[0m\u001b[1;32m    678\u001b[0m             )\n",
      "\u001b[0;32m/usr/local/lib/python3.7/site-packages/urllib3/connectionpool.py\u001b[0m in \u001b[0;36m_make_request\u001b[0;34m(self, conn, method, url, timeout, chunked, **httplib_request_kw)\u001b[0m\n\u001b[1;32m    391\u001b[0m         \u001b[0;32melse\u001b[0m\u001b[0;34m:\u001b[0m\u001b[0;34m\u001b[0m\u001b[0;34m\u001b[0m\u001b[0m\n\u001b[0;32m--> 392\u001b[0;31m             \u001b[0mconn\u001b[0m\u001b[0;34m.\u001b[0m\u001b[0mrequest\u001b[0m\u001b[0;34m(\u001b[0m\u001b[0mmethod\u001b[0m\u001b[0;34m,\u001b[0m \u001b[0murl\u001b[0m\u001b[0;34m,\u001b[0m \u001b[0;34m**\u001b[0m\u001b[0mhttplib_request_kw\u001b[0m\u001b[0;34m)\u001b[0m\u001b[0;34m\u001b[0m\u001b[0;34m\u001b[0m\u001b[0m\n\u001b[0m\u001b[1;32m    393\u001b[0m \u001b[0;34m\u001b[0m\u001b[0m\n",
      "\u001b[0;32m/usr/local/lib/python3.7/http/client.py\u001b[0m in \u001b[0;36mrequest\u001b[0;34m(self, method, url, body, headers, encode_chunked)\u001b[0m\n\u001b[1;32m   1251\u001b[0m         \u001b[0;34m\"\"\"Send a complete request to the server.\"\"\"\u001b[0m\u001b[0;34m\u001b[0m\u001b[0;34m\u001b[0m\u001b[0m\n\u001b[0;32m-> 1252\u001b[0;31m         \u001b[0mself\u001b[0m\u001b[0;34m.\u001b[0m\u001b[0m_send_request\u001b[0m\u001b[0;34m(\u001b[0m\u001b[0mmethod\u001b[0m\u001b[0;34m,\u001b[0m \u001b[0murl\u001b[0m\u001b[0;34m,\u001b[0m \u001b[0mbody\u001b[0m\u001b[0;34m,\u001b[0m \u001b[0mheaders\u001b[0m\u001b[0;34m,\u001b[0m \u001b[0mencode_chunked\u001b[0m\u001b[0;34m)\u001b[0m\u001b[0;34m\u001b[0m\u001b[0;34m\u001b[0m\u001b[0m\n\u001b[0m\u001b[1;32m   1253\u001b[0m \u001b[0;34m\u001b[0m\u001b[0m\n",
      "\u001b[0;32m/usr/local/lib/python3.7/http/client.py\u001b[0m in \u001b[0;36m_send_request\u001b[0;34m(self, method, url, body, headers, encode_chunked)\u001b[0m\n\u001b[1;32m   1297\u001b[0m             \u001b[0mbody\u001b[0m \u001b[0;34m=\u001b[0m \u001b[0m_encode\u001b[0m\u001b[0;34m(\u001b[0m\u001b[0mbody\u001b[0m\u001b[0;34m,\u001b[0m \u001b[0;34m'body'\u001b[0m\u001b[0;34m)\u001b[0m\u001b[0;34m\u001b[0m\u001b[0;34m\u001b[0m\u001b[0m\n\u001b[0;32m-> 1298\u001b[0;31m         \u001b[0mself\u001b[0m\u001b[0;34m.\u001b[0m\u001b[0mendheaders\u001b[0m\u001b[0;34m(\u001b[0m\u001b[0mbody\u001b[0m\u001b[0;34m,\u001b[0m \u001b[0mencode_chunked\u001b[0m\u001b[0;34m=\u001b[0m\u001b[0mencode_chunked\u001b[0m\u001b[0;34m)\u001b[0m\u001b[0;34m\u001b[0m\u001b[0;34m\u001b[0m\u001b[0m\n\u001b[0m\u001b[1;32m   1299\u001b[0m \u001b[0;34m\u001b[0m\u001b[0m\n",
      "\u001b[0;32m/usr/local/lib/python3.7/http/client.py\u001b[0m in \u001b[0;36mendheaders\u001b[0;34m(self, message_body, encode_chunked)\u001b[0m\n\u001b[1;32m   1246\u001b[0m             \u001b[0;32mraise\u001b[0m \u001b[0mCannotSendHeader\u001b[0m\u001b[0;34m(\u001b[0m\u001b[0;34m)\u001b[0m\u001b[0;34m\u001b[0m\u001b[0;34m\u001b[0m\u001b[0m\n\u001b[0;32m-> 1247\u001b[0;31m         \u001b[0mself\u001b[0m\u001b[0;34m.\u001b[0m\u001b[0m_send_output\u001b[0m\u001b[0;34m(\u001b[0m\u001b[0mmessage_body\u001b[0m\u001b[0;34m,\u001b[0m \u001b[0mencode_chunked\u001b[0m\u001b[0;34m=\u001b[0m\u001b[0mencode_chunked\u001b[0m\u001b[0;34m)\u001b[0m\u001b[0;34m\u001b[0m\u001b[0;34m\u001b[0m\u001b[0m\n\u001b[0m\u001b[1;32m   1248\u001b[0m \u001b[0;34m\u001b[0m\u001b[0m\n",
      "\u001b[0;32m/usr/local/lib/python3.7/http/client.py\u001b[0m in \u001b[0;36m_send_output\u001b[0;34m(self, message_body, encode_chunked)\u001b[0m\n\u001b[1;32m   1025\u001b[0m         \u001b[0;32mdel\u001b[0m \u001b[0mself\u001b[0m\u001b[0;34m.\u001b[0m\u001b[0m_buffer\u001b[0m\u001b[0;34m[\u001b[0m\u001b[0;34m:\u001b[0m\u001b[0;34m]\u001b[0m\u001b[0;34m\u001b[0m\u001b[0;34m\u001b[0m\u001b[0m\n\u001b[0;32m-> 1026\u001b[0;31m         \u001b[0mself\u001b[0m\u001b[0;34m.\u001b[0m\u001b[0msend\u001b[0m\u001b[0;34m(\u001b[0m\u001b[0mmsg\u001b[0m\u001b[0;34m)\u001b[0m\u001b[0;34m\u001b[0m\u001b[0;34m\u001b[0m\u001b[0m\n\u001b[0m\u001b[1;32m   1027\u001b[0m \u001b[0;34m\u001b[0m\u001b[0m\n",
      "\u001b[0;32m/usr/local/lib/python3.7/http/client.py\u001b[0m in \u001b[0;36msend\u001b[0;34m(self, data)\u001b[0m\n\u001b[1;32m    965\u001b[0m             \u001b[0;32mif\u001b[0m \u001b[0mself\u001b[0m\u001b[0;34m.\u001b[0m\u001b[0mauto_open\u001b[0m\u001b[0;34m:\u001b[0m\u001b[0;34m\u001b[0m\u001b[0;34m\u001b[0m\u001b[0m\n\u001b[0;32m--> 966\u001b[0;31m                 \u001b[0mself\u001b[0m\u001b[0;34m.\u001b[0m\u001b[0mconnect\u001b[0m\u001b[0;34m(\u001b[0m\u001b[0;34m)\u001b[0m\u001b[0;34m\u001b[0m\u001b[0;34m\u001b[0m\u001b[0m\n\u001b[0m\u001b[1;32m    967\u001b[0m             \u001b[0;32melse\u001b[0m\u001b[0;34m:\u001b[0m\u001b[0;34m\u001b[0m\u001b[0;34m\u001b[0m\u001b[0m\n",
      "\u001b[0;32m/usr/local/lib/python3.7/site-packages/urllib3/connection.py\u001b[0m in \u001b[0;36mconnect\u001b[0;34m(self)\u001b[0m\n\u001b[1;32m    186\u001b[0m     \u001b[0;32mdef\u001b[0m \u001b[0mconnect\u001b[0m\u001b[0;34m(\u001b[0m\u001b[0mself\u001b[0m\u001b[0;34m)\u001b[0m\u001b[0;34m:\u001b[0m\u001b[0;34m\u001b[0m\u001b[0;34m\u001b[0m\u001b[0m\n\u001b[0;32m--> 187\u001b[0;31m         \u001b[0mconn\u001b[0m \u001b[0;34m=\u001b[0m \u001b[0mself\u001b[0m\u001b[0;34m.\u001b[0m\u001b[0m_new_conn\u001b[0m\u001b[0;34m(\u001b[0m\u001b[0;34m)\u001b[0m\u001b[0;34m\u001b[0m\u001b[0;34m\u001b[0m\u001b[0m\n\u001b[0m\u001b[1;32m    188\u001b[0m         \u001b[0mself\u001b[0m\u001b[0;34m.\u001b[0m\u001b[0m_prepare_conn\u001b[0m\u001b[0;34m(\u001b[0m\u001b[0mconn\u001b[0m\u001b[0;34m)\u001b[0m\u001b[0;34m\u001b[0m\u001b[0;34m\u001b[0m\u001b[0m\n",
      "\u001b[0;32m/usr/local/lib/python3.7/site-packages/urllib3/connection.py\u001b[0m in \u001b[0;36m_new_conn\u001b[0;34m(self)\u001b[0m\n\u001b[1;32m    171\u001b[0m             raise NewConnectionError(\n\u001b[0;32m--> 172\u001b[0;31m                 \u001b[0mself\u001b[0m\u001b[0;34m,\u001b[0m \u001b[0;34m\"Failed to establish a new connection: %s\"\u001b[0m \u001b[0;34m%\u001b[0m \u001b[0me\u001b[0m\u001b[0;34m\u001b[0m\u001b[0;34m\u001b[0m\u001b[0m\n\u001b[0m\u001b[1;32m    173\u001b[0m             )\n",
      "\u001b[0;31mNewConnectionError\u001b[0m: <urllib3.connection.HTTPConnection object at 0x7f8efe4989d0>: Failed to establish a new connection: [Errno 111] Connection refused",
      "\nDuring handling of the above exception, another exception occurred:\n",
      "\u001b[0;31mMaxRetryError\u001b[0m                             Traceback (most recent call last)",
      "\u001b[0;32m/usr/local/lib/python3.7/site-packages/requests/adapters.py\u001b[0m in \u001b[0;36msend\u001b[0;34m(self, request, stream, timeout, verify, cert, proxies)\u001b[0m\n\u001b[1;32m    448\u001b[0m                     \u001b[0mretries\u001b[0m\u001b[0;34m=\u001b[0m\u001b[0mself\u001b[0m\u001b[0;34m.\u001b[0m\u001b[0mmax_retries\u001b[0m\u001b[0;34m,\u001b[0m\u001b[0;34m\u001b[0m\u001b[0;34m\u001b[0m\u001b[0m\n\u001b[0;32m--> 449\u001b[0;31m                     \u001b[0mtimeout\u001b[0m\u001b[0;34m=\u001b[0m\u001b[0mtimeout\u001b[0m\u001b[0;34m\u001b[0m\u001b[0;34m\u001b[0m\u001b[0m\n\u001b[0m\u001b[1;32m    450\u001b[0m                 )\n",
      "\u001b[0;32m/usr/local/lib/python3.7/site-packages/urllib3/connectionpool.py\u001b[0m in \u001b[0;36murlopen\u001b[0;34m(self, method, url, body, headers, retries, redirect, assert_same_host, timeout, pool_timeout, release_conn, chunked, body_pos, **response_kw)\u001b[0m\n\u001b[1;32m    724\u001b[0m             retries = retries.increment(\n\u001b[0;32m--> 725\u001b[0;31m                 \u001b[0mmethod\u001b[0m\u001b[0;34m,\u001b[0m \u001b[0murl\u001b[0m\u001b[0;34m,\u001b[0m \u001b[0merror\u001b[0m\u001b[0;34m=\u001b[0m\u001b[0me\u001b[0m\u001b[0;34m,\u001b[0m \u001b[0m_pool\u001b[0m\u001b[0;34m=\u001b[0m\u001b[0mself\u001b[0m\u001b[0;34m,\u001b[0m \u001b[0m_stacktrace\u001b[0m\u001b[0;34m=\u001b[0m\u001b[0msys\u001b[0m\u001b[0;34m.\u001b[0m\u001b[0mexc_info\u001b[0m\u001b[0;34m(\u001b[0m\u001b[0;34m)\u001b[0m\u001b[0;34m[\u001b[0m\u001b[0;36m2\u001b[0m\u001b[0;34m]\u001b[0m\u001b[0;34m\u001b[0m\u001b[0;34m\u001b[0m\u001b[0m\n\u001b[0m\u001b[1;32m    726\u001b[0m             )\n",
      "\u001b[0;32m/usr/local/lib/python3.7/site-packages/urllib3/util/retry.py\u001b[0m in \u001b[0;36mincrement\u001b[0;34m(self, method, url, response, error, _pool, _stacktrace)\u001b[0m\n\u001b[1;32m    438\u001b[0m         \u001b[0;32mif\u001b[0m \u001b[0mnew_retry\u001b[0m\u001b[0;34m.\u001b[0m\u001b[0mis_exhausted\u001b[0m\u001b[0;34m(\u001b[0m\u001b[0;34m)\u001b[0m\u001b[0;34m:\u001b[0m\u001b[0;34m\u001b[0m\u001b[0;34m\u001b[0m\u001b[0m\n\u001b[0;32m--> 439\u001b[0;31m             \u001b[0;32mraise\u001b[0m \u001b[0mMaxRetryError\u001b[0m\u001b[0;34m(\u001b[0m\u001b[0m_pool\u001b[0m\u001b[0;34m,\u001b[0m \u001b[0murl\u001b[0m\u001b[0;34m,\u001b[0m \u001b[0merror\u001b[0m \u001b[0;32mor\u001b[0m \u001b[0mResponseError\u001b[0m\u001b[0;34m(\u001b[0m\u001b[0mcause\u001b[0m\u001b[0;34m)\u001b[0m\u001b[0;34m)\u001b[0m\u001b[0;34m\u001b[0m\u001b[0;34m\u001b[0m\u001b[0m\n\u001b[0m\u001b[1;32m    440\u001b[0m \u001b[0;34m\u001b[0m\u001b[0m\n",
      "\u001b[0;31mMaxRetryError\u001b[0m: HTTPConnectionPool(host='www.twse.com.tw', port=80): Max retries exceeded with url: /exchangeReport/STOCK_DAY?date=20200401&stockNo=2330 (Caused by NewConnectionError('<urllib3.connection.HTTPConnection object at 0x7f8efe4989d0>: Failed to establish a new connection: [Errno 111] Connection refused'))",
      "\nDuring handling of the above exception, another exception occurred:\n",
      "\u001b[0;31mConnectionError\u001b[0m                           Traceback (most recent call last)",
      "\u001b[0;32m<ipython-input-36-c2c3de7be52c>\u001b[0m in \u001b[0;36m<module>\u001b[0;34m\u001b[0m\n\u001b[1;32m      1\u001b[0m \u001b[0;31m# twstock.codes\u001b[0m\u001b[0;34m\u001b[0m\u001b[0;34m\u001b[0m\u001b[0;34m\u001b[0m\u001b[0m\n\u001b[0;32m----> 2\u001b[0;31m \u001b[0mstock\u001b[0m \u001b[0;34m=\u001b[0m \u001b[0mtwstock\u001b[0m\u001b[0;34m.\u001b[0m\u001b[0mStock\u001b[0m\u001b[0;34m(\u001b[0m\u001b[0;34m'2330'\u001b[0m\u001b[0;34m)\u001b[0m\u001b[0;34m\u001b[0m\u001b[0;34m\u001b[0m\u001b[0m\n\u001b[0m\u001b[1;32m      3\u001b[0m \u001b[0;31m# stock.fetch_from(2010, 1)\u001b[0m\u001b[0;34m\u001b[0m\u001b[0;34m\u001b[0m\u001b[0;34m\u001b[0m\u001b[0m\n",
      "\u001b[0;32m/usr/local/lib/python3.7/site-packages/twstock/stock.py\u001b[0m in \u001b[0;36m__init__\u001b[0;34m(self, sid, initial_fetch)\u001b[0m\n\u001b[1;32m    152\u001b[0m         \u001b[0;31m# Init data\u001b[0m\u001b[0;34m\u001b[0m\u001b[0;34m\u001b[0m\u001b[0;34m\u001b[0m\u001b[0m\n\u001b[1;32m    153\u001b[0m         \u001b[0;32mif\u001b[0m \u001b[0minitial_fetch\u001b[0m\u001b[0;34m:\u001b[0m\u001b[0;34m\u001b[0m\u001b[0;34m\u001b[0m\u001b[0m\n\u001b[0;32m--> 154\u001b[0;31m             \u001b[0mself\u001b[0m\u001b[0;34m.\u001b[0m\u001b[0mfetch_31\u001b[0m\u001b[0;34m(\u001b[0m\u001b[0;34m)\u001b[0m\u001b[0;34m\u001b[0m\u001b[0;34m\u001b[0m\u001b[0m\n\u001b[0m\u001b[1;32m    155\u001b[0m \u001b[0;34m\u001b[0m\u001b[0m\n\u001b[1;32m    156\u001b[0m     \u001b[0;32mdef\u001b[0m \u001b[0m_month_year_iter\u001b[0m\u001b[0;34m(\u001b[0m\u001b[0mself\u001b[0m\u001b[0;34m,\u001b[0m \u001b[0mstart_month\u001b[0m\u001b[0;34m,\u001b[0m \u001b[0mstart_year\u001b[0m\u001b[0;34m,\u001b[0m \u001b[0mend_month\u001b[0m\u001b[0;34m,\u001b[0m \u001b[0mend_year\u001b[0m\u001b[0;34m)\u001b[0m\u001b[0;34m:\u001b[0m\u001b[0;34m\u001b[0m\u001b[0;34m\u001b[0m\u001b[0m\n",
      "\u001b[0;32m/usr/local/lib/python3.7/site-packages/twstock/stock.py\u001b[0m in \u001b[0;36mfetch_31\u001b[0;34m(self)\u001b[0m\n\u001b[1;32m    181\u001b[0m         \u001b[0mtoday\u001b[0m \u001b[0;34m=\u001b[0m \u001b[0mdatetime\u001b[0m\u001b[0;34m.\u001b[0m\u001b[0mdatetime\u001b[0m\u001b[0;34m.\u001b[0m\u001b[0mtoday\u001b[0m\u001b[0;34m(\u001b[0m\u001b[0;34m)\u001b[0m\u001b[0;34m\u001b[0m\u001b[0;34m\u001b[0m\u001b[0m\n\u001b[1;32m    182\u001b[0m         \u001b[0mbefore\u001b[0m \u001b[0;34m=\u001b[0m \u001b[0mtoday\u001b[0m \u001b[0;34m-\u001b[0m \u001b[0mdatetime\u001b[0m\u001b[0;34m.\u001b[0m\u001b[0mtimedelta\u001b[0m\u001b[0;34m(\u001b[0m\u001b[0mdays\u001b[0m\u001b[0;34m=\u001b[0m\u001b[0;36m60\u001b[0m\u001b[0;34m)\u001b[0m\u001b[0;34m\u001b[0m\u001b[0;34m\u001b[0m\u001b[0m\n\u001b[0;32m--> 183\u001b[0;31m         \u001b[0mself\u001b[0m\u001b[0;34m.\u001b[0m\u001b[0mfetch_from\u001b[0m\u001b[0;34m(\u001b[0m\u001b[0mbefore\u001b[0m\u001b[0;34m.\u001b[0m\u001b[0myear\u001b[0m\u001b[0;34m,\u001b[0m \u001b[0mbefore\u001b[0m\u001b[0;34m.\u001b[0m\u001b[0mmonth\u001b[0m\u001b[0;34m)\u001b[0m\u001b[0;34m\u001b[0m\u001b[0;34m\u001b[0m\u001b[0m\n\u001b[0m\u001b[1;32m    184\u001b[0m         \u001b[0mself\u001b[0m\u001b[0;34m.\u001b[0m\u001b[0mdata\u001b[0m \u001b[0;34m=\u001b[0m \u001b[0mself\u001b[0m\u001b[0;34m.\u001b[0m\u001b[0mdata\u001b[0m\u001b[0;34m[\u001b[0m\u001b[0;34m-\u001b[0m\u001b[0;36m31\u001b[0m\u001b[0;34m:\u001b[0m\u001b[0;34m]\u001b[0m\u001b[0;34m\u001b[0m\u001b[0;34m\u001b[0m\u001b[0m\n\u001b[1;32m    185\u001b[0m         \u001b[0;32mreturn\u001b[0m \u001b[0mself\u001b[0m\u001b[0;34m.\u001b[0m\u001b[0mdata\u001b[0m\u001b[0;34m\u001b[0m\u001b[0;34m\u001b[0m\u001b[0m\n",
      "\u001b[0;32m/usr/local/lib/python3.7/site-packages/twstock/stock.py\u001b[0m in \u001b[0;36mfetch_from\u001b[0;34m(self, year, month)\u001b[0m\n\u001b[1;32m    173\u001b[0m         \u001b[0mtoday\u001b[0m \u001b[0;34m=\u001b[0m \u001b[0mdatetime\u001b[0m\u001b[0;34m.\u001b[0m\u001b[0mdatetime\u001b[0m\u001b[0;34m.\u001b[0m\u001b[0mtoday\u001b[0m\u001b[0;34m(\u001b[0m\u001b[0;34m)\u001b[0m\u001b[0;34m\u001b[0m\u001b[0;34m\u001b[0m\u001b[0m\n\u001b[1;32m    174\u001b[0m         \u001b[0;32mfor\u001b[0m \u001b[0myear\u001b[0m\u001b[0;34m,\u001b[0m \u001b[0mmonth\u001b[0m \u001b[0;32min\u001b[0m \u001b[0mself\u001b[0m\u001b[0;34m.\u001b[0m\u001b[0m_month_year_iter\u001b[0m\u001b[0;34m(\u001b[0m\u001b[0mmonth\u001b[0m\u001b[0;34m,\u001b[0m \u001b[0myear\u001b[0m\u001b[0;34m,\u001b[0m \u001b[0mtoday\u001b[0m\u001b[0;34m.\u001b[0m\u001b[0mmonth\u001b[0m\u001b[0;34m,\u001b[0m \u001b[0mtoday\u001b[0m\u001b[0;34m.\u001b[0m\u001b[0myear\u001b[0m\u001b[0;34m)\u001b[0m\u001b[0;34m:\u001b[0m\u001b[0;34m\u001b[0m\u001b[0;34m\u001b[0m\u001b[0m\n\u001b[0;32m--> 175\u001b[0;31m             \u001b[0mself\u001b[0m\u001b[0;34m.\u001b[0m\u001b[0mraw_data\u001b[0m\u001b[0;34m.\u001b[0m\u001b[0mappend\u001b[0m\u001b[0;34m(\u001b[0m\u001b[0mself\u001b[0m\u001b[0;34m.\u001b[0m\u001b[0mfetcher\u001b[0m\u001b[0;34m.\u001b[0m\u001b[0mfetch\u001b[0m\u001b[0;34m(\u001b[0m\u001b[0myear\u001b[0m\u001b[0;34m,\u001b[0m \u001b[0mmonth\u001b[0m\u001b[0;34m,\u001b[0m \u001b[0mself\u001b[0m\u001b[0;34m.\u001b[0m\u001b[0msid\u001b[0m\u001b[0;34m)\u001b[0m\u001b[0;34m)\u001b[0m\u001b[0;34m\u001b[0m\u001b[0;34m\u001b[0m\u001b[0m\n\u001b[0m\u001b[1;32m    176\u001b[0m             \u001b[0mself\u001b[0m\u001b[0;34m.\u001b[0m\u001b[0mdata\u001b[0m\u001b[0;34m.\u001b[0m\u001b[0mextend\u001b[0m\u001b[0;34m(\u001b[0m\u001b[0mself\u001b[0m\u001b[0;34m.\u001b[0m\u001b[0mraw_data\u001b[0m\u001b[0;34m[\u001b[0m\u001b[0;34m-\u001b[0m\u001b[0;36m1\u001b[0m\u001b[0;34m]\u001b[0m\u001b[0;34m[\u001b[0m\u001b[0;34m'data'\u001b[0m\u001b[0;34m]\u001b[0m\u001b[0;34m)\u001b[0m\u001b[0;34m\u001b[0m\u001b[0;34m\u001b[0m\u001b[0m\n\u001b[1;32m    177\u001b[0m         \u001b[0;32mreturn\u001b[0m \u001b[0mself\u001b[0m\u001b[0;34m.\u001b[0m\u001b[0mdata\u001b[0m\u001b[0;34m\u001b[0m\u001b[0;34m\u001b[0m\u001b[0m\n",
      "\u001b[0;32m/usr/local/lib/python3.7/site-packages/twstock/stock.py\u001b[0m in \u001b[0;36mfetch\u001b[0;34m(self, year, month, sid, retry)\u001b[0m\n\u001b[1;32m     57\u001b[0m         \u001b[0;32mfor\u001b[0m \u001b[0mretry_i\u001b[0m \u001b[0;32min\u001b[0m \u001b[0mrange\u001b[0m\u001b[0;34m(\u001b[0m\u001b[0mretry\u001b[0m\u001b[0;34m)\u001b[0m\u001b[0;34m:\u001b[0m\u001b[0;34m\u001b[0m\u001b[0;34m\u001b[0m\u001b[0m\n\u001b[1;32m     58\u001b[0m             r = requests.get(self.REPORT_URL, params=params,\n\u001b[0;32m---> 59\u001b[0;31m                              proxies=get_proxies())\n\u001b[0m\u001b[1;32m     60\u001b[0m             \u001b[0;32mtry\u001b[0m\u001b[0;34m:\u001b[0m\u001b[0;34m\u001b[0m\u001b[0;34m\u001b[0m\u001b[0m\n\u001b[1;32m     61\u001b[0m                 \u001b[0mdata\u001b[0m \u001b[0;34m=\u001b[0m \u001b[0mr\u001b[0m\u001b[0;34m.\u001b[0m\u001b[0mjson\u001b[0m\u001b[0;34m(\u001b[0m\u001b[0;34m)\u001b[0m\u001b[0;34m\u001b[0m\u001b[0;34m\u001b[0m\u001b[0m\n",
      "\u001b[0;32m/usr/local/lib/python3.7/site-packages/requests/api.py\u001b[0m in \u001b[0;36mget\u001b[0;34m(url, params, **kwargs)\u001b[0m\n\u001b[1;32m     74\u001b[0m \u001b[0;34m\u001b[0m\u001b[0m\n\u001b[1;32m     75\u001b[0m     \u001b[0mkwargs\u001b[0m\u001b[0;34m.\u001b[0m\u001b[0msetdefault\u001b[0m\u001b[0;34m(\u001b[0m\u001b[0;34m'allow_redirects'\u001b[0m\u001b[0;34m,\u001b[0m \u001b[0;32mTrue\u001b[0m\u001b[0;34m)\u001b[0m\u001b[0;34m\u001b[0m\u001b[0;34m\u001b[0m\u001b[0m\n\u001b[0;32m---> 76\u001b[0;31m     \u001b[0;32mreturn\u001b[0m \u001b[0mrequest\u001b[0m\u001b[0;34m(\u001b[0m\u001b[0;34m'get'\u001b[0m\u001b[0;34m,\u001b[0m \u001b[0murl\u001b[0m\u001b[0;34m,\u001b[0m \u001b[0mparams\u001b[0m\u001b[0;34m=\u001b[0m\u001b[0mparams\u001b[0m\u001b[0;34m,\u001b[0m \u001b[0;34m**\u001b[0m\u001b[0mkwargs\u001b[0m\u001b[0;34m)\u001b[0m\u001b[0;34m\u001b[0m\u001b[0;34m\u001b[0m\u001b[0m\n\u001b[0m\u001b[1;32m     77\u001b[0m \u001b[0;34m\u001b[0m\u001b[0m\n\u001b[1;32m     78\u001b[0m \u001b[0;34m\u001b[0m\u001b[0m\n",
      "\u001b[0;32m/usr/local/lib/python3.7/site-packages/requests/api.py\u001b[0m in \u001b[0;36mrequest\u001b[0;34m(method, url, **kwargs)\u001b[0m\n\u001b[1;32m     59\u001b[0m     \u001b[0;31m# cases, and look like a memory leak in others.\u001b[0m\u001b[0;34m\u001b[0m\u001b[0;34m\u001b[0m\u001b[0;34m\u001b[0m\u001b[0m\n\u001b[1;32m     60\u001b[0m     \u001b[0;32mwith\u001b[0m \u001b[0msessions\u001b[0m\u001b[0;34m.\u001b[0m\u001b[0mSession\u001b[0m\u001b[0;34m(\u001b[0m\u001b[0;34m)\u001b[0m \u001b[0;32mas\u001b[0m \u001b[0msession\u001b[0m\u001b[0;34m:\u001b[0m\u001b[0;34m\u001b[0m\u001b[0;34m\u001b[0m\u001b[0m\n\u001b[0;32m---> 61\u001b[0;31m         \u001b[0;32mreturn\u001b[0m \u001b[0msession\u001b[0m\u001b[0;34m.\u001b[0m\u001b[0mrequest\u001b[0m\u001b[0;34m(\u001b[0m\u001b[0mmethod\u001b[0m\u001b[0;34m=\u001b[0m\u001b[0mmethod\u001b[0m\u001b[0;34m,\u001b[0m \u001b[0murl\u001b[0m\u001b[0;34m=\u001b[0m\u001b[0murl\u001b[0m\u001b[0;34m,\u001b[0m \u001b[0;34m**\u001b[0m\u001b[0mkwargs\u001b[0m\u001b[0;34m)\u001b[0m\u001b[0;34m\u001b[0m\u001b[0;34m\u001b[0m\u001b[0m\n\u001b[0m\u001b[1;32m     62\u001b[0m \u001b[0;34m\u001b[0m\u001b[0m\n\u001b[1;32m     63\u001b[0m \u001b[0;34m\u001b[0m\u001b[0m\n",
      "\u001b[0;32m/usr/local/lib/python3.7/site-packages/requests/sessions.py\u001b[0m in \u001b[0;36mrequest\u001b[0;34m(self, method, url, params, data, headers, cookies, files, auth, timeout, allow_redirects, proxies, hooks, stream, verify, cert, json)\u001b[0m\n\u001b[1;32m    528\u001b[0m         }\n\u001b[1;32m    529\u001b[0m         \u001b[0msend_kwargs\u001b[0m\u001b[0;34m.\u001b[0m\u001b[0mupdate\u001b[0m\u001b[0;34m(\u001b[0m\u001b[0msettings\u001b[0m\u001b[0;34m)\u001b[0m\u001b[0;34m\u001b[0m\u001b[0;34m\u001b[0m\u001b[0m\n\u001b[0;32m--> 530\u001b[0;31m         \u001b[0mresp\u001b[0m \u001b[0;34m=\u001b[0m \u001b[0mself\u001b[0m\u001b[0;34m.\u001b[0m\u001b[0msend\u001b[0m\u001b[0;34m(\u001b[0m\u001b[0mprep\u001b[0m\u001b[0;34m,\u001b[0m \u001b[0;34m**\u001b[0m\u001b[0msend_kwargs\u001b[0m\u001b[0;34m)\u001b[0m\u001b[0;34m\u001b[0m\u001b[0;34m\u001b[0m\u001b[0m\n\u001b[0m\u001b[1;32m    531\u001b[0m \u001b[0;34m\u001b[0m\u001b[0m\n\u001b[1;32m    532\u001b[0m         \u001b[0;32mreturn\u001b[0m \u001b[0mresp\u001b[0m\u001b[0;34m\u001b[0m\u001b[0;34m\u001b[0m\u001b[0m\n",
      "\u001b[0;32m/usr/local/lib/python3.7/site-packages/requests/sessions.py\u001b[0m in \u001b[0;36msend\u001b[0;34m(self, request, **kwargs)\u001b[0m\n\u001b[1;32m    641\u001b[0m \u001b[0;34m\u001b[0m\u001b[0m\n\u001b[1;32m    642\u001b[0m         \u001b[0;31m# Send the request\u001b[0m\u001b[0;34m\u001b[0m\u001b[0;34m\u001b[0m\u001b[0;34m\u001b[0m\u001b[0m\n\u001b[0;32m--> 643\u001b[0;31m         \u001b[0mr\u001b[0m \u001b[0;34m=\u001b[0m \u001b[0madapter\u001b[0m\u001b[0;34m.\u001b[0m\u001b[0msend\u001b[0m\u001b[0;34m(\u001b[0m\u001b[0mrequest\u001b[0m\u001b[0;34m,\u001b[0m \u001b[0;34m**\u001b[0m\u001b[0mkwargs\u001b[0m\u001b[0;34m)\u001b[0m\u001b[0;34m\u001b[0m\u001b[0;34m\u001b[0m\u001b[0m\n\u001b[0m\u001b[1;32m    644\u001b[0m \u001b[0;34m\u001b[0m\u001b[0m\n\u001b[1;32m    645\u001b[0m         \u001b[0;31m# Total elapsed time of the request (approximately)\u001b[0m\u001b[0;34m\u001b[0m\u001b[0;34m\u001b[0m\u001b[0;34m\u001b[0m\u001b[0m\n",
      "\u001b[0;32m/usr/local/lib/python3.7/site-packages/requests/adapters.py\u001b[0m in \u001b[0;36msend\u001b[0;34m(self, request, stream, timeout, verify, cert, proxies)\u001b[0m\n\u001b[1;32m    514\u001b[0m                 \u001b[0;32mraise\u001b[0m \u001b[0mSSLError\u001b[0m\u001b[0;34m(\u001b[0m\u001b[0me\u001b[0m\u001b[0;34m,\u001b[0m \u001b[0mrequest\u001b[0m\u001b[0;34m=\u001b[0m\u001b[0mrequest\u001b[0m\u001b[0;34m)\u001b[0m\u001b[0;34m\u001b[0m\u001b[0;34m\u001b[0m\u001b[0m\n\u001b[1;32m    515\u001b[0m \u001b[0;34m\u001b[0m\u001b[0m\n\u001b[0;32m--> 516\u001b[0;31m             \u001b[0;32mraise\u001b[0m \u001b[0mConnectionError\u001b[0m\u001b[0;34m(\u001b[0m\u001b[0me\u001b[0m\u001b[0;34m,\u001b[0m \u001b[0mrequest\u001b[0m\u001b[0;34m=\u001b[0m\u001b[0mrequest\u001b[0m\u001b[0;34m)\u001b[0m\u001b[0;34m\u001b[0m\u001b[0;34m\u001b[0m\u001b[0m\n\u001b[0m\u001b[1;32m    517\u001b[0m \u001b[0;34m\u001b[0m\u001b[0m\n\u001b[1;32m    518\u001b[0m         \u001b[0;32mexcept\u001b[0m \u001b[0mClosedPoolError\u001b[0m \u001b[0;32mas\u001b[0m \u001b[0me\u001b[0m\u001b[0;34m:\u001b[0m\u001b[0;34m\u001b[0m\u001b[0;34m\u001b[0m\u001b[0m\n",
      "\u001b[0;31mConnectionError\u001b[0m: HTTPConnectionPool(host='www.twse.com.tw', port=80): Max retries exceeded with url: /exchangeReport/STOCK_DAY?date=20200401&stockNo=2330 (Caused by NewConnectionError('<urllib3.connection.HTTPConnection object at 0x7f8efe4989d0>: Failed to establish a new connection: [Errno 111] Connection refused'))"
     ]
    }
   ],
   "source": [
    "# twstock.codes\n",
    "stock = twstock.Stock('2330')\n",
    "# stock.fetch_from(2010, 1)"
   ]
  },
  {
   "cell_type": "code",
   "execution_count": 2,
   "metadata": {},
   "outputs": [
    {
     "name": "stdout",
     "output_type": "stream",
     "text": [
      "/workspace/twint/app\n",
      "https://www.moneydj.com/KMDJ/News/NewsRealList.aspx?index1=14&a=MB010000\n",
      "https://www.moneydj.com/KMDJ/News/NewsRealList.aspx?index1=32&a=MB010000\n",
      "https://www.moneydj.com/KMDJ/News/NewsRealList.aspx?index1=38&a=MB010000\n",
      "https://www.moneydj.com/KMDJ/News/NewsRealList.aspx?index1=49&a=MB010000\n",
      "https://www.moneydj.com/KMDJ/News/NewsRealList.aspx?index1=64&a=MB010000\n",
      "https://www.moneydj.com/KMDJ/News/NewsRealList.aspx?index1=70&a=MB010000\n",
      "https://www.moneydj.com/KMDJ/News/NewsRealList.aspx?index1=75&a=MB010000\n",
      "https://www.moneydj.com/KMDJ/News/NewsRealList.aspx?index1=99&a=MB010000\n",
      "https://www.moneydj.com/KMDJ/News/NewsRealList.aspx?index1=100&a=MB010000\n",
      "https://www.moneydj.com/KMDJ/News/NewsRealList.aspx?index1=104&a=MB010000\n",
      "https://www.moneydj.com/KMDJ/News/NewsRealList.aspx?index1=107&a=MB010000\n",
      "https://www.moneydj.com/KMDJ/News/NewsRealList.aspx?index1=112&a=MB010000\n",
      "https://www.moneydj.com/KMDJ/News/NewsRealList.aspx?index1=130&a=MB010000\n",
      "https://www.moneydj.com/KMDJ/News/NewsRealList.aspx?index1=146&a=MB010000\n",
      "https://www.moneydj.com/KMDJ/News/NewsRealList.aspx?index1=152&a=MB010000\n",
      "https://www.moneydj.com/KMDJ/News/NewsRealList.aspx?index1=158&a=MB010000\n",
      "https://www.moneydj.com/KMDJ/News/NewsRealList.aspx?index1=168&a=MB010000\n",
      "https://www.moneydj.com/KMDJ/News/NewsRealList.aspx?index1=184&a=MB010000\n",
      "https://www.moneydj.com/KMDJ/News/NewsRealList.aspx?index1=195&a=MB010000\n",
      "https://www.moneydj.com/KMDJ/News/NewsRealList.aspx?index1=201&a=MB010000\n",
      "https://www.moneydj.com/KMDJ/News/NewsRealList.aspx?index1=217&a=MB010000\n",
      "https://www.moneydj.com/KMDJ/News/NewsRealList.aspx?index1=226&a=MB010000\n",
      "https://www.moneydj.com/KMDJ/News/NewsRealList.aspx?index1=237&a=MB010000\n",
      "https://www.moneydj.com/KMDJ/News/NewsRealList.aspx?index1=258&a=MB010000\n",
      "https://www.moneydj.com/KMDJ/News/NewsRealList.aspx?index1=265&a=MB010000\n",
      "https://www.moneydj.com/KMDJ/News/NewsRealList.aspx?index1=289&a=MB010000\n",
      "https://www.moneydj.com/KMDJ/News/NewsRealList.aspx?index1=297&a=MB010000\n",
      "https://www.moneydj.com/KMDJ/News/NewsRealList.aspx?index1=320&a=MB010000\n",
      "https://www.moneydj.com/KMDJ/News/NewsRealList.aspx?index1=331&a=MB010000\n",
      "https://www.moneydj.com/KMDJ/News/NewsRealList.aspx?index1=343&a=MB010000\n",
      "https://www.moneydj.com/KMDJ/News/NewsRealList.aspx?index1=355&a=MB010000\n",
      "https://www.moneydj.com/KMDJ/News/NewsRealList.aspx?index1=367&a=MB010000\n",
      "https://www.moneydj.com/KMDJ/News/NewsRealList.aspx?index1=401&a=MB010000\n",
      "https://www.moneydj.com/KMDJ/News/NewsRealList.aspx?index1=410&a=MB010000\n",
      "https://www.moneydj.com/KMDJ/News/NewsRealList.aspx?index1=424&a=MB010000\n",
      "https://www.moneydj.com/KMDJ/News/NewsRealList.aspx?index1=442&a=MB010000\n",
      "https://www.moneydj.com/KMDJ/News/NewsRealList.aspx?index1=463&a=MB010000\n",
      "https://www.moneydj.com/KMDJ/News/NewsRealList.aspx?index1=475&a=MB010000\n",
      "https://www.moneydj.com/KMDJ/News/NewsRealList.aspx?index1=486&a=MB010000\n",
      "https://www.moneydj.com/KMDJ/News/NewsRealList.aspx?index1=492&a=MB010000\n",
      "https://www.moneydj.com/KMDJ/News/NewsRealList.aspx?index1=501&a=MB010000\n",
      "https://www.moneydj.com/KMDJ/News/NewsRealList.aspx?index1=522&a=MB010000\n",
      "https://www.moneydj.com/KMDJ/News/NewsRealList.aspx?index1=531&a=MB010000\n",
      "https://www.moneydj.com/KMDJ/News/NewsRealList.aspx?index1=542&a=MB010000\n",
      "https://www.moneydj.com/KMDJ/News/NewsRealList.aspx?index1=551&a=MB010000\n",
      "https://www.moneydj.com/KMDJ/News/NewsRealList.aspx?index1=563&a=MB010000\n",
      "https://www.moneydj.com/KMDJ/News/NewsRealList.aspx?index1=569&a=MB010000\n",
      "https://www.moneydj.com/KMDJ/News/NewsRealList.aspx?index1=580&a=MB010000\n",
      "https://www.moneydj.com/KMDJ/News/NewsRealList.aspx?index1=599&a=MB010000\n",
      "https://www.moneydj.com/KMDJ/News/NewsRealList.aspx?index1=607&a=MB010000\n",
      "https://www.moneydj.com/KMDJ/News/NewsRealList.aspx?index1=627&a=MB010000\n",
      "https://www.moneydj.com/KMDJ/News/NewsRealList.aspx?index1=638&a=MB010000\n",
      "https://www.moneydj.com/KMDJ/News/NewsRealList.aspx?index1=652&a=MB010000\n",
      "https://www.moneydj.com/KMDJ/News/NewsRealList.aspx?index1=660&a=MB010000\n",
      "https://www.moneydj.com/KMDJ/News/NewsRealList.aspx?index1=680&a=MB010000\n",
      "https://www.moneydj.com/KMDJ/News/NewsRealList.aspx?index1=691&a=MB010000\n",
      "https://www.moneydj.com/KMDJ/News/NewsRealList.aspx?index1=697&a=MB010000\n",
      "https://www.moneydj.com/KMDJ/News/NewsRealList.aspx?index1=711&a=MB010000\n",
      "https://www.moneydj.com/KMDJ/News/NewsRealList.aspx?index1=730&a=MB010000\n",
      "https://www.moneydj.com/KMDJ/News/NewsRealList.aspx?index1=735&a=MB010000\n",
      "https://www.moneydj.com/KMDJ/News/NewsRealList.aspx?index1=747&a=MB010000\n",
      "https://www.moneydj.com/KMDJ/News/NewsRealList.aspx?index1=756&a=MB010000\n",
      "https://www.moneydj.com/KMDJ/News/NewsRealList.aspx?index1=769&a=MB010000\n",
      "https://www.moneydj.com/KMDJ/News/NewsRealList.aspx?index1=792&a=MB010000\n",
      "https://www.moneydj.com/KMDJ/News/NewsRealList.aspx?index1=803&a=MB010000\n",
      "https://www.moneydj.com/KMDJ/News/NewsRealList.aspx?index1=813&a=MB010000\n",
      "https://www.moneydj.com/KMDJ/News/NewsRealList.aspx?index1=824&a=MB010000\n",
      "https://www.moneydj.com/KMDJ/News/NewsRealList.aspx?index1=842&a=MB010000\n",
      "https://www.moneydj.com/KMDJ/News/NewsRealList.aspx?index1=856&a=MB010000\n",
      "https://www.moneydj.com/KMDJ/News/NewsRealList.aspx?index1=924&a=MB010000\n",
      "https://www.moneydj.com/KMDJ/News/NewsRealList.aspx?index1=929&a=MB010000\n",
      "https://www.moneydj.com/KMDJ/News/NewsRealList.aspx?index1=936&a=MB010000\n",
      "https://www.moneydj.com/KMDJ/News/NewsRealList.aspx?index1=940&a=MB010000\n",
      "https://www.moneydj.com/KMDJ/News/NewsRealList.aspx?index1=961&a=MB010000\n",
      "https://www.moneydj.com/KMDJ/News/NewsRealList.aspx?index1=975&a=MB010000\n",
      "https://www.moneydj.com/KMDJ/News/NewsRealList.aspx?index1=1041&a=MB010000\n",
      "https://www.moneydj.com/KMDJ/News/NewsRealList.aspx?index1=1045&a=MB010000\n",
      "https://www.moneydj.com/KMDJ/News/NewsRealList.aspx?index1=1075&a=MB010000\n",
      "https://www.moneydj.com/KMDJ/News/NewsRealList.aspx?index1=1097&a=MB010000\n",
      "https://www.moneydj.com/KMDJ/News/NewsRealList.aspx?index1=1104&a=MB010000\n",
      "https://www.moneydj.com/KMDJ/News/NewsRealList.aspx?index1=1116&a=MB010000\n",
      "https://www.moneydj.com/KMDJ/News/NewsRealList.aspx?index1=1132&a=MB010000\n",
      "https://www.moneydj.com/KMDJ/News/NewsRealList.aspx?index1=1150&a=MB010000\n",
      "https://www.moneydj.com/KMDJ/News/NewsRealList.aspx?index1=1163&a=MB010000\n",
      "https://www.moneydj.com/KMDJ/News/NewsRealList.aspx?index1=1174&a=MB010000\n",
      "https://www.moneydj.com/KMDJ/News/NewsRealList.aspx?index1=1206&a=MB010000\n",
      "https://www.moneydj.com/KMDJ/News/NewsRealList.aspx?index1=1221&a=MB010000\n",
      "https://www.moneydj.com/KMDJ/News/NewsRealList.aspx?index1=1227&a=MB010000\n",
      "https://www.moneydj.com/KMDJ/News/NewsRealList.aspx?index1=1234&a=MB010000\n",
      "https://www.moneydj.com/KMDJ/News/NewsRealList.aspx?index1=1257&a=MB010000\n",
      "https://www.moneydj.com/KMDJ/News/NewsRealList.aspx?index1=1274&a=MB010000\n",
      "https://www.moneydj.com/KMDJ/News/NewsRealList.aspx?index1=1298&a=MB010000\n",
      "https://www.moneydj.com/KMDJ/News/NewsRealList.aspx?index1=1307&a=MB010000\n",
      "https://www.moneydj.com/KMDJ/News/NewsRealList.aspx?index1=1315&a=MB010000\n",
      "https://www.moneydj.com/KMDJ/News/NewsRealList.aspx?index1=1324&a=MB010000\n",
      "https://www.moneydj.com/KMDJ/News/NewsRealList.aspx?index1=1360&a=MB010000\n",
      "https://www.moneydj.com/KMDJ/News/NewsRealList.aspx?index1=1374&a=MB010000\n",
      "https://www.moneydj.com/KMDJ/News/NewsRealList.aspx?index1=1384&a=MB010000\n",
      "https://www.moneydj.com/KMDJ/News/NewsRealList.aspx?index1=1423&a=MB010000\n",
      "https://www.moneydj.com/KMDJ/News/NewsRealList.aspx?index1=1432&a=MB010000\n",
      "https://www.moneydj.com/KMDJ/News/NewsRealList.aspx?index1=1444&a=MB010000\n",
      "https://www.moneydj.com/KMDJ/News/NewsRealList.aspx?index1=1457&a=MB010000\n",
      "https://www.moneydj.com/KMDJ/News/NewsRealList.aspx?index1=1474&a=MB010000\n",
      "https://www.moneydj.com/KMDJ/News/NewsRealList.aspx?index1=1518&a=MB010000\n",
      "https://www.moneydj.com/KMDJ/News/NewsRealList.aspx?index1=1543&a=MB010000\n",
      "https://www.moneydj.com/KMDJ/News/NewsRealList.aspx?index1=1570&a=MB010000\n",
      "https://www.moneydj.com/KMDJ/News/NewsRealList.aspx?index1=1578&a=MB010000\n",
      "https://www.moneydj.com/KMDJ/News/NewsRealList.aspx?index1=1603&a=MB010000\n",
      "https://www.moneydj.com/KMDJ/News/NewsRealList.aspx?index1=1617&a=MB010000\n",
      "https://www.moneydj.com/KMDJ/News/NewsRealList.aspx?index1=1641&a=MB010000\n",
      "https://www.moneydj.com/KMDJ/News/NewsRealList.aspx?index1=1653&a=MB010000\n",
      "https://www.moneydj.com/KMDJ/News/NewsRealList.aspx?index1=1666&a=MB010000\n",
      "https://www.moneydj.com/KMDJ/News/NewsRealList.aspx?index1=1684&a=MB010000\n",
      "https://www.moneydj.com/KMDJ/News/NewsRealList.aspx?index1=1693&a=MB010000\n",
      "https://www.moneydj.com/KMDJ/News/NewsRealList.aspx?index1=1717&a=MB010000\n",
      "https://www.moneydj.com/KMDJ/News/NewsRealList.aspx?index1=1727&a=MB010000\n",
      "https://www.moneydj.com/KMDJ/News/NewsRealList.aspx?index1=1764&a=MB010000\n",
      "https://www.moneydj.com/KMDJ/News/NewsRealList.aspx?index1=1780&a=MB010000\n",
      "https://www.moneydj.com/KMDJ/News/NewsRealList.aspx?index1=1797&a=MB010000\n",
      "https://www.moneydj.com/KMDJ/News/NewsRealList.aspx?index1=1804&a=MB010000\n",
      "https://www.moneydj.com/KMDJ/News/NewsRealList.aspx?index1=1839&a=MB010000\n",
      "https://www.moneydj.com/KMDJ/News/NewsRealList.aspx?index1=1847&a=MB010000\n",
      "https://www.moneydj.com/KMDJ/News/NewsRealList.aspx?index1=1855&a=MB010000\n",
      "https://www.moneydj.com/KMDJ/News/NewsRealList.aspx?index1=1864&a=MB010000\n",
      "https://www.moneydj.com/KMDJ/News/NewsRealList.aspx?index1=1883&a=MB010000\n",
      "https://www.moneydj.com/KMDJ/News/NewsRealList.aspx?index1=1894&a=MB010000\n",
      "https://www.moneydj.com/KMDJ/News/NewsRealList.aspx?index1=1950&a=MB010000\n",
      "https://www.moneydj.com/KMDJ/News/NewsRealList.aspx?index1=1958&a=MB010000\n",
      "https://www.moneydj.com/KMDJ/News/NewsRealList.aspx?index1=1967&a=MB010000\n",
      "https://www.moneydj.com/KMDJ/News/NewsRealList.aspx?index1=1976&a=MB010000\n",
      "https://www.moneydj.com/KMDJ/News/NewsRealList.aspx?index1=1993&a=MB010000\n",
      "https://www.moneydj.com/KMDJ/News/NewsRealList.aspx?index1=2008&a=MB010000\n",
      "https://www.moneydj.com/KMDJ/News/NewsRealList.aspx?index1=2024&a=MB010000\n",
      "https://www.moneydj.com/KMDJ/News/NewsRealList.aspx?index1=2032&a=MB010000\n",
      "https://www.moneydj.com/KMDJ/News/NewsRealList.aspx?index1=2039&a=MB010000\n",
      "https://www.moneydj.com/KMDJ/News/NewsRealList.aspx?index1=2052&a=MB010000\n",
      "https://www.moneydj.com/KMDJ/News/NewsRealList.aspx?index1=2063&a=MB010000\n",
      "https://www.moneydj.com/KMDJ/News/NewsRealList.aspx?index1=2091&a=MB010000\n",
      "https://www.moneydj.com/KMDJ/News/NewsRealList.aspx?index1=2140&a=MB010000\n",
      "https://www.moneydj.com/KMDJ/News/NewsRealList.aspx?index1=2149&a=MB010000\n",
      "https://www.moneydj.com/KMDJ/News/NewsRealList.aspx?index1=2170&a=MB010000\n",
      "https://www.moneydj.com/KMDJ/News/NewsRealList.aspx?index1=2195&a=MB010000\n",
      "https://www.moneydj.com/KMDJ/News/NewsRealList.aspx?index1=2202&a=MB010000\n",
      "https://www.moneydj.com/KMDJ/News/NewsRealList.aspx?index1=2215&a=MB010000\n",
      "https://www.moneydj.com/KMDJ/News/NewsRealList.aspx?index1=2245&a=MB010000\n",
      "https://www.moneydj.com/KMDJ/News/NewsRealList.aspx?index1=2263&a=MB010000\n",
      "https://www.moneydj.com/KMDJ/News/NewsRealList.aspx?index1=2276&a=MB010000\n",
      "https://www.moneydj.com/KMDJ/News/NewsRealList.aspx?index1=2283&a=MB010000\n",
      "https://www.moneydj.com/KMDJ/News/NewsRealList.aspx?index1=2304&a=MB010000\n",
      "https://www.moneydj.com/KMDJ/News/NewsRealList.aspx?index1=2315&a=MB010000\n",
      "https://www.moneydj.com/KMDJ/News/NewsRealList.aspx?index1=2329&a=MB010000\n",
      "https://www.moneydj.com/KMDJ/News/NewsRealList.aspx?index1=2345&a=MB010000\n",
      "https://www.moneydj.com/KMDJ/News/NewsRealList.aspx?index1=2384&a=MB010000\n",
      "https://www.moneydj.com/KMDJ/News/NewsRealList.aspx?index1=2394&a=MB010000\n",
      "https://www.moneydj.com/KMDJ/News/NewsRealList.aspx?index1=2407&a=MB010000\n",
      "https://www.moneydj.com/KMDJ/News/NewsRealList.aspx?index1=2423&a=MB010000\n",
      "https://www.moneydj.com/KMDJ/News/NewsRealList.aspx?index1=2507&a=MB010000\n",
      "https://www.moneydj.com/KMDJ/News/NewsRealList.aspx?index1=2522&a=MB010000\n",
      "https://www.moneydj.com/KMDJ/News/NewsRealList.aspx?index1=2525&a=MB010000\n",
      "https://www.moneydj.com/KMDJ/News/NewsRealList.aspx?index1=2536&a=MB010000\n",
      "https://www.moneydj.com/KMDJ/News/NewsRealList.aspx?index1=2547&a=MB010000\n",
      "https://www.moneydj.com/KMDJ/News/NewsRealList.aspx?index1=2573&a=MB010000\n",
      "https://www.moneydj.com/KMDJ/News/NewsRealList.aspx?index1=2580&a=MB010000\n",
      "https://www.moneydj.com/KMDJ/News/NewsRealList.aspx?index1=2583&a=MB010000\n",
      "https://www.moneydj.com/KMDJ/News/NewsRealList.aspx?index1=2585&a=MB010000\n",
      "https://www.moneydj.com/KMDJ/News/NewsRealList.aspx?index1=2600&a=MB010000\n",
      "https://www.moneydj.com/KMDJ/News/NewsRealList.aspx?index1=2629&a=MB010000\n",
      "https://www.moneydj.com/KMDJ/News/NewsRealList.aspx?index1=2649&a=MB010000\n",
      "https://www.moneydj.com/KMDJ/News/NewsRealList.aspx?index1=2654&a=MB010000\n",
      "https://www.moneydj.com/KMDJ/News/NewsRealList.aspx?index1=2661&a=MB010000\n",
      "https://www.moneydj.com/KMDJ/News/NewsRealList.aspx?index1=2688&a=MB010000\n",
      "https://www.moneydj.com/KMDJ/News/NewsRealList.aspx?index1=2699&a=MB010000\n",
      "https://www.moneydj.com/KMDJ/News/NewsRealList.aspx?index1=2707&a=MB010000\n",
      "https://www.moneydj.com/KMDJ/News/NewsRealList.aspx?index1=2731&a=MB010000\n",
      "https://www.moneydj.com/KMDJ/News/NewsRealList.aspx?index1=2732&a=MB010000\n",
      "https://www.moneydj.com/KMDJ/News/NewsRealList.aspx?index1=2744&a=MB010000\n",
      "https://www.moneydj.com/KMDJ/News/NewsRealList.aspx?index1=2765&a=MB010000\n",
      "https://www.moneydj.com/KMDJ/News/NewsRealList.aspx?index1=2767&a=MB010000\n",
      "https://www.moneydj.com/KMDJ/News/NewsRealList.aspx?index1=2786&a=MB010000\n",
      "https://www.moneydj.com/KMDJ/News/NewsRealList.aspx?index1=2791&a=MB010000\n",
      "https://www.moneydj.com/KMDJ/News/NewsRealList.aspx?index1=2805&a=MB010000\n",
      "https://www.moneydj.com/KMDJ/News/NewsRealList.aspx?index1=2817&a=MB010000\n",
      "https://www.moneydj.com/KMDJ/News/NewsRealList.aspx?index1=2826&a=MB010000\n",
      "https://www.moneydj.com/KMDJ/News/NewsRealList.aspx?index1=2840&a=MB010000\n",
      "https://www.moneydj.com/KMDJ/News/NewsRealList.aspx?index1=2847&a=MB010000\n",
      "https://www.moneydj.com/KMDJ/News/NewsRealList.aspx?index1=2883&a=MB010000\n",
      "https://www.moneydj.com/KMDJ/News/NewsRealList.aspx?index1=2895&a=MB010000\n",
      "https://www.moneydj.com/KMDJ/News/NewsRealList.aspx?index1=2907&a=MB010000\n",
      "https://www.moneydj.com/KMDJ/News/NewsRealList.aspx?index1=2922&a=MB010000\n",
      "https://www.moneydj.com/KMDJ/News/NewsRealList.aspx?index1=2946&a=MB010000\n",
      "https://www.moneydj.com/KMDJ/News/NewsRealList.aspx?index1=2955&a=MB010000\n",
      "https://www.moneydj.com/KMDJ/News/NewsRealList.aspx?index1=3003&a=MB010000\n",
      "https://www.moneydj.com/KMDJ/News/NewsRealList.aspx?index1=3020&a=MB010000\n",
      "https://www.moneydj.com/KMDJ/News/NewsRealList.aspx?index1=3043&a=MB010000\n",
      "https://www.moneydj.com/KMDJ/News/NewsRealList.aspx?index1=3052&a=MB010000\n",
      "https://www.moneydj.com/KMDJ/News/NewsRealList.aspx?index1=3068&a=MB010000\n",
      "https://www.moneydj.com/KMDJ/News/NewsRealList.aspx?index1=3076&a=MB010000\n",
      "https://www.moneydj.com/KMDJ/News/NewsRealList.aspx?index1=3090&a=MB010000\n",
      "https://www.moneydj.com/KMDJ/News/NewsRealList.aspx?index1=3096&a=MB010000\n",
      "https://www.moneydj.com/KMDJ/News/NewsRealList.aspx?index1=3101&a=MB010000\n",
      "https://www.moneydj.com/KMDJ/News/NewsRealList.aspx?index1=3109&a=MB010000\n",
      "https://www.moneydj.com/KMDJ/News/NewsRealList.aspx?index1=3134&a=MB010000\n",
      "https://www.moneydj.com/KMDJ/News/NewsRealList.aspx?index1=3143&a=MB010000\n",
      "https://www.moneydj.com/KMDJ/News/NewsRealList.aspx?index1=3157&a=MB010000\n",
      "https://www.moneydj.com/KMDJ/News/NewsRealList.aspx?index1=3171&a=MB010000\n",
      "https://www.moneydj.com/KMDJ/News/NewsRealList.aspx?index1=3186&a=MB010000\n",
      "https://www.moneydj.com/KMDJ/News/NewsRealList.aspx?index1=3205&a=MB010000\n",
      "https://www.moneydj.com/KMDJ/News/NewsRealList.aspx?index1=3219&a=MB010000\n",
      "https://www.moneydj.com/KMDJ/News/NewsRealList.aspx?index1=3265&a=MB010000\n",
      "https://www.moneydj.com/KMDJ/News/NewsRealList.aspx?index1=3276&a=MB010000\n",
      "https://www.moneydj.com/KMDJ/News/NewsRealList.aspx?index1=3294&a=MB010000\n",
      "https://www.moneydj.com/KMDJ/News/NewsRealList.aspx?index1=3310&a=MB010000\n",
      "https://www.moneydj.com/KMDJ/News/NewsRealList.aspx?index1=3331&a=MB010000\n",
      "https://www.moneydj.com/KMDJ/News/NewsRealList.aspx?index1=3337&a=MB010000\n",
      "https://www.moneydj.com/KMDJ/News/NewsRealList.aspx?index1=3351&a=MB010000\n",
      "https://www.moneydj.com/KMDJ/News/NewsRealList.aspx?index1=3355&a=MB010000\n",
      "https://www.moneydj.com/KMDJ/News/NewsRealList.aspx?index1=3378&a=MB010000\n",
      "https://www.moneydj.com/KMDJ/News/NewsRealList.aspx?index1=3396&a=MB010000\n",
      "https://www.moneydj.com/KMDJ/News/NewsRealList.aspx?index1=3406&a=MB010000\n",
      "https://www.moneydj.com/KMDJ/News/NewsRealList.aspx?index1=3422&a=MB010000\n",
      "https://www.moneydj.com/KMDJ/News/NewsRealList.aspx?index1=3433&a=MB010000\n",
      "https://www.moneydj.com/KMDJ/News/NewsRealList.aspx?index1=3440&a=MB010000\n",
      "https://www.moneydj.com/KMDJ/News/NewsRealList.aspx?index1=3467&a=MB010000\n",
      "https://www.moneydj.com/KMDJ/News/NewsRealList.aspx?index1=3482&a=MB010000\n"
     ]
    }
   ],
   "source": [
    "%cd /workspace/twint/app\n",
    "import pandas as pd\n",
    "import random\n",
    "\n",
    "# df = pd.DataFrame(stock.data)\n",
    "# df.to_csv(\"tw-2330.csv\", index=False)\n",
    "\n",
    "data = pd.read_csv('/workspace/twint/app/outputs/2020-08-09/17-13-53/error_urls.csv')\n",
    "# data = pd.read_csv(None)\n",
    "# proxies = list(data[0])\n",
    "# list(data[\"url\"])[0]\n",
    "for u in data[\"url\"]:\n",
    "    print(u)"
   ]
  },
  {
   "cell_type": "markdown",
   "metadata": {},
   "source": [
    "# Newspaper3k"
   ]
  },
  {
   "cell_type": "code",
   "execution_count": 6,
   "metadata": {},
   "outputs": [],
   "source": [
    "import newspaper\n",
    "\n",
    "cnbc = newspaper.build('https://www.cnbc.com/markets/')"
   ]
  },
  {
   "cell_type": "code",
   "execution_count": 10,
   "metadata": {},
   "outputs": [],
   "source": [
    "for a in cnbc.articles:\n",
    "    print(a)"
   ]
  },
  {
   "cell_type": "code",
   "execution_count": 1,
   "metadata": {},
   "outputs": [
    {
     "name": "stderr",
     "output_type": "stream",
     "text": [
      "Building prefix dict from /usr/local/lib/python3.7/site-packages/jieba/dict.txt ...\n",
      "Loading model from cache /tmp/jieba.cache\n",
      "Loading model cost 1.695194959640503 seconds.\n",
      "Prefix dict has been built succesfully.\n"
     ]
    },
    {
     "data": {
      "text/plain": [
       "defaultdict(dict,\n",
       "            {'fb': {'app_id': 325242790993768,\n",
       "              'pages': '107207125979624,341172005895696,316306791736155,659317060868369,586654018059088'},\n",
       "             'og': {'site_name': 'Anue鉅亨',\n",
       "              'locale': 'zh_TW',\n",
       "              'title': '經濟重啟降低避險需求 高盛開始做空美元 | Anue鉅亨 - 美股',\n",
       "              'description': '隨著新冠肺炎 (COVID-19) 疫情放緩，各國政府開始逐步重啟商業活動，市場預期經濟有望溫和復甦，因此使得投資人對於美元的避險需求亦隨之降低，促使高盛開始建立做空美元的部位。',\n",
       "              'type': 'article',\n",
       "              'url': 'https://news.cnyes.com/news/id/4484825',\n",
       "              'image': {'identifier': 'https://cimg.cnyes.cool/prod/news/4484825/l/836fe06fed84d39ad52c72730badccdc.jpg',\n",
       "               'width': 640,\n",
       "               'height': 360}},\n",
       "             'description': '隨著新冠肺炎 (COVID-19) 疫情放緩，各國政府開始逐步重啟商業活動，市場預期經濟有望溫和復甦，因此使得投資人對於美元的避險需求亦隨之降低，促使高盛開始建立做空美元的部位。',\n",
       "             'article': {'publisher': 'https://www.facebook.com/cnYES',\n",
       "              'published_time': '2020-06-02T00:04:41+08:00',\n",
       "              'author': 'https://www.facebook.com/cnYES'},\n",
       "             'msapplication-TileColor': '#da532c',\n",
       "             'msapplication-TileImage': '/mstile-144x144.png',\n",
       "             'theme-color': '#ffffff',\n",
       "             'viewport': 'width=device-width, initial-scale=1, user-scalable=yes',\n",
       "             'buildName': '3.17.1'})"
      ]
     },
     "execution_count": 1,
     "metadata": {},
     "output_type": "execute_result"
    }
   ],
   "source": [
    "import newspaper\n",
    "\n",
    "# url = \"https://www.cnbc.com/2020/04/20/oil-markets-us-crude-futures-in-focus-as-coronavirus-dents-demand.html\"\n",
    "url = \"https://news.cnyes.com/news/id/4484825\"\n",
    "# url = \"https://tw.stock.yahoo.com/news/%E5%8F%B0%E5%8C%97%E8%82%A1%E5%B8%82-%E6%95%A3%E6%88%B6%E8%B3%87%E9%87%91%E5%9B%9E%E7%B1%A0-%E6%8D%A7%E7%B4%85%E9%8A%85%E6%9D%BF%E8%82%A1-083011251.html\"\n",
    "a = newspaper.Article(url=url)\n",
    "a.download()\n",
    "a.parse()\n",
    "a.meta_data"
   ]
  },
  {
   "cell_type": "code",
   "execution_count": 36,
   "metadata": {},
   "outputs": [
    {
     "name": "stdout",
     "output_type": "stream",
     "text": [
      "b'<a href=\"https://invest.cnyes.com/twstock/tws/2301\">2301-TW</a>) &#20170; (9) &#26085;&#20659;&#20986;&#26071;&#19979;&#24037;&#26989;&#33258;&#21205;&#21270;&#20107;&#26989;&#37096;&#35009;&#21729;&#30334;&#20154;&#65292;&#23565;&#27492;&#65292;&#20809;&#23542;&#31185;&#28548;&#28165;&#65292;&#21482;&#26159;&#22240;&#25033;&#32771;&#26680;&#65292;&#36914;&#34892;&#30340;&#32068;&#32340;&#20839;&#37096;&#24120;&#24907;&#24615;&#35519;&#25972;&#65292;&#20197;&#20839;&#36681;&#28858;&#20778;&#20808;&#65292;&#20006;&#38750;&#22914;&#22806;&#20659;&#25152;&#35498;&#30340;&#35009;&#21729;&#19978;&#30334;&#20154;&#12290;'\n"
     ]
    }
   ],
   "source": [
    "from lxml import etree\n",
    "\n",
    "for e in a.clean_top_node.cssselect('a'):\n",
    "    print(etree.tostring(e))\n",
    "\n",
    "# for p in set([e.getparent() for e in node.cssselect('a')]):\n",
    "#     text = etree.tostring(\n",
    "#         p, method='text', encoding='utf-8').decode('utf-8').strip()\n",
    "#     tk = _Ticker(text)\n",
    "\n",
    "#     for a in p.cssselect('a'):\n",
    "#         href = a.get('href')\n",
    "#         queries = dict(urllib.parse.parse_qsl(\n",
    "#             urllib.parse.urlsplit(href).query))\n",
    "#         try:\n",
    "#             tk.labels.append((a.text, queries['symbol']))\n",
    "#         except KeyError:\n",
    "#             continue\n",
    "#     if len(tk.labels) > 0:\n",
    "#         tickers.append(tk)"
   ]
  },
  {
   "cell_type": "code",
   "execution_count": 10,
   "metadata": {},
   "outputs": [
    {
     "data": {
      "text/html": [
       "<div>\n",
       "<style scoped>\n",
       "    .dataframe tbody tr th:only-of-type {\n",
       "        vertical-align: middle;\n",
       "    }\n",
       "\n",
       "    .dataframe tbody tr th {\n",
       "        vertical-align: top;\n",
       "    }\n",
       "\n",
       "    .dataframe thead th {\n",
       "        text-align: right;\n",
       "    }\n",
       "</style>\n",
       "<table border=\"1\" class=\"dataframe\">\n",
       "  <thead>\n",
       "    <tr style=\"text-align: right;\">\n",
       "      <th></th>\n",
       "      <th>ticker</th>\n",
       "      <th>url</th>\n",
       "    </tr>\n",
       "  </thead>\n",
       "  <tbody>\n",
       "    <tr>\n",
       "      <th>0</th>\n",
       "      <td>NaN</td>\n",
       "      <td>https://tw.stock.yahoo.com/rss/url/d/e/N2.html</td>\n",
       "    </tr>\n",
       "    <tr>\n",
       "      <th>1</th>\n",
       "      <td>NaN</td>\n",
       "      <td>https://tw.stock.yahoo.com/rss/url/d/e/N3.html</td>\n",
       "    </tr>\n",
       "    <tr>\n",
       "      <th>2</th>\n",
       "      <td>NaN</td>\n",
       "      <td>https://tw.stock.yahoo.com/rss/url/d/e/N4.html</td>\n",
       "    </tr>\n",
       "    <tr>\n",
       "      <th>3</th>\n",
       "      <td>NaN</td>\n",
       "      <td>https://tw.stock.yahoo.com/rss/url/d/e/N5.html</td>\n",
       "    </tr>\n",
       "    <tr>\n",
       "      <th>4</th>\n",
       "      <td>NaN</td>\n",
       "      <td>https://tw.stock.yahoo.com/rss/url/d/e/N6.html</td>\n",
       "    </tr>\n",
       "    <tr>\n",
       "      <th>...</th>\n",
       "      <td>...</td>\n",
       "      <td>...</td>\n",
       "    </tr>\n",
       "    <tr>\n",
       "      <th>6377</th>\n",
       "      <td>WYY</td>\n",
       "      <td>http://finance.yahoo.com/rss/headline?s=WYY</td>\n",
       "    </tr>\n",
       "    <tr>\n",
       "      <th>6378</th>\n",
       "      <td>WTT</td>\n",
       "      <td>http://finance.yahoo.com/rss/headline?s=WTT</td>\n",
       "    </tr>\n",
       "    <tr>\n",
       "      <th>6379</th>\n",
       "      <td>XTNT</td>\n",
       "      <td>http://finance.yahoo.com/rss/headline?s=XTNT</td>\n",
       "    </tr>\n",
       "    <tr>\n",
       "      <th>6380</th>\n",
       "      <td>ZDGE</td>\n",
       "      <td>http://finance.yahoo.com/rss/headline?s=ZDGE</td>\n",
       "    </tr>\n",
       "    <tr>\n",
       "      <th>6381</th>\n",
       "      <td>ZOM</td>\n",
       "      <td>http://finance.yahoo.com/rss/headline?s=ZOM</td>\n",
       "    </tr>\n",
       "  </tbody>\n",
       "</table>\n",
       "<p>6394 rows × 2 columns</p>\n",
       "</div>"
      ],
      "text/plain": [
       "     ticker                                             url\n",
       "0       NaN  https://tw.stock.yahoo.com/rss/url/d/e/N2.html\n",
       "1       NaN  https://tw.stock.yahoo.com/rss/url/d/e/N3.html\n",
       "2       NaN  https://tw.stock.yahoo.com/rss/url/d/e/N4.html\n",
       "3       NaN  https://tw.stock.yahoo.com/rss/url/d/e/N5.html\n",
       "4       NaN  https://tw.stock.yahoo.com/rss/url/d/e/N6.html\n",
       "...     ...                                             ...\n",
       "6377    WYY     http://finance.yahoo.com/rss/headline?s=WYY\n",
       "6378    WTT     http://finance.yahoo.com/rss/headline?s=WTT\n",
       "6379   XTNT    http://finance.yahoo.com/rss/headline?s=XTNT\n",
       "6380   ZDGE    http://finance.yahoo.com/rss/headline?s=ZDGE\n",
       "6381    ZOM     http://finance.yahoo.com/rss/headline?s=ZOM\n",
       "\n",
       "[6394 rows x 2 columns]"
      ]
     },
     "execution_count": 10,
     "metadata": {},
     "output_type": "execute_result"
    }
   ],
   "source": [
    "import pandas as pd\n",
    "import numpy as np\n",
    "\n",
    "import glob\n",
    "\n",
    "# dfs = [pd.read_csv(f) for f in glob.glob(\"/workspace/twint/app/resource/rss/*.csv\")]\n",
    "# pd.concat(dfs)\n",
    "\n",
    "# for entry in \n",
    "\n",
    "# from urllib.parse import urlparse\n",
    "\n",
    "# u = urlparse('http://www.example.test/foo/bar').netloc\n",
    "# print('.'.join(u.split('.')[1:]))\n",
    "\n",
    "\n",
    "# df = pd.read_csv('/workspace/twint/app/resource/rss_yahoo_tw.csv')\n",
    "# # return df.iterrows()\n",
    "# for index, r in df.iterrows():\n",
    "#     print(type(r['url']))    \n",
    "#     print(type(r['ticker']))    \n",
    "#     print(np.isnan(r['ticker']))\n",
    "#     print(r['ticker'], r['url'])\n",
    "    \n",
    "# # pd.DataFrame({\n",
    "# #     \"url\": [1,2,3,4]\n",
    "# # })\n"
   ]
  },
  {
   "cell_type": "markdown",
   "metadata": {},
   "source": [
    "# aiohttp"
   ]
  },
  {
   "cell_type": "code",
   "execution_count": 2,
   "metadata": {},
   "outputs": [],
   "source": [
    "import aiohttp\n",
    "from newspaper import Article\n",
    "\n",
    "url = 'http://cnb.cx/sytyjc'\n",
    "# url = 'https://www.cnbc.com/2020/04/19/why-big-techs-coronavirus-goodwill-wont-help-in-antitrust-probes.html'\n",
    "\n",
    "async def get():\n",
    "    async with aiohttp.ClientSession() as sess:\n",
    "        async with sess.get(url) as resp:\n",
    "#             print(resp)\n",
    "#             print(resp.status)\n",
    "#             print(resp.headers)\n",
    "#             print(resp.url)\n",
    "#             print(resp.history)\n",
    "            html = await resp.text()\n",
    "#             article = Article(str(resp.url))\n",
    "#             article.set_html()\n",
    "#             article.parse()\n",
    "            return resp, html\n",
    "\n",
    "# article, resp = await get()\n",
    "# print(article)\n",
    "try:\n",
    "    resp, html = await get()\n",
    "except aiohttp.ClientError as e:\n",
    "    print(e)"
   ]
  },
  {
   "cell_type": "code",
   "execution_count": 6,
   "metadata": {},
   "outputs": [
    {
     "name": "stdout",
     "output_type": "stream",
     "text": [
      "name 'error' is not defined\n",
      "aa\n"
     ]
    }
   ],
   "source": [
    "try:\n",
    "    try:\n",
    "        raise error()\n",
    "    except IOError as e:\n",
    "        print(e)\n",
    "except Exception as e:\n",
    "    print(e)\n",
    "finally:\n",
    "    print('aa')"
   ]
  },
  {
   "cell_type": "code",
   "execution_count": 11,
   "metadata": {},
   "outputs": [
    {
     "name": "stdout",
     "output_type": "stream",
     "text": [
      "None\n"
     ]
    }
   ],
   "source": [
    "import re\n",
    "\n",
    "p = re.compile(r'^\\/tag\\/(\\w+)') \n",
    "m = p.search('/tag/') \n",
    "# print(m.group())\n",
    "print(m)\n",
    "# m.group(1)\n",
    "if m is not None:\n",
    "    print(m.group(1))"
   ]
  },
  {
   "cell_type": "code",
   "execution_count": 48,
   "metadata": {},
   "outputs": [
    {
     "name": "stdout",
     "output_type": "stream",
     "text": [
      "/tag/光寶科\n",
      "/tag/LED\n",
      "/tag/資訊\n",
      "/tag/電源\n",
      "/tag/裁員\n"
     ]
    }
   ],
   "source": [
    "from bs4 import BeautifulSoup\n",
    "\n",
    "soup = BeautifulSoup(html, 'html.parser')\n",
    "for link in soup.find_all('a'):\n",
    "    href = link.get('href')\n",
    "    if href is not None and '/tag/' in href:\n",
    "        print(href)\n",
    "#     print(link.get('href'))\n",
    "    "
   ]
  },
  {
   "cell_type": "code",
   "execution_count": 16,
   "metadata": {},
   "outputs": [
    {
     "data": {
      "text/plain": [
       "'Mozilla/5.0 (Windows NT 5.1) AppleWebKit/537.36 (KHTML, like Gecko) Chrome/27.0.1453.93 Safari/537.36'"
      ]
     },
     "execution_count": 16,
     "metadata": {},
     "output_type": "execute_result"
    }
   ],
   "source": [
    "from fake_useragent import UserAgent\n",
    "\n",
    "ua = UserAgent(verify_ssl=False, use_cache_server=False).random\n",
    "ua"
   ]
  },
  {
   "cell_type": "code",
   "execution_count": 28,
   "metadata": {},
   "outputs": [
    {
     "name": "stdout",
     "output_type": "stream",
     "text": [
      "200\n",
      "<class 'int'>\n"
     ]
    }
   ],
   "source": [
    "import asyncio\n",
    "import aiohttp\n",
    "from fake_useragent import UserAgent\n",
    "\n",
    "# url = \"https://www.cnbc.com/id/45044666\" # 404\n",
    "urls = [\n",
    "    \"https://httpstat.us/404\",\n",
    "    \"https://httpstat.us/200\",\n",
    "]\n",
    "\n",
    "async def get(url):\n",
    "    ua = UserAgent(verify_ssl=False, use_cache_server=False).random\n",
    "    async with aiohttp.ClientSession(raise_for_status=True, headers=[(\"User-Agent\", ua)]) as sess:\n",
    "            async with sess.get(url) as resp:\n",
    "                return resp\n",
    "\n",
    "\n",
    "# await asyncio.gather(*[get(u) for u in urls])\n",
    "\n",
    "\n",
    "    \n",
    "try:\n",
    "    resp = await get(urls[1])\n",
    "    print(resp.status)\n",
    "    print(type(resp.status))\n",
    "except aiohttp.ClientResponseError as e:\n",
    "    print(e)\n",
    "    print(type(e.status))\n",
    "    print(e.headers)\n",
    "    print(e.request_info.real_url)\n",
    "    print(e.request_info)"
   ]
  },
  {
   "cell_type": "code",
   "execution_count": 137,
   "metadata": {},
   "outputs": [
    {
     "data": {
      "text/plain": [
       "collections.defaultdict"
      ]
     },
     "execution_count": 137,
     "metadata": {},
     "output_type": "execute_result"
    }
   ],
   "source": [
    "import json\n",
    "# article.meta_keywords\n",
    "# article.meta_site_name\n",
    "# s = json.dumps(article.meta_data)\n",
    "# json.loads(s)\n",
    "# article.article_html\n",
    "# article.source_url\n",
    "type(article.meta_data)"
   ]
  },
  {
   "cell_type": "code",
   "execution_count": 2,
   "metadata": {},
   "outputs": [
    {
     "data": {
      "text/plain": [
       "<Element div at 0x7f81a24329b0>"
      ]
     },
     "execution_count": 2,
     "metadata": {},
     "output_type": "execute_result"
    }
   ],
   "source": [
    "from lxml import etree\n",
    "\n",
    "article.clean_top_node"
   ]
  },
  {
   "cell_type": "code",
   "execution_count": 120,
   "metadata": {},
   "outputs": [
    {
     "name": "stdout",
     "output_type": "stream",
     "text": [
      "ParsedTicker(text=\"Recent actions by both agencies back up their claims. At the end of March, the DOJ Antitrust Division announced it would require military technology companies Raytheon and United Technologies Corporation to divest parts of their businesses to proceed with their proposed merger. On April 1, the FTC announced its lawsuit to unwind tobacco company Altria's $12.8 billion investment in Juul, the e-cigarette company accused of luring adolescents to its products with its marketing.\", tickers=[_TickerAnchor(text='Raytheon ', ticker='UTX'), _TickerAnchor(text='Altria', ticker='MO')])\n",
      "ParsedTicker(text='Up until recently, Facebook, Google, Amazon and Apple had been met with unyielding scrutiny in Washington and most state attorneys general offices, barraged by questions of dominance and privacy violations. Facebook and Google have been most visibly pursued by federal authorities and state attorneys.', tickers=[_TickerAnchor(text='Facebook', ticker='FB'), _TickerAnchor(text='Google', ticker='GOOGL'), _TickerAnchor(text='Amazon', ticker='AMZN'), _TickerAnchor(text='Apple', ticker='AAPL'), _TickerAnchor(text='Google', ticker='GOOGL')])\n",
      "ParsedTicker(text=\"Still, with tech companies ingraining themselves in the federal government's recovery plans, government watchdogs fear White House pressure could taint the probes. Antitrust professionals have frequently pointed to a handful of cases undertaken by the Trump administration's Antitrust Division, like its attempt to block AT&T's acquisition of Time Warner, that they argue were influenced by the White House. The Antitrust Division has repeatedly denied outside influence.\", tickers=[_TickerAnchor(text='AT&T', ticker='T')])\n"
     ]
    }
   ],
   "source": [
    "from urllib import parse\n",
    "import urllib\n",
    "from lxml import etree\n",
    "# from bs4 import BeautifulSoup\n",
    "\n",
    "# resp\n",
    "# resp.headers\n",
    "article.meta_data\n",
    "# type(article.top_node)\n",
    "# tostring(article.top_node)\n",
    "\n",
    "# soup = BeautifulSoup(article.top_node, 'lxml')\n",
    "# BeautifulSoup(doc, 'lxml')\n",
    "# soup\n",
    "\n",
    "# type(article.top_node)\n",
    "# print(etree.tostring(article.top_node, pretty_print=True).decode('utf-8'))\n",
    "# print(etree.tostring(article.clean_top_node, pretty_print=True).decode('utf-8'))\n",
    "# print('this is a \\'try')\n",
    "\n",
    "# for e in article.clean_top_node.cssselect('a'):\n",
    "#     print(etree.tostring(e))\n",
    "#     print(e.getparent().text)\n",
    "#     print(e.text)\n",
    "#     print(e.get('href'))\n",
    "#     print(e.keys())\n",
    "\n",
    "# es = article.clean_top_node.cssselect('a')\n",
    "# href = e.get('href')\n",
    "# print(dict(urllib.parse.parse_qsl(urllib.parse.urlsplit(href).query)))\n",
    "# print(e.text)\n",
    "# print(etree.tostring(e.getparent(), method='text', pretty_print=True, encoding='utf-8').decode('utf-8'))\n",
    "# print(e.getparent().text)\n",
    "# print(etree.tostring(article.clean_top_node, pretty_print=True).decode('utf-8'))\n",
    "\n",
    "# es[0].getparent() is es[1].getparent()\n",
    "# set([es[0].getparent(), es[1].getparent()])\n",
    "# e = es[0].getparent()\n",
    "# # e.cssselect('a')\n",
    "# print(etree.tostring(e, method='text', encoding='utf-8').decode('utf-8').strip())\n",
    "# for a in e.cssselect('a'):\n",
    "#     print(etree.tostring(a, with_tail=False))\n",
    "#     print(a.text)\n",
    "#     print(a.items())\n",
    "\n",
    "import dataclasses\n",
    "from typing import Tuple, List\n",
    "\n",
    "\n",
    "@dataclasses.dataclass\n",
    "class _TickerAnchor:\n",
    "    text: str\n",
    "    ticker: str\n",
    "\n",
    "\n",
    "@dataclasses.dataclass\n",
    "class ParsedTicker:\n",
    "    '''<p>...some text...<a href='$AAA'>...some anchor text</a>...<a>....</a>...</p>\n",
    "    '''\n",
    "    text: str\n",
    "    tickers: List[_TickerAnchor] = dataclasses.field(default_factory=list)\n",
    "\n",
    "\n",
    "node =  article.clean_top_node\n",
    "\n",
    "data = []\n",
    "for p in set([e.getparent() for e in node.cssselect('a')]):\n",
    "    text = etree.tostring(\n",
    "        p, method='text', encoding='utf-8').decode('utf-8').strip()\n",
    "    parsed = ParsedTicker(text)\n",
    "#     print(parsed)\n",
    "    for a in p.cssselect('a'):\n",
    "#         etree.tostring(a)\n",
    "        href = a.get('href')\n",
    "        queries = dict(urllib.parse.parse_qsl(\n",
    "            urllib.parse.urlsplit(href).query))\n",
    "        try:\n",
    "            parsed.tickers.append(\n",
    "                _TickerAnchor(a.text, queries['symbol'])\n",
    "            )\n",
    "        except KeyError:\n",
    "            continue\n",
    "    if len(parsed.tickers) > 0:\n",
    "        data.append(parsed)\n",
    "        print(parsed)\n",
    "\n",
    "# data[2]"
   ]
  },
  {
   "cell_type": "code",
   "execution_count": 50,
   "metadata": {},
   "outputs": [
    {
     "name": "stdout",
     "output_type": "stream",
     "text": [
      "SplitResult(scheme='', netloc='', path='/quotes/', query='symbol=FB', fragment='')\n"
     ]
    },
    {
     "data": {
      "text/plain": [
       "{'symbol': 'FB'}"
      ]
     },
     "execution_count": 50,
     "metadata": {},
     "output_type": "execute_result"
    }
   ],
   "source": [
    "from urllib import parse\n",
    "import urllib\n",
    "url = \"/quotes/?symbol=FB\"\n",
    "# url = \"http://www.example.org/default.html?ct=32&op=92&item=98\"\n",
    "print(urllib.parse.urlsplit(url))\n",
    "# parse.parse_qs(parse.urlsplit(url).query)\n",
    "dict(urllib.parse.parse_qsl(urllib.parse.urlsplit(url).query))"
   ]
  },
  {
   "cell_type": "markdown",
   "metadata": {},
   "source": [
    "# asyncio"
   ]
  },
  {
   "cell_type": "code",
   "execution_count": 15,
   "metadata": {},
   "outputs": [
    {
     "name": "stdout",
     "output_type": "stream",
     "text": [
      "start main()\n",
      "worker-0\n",
      "worker-1\n",
      "worker-2\n"
     ]
    },
    {
     "ename": "KeyboardInterrupt",
     "evalue": "",
     "output_type": "error",
     "traceback": [
      "\u001b[0;31m---------------------------------------------------------------------------\u001b[0m",
      "\u001b[0;31mKeyboardInterrupt\u001b[0m                         Traceback (most recent call last)",
      "\u001b[0;32m<ipython-input-15-21f23b6f8819>\u001b[0m in \u001b[0;36m<module>\u001b[0;34m\u001b[0m\n\u001b[1;32m     60\u001b[0m         \u001b[0;32mawait\u001b[0m \u001b[0masyncio\u001b[0m\u001b[0;34m.\u001b[0m\u001b[0msleep\u001b[0m\u001b[0;34m(\u001b[0m\u001b[0mwait\u001b[0m\u001b[0;34m.\u001b[0m\u001b[0mtotal_seconds\u001b[0m\u001b[0;34m(\u001b[0m\u001b[0;34m)\u001b[0m\u001b[0;34m)\u001b[0m\u001b[0;34m\u001b[0m\u001b[0;34m\u001b[0m\u001b[0m\n\u001b[1;32m     61\u001b[0m \u001b[0;34m\u001b[0m\u001b[0m\n\u001b[0;32m---> 62\u001b[0;31m \u001b[0masyncio\u001b[0m\u001b[0;34m.\u001b[0m\u001b[0mrun\u001b[0m\u001b[0;34m(\u001b[0m\u001b[0mmain\u001b[0m\u001b[0;34m(\u001b[0m\u001b[0;34m)\u001b[0m\u001b[0;34m)\u001b[0m\u001b[0;34m\u001b[0m\u001b[0;34m\u001b[0m\u001b[0m\n\u001b[0m",
      "\u001b[0;32m/usr/local/lib/python3.7/site-packages/nest_asyncio.py\u001b[0m in \u001b[0;36mrun\u001b[0;34m(future, debug)\u001b[0m\n\u001b[1;32m     29\u001b[0m         \u001b[0mloop\u001b[0m \u001b[0;34m=\u001b[0m \u001b[0masyncio\u001b[0m\u001b[0;34m.\u001b[0m\u001b[0mget_event_loop\u001b[0m\u001b[0;34m(\u001b[0m\u001b[0;34m)\u001b[0m\u001b[0;34m\u001b[0m\u001b[0;34m\u001b[0m\u001b[0m\n\u001b[1;32m     30\u001b[0m         \u001b[0mloop\u001b[0m\u001b[0;34m.\u001b[0m\u001b[0mset_debug\u001b[0m\u001b[0;34m(\u001b[0m\u001b[0mdebug\u001b[0m\u001b[0;34m)\u001b[0m\u001b[0;34m\u001b[0m\u001b[0;34m\u001b[0m\u001b[0m\n\u001b[0;32m---> 31\u001b[0;31m         \u001b[0;32mreturn\u001b[0m \u001b[0mloop\u001b[0m\u001b[0;34m.\u001b[0m\u001b[0mrun_until_complete\u001b[0m\u001b[0;34m(\u001b[0m\u001b[0mfuture\u001b[0m\u001b[0;34m)\u001b[0m\u001b[0;34m\u001b[0m\u001b[0;34m\u001b[0m\u001b[0m\n\u001b[0m\u001b[1;32m     32\u001b[0m \u001b[0;34m\u001b[0m\u001b[0m\n\u001b[1;32m     33\u001b[0m     \u001b[0;32mif\u001b[0m \u001b[0msys\u001b[0m\u001b[0;34m.\u001b[0m\u001b[0mversion_info\u001b[0m \u001b[0;34m>=\u001b[0m \u001b[0;34m(\u001b[0m\u001b[0;36m3\u001b[0m\u001b[0;34m,\u001b[0m \u001b[0;36m6\u001b[0m\u001b[0;34m,\u001b[0m \u001b[0;36m0\u001b[0m\u001b[0;34m)\u001b[0m\u001b[0;34m:\u001b[0m\u001b[0;34m\u001b[0m\u001b[0;34m\u001b[0m\u001b[0m\n",
      "\u001b[0;32m/usr/local/lib/python3.7/site-packages/nest_asyncio.py\u001b[0m in \u001b[0;36mrun_until_complete\u001b[0;34m(self, future)\u001b[0m\n\u001b[1;32m     87\u001b[0m                 \u001b[0mf\u001b[0m\u001b[0;34m.\u001b[0m\u001b[0m_log_destroy_pending\u001b[0m \u001b[0;34m=\u001b[0m \u001b[0;32mFalse\u001b[0m\u001b[0;34m\u001b[0m\u001b[0;34m\u001b[0m\u001b[0m\n\u001b[1;32m     88\u001b[0m             \u001b[0;32mwhile\u001b[0m \u001b[0;32mnot\u001b[0m \u001b[0mf\u001b[0m\u001b[0;34m.\u001b[0m\u001b[0mdone\u001b[0m\u001b[0;34m(\u001b[0m\u001b[0;34m)\u001b[0m\u001b[0;34m:\u001b[0m\u001b[0;34m\u001b[0m\u001b[0;34m\u001b[0m\u001b[0m\n\u001b[0;32m---> 89\u001b[0;31m                 \u001b[0mself\u001b[0m\u001b[0;34m.\u001b[0m\u001b[0m_run_once\u001b[0m\u001b[0;34m(\u001b[0m\u001b[0;34m)\u001b[0m\u001b[0;34m\u001b[0m\u001b[0;34m\u001b[0m\u001b[0m\n\u001b[0m\u001b[1;32m     90\u001b[0m                 \u001b[0;32mif\u001b[0m \u001b[0mself\u001b[0m\u001b[0;34m.\u001b[0m\u001b[0m_stopping\u001b[0m\u001b[0;34m:\u001b[0m\u001b[0;34m\u001b[0m\u001b[0;34m\u001b[0m\u001b[0m\n\u001b[1;32m     91\u001b[0m                     \u001b[0;32mbreak\u001b[0m\u001b[0;34m\u001b[0m\u001b[0;34m\u001b[0m\u001b[0m\n",
      "\u001b[0;32m/usr/local/lib/python3.7/site-packages/nest_asyncio.py\u001b[0m in \u001b[0;36m_run_once\u001b[0;34m(self)\u001b[0m\n\u001b[1;32m    111\u001b[0m             \u001b[0;32melse\u001b[0m \u001b[0mmin\u001b[0m\u001b[0;34m(\u001b[0m\u001b[0mmax\u001b[0m\u001b[0;34m(\u001b[0m\u001b[0;36m0\u001b[0m\u001b[0;34m,\u001b[0m \u001b[0mscheduled\u001b[0m\u001b[0;34m[\u001b[0m\u001b[0;36m0\u001b[0m\u001b[0;34m]\u001b[0m\u001b[0;34m.\u001b[0m\u001b[0m_when\u001b[0m \u001b[0;34m-\u001b[0m \u001b[0mnow\u001b[0m\u001b[0;34m)\u001b[0m\u001b[0;34m,\u001b[0m \u001b[0;36m10\u001b[0m\u001b[0;34m)\u001b[0m \u001b[0;32mif\u001b[0m \u001b[0mscheduled\u001b[0m\u001b[0;31m \u001b[0m\u001b[0;31m\\\u001b[0m\u001b[0;34m\u001b[0m\u001b[0;34m\u001b[0m\u001b[0m\n\u001b[1;32m    112\u001b[0m             \u001b[0;32melse\u001b[0m \u001b[0;32mNone\u001b[0m\u001b[0;34m\u001b[0m\u001b[0;34m\u001b[0m\u001b[0m\n\u001b[0;32m--> 113\u001b[0;31m         \u001b[0mevent_list\u001b[0m \u001b[0;34m=\u001b[0m \u001b[0mself\u001b[0m\u001b[0;34m.\u001b[0m\u001b[0m_selector\u001b[0m\u001b[0;34m.\u001b[0m\u001b[0mselect\u001b[0m\u001b[0;34m(\u001b[0m\u001b[0mtimeout\u001b[0m\u001b[0;34m)\u001b[0m\u001b[0;34m\u001b[0m\u001b[0;34m\u001b[0m\u001b[0m\n\u001b[0m\u001b[1;32m    114\u001b[0m         \u001b[0mself\u001b[0m\u001b[0;34m.\u001b[0m\u001b[0m_process_events\u001b[0m\u001b[0;34m(\u001b[0m\u001b[0mevent_list\u001b[0m\u001b[0;34m)\u001b[0m\u001b[0;34m\u001b[0m\u001b[0;34m\u001b[0m\u001b[0m\n\u001b[1;32m    115\u001b[0m \u001b[0;34m\u001b[0m\u001b[0m\n",
      "\u001b[0;32m/usr/local/lib/python3.7/selectors.py\u001b[0m in \u001b[0;36mselect\u001b[0;34m(self, timeout)\u001b[0m\n\u001b[1;32m    466\u001b[0m             \u001b[0mready\u001b[0m \u001b[0;34m=\u001b[0m \u001b[0;34m[\u001b[0m\u001b[0;34m]\u001b[0m\u001b[0;34m\u001b[0m\u001b[0;34m\u001b[0m\u001b[0m\n\u001b[1;32m    467\u001b[0m             \u001b[0;32mtry\u001b[0m\u001b[0;34m:\u001b[0m\u001b[0;34m\u001b[0m\u001b[0;34m\u001b[0m\u001b[0m\n\u001b[0;32m--> 468\u001b[0;31m                 \u001b[0mfd_event_list\u001b[0m \u001b[0;34m=\u001b[0m \u001b[0mself\u001b[0m\u001b[0;34m.\u001b[0m\u001b[0m_selector\u001b[0m\u001b[0;34m.\u001b[0m\u001b[0mpoll\u001b[0m\u001b[0;34m(\u001b[0m\u001b[0mtimeout\u001b[0m\u001b[0;34m,\u001b[0m \u001b[0mmax_ev\u001b[0m\u001b[0;34m)\u001b[0m\u001b[0;34m\u001b[0m\u001b[0;34m\u001b[0m\u001b[0m\n\u001b[0m\u001b[1;32m    469\u001b[0m             \u001b[0;32mexcept\u001b[0m \u001b[0mInterruptedError\u001b[0m\u001b[0;34m:\u001b[0m\u001b[0;34m\u001b[0m\u001b[0;34m\u001b[0m\u001b[0m\n\u001b[1;32m    470\u001b[0m                 \u001b[0;32mreturn\u001b[0m \u001b[0mready\u001b[0m\u001b[0;34m\u001b[0m\u001b[0;34m\u001b[0m\u001b[0m\n",
      "\u001b[0;31mKeyboardInterrupt\u001b[0m: "
     ]
    }
   ],
   "source": [
    "import nest_asyncio\n",
    "nest_asyncio.apply()\n",
    "import asyncio\n",
    "import random\n",
    "import time\n",
    "import datetime\n",
    "\n",
    "async def worker(name, queue):\n",
    "    while True:\n",
    "        sleep_for = await queue.get()\n",
    "        print(name)\n",
    "        print(aaa)\n",
    "        try:\n",
    "            print(aaa)\n",
    "#             try:\n",
    "#                 await asyncio.sleep(sleep_for)\n",
    "#                 print(aaa)\n",
    "#             except IOError:\n",
    "#                 pass\n",
    "        except Exception as e:\n",
    "            print(e)\n",
    "        finally:\n",
    "            queue.task_done()\n",
    "            print(f'{name} has slept for {sleep_for:.2f} seconds')    \n",
    "            \n",
    "\n",
    "async def _main():\n",
    "    queue = asyncio.Queue()\n",
    "\n",
    "    total_sleep_time = 0\n",
    "    for _ in range(20):\n",
    "        sleep_for = random.uniform(0.05, 1.0)\n",
    "        total_sleep_time += sleep_for\n",
    "        queue.put_nowait(sleep_for)\n",
    "\n",
    "    tasks = []\n",
    "    for i in range(3):\n",
    "        task = asyncio.create_task(worker(f'worker-{i}', queue))\n",
    "        tasks.append(task)\n",
    "\n",
    "    started_at = time.monotonic()\n",
    "    await queue.join()\n",
    "    total_slept_for = time.monotonic() - started_at\n",
    "\n",
    "    for task in tasks:\n",
    "        task.cancel()\n",
    "    await asyncio.gather(*tasks, return_exceptions=True)\n",
    "\n",
    "    print('====')\n",
    "    print(f'3 workers slept in parallel for {total_slept_for:.2f} seconds')\n",
    "    print(f'total expected sleep time: {total_sleep_time:.2f} seconds')\n",
    "\n",
    "async def main():\n",
    "    while True:\n",
    "        print('start main()')\n",
    "        start = datetime.datetime.now()\n",
    "        await _main()\n",
    "        wait = start + datetime.timedelta(0, 1000) - datetime.datetime.now()\n",
    "        print(f'sleep for {wait.total_seconds()} seconds')\n",
    "        await asyncio.sleep(wait.total_seconds())\n",
    "    \n",
    "asyncio.run(main())"
   ]
  },
  {
   "cell_type": "code",
   "execution_count": 7,
   "metadata": {},
   "outputs": [
    {
     "name": "stdout",
     "output_type": "stream",
     "text": [
      "worker-0\n",
      "fetch\n",
      "\n",
      "<!DOCTYPE\n",
      "worker-0\n",
      "fetch\n",
      "\n",
      "<!DOCTYPE\n",
      "worker-0\n",
      "fetch\n",
      "\n",
      "<!DOCTYPE\n",
      "CancelledError ()\n",
      "====\n",
      "3 workers slept in parallel for 0.49 seconds\n",
      "total expected sleep time: 1.35 seconds\n"
     ]
    }
   ],
   "source": [
    "import nest_asyncio\n",
    "nest_asyncio.apply()\n",
    "import asyncio\n",
    "import random\n",
    "import time\n",
    "import aiohttp\n",
    "\n",
    "async def fetch():\n",
    "    print('fetch')\n",
    "    async with aiohttp.ClientSession(\n",
    "        raise_for_status=True,\n",
    "        timeout=aiohttp.ClientTimeout(total=30)) as sess:\n",
    "        async with sess.get(\"https://docs.python.org/3/library/asyncio-task.html\") as resp:\n",
    "            return await resp.text()\n",
    "\n",
    "async def worker(name, queue):\n",
    "    while True:\n",
    "        try:\n",
    "            sleep_for = await queue.get()\n",
    "            print(name)\n",
    "            html = await fetch()\n",
    "            print(html[:10])\n",
    "        except aiohttp.ClientResponseError as e:\n",
    "#             print(e)\n",
    "            print(type(e).__name__, e.args)\n",
    "        except Exception as e:\n",
    "#             print(e)\n",
    "            print(type(e).__name__, e.args)\n",
    "        finally:\n",
    "            queue.task_done()\n",
    "\n",
    "async def main():\n",
    "    # Create a queue that we will use to store our \"workload\".\n",
    "    queue = asyncio.Queue()\n",
    "\n",
    "    # Generate random timings and put them into the queue.\n",
    "    total_sleep_time = 0\n",
    "    for _ in range(3):\n",
    "        sleep_for = random.uniform(0.05, 1.0)\n",
    "        total_sleep_time += sleep_for\n",
    "        queue.put_nowait(sleep_for)\n",
    "\n",
    "    # Create three worker tasks to process the queue concurrently.\n",
    "    tasks = []\n",
    "    for i in range(1):\n",
    "        task = asyncio.create_task(worker(f'worker-{i}', queue))\n",
    "        tasks.append(task)\n",
    "\n",
    "    # Wait until the queue is fully processed.\n",
    "    started_at = time.monotonic()\n",
    "    await queue.join()\n",
    "    total_slept_for = time.monotonic() - started_at\n",
    "\n",
    "    # Cancel our worker tasks.\n",
    "    for task in tasks:\n",
    "        task.cancel()\n",
    "    # Wait until all worker tasks are cancelled.\n",
    "    await asyncio.gather(*tasks, return_exceptions=True)\n",
    "\n",
    "    print('====')\n",
    "    print(f'3 workers slept in parallel for {total_slept_for:.2f} seconds')\n",
    "    print(f'total expected sleep time: {total_sleep_time:.2f} seconds')\n",
    "\n",
    "\n",
    "asyncio.run(main())"
   ]
  },
  {
   "cell_type": "code",
   "execution_count": 10,
   "metadata": {},
   "outputs": [
    {
     "data": {
      "text/plain": [
       "'Mozilla/5.0 (Windows NT 6.2; WOW64) AppleWebKit/537.36 (KHTML, like Gecko) Chrome/30.0.1599.17 Safari/537.36'"
      ]
     },
     "execution_count": 10,
     "metadata": {},
     "output_type": "execute_result"
    }
   ],
   "source": [
    "from fake_useragent import UserAgent\n",
    "\n",
    "ua = UserAgent(verify_ssl=False)\n",
    "ua.update()\n",
    "\n",
    "ua.random"
   ]
  },
  {
   "cell_type": "code",
   "execution_count": 22,
   "metadata": {},
   "outputs": [
    {
     "data": {
      "text/plain": [
       "'Mozilla/5.0 (Windows NT 6.2; WOW64) AppleWebKit/537.36 (KHTML, like Gecko) Chrome/27.0.1453.93 Safari/537.36'"
      ]
     },
     "execution_count": 22,
     "metadata": {},
     "output_type": "execute_result"
    }
   ],
   "source": [
    "# ua.random\n",
    "ua.random"
   ]
  },
  {
   "cell_type": "markdown",
   "metadata": {},
   "source": [
    "# feedparser, rss"
   ]
  },
  {
   "cell_type": "code",
   "execution_count": 7,
   "metadata": {},
   "outputs": [
    {
     "data": {
      "text/plain": [
       "datetime.datetime"
      ]
     },
     "execution_count": 7,
     "metadata": {},
     "output_type": "execute_result"
    }
   ],
   "source": [
    "import datetime\n",
    "import time\n",
    "import requests\n",
    "import requests_cache\n",
    "requests_cache.install_cache()\n",
    "import feedparser\n",
    "# proxies = {\"http\": \"http://173.234.248.57:3128\", \"https\": \"http://173.234.248.57:3128\"}\n",
    "# proxies = {\"http\": \"http://192.161.163.206:3128\", \"https\": \"http://192.161.163.206:3128\"}\n",
    "r = requests.get('http://rss.cnn.com/rss/edition.rss')\n",
    "r.status_code\n",
    "r.headers\n",
    "html = r.text\n",
    "\n",
    "# print(html)\n",
    "\n",
    "feed = feedparser.parse(html)\n",
    "# for e in feed[\"entries\"]:\n",
    "#     print(e[\"link\"], e[\"title\"], e[\"summary\"], e['published_parsed'])\n",
    "#     break\n",
    "    \n",
    "type(feed[\"entries\"][0])\n",
    "# e[\"tags\"] if \"tags\" in e else \"None\"\n",
    "# e[\"summary_detail\"]\n",
    "# e[\"tags\"]\n",
    "# \"summary\" in e\n",
    "# \"tags\" in e\n",
    "# feed\n",
    "# e[\"published_parsed\"]\n",
    "stamps = []\n",
    "for d in feed['entries']:\n",
    "    if \"published_parsed\" in d:\n",
    "        stamps.append(datetime.datetime.fromtimestamp(time.mktime(d['published_parsed'])))\n",
    "type(stamps[-1])"
   ]
  },
  {
   "cell_type": "code",
   "execution_count": 6,
   "metadata": {},
   "outputs": [],
   "source": [
    "# # !pip install aiohttp_proxy\n",
    "# import aiohttp\n",
    "# from aiohttp_proxy import ProxyConnector, ProxyType\n",
    "\n",
    "# async def fetch():\n",
    "#     connector = ProxyConnector.from_url('http://173.234.248.57:3128')\n",
    "#     ### or use ProxyConnector constructor\n",
    "# #     connector = ProxyConnector(\n",
    "# #         proxy_type=ProxyType.SOCKS5,\n",
    "# #         host='173.234.232.170',\n",
    "# #         port=3128,\n",
    "# # #         username='user',\n",
    "# # #         password='password',\n",
    "# #         rdns=True\n",
    "# #     )\n",
    "#     async with aiohttp.ClientSession(connector=connector) as session:\n",
    "#         async with session.get(\"https://finance.yahoo.com\") as resp:\n",
    "#             print(resp.status)\n",
    "#             return await response.text()\n",
    "\n",
    "# await fetch()"
   ]
  },
  {
   "cell_type": "code",
   "execution_count": 2,
   "metadata": {},
   "outputs": [
    {
     "name": "stdout",
     "output_type": "stream",
     "text": [
      "200\n",
      "<CIMultiDictProxy('X-Content-Type-Options': 'nosniff', 'X-Yahoo-Request-Id': 'dpknv61fgbcdr', 'Cache-Control': 'max-age=300, stale-while-revalidate=75', 'Content-Encoding': 'gzip', 'Content-Type': 'text/xml;charset=utf-8', 'Vary': 'Origin', 'Content-Length': '3911', 'Date': 'Wed, 08 Jul 2020 11:44:59 GMT', 'Age': '0', 'Strict-Transport-Security': 'max-age=31536000', 'Server': 'ATS', 'Expect-CT': 'max-age=31536000, report-uri=\"http://csp.yahoo.com/beacon/csp?src=yahoocom-expect-ct-report-only\"', 'Public-Key-Pins-Report-Only': 'max-age=2592000; pin-sha256=\"2fRAUXyxl4A1/XHrKNBmc8bTkzA7y4FB/GLJuNAzCqY=\"; pin-sha256=\"I/Lt/z7ekCWanjD0Cvj5EqXls2lOaThEA0H2Bg4BT/o=\"; pin-sha256=\"K87oWBWM9UZfyddvDfoxL+8lpNyoUB2ptGtn0fv6G2Q=\"; pin-sha256=\"Wd8xe/qfTwq3ylFNd3IpaqLHZbh2ZNCLluVzmeNkcpw=\"; pin-sha256=\"WoiWRyIOVNa9ihaBciRSC7XHjliYS9VwUGOIud4PB18=\"; pin-sha256=\"cGuxAXyFXFkWm61cF4HPWX8S0srS9j0aSqN0k4AP+4A=\"; pin-sha256=\"dolnbtzEBnELx/9lOEQ22e6OZO/QNb6VSSX2XHA3E7A=\"; pin-sha256=\"i7WTqTvh0OioIruIfFR4kMPnBqrS2rdiVPl/s2uC/CY=\"; pin-sha256=\"r/mIkG3eEpVdm+u/ko/cwxzOMo1bk4TyHIlByibiA5E=\"; pin-sha256=\"uUwZgwDOxcBXrQcntwu+kYFpkiVkOaezL0WYEZ3anJc=\"; includeSubdomains; report-uri=\"http://csp.yahoo.com/beacon/csp?src=yahoocom-hpkp-report-only\"', 'X-Frame-Options': 'SAMEORIGIN', 'X-XSS-Protection': '1; mode=block', 'Referrer-Policy': 'no-referrer-when-downgrade', 'Connection': 'keep-alive')>\n"
     ]
    },
    {
     "data": {
      "text/plain": [
       "{'feed': {'rights': 'Copyright (c) 2020 Yahoo! Inc. All rights reserved.',\n",
       "  'rights_detail': {'type': 'text/plain',\n",
       "   'language': None,\n",
       "   'base': '',\n",
       "   'value': 'Copyright (c) 2020 Yahoo! Inc. All rights reserved.'},\n",
       "  'subtitle': 'Latest Financial News for AMOV',\n",
       "  'subtitle_detail': {'type': 'text/html',\n",
       "   'language': None,\n",
       "   'base': '',\n",
       "   'value': 'Latest Financial News for AMOV'},\n",
       "  'image': {'height': 45,\n",
       "   'links': [{'rel': 'alternate',\n",
       "     'type': 'text/html',\n",
       "     'href': 'http://finance.yahoo.com/q/h?s=AMOV'}],\n",
       "   'link': 'http://finance.yahoo.com/q/h?s=AMOV',\n",
       "   'title': 'Yahoo! Finance: AMOV News',\n",
       "   'title_detail': {'type': 'text/plain',\n",
       "    'language': None,\n",
       "    'base': '',\n",
       "    'value': 'Yahoo! Finance: AMOV News'},\n",
       "   'href': 'http://l.yimg.com/a/i/brand/purplelogo/uh/us/fin.gif',\n",
       "   'width': 144},\n",
       "  'language': 'en-US',\n",
       "  'updated': 'Wed, 08 Jul 2020 11:44:59 +0000',\n",
       "  'updated_parsed': time.struct_time(tm_year=2020, tm_mon=7, tm_mday=8, tm_hour=11, tm_min=44, tm_sec=59, tm_wday=2, tm_yday=190, tm_isdst=0),\n",
       "  'links': [{'rel': 'alternate',\n",
       "    'type': 'text/html',\n",
       "    'href': 'http://finance.yahoo.com/q/h?s=AMOV'}],\n",
       "  'link': 'http://finance.yahoo.com/q/h?s=AMOV',\n",
       "  'title': 'Yahoo! Finance: AMOV News',\n",
       "  'title_detail': {'type': 'text/plain',\n",
       "   'language': None,\n",
       "   'base': '',\n",
       "   'value': 'Yahoo! Finance: AMOV News'}},\n",
       " 'entries': [{'summary': \"A Huawei Technologies executive warned that Brazil could suffer years of delay in deploying a 5G telecoms network and higher costs if it succumbs to mounting U.S. pressure to snub the Chinese equipment supplier.  U.S. Ambassador Todd Chapman has even suggested Washington is willing to fund the purchase of gear from other suppliers for Brazil.  Brazil's far-right President Jair Bolsonaro said last month that 5G deployment would have to meet national sovereignty, information and data security requirements.\",\n",
       "   'summary_detail': {'type': 'text/html',\n",
       "    'language': None,\n",
       "    'base': '',\n",
       "    'value': \"A Huawei Technologies executive warned that Brazil could suffer years of delay in deploying a 5G telecoms network and higher costs if it succumbs to mounting U.S. pressure to snub the Chinese equipment supplier.  U.S. Ambassador Todd Chapman has even suggested Washington is willing to fund the purchase of gear from other suppliers for Brazil.  Brazil's far-right President Jair Bolsonaro said last month that 5G deployment would have to meet national sovereignty, information and data security requirements.\"},\n",
       "   'id': '90941c26-2876-3db1-b859-eb3afb7bd187',\n",
       "   'guidislink': False,\n",
       "   'links': [{'rel': 'alternate',\n",
       "     'type': 'text/html',\n",
       "     'href': 'https://finance.yahoo.com/news/huawei-says-u-pressure-brazil-195637078.html?.tsrc=rss'}],\n",
       "   'link': 'https://finance.yahoo.com/news/huawei-says-u-pressure-brazil-195637078.html?.tsrc=rss',\n",
       "   'published': 'Tue, 07 Jul 2020 19:56:37 +0000',\n",
       "   'published_parsed': time.struct_time(tm_year=2020, tm_mon=7, tm_mday=7, tm_hour=19, tm_min=56, tm_sec=37, tm_wday=1, tm_yday=189, tm_isdst=0),\n",
       "   'title': 'Huawei says U.S. pressure on Brazil threatens long delays in 5G rollout',\n",
       "   'title_detail': {'type': 'text/plain',\n",
       "    'language': None,\n",
       "    'base': '',\n",
       "    'value': 'Huawei says U.S. pressure on Brazil threatens long delays in 5G rollout'}},\n",
       "  {'summary': 'The latest 13F reporting period has come and gone, and Insider Monkey have plowed through 821 13F filings that hedge funds and well-known value investors are required to file by the SEC. The 13F filings show the funds&#39; and investors&#39; portfolio positions as of March 31st, a week after the market trough. Now, we are […]',\n",
       "   'summary_detail': {'type': 'text/html',\n",
       "    'language': None,\n",
       "    'base': '',\n",
       "    'value': 'The latest 13F reporting period has come and gone, and Insider Monkey have plowed through 821 13F filings that hedge funds and well-known value investors are required to file by the SEC. The 13F filings show the funds&#39; and investors&#39; portfolio positions as of March 31st, a week after the market trough. Now, we are […]'},\n",
       "   'id': 'bf8a59f9-ebdd-3c16-86ee-94836116b5cd',\n",
       "   'guidislink': False,\n",
       "   'links': [{'rel': 'alternate',\n",
       "     'type': 'text/html',\n",
       "     'href': 'https://finance.yahoo.com/news/were-hedge-funds-dumping-america-184549417.html?.tsrc=rss'}],\n",
       "   'link': 'https://finance.yahoo.com/news/were-hedge-funds-dumping-america-184549417.html?.tsrc=rss',\n",
       "   'published': 'Sat, 04 Jul 2020 18:45:49 +0000',\n",
       "   'published_parsed': time.struct_time(tm_year=2020, tm_mon=7, tm_mday=4, tm_hour=18, tm_min=45, tm_sec=49, tm_wday=5, tm_yday=186, tm_isdst=0),\n",
       "   'title': 'Were Hedge Funds Right About Dumping America Movil SAB de CV (AMX)?',\n",
       "   'title_detail': {'type': 'text/plain',\n",
       "    'language': None,\n",
       "    'base': '',\n",
       "    'value': 'Were Hedge Funds Right About Dumping America Movil SAB de CV (AMX)?'}},\n",
       "  {'summary': 'The U.S. government is prepared to help finance in telecom companies in Brazil and other countries to acquire fifth-generation technology that is not provided by &quot;untrusted&quot; Chinese companies, its top diplomat in Brazil said on Tuesday. Ambassador Todd Chapman said Ericsson, Nokia Oyj and Samsung were companies that have successfully provided &quot;appropriate&quot; 5G technology that adequately protects information, data flows and intellectual property. The funding would come from the U.S. International Development Finance Corporation (DFC), a government agency that provides financing for private development projects, he said.',\n",
       "   'summary_detail': {'type': 'text/html',\n",
       "    'language': None,\n",
       "    'base': '',\n",
       "    'value': 'The U.S. government is prepared to help finance in telecom companies in Brazil and other countries to acquire fifth-generation technology that is not provided by &quot;untrusted&quot; Chinese companies, its top diplomat in Brazil said on Tuesday. Ambassador Todd Chapman said Ericsson, Nokia Oyj and Samsung were companies that have successfully provided &quot;appropriate&quot; 5G technology that adequately protects information, data flows and intellectual property. The funding would come from the U.S. International Development Finance Corporation (DFC), a government agency that provides financing for private development projects, he said.'},\n",
       "   'id': '28b1eeab-0c54-34ce-9f5b-14f0943b0f9e',\n",
       "   'guidislink': False,\n",
       "   'links': [{'rel': 'alternate',\n",
       "     'type': 'text/html',\n",
       "     'href': 'https://finance.yahoo.com/news/u-offers-brazil-funding-buy-215135257.html?.tsrc=rss'}],\n",
       "   'link': 'https://finance.yahoo.com/news/u-offers-brazil-funding-buy-215135257.html?.tsrc=rss',\n",
       "   'published': 'Tue, 23 Jun 2020 21:51:35 +0000',\n",
       "   'published_parsed': time.struct_time(tm_year=2020, tm_mon=6, tm_mday=23, tm_hour=21, tm_min=51, tm_sec=35, tm_wday=1, tm_yday=175, tm_isdst=0),\n",
       "   'title': 'U.S. offers Brazil funding to buy 5G gear from Huawei rivals -diplomat',\n",
       "   'title_detail': {'type': 'text/plain',\n",
       "    'language': None,\n",
       "    'base': '',\n",
       "    'value': 'U.S. offers Brazil funding to buy 5G gear from Huawei rivals -diplomat'}},\n",
       "  {'summary': 'The United States is in talks with Brazil and its local telecommunications companies on funding the acquisition of fifth-generation gear produced by Ericsson and Nokia, U.S. ambassador for Brazil Todd Chapman told Brazilian newspaper Folha de S.Paulo. In an interview published on Thursday night, Chapman said this type of funding is a matter of &quot;national security&quot; to Washington and aims to &quot;protect data and intellectual property, as well as sensitive information of nations&quot;.',\n",
       "   'summary_detail': {'type': 'text/html',\n",
       "    'language': None,\n",
       "    'base': '',\n",
       "    'value': 'The United States is in talks with Brazil and its local telecommunications companies on funding the acquisition of fifth-generation gear produced by Ericsson and Nokia, U.S. ambassador for Brazil Todd Chapman told Brazilian newspaper Folha de S.Paulo. In an interview published on Thursday night, Chapman said this type of funding is a matter of &quot;national security&quot; to Washington and aims to &quot;protect data and intellectual property, as well as sensitive information of nations&quot;.'},\n",
       "   'id': '9aea35ea-18c1-3341-89e9-6083efa0c4aa',\n",
       "   'guidislink': False,\n",
       "   'links': [{'rel': 'alternate',\n",
       "     'type': 'text/html',\n",
       "     'href': 'https://finance.yahoo.com/news/u-brazil-talks-funding-buy-170619932.html?.tsrc=rss'}],\n",
       "   'link': 'https://finance.yahoo.com/news/u-brazil-talks-funding-buy-170619932.html?.tsrc=rss',\n",
       "   'published': 'Fri, 12 Jun 2020 17:06:19 +0000',\n",
       "   'published_parsed': time.struct_time(tm_year=2020, tm_mon=6, tm_mday=12, tm_hour=17, tm_min=6, tm_sec=19, tm_wday=4, tm_yday=164, tm_isdst=0),\n",
       "   'title': 'U.S., Brazil in talks on funding to buy 5G gear from Ericsson, Nokia -paper',\n",
       "   'title_detail': {'type': 'text/plain',\n",
       "    'language': None,\n",
       "    'base': '',\n",
       "    'value': 'U.S., Brazil in talks on funding to buy 5G gear from Ericsson, Nokia -paper'}},\n",
       "  {'summary': '',\n",
       "   'summary_detail': {'type': 'text/html',\n",
       "    'language': None,\n",
       "    'base': '',\n",
       "    'value': ''},\n",
       "   'id': '3d9a1991-d8db-39cd-9e1c-24a1a2dc49bf',\n",
       "   'guidislink': False,\n",
       "   'links': [{'rel': 'alternate',\n",
       "     'type': 'text/html',\n",
       "     'href': 'https://finance.yahoo.com/news/brazils-antitrust-watchdog-cade-keeps-151821951.html?.tsrc=rss'}],\n",
       "   'link': 'https://finance.yahoo.com/news/brazils-antitrust-watchdog-cade-keeps-151821951.html?.tsrc=rss',\n",
       "   'published': 'Wed, 03 Jun 2020 15:18:21 +0000',\n",
       "   'published_parsed': time.struct_time(tm_year=2020, tm_mon=6, tm_mday=3, tm_hour=15, tm_min=18, tm_sec=21, tm_wday=2, tm_yday=155, tm_isdst=0),\n",
       "   'title': 'Brazil&#39;s antitrust watchdog CADE keeps infrastructure sharing agreement between TIM, Telefonica- statement',\n",
       "   'title_detail': {'type': 'text/html',\n",
       "    'language': None,\n",
       "    'base': '',\n",
       "    'value': 'Brazil&#39;s antitrust watchdog CADE keeps infrastructure sharing agreement between TIM, Telefonica- statement'}},\n",
       "  {'summary': 'Mexican broadcaster giant, Televisa, deploys MVNO offerings in a bid to promote healthy competition in the Mexican telco market, which has long been dominated by Latin tech giant, America Movil (AMX).',\n",
       "   'summary_detail': {'type': 'text/html',\n",
       "    'language': None,\n",
       "    'base': '',\n",
       "    'value': 'Mexican broadcaster giant, Televisa, deploys MVNO offerings in a bid to promote healthy competition in the Mexican telco market, which has long been dominated by Latin tech giant, America Movil (AMX).'},\n",
       "   'id': '8ad583ab-7289-3b3d-9cd1-ae386ebbea5a',\n",
       "   'guidislink': False,\n",
       "   'links': [{'rel': 'alternate',\n",
       "     'type': 'text/html',\n",
       "     'href': 'https://finance.yahoo.com/news/televisa-aims-dethrone-america-movils-153903654.html?.tsrc=rss'}],\n",
       "   'link': 'https://finance.yahoo.com/news/televisa-aims-dethrone-america-movils-153903654.html?.tsrc=rss',\n",
       "   'published': 'Tue, 02 Jun 2020 15:39:03 +0000',\n",
       "   'published_parsed': time.struct_time(tm_year=2020, tm_mon=6, tm_mday=2, tm_hour=15, tm_min=39, tm_sec=3, tm_wday=1, tm_yday=154, tm_isdst=0),\n",
       "   'title': 'Televisa Aims to Dethrone America Movil&#39;s Mexico Supremacy',\n",
       "   'title_detail': {'type': 'text/html',\n",
       "    'language': None,\n",
       "    'base': '',\n",
       "    'value': 'Televisa Aims to Dethrone America Movil&#39;s Mexico Supremacy'}},\n",
       "  {'summary': \"Mexican broadcaster Televisa said on Sunday it will start offering mobile phone service, a bid to challenge billionaire Carlos Slim's America Movil, which has long dominated the country's telecommunications market.  Rather than building infrastructure, Televisa will operate as a mobile virtual network operator, or MVNO, and begin by offering service to existing customers of its cable and home internet packages, sold under its Izzi brand.  Televisa originally planned to roll out the service in September, Izzi Chief Executive Salvi Folch said in an interview.\",\n",
       "   'summary_detail': {'type': 'text/html',\n",
       "    'language': None,\n",
       "    'base': '',\n",
       "    'value': \"Mexican broadcaster Televisa said on Sunday it will start offering mobile phone service, a bid to challenge billionaire Carlos Slim's America Movil, which has long dominated the country's telecommunications market.  Rather than building infrastructure, Televisa will operate as a mobile virtual network operator, or MVNO, and begin by offering service to existing customers of its cable and home internet packages, sold under its Izzi brand.  Televisa originally planned to roll out the service in September, Izzi Chief Executive Salvi Folch said in an interview.\"},\n",
       "   'id': 'fe92e9b5-dd34-3e8f-8725-e2bba24c04b8',\n",
       "   'guidislink': False,\n",
       "   'links': [{'rel': 'alternate',\n",
       "     'type': 'text/html',\n",
       "     'href': 'https://ca.finance.yahoo.com/news/exclusive-mexican-broadcaster-televisa-launch-170406771.html?.tsrc=rss'}],\n",
       "   'link': 'https://ca.finance.yahoo.com/news/exclusive-mexican-broadcaster-televisa-launch-170406771.html?.tsrc=rss',\n",
       "   'published': 'Sun, 31 May 2020 17:04:06 +0000',\n",
       "   'published_parsed': time.struct_time(tm_year=2020, tm_mon=5, tm_mday=31, tm_hour=17, tm_min=4, tm_sec=6, tm_wday=6, tm_yday=152, tm_isdst=0),\n",
       "   'title': 'Exclusive: Mexican broadcaster Televisa to launch mobile phone service, challenging Slim',\n",
       "   'title_detail': {'type': 'text/plain',\n",
       "    'language': None,\n",
       "    'base': '',\n",
       "    'value': 'Exclusive: Mexican broadcaster Televisa to launch mobile phone service, challenging Slim'}},\n",
       "  {'summary': 'Guru releases portfolio for the 1st quarter Continue reading...',\n",
       "   'summary_detail': {'type': 'text/html',\n",
       "    'language': None,\n",
       "    'base': '',\n",
       "    'value': 'Guru releases portfolio for the 1st quarter Continue reading...'},\n",
       "   'id': '2661d600-23b2-3ead-acf5-262c016ff3a5',\n",
       "   'guidislink': False,\n",
       "   'links': [{'rel': 'alternate',\n",
       "     'type': 'text/html',\n",
       "     'href': 'https://finance.yahoo.com/news/jeff-auxier-buys-ingersoll-rand-214139149.html?.tsrc=rss'}],\n",
       "   'link': 'https://finance.yahoo.com/news/jeff-auxier-buys-ingersoll-rand-214139149.html?.tsrc=rss',\n",
       "   'published': 'Thu, 21 May 2020 21:41:39 +0000',\n",
       "   'published_parsed': time.struct_time(tm_year=2020, tm_mon=5, tm_mday=21, tm_hour=21, tm_min=41, tm_sec=39, tm_wday=3, tm_yday=142, tm_isdst=0),\n",
       "   'title': 'Jeff Auxier Buys Ingersoll Rand, Sells Smucker',\n",
       "   'title_detail': {'type': 'text/plain',\n",
       "    'language': None,\n",
       "    'base': '',\n",
       "    'value': 'Jeff Auxier Buys Ingersoll Rand, Sells Smucker'}},\n",
       "  {'summary': 'Their 5-year EPS growth rates beat the S&P; 500 Continue reading...',\n",
       "   'summary_detail': {'type': 'text/html',\n",
       "    'language': None,\n",
       "    'base': '',\n",
       "    'value': 'Their 5-year EPS growth rates beat the S&P; 500 Continue reading...'},\n",
       "   'id': 'ec6c35aa-dbb7-313c-81ec-96a26f949037',\n",
       "   'guidislink': False,\n",
       "   'links': [{'rel': 'alternate',\n",
       "     'type': 'text/html',\n",
       "     'href': 'https://finance.yahoo.com/news/trio-stocks-growing-earnings-fast-161942046.html?.tsrc=rss'}],\n",
       "   'link': 'https://finance.yahoo.com/news/trio-stocks-growing-earnings-fast-161942046.html?.tsrc=rss',\n",
       "   'published': 'Tue, 19 May 2020 16:19:42 +0000',\n",
       "   'published_parsed': time.struct_time(tm_year=2020, tm_mon=5, tm_mday=19, tm_hour=16, tm_min=19, tm_sec=42, tm_wday=1, tm_yday=140, tm_isdst=0),\n",
       "   'title': 'A Trio of Stocks Growing Earnings Fast',\n",
       "   'title_detail': {'type': 'text/plain',\n",
       "    'language': None,\n",
       "    'base': '',\n",
       "    'value': 'A Trio of Stocks Growing Earnings Fast'}},\n",
       "  {'summary': 'Moody\\'s Investors Service, (\"Moody\\'s\") today assigned an A3 rating to America Movil, S.A.B. de C.V.\\'s (\"America Movil\") new USD1.0 billion senior unsecured notes due 2030.  The notes will rank equally in right of payment with all other unsecured and unsubordinated debt obligations of America Movil.',\n",
       "   'summary_detail': {'type': 'text/html',\n",
       "    'language': None,\n",
       "    'base': '',\n",
       "    'value': 'Moody\\'s Investors Service, (\"Moody\\'s\") today assigned an A3 rating to America Movil, S.A.B. de C.V.\\'s (\"America Movil\") new USD1.0 billion senior unsecured notes due 2030.  The notes will rank equally in right of payment with all other unsecured and unsubordinated debt obligations of America Movil.'},\n",
       "   'id': 'a30ebdaf-5a7a-373e-8eba-16da2149983f',\n",
       "   'guidislink': False,\n",
       "   'links': [{'rel': 'alternate',\n",
       "     'type': 'text/html',\n",
       "     'href': 'https://finance.yahoo.com/m/a30ebdaf-5a7a-373e-8eba-16da2149983f/america-movil%2C-s.a.b.-de-c.v..html?.tsrc=rss'}],\n",
       "   'link': 'https://finance.yahoo.com/m/a30ebdaf-5a7a-373e-8eba-16da2149983f/america-movil%2C-s.a.b.-de-c.v..html?.tsrc=rss',\n",
       "   'published': 'Mon, 04 May 2020 20:37:08 +0000',\n",
       "   'published_parsed': time.struct_time(tm_year=2020, tm_mon=5, tm_mday=4, tm_hour=20, tm_min=37, tm_sec=8, tm_wday=0, tm_yday=125, tm_isdst=0),\n",
       "   'title': \"America Movil, S.A.B. de C.V. -- Moody's assigns A3 rating to America Movil's new USD1.0 billion notes\",\n",
       "   'title_detail': {'type': 'text/plain',\n",
       "    'language': None,\n",
       "    'base': '',\n",
       "    'value': \"America Movil, S.A.B. de C.V. -- Moody's assigns A3 rating to America Movil's new USD1.0 billion notes\"}},\n",
       "  {'summary': 'América Móvil, S.A.B. de C.V. (&quot;AMX&quot;) [BMV: AMX] [NYSE: AMX] [NYSE: AMOV], announced today that it has filed its annual report on Form 20-F for the fiscal year ended December 31, 2019 (the &quot;2019 Annual Report&quot;), with the U.S. Securities and Exchange Commission (&quot;SEC&quot;), and a translation into Spanish of the 2019 Annual Report (the &quot;Informe Anual CNBV&quot;), with the Mexican Banking and Securities Commission (Comisión Nacional Bancaria y de Valores, &quot;CNBV&quot;), and the Mexican Stock Exchange (Bolsa Mexicana de Valores, S.A.B. de C.V., &quot;BMV&quot;).',\n",
       "   'summary_detail': {'type': 'text/html',\n",
       "    'language': None,\n",
       "    'base': '',\n",
       "    'value': 'América Móvil, S.A.B. de C.V. (&quot;AMX&quot;) [BMV: AMX] [NYSE: AMX] [NYSE: AMOV], announced today that it has filed its annual report on Form 20-F for the fiscal year ended December 31, 2019 (the &quot;2019 Annual Report&quot;), with the U.S. Securities and Exchange Commission (&quot;SEC&quot;), and a translation into Spanish of the 2019 Annual Report (the &quot;Informe Anual CNBV&quot;), with the Mexican Banking and Securities Commission (Comisión Nacional Bancaria y de Valores, &quot;CNBV&quot;), and the Mexican Stock Exchange (Bolsa Mexicana de Valores, S.A.B. de C.V., &quot;BMV&quot;).'},\n",
       "   'id': '1bf3b30e-2f13-31c4-a9fe-afb11878c4f4',\n",
       "   'guidislink': False,\n",
       "   'links': [{'rel': 'alternate',\n",
       "     'type': 'text/html',\n",
       "     'href': 'https://finance.yahoo.com/news/am-rica-m-vil-files-034400565.html?.tsrc=rss'}],\n",
       "   'link': 'https://finance.yahoo.com/news/am-rica-m-vil-files-034400565.html?.tsrc=rss',\n",
       "   'published': 'Thu, 30 Apr 2020 03:44:00 +0000',\n",
       "   'published_parsed': time.struct_time(tm_year=2020, tm_mon=4, tm_mday=30, tm_hour=3, tm_min=44, tm_sec=0, tm_wday=3, tm_yday=121, tm_isdst=0),\n",
       "   'title': 'América Móvil Files 2019 Annual Report on Form 20-F',\n",
       "   'title_detail': {'type': 'text/plain',\n",
       "    'language': None,\n",
       "    'base': '',\n",
       "    'value': 'América Móvil Files 2019 Annual Report on Form 20-F'}},\n",
       "  {'summary': \"Rating Action: Moody's changes the outlook to negative on some Mexican companies, affirms global and national scale ratings. Global Credit Research- 20 Apr 2020. Mexico, April 20, 2020-- Moody's de Mexico ...\",\n",
       "   'summary_detail': {'type': 'text/html',\n",
       "    'language': None,\n",
       "    'base': '',\n",
       "    'value': \"Rating Action: Moody's changes the outlook to negative on some Mexican companies, affirms global and national scale ratings. Global Credit Research- 20 Apr 2020. Mexico, April 20, 2020-- Moody's de Mexico ...\"},\n",
       "   'id': '1c61a321-0d65-3ca5-a715-17fa975c0937',\n",
       "   'guidislink': False,\n",
       "   'links': [{'rel': 'alternate',\n",
       "     'type': 'text/html',\n",
       "     'href': 'https://finance.yahoo.com/m/1c61a321-0d65-3ca5-a715-17fa975c0937/telefonos-de-mexico%2C-s.a.b..html?.tsrc=rss'}],\n",
       "   'link': 'https://finance.yahoo.com/m/1c61a321-0d65-3ca5-a715-17fa975c0937/telefonos-de-mexico%2C-s.a.b..html?.tsrc=rss',\n",
       "   'published': 'Mon, 20 Apr 2020 23:09:12 +0000',\n",
       "   'published_parsed': time.struct_time(tm_year=2020, tm_mon=4, tm_mday=20, tm_hour=23, tm_min=9, tm_sec=12, tm_wday=0, tm_yday=111, tm_isdst=0),\n",
       "   'title': \"Telefonos de Mexico, S.A.B. de C.V. -- Moody's changes the outlook to negative on some Mexican companies, affirms global and national scale ratings\",\n",
       "   'title_detail': {'type': 'text/plain',\n",
       "    'language': None,\n",
       "    'base': '',\n",
       "    'value': \"Telefonos de Mexico, S.A.B. de C.V. -- Moody's changes the outlook to negative on some Mexican companies, affirms global and national scale ratings\"}},\n",
       "  {'summary': 'Coronavirus is probably the 1 concern in investors&#39; minds right now. It should be. On February 27th we published an article with the title Recession is Imminent: We Need A Travel Ban NOW. We predicted that a US recession is imminent and US stocks will go down by at least 20% in the next 3-6 […]',\n",
       "   'summary_detail': {'type': 'text/html',\n",
       "    'language': None,\n",
       "    'base': '',\n",
       "    'value': 'Coronavirus is probably the 1 concern in investors&#39; minds right now. It should be. On February 27th we published an article with the title Recession is Imminent: We Need A Travel Ban NOW. We predicted that a US recession is imminent and US stocks will go down by at least 20% in the next 3-6 […]'},\n",
       "   'id': 'c119b894-0acb-3143-a110-9c6aad671f01',\n",
       "   'guidislink': False,\n",
       "   'links': [{'rel': 'alternate',\n",
       "     'type': 'text/html',\n",
       "     'href': 'https://finance.yahoo.com/news/hedge-funds-never-bullish-america-221908258.html?.tsrc=rss'}],\n",
       "   'link': 'https://finance.yahoo.com/news/hedge-funds-never-bullish-america-221908258.html?.tsrc=rss',\n",
       "   'published': 'Thu, 12 Mar 2020 22:19:08 +0000',\n",
       "   'published_parsed': time.struct_time(tm_year=2020, tm_mon=3, tm_mday=12, tm_hour=22, tm_min=19, tm_sec=8, tm_wday=3, tm_yday=72, tm_isdst=0),\n",
       "   'title': 'Hedge Funds Have Never Been This Bullish On America Movil SAB de CV  (AMX)',\n",
       "   'title_detail': {'type': 'text/plain',\n",
       "    'language': None,\n",
       "    'base': '',\n",
       "    'value': 'Hedge Funds Have Never Been This Bullish On America Movil SAB de CV  (AMX)'}}],\n",
       " 'bozo': 0,\n",
       " 'encoding': 'utf-8',\n",
       " 'version': 'rss20',\n",
       " 'namespaces': {}}"
      ]
     },
     "execution_count": 2,
     "metadata": {},
     "output_type": "execute_result"
    }
   ],
   "source": [
    "import aiohttp\n",
    "import feedparser\n",
    "\n",
    "headers = {\n",
    "#     \"If-None-Match\": \"246ce00049b1df9930d4dc344180574f\"\n",
    "}\n",
    "\n",
    "async def get():\n",
    "    async with aiohttp.ClientSession(timeout=aiohttp.ClientTimeout(total=60)) as session:\n",
    "#         async with session.get('http://finance.yahoo.com/rss/industry?s=yhoo', headers=headers) as resp:\n",
    "        proxy_auth = aiohttp.BasicAuth('cwang', '19861212')\n",
    "        async with session.get('http://finance.yahoo.com/rss/headline?s=AMOV',\n",
    "#                                proxy=\"http://107.174.248.115:12345\",\n",
    "#                                proxy_auth=proxy_auth,\n",
    "                               headers=headers) as resp:\n",
    "            print(resp.status)\n",
    "            print(resp.headers)\n",
    "            t = await resp.text()\n",
    "            return feedparser.parse(t)\n",
    "\n",
    "await get()"
   ]
  },
  {
   "cell_type": "code",
   "execution_count": 40,
   "metadata": {},
   "outputs": [
    {
     "data": {
      "text/plain": [
       "False"
      ]
     },
     "execution_count": 40,
     "metadata": {},
     "output_type": "execute_result"
    }
   ],
   "source": [
    "import math\n",
    "\n",
    "math.isnan(123)"
   ]
  },
  {
   "cell_type": "code",
   "execution_count": 2,
   "metadata": {},
   "outputs": [],
   "source": [
    "import feedparser\n",
    "f = feedparser.parse('https://tw.stock.yahoo.com/rss/url/d/e/N2.html')"
   ]
  },
  {
   "cell_type": "code",
   "execution_count": 3,
   "metadata": {},
   "outputs": [
    {
     "data": {
      "text/plain": [
       "{'title': '《各報要聞》川普出招制裁陸！撤銷香港特殊待遇 宣布退出世衛',\n",
       " 'title_detail': {'type': 'text/plain',\n",
       "  'language': None,\n",
       "  'base': 'https://tw.stock.yahoo.com/rss/url/d/e/N2.html',\n",
       "  'value': '《各報要聞》川普出招制裁陸！撤銷香港特殊待遇 宣布退出世衛'},\n",
       " 'links': [{'rel': 'alternate',\n",
       "   'type': 'text/html',\n",
       "   'href': 'https://tw.stock.yahoo.com/news/各報要聞-川普出招制裁陸-撤銷香港特殊待遇-宣布退出世衛-005758046.html'}],\n",
       " 'link': 'https://tw.stock.yahoo.com/news/各報要聞-川普出招制裁陸-撤銷香港特殊待遇-宣布退出世衛-005758046.html',\n",
       " 'published': 'Sun, 31 May 2020 08:57:58 CST',\n",
       " 'published_parsed': time.struct_time(tm_year=2020, tm_mon=5, tm_mday=31, tm_hour=14, tm_min=57, tm_sec=58, tm_wday=6, tm_yday=152, tm_isdst=0),\n",
       " 'id': '',\n",
       " 'guidislink': False,\n",
       " 'summary': '【時報-台北電】大陸全國人大28日通過港版「國安法」後，美國總統川普當地時間29日下午召開記者會，他指責大陸破壞對香港及世界承諾，而作為懲罰陸方措施的一環，美國將撤銷給予香港的特殊待遇，包括單獨關稅區...',\n",
       " 'summary_detail': {'type': 'text/html',\n",
       "  'language': None,\n",
       "  'base': 'https://tw.stock.yahoo.com/rss/url/d/e/N2.html',\n",
       "  'value': '【時報-台北電】大陸全國人大28日通過港版「國安法」後，美國總統川普當地時間29日下午召開記者會，他指責大陸破壞對香港及世界承諾，而作為懲罰陸方措施的一環，美國將撤銷給予香港的特殊待遇，包括單獨關稅區...'}}"
      ]
     },
     "execution_count": 3,
     "metadata": {},
     "output_type": "execute_result"
    }
   ],
   "source": [
    "# import json\n",
    "# import pprint\n",
    "\n",
    "# # pprint.pprint(f['entries'][0])\n",
    "# # j = json.dumps(f['entries'][0])\n",
    "# entries = json.loads(a)\n",
    "# len(entries)\n",
    "# entries[0]\n",
    "\n",
    "# f['entries'][0]\n",
    "# f\n",
    "f[\"entries\"][0]"
   ]
  },
  {
   "cell_type": "code",
   "execution_count": 30,
   "metadata": {},
   "outputs": [
    {
     "name": "stdout",
     "output_type": "stream",
     "text": [
      "1588509731.906466\n",
      "['https://news.cnyes.com/api/v3/news/category/headline?startAt=1262304000&endAt=1264896000&limit=100', 'https://news.cnyes.com/api/v3/news/category/headline?startAt=1264896000&endAt=1267488000&limit=100', 'https://news.cnyes.com/api/v3/news/category/headline?startAt=1267488000&endAt=1270080000&limit=100', 'https://news.cnyes.com/api/v3/news/category/headline?startAt=1270080000&endAt=1272672000&limit=100', 'https://news.cnyes.com/api/v3/news/category/headline?startAt=1272672000&endAt=1275264000&limit=100', 'https://news.cnyes.com/api/v3/news/category/headline?startAt=1275264000&endAt=1277856000&limit=100', 'https://news.cnyes.com/api/v3/news/category/headline?startAt=1277856000&endAt=1280448000&limit=100', 'https://news.cnyes.com/api/v3/news/category/headline?startAt=1280448000&endAt=1283040000&limit=100', 'https://news.cnyes.com/api/v3/news/category/headline?startAt=1283040000&endAt=1285632000&limit=100', 'https://news.cnyes.com/api/v3/news/category/headline?startAt=1285632000&endAt=1288224000&limit=100', 'https://news.cnyes.com/api/v3/news/category/headline?startAt=1288224000&endAt=1290816000&limit=100', 'https://news.cnyes.com/api/v3/news/category/headline?startAt=1290816000&endAt=1293408000&limit=100', 'https://news.cnyes.com/api/v3/news/category/headline?startAt=1293408000&endAt=1296000000&limit=100', 'https://news.cnyes.com/api/v3/news/category/headline?startAt=1296000000&endAt=1298592000&limit=100', 'https://news.cnyes.com/api/v3/news/category/headline?startAt=1298592000&endAt=1301184000&limit=100', 'https://news.cnyes.com/api/v3/news/category/headline?startAt=1301184000&endAt=1303776000&limit=100', 'https://news.cnyes.com/api/v3/news/category/headline?startAt=1303776000&endAt=1306368000&limit=100', 'https://news.cnyes.com/api/v3/news/category/headline?startAt=1306368000&endAt=1308960000&limit=100', 'https://news.cnyes.com/api/v3/news/category/headline?startAt=1308960000&endAt=1311552000&limit=100', 'https://news.cnyes.com/api/v3/news/category/headline?startAt=1311552000&endAt=1314144000&limit=100', 'https://news.cnyes.com/api/v3/news/category/headline?startAt=1314144000&endAt=1316736000&limit=100', 'https://news.cnyes.com/api/v3/news/category/headline?startAt=1316736000&endAt=1319328000&limit=100', 'https://news.cnyes.com/api/v3/news/category/headline?startAt=1319328000&endAt=1321920000&limit=100', 'https://news.cnyes.com/api/v3/news/category/headline?startAt=1321920000&endAt=1324512000&limit=100', 'https://news.cnyes.com/api/v3/news/category/headline?startAt=1324512000&endAt=1327104000&limit=100', 'https://news.cnyes.com/api/v3/news/category/headline?startAt=1327104000&endAt=1329696000&limit=100', 'https://news.cnyes.com/api/v3/news/category/headline?startAt=1329696000&endAt=1332288000&limit=100', 'https://news.cnyes.com/api/v3/news/category/headline?startAt=1332288000&endAt=1334880000&limit=100', 'https://news.cnyes.com/api/v3/news/category/headline?startAt=1334880000&endAt=1337472000&limit=100', 'https://news.cnyes.com/api/v3/news/category/headline?startAt=1337472000&endAt=1340064000&limit=100', 'https://news.cnyes.com/api/v3/news/category/headline?startAt=1340064000&endAt=1342656000&limit=100', 'https://news.cnyes.com/api/v3/news/category/headline?startAt=1342656000&endAt=1345248000&limit=100', 'https://news.cnyes.com/api/v3/news/category/headline?startAt=1345248000&endAt=1347840000&limit=100', 'https://news.cnyes.com/api/v3/news/category/headline?startAt=1347840000&endAt=1350432000&limit=100', 'https://news.cnyes.com/api/v3/news/category/headline?startAt=1350432000&endAt=1353024000&limit=100', 'https://news.cnyes.com/api/v3/news/category/headline?startAt=1353024000&endAt=1355616000&limit=100', 'https://news.cnyes.com/api/v3/news/category/headline?startAt=1355616000&endAt=1358208000&limit=100', 'https://news.cnyes.com/api/v3/news/category/headline?startAt=1358208000&endAt=1360800000&limit=100', 'https://news.cnyes.com/api/v3/news/category/headline?startAt=1360800000&endAt=1363392000&limit=100', 'https://news.cnyes.com/api/v3/news/category/headline?startAt=1363392000&endAt=1365984000&limit=100', 'https://news.cnyes.com/api/v3/news/category/headline?startAt=1365984000&endAt=1368576000&limit=100', 'https://news.cnyes.com/api/v3/news/category/headline?startAt=1368576000&endAt=1371168000&limit=100', 'https://news.cnyes.com/api/v3/news/category/headline?startAt=1371168000&endAt=1373760000&limit=100', 'https://news.cnyes.com/api/v3/news/category/headline?startAt=1373760000&endAt=1376352000&limit=100', 'https://news.cnyes.com/api/v3/news/category/headline?startAt=1376352000&endAt=1378944000&limit=100', 'https://news.cnyes.com/api/v3/news/category/headline?startAt=1378944000&endAt=1381536000&limit=100', 'https://news.cnyes.com/api/v3/news/category/headline?startAt=1381536000&endAt=1384128000&limit=100', 'https://news.cnyes.com/api/v3/news/category/headline?startAt=1384128000&endAt=1386720000&limit=100', 'https://news.cnyes.com/api/v3/news/category/headline?startAt=1386720000&endAt=1389312000&limit=100', 'https://news.cnyes.com/api/v3/news/category/headline?startAt=1389312000&endAt=1391904000&limit=100', 'https://news.cnyes.com/api/v3/news/category/headline?startAt=1391904000&endAt=1394496000&limit=100', 'https://news.cnyes.com/api/v3/news/category/headline?startAt=1394496000&endAt=1397088000&limit=100', 'https://news.cnyes.com/api/v3/news/category/headline?startAt=1397088000&endAt=1399680000&limit=100', 'https://news.cnyes.com/api/v3/news/category/headline?startAt=1399680000&endAt=1402272000&limit=100', 'https://news.cnyes.com/api/v3/news/category/headline?startAt=1402272000&endAt=1404864000&limit=100', 'https://news.cnyes.com/api/v3/news/category/headline?startAt=1404864000&endAt=1407456000&limit=100', 'https://news.cnyes.com/api/v3/news/category/headline?startAt=1407456000&endAt=1410048000&limit=100', 'https://news.cnyes.com/api/v3/news/category/headline?startAt=1410048000&endAt=1412640000&limit=100', 'https://news.cnyes.com/api/v3/news/category/headline?startAt=1412640000&endAt=1415232000&limit=100', 'https://news.cnyes.com/api/v3/news/category/headline?startAt=1415232000&endAt=1417824000&limit=100', 'https://news.cnyes.com/api/v3/news/category/headline?startAt=1417824000&endAt=1420416000&limit=100', 'https://news.cnyes.com/api/v3/news/category/headline?startAt=1420416000&endAt=1423008000&limit=100', 'https://news.cnyes.com/api/v3/news/category/headline?startAt=1423008000&endAt=1425600000&limit=100', 'https://news.cnyes.com/api/v3/news/category/headline?startAt=1425600000&endAt=1428192000&limit=100', 'https://news.cnyes.com/api/v3/news/category/headline?startAt=1428192000&endAt=1430784000&limit=100', 'https://news.cnyes.com/api/v3/news/category/headline?startAt=1430784000&endAt=1433376000&limit=100', 'https://news.cnyes.com/api/v3/news/category/headline?startAt=1433376000&endAt=1435968000&limit=100', 'https://news.cnyes.com/api/v3/news/category/headline?startAt=1435968000&endAt=1438560000&limit=100', 'https://news.cnyes.com/api/v3/news/category/headline?startAt=1438560000&endAt=1441152000&limit=100', 'https://news.cnyes.com/api/v3/news/category/headline?startAt=1441152000&endAt=1443744000&limit=100', 'https://news.cnyes.com/api/v3/news/category/headline?startAt=1443744000&endAt=1446336000&limit=100', 'https://news.cnyes.com/api/v3/news/category/headline?startAt=1446336000&endAt=1448928000&limit=100', 'https://news.cnyes.com/api/v3/news/category/headline?startAt=1448928000&endAt=1451520000&limit=100', 'https://news.cnyes.com/api/v3/news/category/headline?startAt=1451520000&endAt=1454112000&limit=100', 'https://news.cnyes.com/api/v3/news/category/headline?startAt=1454112000&endAt=1456704000&limit=100', 'https://news.cnyes.com/api/v3/news/category/headline?startAt=1456704000&endAt=1459296000&limit=100', 'https://news.cnyes.com/api/v3/news/category/headline?startAt=1459296000&endAt=1461888000&limit=100', 'https://news.cnyes.com/api/v3/news/category/headline?startAt=1461888000&endAt=1464480000&limit=100', 'https://news.cnyes.com/api/v3/news/category/headline?startAt=1464480000&endAt=1467072000&limit=100', 'https://news.cnyes.com/api/v3/news/category/headline?startAt=1467072000&endAt=1469664000&limit=100', 'https://news.cnyes.com/api/v3/news/category/headline?startAt=1469664000&endAt=1472256000&limit=100', 'https://news.cnyes.com/api/v3/news/category/headline?startAt=1472256000&endAt=1474848000&limit=100', 'https://news.cnyes.com/api/v3/news/category/headline?startAt=1474848000&endAt=1477440000&limit=100', 'https://news.cnyes.com/api/v3/news/category/headline?startAt=1477440000&endAt=1480032000&limit=100', 'https://news.cnyes.com/api/v3/news/category/headline?startAt=1480032000&endAt=1482624000&limit=100', 'https://news.cnyes.com/api/v3/news/category/headline?startAt=1482624000&endAt=1485216000&limit=100', 'https://news.cnyes.com/api/v3/news/category/headline?startAt=1485216000&endAt=1487808000&limit=100', 'https://news.cnyes.com/api/v3/news/category/headline?startAt=1487808000&endAt=1490400000&limit=100', 'https://news.cnyes.com/api/v3/news/category/headline?startAt=1490400000&endAt=1492992000&limit=100', 'https://news.cnyes.com/api/v3/news/category/headline?startAt=1492992000&endAt=1495584000&limit=100', 'https://news.cnyes.com/api/v3/news/category/headline?startAt=1495584000&endAt=1498176000&limit=100', 'https://news.cnyes.com/api/v3/news/category/headline?startAt=1498176000&endAt=1500768000&limit=100', 'https://news.cnyes.com/api/v3/news/category/headline?startAt=1500768000&endAt=1503360000&limit=100', 'https://news.cnyes.com/api/v3/news/category/headline?startAt=1503360000&endAt=1505952000&limit=100', 'https://news.cnyes.com/api/v3/news/category/headline?startAt=1505952000&endAt=1508544000&limit=100', 'https://news.cnyes.com/api/v3/news/category/headline?startAt=1508544000&endAt=1511136000&limit=100', 'https://news.cnyes.com/api/v3/news/category/headline?startAt=1511136000&endAt=1513728000&limit=100', 'https://news.cnyes.com/api/v3/news/category/headline?startAt=1513728000&endAt=1516320000&limit=100', 'https://news.cnyes.com/api/v3/news/category/headline?startAt=1516320000&endAt=1518912000&limit=100', 'https://news.cnyes.com/api/v3/news/category/headline?startAt=1518912000&endAt=1521504000&limit=100', 'https://news.cnyes.com/api/v3/news/category/headline?startAt=1521504000&endAt=1524096000&limit=100', 'https://news.cnyes.com/api/v3/news/category/headline?startAt=1524096000&endAt=1526688000&limit=100', 'https://news.cnyes.com/api/v3/news/category/headline?startAt=1526688000&endAt=1529280000&limit=100', 'https://news.cnyes.com/api/v3/news/category/headline?startAt=1529280000&endAt=1531872000&limit=100', 'https://news.cnyes.com/api/v3/news/category/headline?startAt=1531872000&endAt=1534464000&limit=100', 'https://news.cnyes.com/api/v3/news/category/headline?startAt=1534464000&endAt=1537056000&limit=100', 'https://news.cnyes.com/api/v3/news/category/headline?startAt=1537056000&endAt=1539648000&limit=100', 'https://news.cnyes.com/api/v3/news/category/headline?startAt=1539648000&endAt=1542240000&limit=100', 'https://news.cnyes.com/api/v3/news/category/headline?startAt=1542240000&endAt=1544832000&limit=100', 'https://news.cnyes.com/api/v3/news/category/headline?startAt=1544832000&endAt=1547424000&limit=100', 'https://news.cnyes.com/api/v3/news/category/headline?startAt=1547424000&endAt=1550016000&limit=100', 'https://news.cnyes.com/api/v3/news/category/headline?startAt=1550016000&endAt=1552608000&limit=100', 'https://news.cnyes.com/api/v3/news/category/headline?startAt=1552608000&endAt=1555200000&limit=100', 'https://news.cnyes.com/api/v3/news/category/headline?startAt=1555200000&endAt=1557792000&limit=100', 'https://news.cnyes.com/api/v3/news/category/headline?startAt=1557792000&endAt=1560384000&limit=100', 'https://news.cnyes.com/api/v3/news/category/headline?startAt=1560384000&endAt=1562976000&limit=100', 'https://news.cnyes.com/api/v3/news/category/headline?startAt=1562976000&endAt=1565568000&limit=100', 'https://news.cnyes.com/api/v3/news/category/headline?startAt=1565568000&endAt=1568160000&limit=100', 'https://news.cnyes.com/api/v3/news/category/headline?startAt=1568160000&endAt=1570752000&limit=100', 'https://news.cnyes.com/api/v3/news/category/headline?startAt=1570752000&endAt=1573344000&limit=100', 'https://news.cnyes.com/api/v3/news/category/headline?startAt=1573344000&endAt=1575936000&limit=100', 'https://news.cnyes.com/api/v3/news/category/headline?startAt=1575936000&endAt=1578528000&limit=100', 'https://news.cnyes.com/api/v3/news/category/headline?startAt=1578528000&endAt=1581120000&limit=100', 'https://news.cnyes.com/api/v3/news/category/headline?startAt=1581120000&endAt=1583712000&limit=100', 'https://news.cnyes.com/api/v3/news/category/headline?startAt=1583712000&endAt=1586304000&limit=100', 'https://news.cnyes.com/api/v3/news/category/headline?startAt=1586304000&endAt=1588509731&limit=100']\n"
     ]
    }
   ],
   "source": [
    "import datetime\n",
    "import json\n",
    "t = [2020, 4, 14, 21, 35, 43, 1, 105, 0]\n",
    "\n",
    "# datetime.datetime.now().timestamp()\n",
    "# datetime.datetime.fromtimestamp(1588500008)\n",
    "\n",
    "# d = datetime.timedelta(days=30)\n",
    "# until - d\n",
    "\n",
    "# json.dumps(datetime.datetime(*t[:7]))\n",
    "\n",
    "def startpoints(start: datetime.datetime, until: datetime.datetime):\n",
    "    urls = []\n",
    "    while start < until:\n",
    "        _until = start + datetime.timedelta(days=30)\n",
    "        if _until > until:\n",
    "            _until = until\n",
    "        urls.append('https://news.cnyes.com/api/v3/news/category/headline' +\n",
    "                    f'?startAt={int(start.timestamp())}' +\n",
    "                    f'&endAt={int(_until.timestamp())}' +\n",
    "                    '&limit=100')\n",
    "        start = _until\n",
    "    return urls\n",
    "\n",
    "start = datetime.datetime(2010, 1, 1)\n",
    "until = datetime.datetime.now()\n",
    "print(until.timestamp())\n",
    "print(startpoints(start, until))"
   ]
  },
  {
   "cell_type": "code",
   "execution_count": 23,
   "metadata": {},
   "outputs": [
    {
     "name": "stdout",
     "output_type": "stream",
     "text": [
      "2020-04-12 13:20:00\n",
      "sleep for 5955 seconds\n"
     ]
    }
   ],
   "source": [
    "from time import mktime\n",
    "import datetime\n",
    " \n",
    "fetched_at = datetime.datetime(2020, 4, 12, 10, 0, 0)\n",
    "freq = datetime.timedelta(seconds=12000)\n",
    "print(fetched_at + freq)\n",
    "secs_to_sleep = (fetched_at + freq - datetime.datetime.now()).total_seconds()\n",
    "\n",
    "if secs_to_sleep > 0:\n",
    "    print(\"sleep for {} seconds\".format(int(secs_to_sleep)))\n",
    "else:\n",
    "    print(\"scrape\")"
   ]
  },
  {
   "cell_type": "markdown",
   "metadata": {},
   "source": [
    "# twint, elasticsearch"
   ]
  },
  {
   "cell_type": "code",
   "execution_count": 28,
   "metadata": {},
   "outputs": [
    {
     "name": "stdout",
     "output_type": "stream",
     "text": [
      "[+] Indexing to Elasticsearch @ http://es:9200\n",
      "...................."
     ]
    }
   ],
   "source": [
    "import twint\n",
    "\n",
    "c = twint.Config()\n",
    "\n",
    "# c.Username = \"YahooFinance\"\n",
    "# c.Username = \"CNBC\"\n",
    "c.Search = '$AAPL'\n",
    "c.Limit = 10\n",
    "# c.Since= '2017-12-27'\n",
    "# c.Until = '2017-12-31'\n",
    "# c.Store_csv = True\n",
    "# c.Output = \"none\"\n",
    "c.Elasticsearch = \"http://es:9200\"\n",
    "c.Debug = True\n",
    "\n",
    "twint.run.Search(c)"
   ]
  },
  {
   "cell_type": "code",
   "execution_count": 17,
   "metadata": {},
   "outputs": [
    {
     "ename": "RequestError",
     "evalue": "RequestError(400, 'action_request_validation_exception', 'Validation Failed: 1: reindex cannot write into an index its reading from [test-blog-20200806151118961968];')",
     "output_type": "error",
     "traceback": [
      "\u001b[0;31m---------------------------------------------------------------------------\u001b[0m",
      "\u001b[0;31mRequestError\u001b[0m                              Traceback (most recent call last)",
      "\u001b[0;32m<ipython-input-17-977ce26c5186>\u001b[0m in \u001b[0;36m<module>\u001b[0;34m\u001b[0m\n\u001b[1;32m     43\u001b[0m es.reindex(\n\u001b[1;32m     44\u001b[0m     \u001b[0mbody\u001b[0m\u001b[0;34m=\u001b[0m\u001b[0;34m{\u001b[0m\u001b[0;34m\"source\"\u001b[0m\u001b[0;34m:\u001b[0m \u001b[0;34m{\u001b[0m\u001b[0;34m\"index\"\u001b[0m\u001b[0;34m:\u001b[0m \u001b[0;34m\"test-blog\"\u001b[0m\u001b[0;34m}\u001b[0m\u001b[0;34m,\u001b[0m \u001b[0;34m\"dest\"\u001b[0m\u001b[0;34m:\u001b[0m \u001b[0;34m{\u001b[0m\u001b[0;34m\"index\"\u001b[0m\u001b[0;34m:\u001b[0m \u001b[0mnext_index\u001b[0m\u001b[0;34m}\u001b[0m\u001b[0;34m}\u001b[0m\u001b[0;34m,\u001b[0m\u001b[0;34m\u001b[0m\u001b[0;34m\u001b[0m\u001b[0m\n\u001b[0;32m---> 45\u001b[0;31m     \u001b[0mrequest_timeout\u001b[0m\u001b[0;34m=\u001b[0m\u001b[0;36m3600\u001b[0m\u001b[0;34m\u001b[0m\u001b[0;34m\u001b[0m\u001b[0m\n\u001b[0m\u001b[1;32m     46\u001b[0m )\n\u001b[1;32m     47\u001b[0m \u001b[0mes\u001b[0m\u001b[0;34m.\u001b[0m\u001b[0mindices\u001b[0m\u001b[0;34m.\u001b[0m\u001b[0mrefresh\u001b[0m\u001b[0;34m(\u001b[0m\u001b[0mindex\u001b[0m\u001b[0;34m=\u001b[0m\u001b[0mnext_index\u001b[0m\u001b[0;34m)\u001b[0m\u001b[0;34m\u001b[0m\u001b[0;34m\u001b[0m\u001b[0m\n",
      "\u001b[0;32m/usr/local/lib/python3.7/site-packages/elasticsearch/client/utils.py\u001b[0m in \u001b[0;36m_wrapped\u001b[0;34m(*args, **kwargs)\u001b[0m\n\u001b[1;32m     90\u001b[0m                 \u001b[0;32mif\u001b[0m \u001b[0mp\u001b[0m \u001b[0;32min\u001b[0m \u001b[0mkwargs\u001b[0m\u001b[0;34m:\u001b[0m\u001b[0;34m\u001b[0m\u001b[0;34m\u001b[0m\u001b[0m\n\u001b[1;32m     91\u001b[0m                     \u001b[0mparams\u001b[0m\u001b[0;34m[\u001b[0m\u001b[0mp\u001b[0m\u001b[0;34m]\u001b[0m \u001b[0;34m=\u001b[0m \u001b[0mkwargs\u001b[0m\u001b[0;34m.\u001b[0m\u001b[0mpop\u001b[0m\u001b[0;34m(\u001b[0m\u001b[0mp\u001b[0m\u001b[0;34m)\u001b[0m\u001b[0;34m\u001b[0m\u001b[0;34m\u001b[0m\u001b[0m\n\u001b[0;32m---> 92\u001b[0;31m             \u001b[0;32mreturn\u001b[0m \u001b[0mfunc\u001b[0m\u001b[0;34m(\u001b[0m\u001b[0;34m*\u001b[0m\u001b[0margs\u001b[0m\u001b[0;34m,\u001b[0m \u001b[0mparams\u001b[0m\u001b[0;34m=\u001b[0m\u001b[0mparams\u001b[0m\u001b[0;34m,\u001b[0m \u001b[0mheaders\u001b[0m\u001b[0;34m=\u001b[0m\u001b[0mheaders\u001b[0m\u001b[0;34m,\u001b[0m \u001b[0;34m**\u001b[0m\u001b[0mkwargs\u001b[0m\u001b[0;34m)\u001b[0m\u001b[0;34m\u001b[0m\u001b[0;34m\u001b[0m\u001b[0m\n\u001b[0m\u001b[1;32m     93\u001b[0m \u001b[0;34m\u001b[0m\u001b[0m\n\u001b[1;32m     94\u001b[0m         \u001b[0;32mreturn\u001b[0m \u001b[0m_wrapped\u001b[0m\u001b[0;34m\u001b[0m\u001b[0;34m\u001b[0m\u001b[0m\n",
      "\u001b[0;32m/usr/local/lib/python3.7/site-packages/elasticsearch/client/__init__.py\u001b[0m in \u001b[0;36mreindex\u001b[0;34m(self, body, params, headers)\u001b[0m\n\u001b[1;32m   1389\u001b[0m \u001b[0;34m\u001b[0m\u001b[0m\n\u001b[1;32m   1390\u001b[0m         return self.transport.perform_request(\n\u001b[0;32m-> 1391\u001b[0;31m             \u001b[0;34m\"POST\"\u001b[0m\u001b[0;34m,\u001b[0m \u001b[0;34m\"/_reindex\"\u001b[0m\u001b[0;34m,\u001b[0m \u001b[0mparams\u001b[0m\u001b[0;34m=\u001b[0m\u001b[0mparams\u001b[0m\u001b[0;34m,\u001b[0m \u001b[0mheaders\u001b[0m\u001b[0;34m=\u001b[0m\u001b[0mheaders\u001b[0m\u001b[0;34m,\u001b[0m \u001b[0mbody\u001b[0m\u001b[0;34m=\u001b[0m\u001b[0mbody\u001b[0m\u001b[0;34m\u001b[0m\u001b[0;34m\u001b[0m\u001b[0m\n\u001b[0m\u001b[1;32m   1392\u001b[0m         )\n\u001b[1;32m   1393\u001b[0m \u001b[0;34m\u001b[0m\u001b[0m\n",
      "\u001b[0;32m/usr/local/lib/python3.7/site-packages/elasticsearch/transport.py\u001b[0m in \u001b[0;36mperform_request\u001b[0;34m(self, method, url, headers, params, body)\u001b[0m\n\u001b[1;32m    360\u001b[0m                     \u001b[0mheaders\u001b[0m\u001b[0;34m=\u001b[0m\u001b[0mheaders\u001b[0m\u001b[0;34m,\u001b[0m\u001b[0;34m\u001b[0m\u001b[0;34m\u001b[0m\u001b[0m\n\u001b[1;32m    361\u001b[0m                     \u001b[0mignore\u001b[0m\u001b[0;34m=\u001b[0m\u001b[0mignore\u001b[0m\u001b[0;34m,\u001b[0m\u001b[0;34m\u001b[0m\u001b[0;34m\u001b[0m\u001b[0m\n\u001b[0;32m--> 362\u001b[0;31m                     \u001b[0mtimeout\u001b[0m\u001b[0;34m=\u001b[0m\u001b[0mtimeout\u001b[0m\u001b[0;34m,\u001b[0m\u001b[0;34m\u001b[0m\u001b[0;34m\u001b[0m\u001b[0m\n\u001b[0m\u001b[1;32m    363\u001b[0m                 )\n\u001b[1;32m    364\u001b[0m \u001b[0;34m\u001b[0m\u001b[0m\n",
      "\u001b[0;32m/usr/local/lib/python3.7/site-packages/elasticsearch/connection/http_urllib3.py\u001b[0m in \u001b[0;36mperform_request\u001b[0;34m(self, method, url, params, body, timeout, ignore, headers)\u001b[0m\n\u001b[1;32m    246\u001b[0m                 \u001b[0mmethod\u001b[0m\u001b[0;34m,\u001b[0m \u001b[0mfull_url\u001b[0m\u001b[0;34m,\u001b[0m \u001b[0murl\u001b[0m\u001b[0;34m,\u001b[0m \u001b[0morig_body\u001b[0m\u001b[0;34m,\u001b[0m \u001b[0mduration\u001b[0m\u001b[0;34m,\u001b[0m \u001b[0mresponse\u001b[0m\u001b[0;34m.\u001b[0m\u001b[0mstatus\u001b[0m\u001b[0;34m,\u001b[0m \u001b[0mraw_data\u001b[0m\u001b[0;34m\u001b[0m\u001b[0;34m\u001b[0m\u001b[0m\n\u001b[1;32m    247\u001b[0m             )\n\u001b[0;32m--> 248\u001b[0;31m             \u001b[0mself\u001b[0m\u001b[0;34m.\u001b[0m\u001b[0m_raise_error\u001b[0m\u001b[0;34m(\u001b[0m\u001b[0mresponse\u001b[0m\u001b[0;34m.\u001b[0m\u001b[0mstatus\u001b[0m\u001b[0;34m,\u001b[0m \u001b[0mraw_data\u001b[0m\u001b[0;34m)\u001b[0m\u001b[0;34m\u001b[0m\u001b[0;34m\u001b[0m\u001b[0m\n\u001b[0m\u001b[1;32m    249\u001b[0m \u001b[0;34m\u001b[0m\u001b[0m\n\u001b[1;32m    250\u001b[0m         self.log_request_success(\n",
      "\u001b[0;32m/usr/local/lib/python3.7/site-packages/elasticsearch/connection/base.py\u001b[0m in \u001b[0;36m_raise_error\u001b[0;34m(self, status_code, raw_data)\u001b[0m\n\u001b[1;32m    242\u001b[0m \u001b[0;34m\u001b[0m\u001b[0m\n\u001b[1;32m    243\u001b[0m         raise HTTP_EXCEPTIONS.get(status_code, TransportError)(\n\u001b[0;32m--> 244\u001b[0;31m             \u001b[0mstatus_code\u001b[0m\u001b[0;34m,\u001b[0m \u001b[0merror_message\u001b[0m\u001b[0;34m,\u001b[0m \u001b[0madditional_info\u001b[0m\u001b[0;34m\u001b[0m\u001b[0;34m\u001b[0m\u001b[0m\n\u001b[0m\u001b[1;32m    245\u001b[0m         )\n\u001b[1;32m    246\u001b[0m \u001b[0;34m\u001b[0m\u001b[0m\n",
      "\u001b[0;31mRequestError\u001b[0m: RequestError(400, 'action_request_validation_exception', 'Validation Failed: 1: reindex cannot write into an index its reading from [test-blog-20200806151118961968];')"
     ]
    }
   ],
   "source": [
    "# https://github.com/elastic/elasticsearch-dsl-py/blob/master/examples/alias_migration.py\n",
    "from datetime import datetime\n",
    "from elasticsearch_dsl import Document, Date, Text, Keyword, connections\n",
    "\n",
    "ALIAS = 'test-blog'\n",
    "PATTERN = ALIAS + '-*'\n",
    "\n",
    "class BlogPost(Document):\n",
    "    title = Text()\n",
    "    published = Date()\n",
    "    tags = Keyword(multi=True)\n",
    "    content = Text(index=True)\n",
    "\n",
    "    class Index:\n",
    "        name = ALIAS\n",
    "        settings = {\n",
    "            'number_of_shards': 1,\n",
    "            'number_of_replicas': 0\n",
    "        }\n",
    "\n",
    "connections.create_connection(hosts=['es:9200'])\n",
    "\n",
    "# setup\n",
    "next_index = PATTERN.replace(\n",
    "        '*', datetime.now().strftime('%Y%m%d%H%M%S%f'))\n",
    "es = connections.get_connection()\n",
    "es.indices.create(index=next_index)\n",
    "\n",
    "# bp = BlogPost(\n",
    "#         title='Hello World!',\n",
    "#         tags=['testing', 'dummy'],\n",
    "#         content=\"another content\"\n",
    "#     )\n",
    "# bp.save()        \n",
    "\n",
    "# reindex\n",
    "es.reindex(\n",
    "    body={\"source\": {\"index\": \"test-blog\"}, \"dest\": {\"index\": next_index}},\n",
    "    request_timeout=3600\n",
    ")\n",
    "es.indices.refresh(index=next_index)\n",
    "\n",
    "# alias update\n",
    "# es.indices.update_aliases(body={\n",
    "#     'actions': [\n",
    "#                 {\"remove\": {\"alias\": ALIAS, \"index\": PATTERN}},\n",
    "#                 {\"add\": {\"alias\": ALIAS, \"index\": next_index}},\n",
    "#             ]\n",
    "#         })\n"
   ]
  },
  {
   "cell_type": "code",
   "execution_count": 11,
   "metadata": {},
   "outputs": [
    {
     "name": "stdout",
     "output_type": "stream",
     "text": [
      "/workspace/twint/app\n",
      "{'from_url': 'aaa.ccc', 'created_at': datetime.datetime(2020, 8, 30, 19, 3, 56, 922454)}\n"
     ]
    },
    {
     "data": {
      "text/plain": [
       "<Response: [Page(index='scraper-page', id='aaa.ccc')]>"
      ]
     },
     "execution_count": 11,
     "metadata": {},
     "output_type": "execute_result"
    }
   ],
   "source": [
    "%cd /workspace/twint/app\n",
    "import elasticsearch\n",
    "from elasticsearch_dsl import Q\n",
    "from app.store import es\n",
    "\n",
    "es.connect()\n",
    "p = es.Page(from_url=\"aaa.ccc\")\n",
    "p.save()\n",
    "\n",
    "p = es.Page.get(id=\"aaa.ccc\")\n",
    "print(p.to_dict())\n",
    "\n",
    "q = Q('wildcard', from_url=f\"*aaa.ccc*\") & ~Q(\"term\", http_status=200) & Q(\"range\", n_retries={\"lte\": 5})\n",
    "s = es.Page.search()\n",
    "s = s.filter(q)\n",
    "s.execute()"
   ]
  },
  {
   "cell_type": "code",
   "execution_count": 40,
   "metadata": {},
   "outputs": [
    {
     "name": "stdout",
     "output_type": "stream",
     "text": [
      "Rss(index='news_rss', id='https://some.url.com/?query=like&thisad')\n"
     ]
    }
   ],
   "source": [
    "import json\n",
    "import datetime\n",
    "from lxml import etree\n",
    "import elasticsearch\n",
    "from elasticsearch_dsl import connections, Document, Date, Keyword, Q, Search, Text, Range, Integer\n",
    "\n",
    "class Rss(Document):\n",
    "    url = Keyword(required=True)\n",
    "    ticker = Keyword()\n",
    "    freq = Integer()  # seconds (default: 2 days)\n",
    "    n_retries = Integer()\n",
    "    fetched_at = Date()\n",
    "\n",
    "    class Index:\n",
    "        name = \"news_rss\"\n",
    "        settings = {\n",
    "            'number_of_shards': 1,\n",
    "            'number_of_replicas': 0\n",
    "        }\n",
    "\n",
    "    def save(self, **kwargs):\n",
    "        self.meta.id = self.url\n",
    "        self.n_retries = self.n_retries or 0\n",
    "        self.freq = self.freq or 2*24*60*60\n",
    "        # self.created_at = datetime.datetime.now()\n",
    "        return super().save(**kwargs)\n",
    "    \n",
    "    @classmethod\n",
    "    def get_or_create(cls, url) -> Rss:\n",
    "        try:\n",
    "            rss = cls.get(id=url)\n",
    "        except elasticsearch.NotFoundError:\n",
    "            rss = cls(url=url)\n",
    "            rss.save()\n",
    "        return rss\n",
    "\n",
    "connections.create_connection(hosts=['es:9200'])\n",
    "Rss.init()\n",
    "\n",
    "# rss = Rss(url=\"https://some.url.com/?query=like&this\")\n",
    "# rss.save()\n",
    "\n",
    "r = Rss.get_or_create(\"https://some.url.com/?query=like&thisad\")\n",
    "# print(r.n_retries)\n",
    "print(r)\n",
    "\n",
    "\n",
    "# for i, hit in enumerate(scan_twint('ReutersBiz')):\n",
    "#     print(hit.urls)\n",
    "#     if i > 10:\n",
    "#         break\n",
    "\n",
    "# connections.create_connection(hosts=['es:9200'])\n",
    "# connections.create_connection(hosts=['es:9200'])\n",
    "# Page.init()\n",
    "# s = Page.search()\n",
    "# s.query = Q({\"match\": {\"src_url\": \"aaa.com\"}})\n",
    "# resp = s.execute()\n",
    "# print(resp.hits.total.value)\n",
    "# Page.is_existed('aaav.com')\n",
    "\n",
    "\n"
   ]
  },
  {
   "cell_type": "code",
   "execution_count": 20,
   "metadata": {},
   "outputs": [
    {
     "data": {
      "text/plain": [
       "True"
      ]
     },
     "execution_count": 20,
     "metadata": {},
     "output_type": "execute_result"
    }
   ],
   "source": [
    "import elasticsearch\n",
    "from elasticsearch_dsl import connections, Document, Date, Keyword, Q, Search, Text, Range, Integer\n",
    "\n",
    "q = Q({\n",
    "        \"range\": {\n",
    "            \"date\": {\n",
    "                \"gte\": \"2000-01-01 00:00:00\",\n",
    "                \"lt\": \"2025-01-01 00:00:00\",\n",
    "            }\n",
    "        }\n",
    "    })\n",
    "client = elasticsearch.Elasticsearch(['es:9200'])\n",
    "s = Search(using=client, index=\"twinttweets\").query(q).filter(\"terms\", username=[\"CNBC\"])\n",
    "\n",
    "# for hit in s.scan():\n",
    "#     print(hit)\n",
    "hit = next(s.scan())\n",
    "hit.username\n",
    "hasattr(hit, \"urls\")"
   ]
  },
  {
   "cell_type": "code",
   "execution_count": 16,
   "metadata": {},
   "outputs": [
    {
     "data": {
      "text/plain": [
       "'ReutersBiz'"
      ]
     },
     "execution_count": 16,
     "metadata": {},
     "output_type": "execute_result"
    }
   ],
   "source": [
    "# dir(hit.username)\n",
    "hit.username"
   ]
  },
  {
   "cell_type": "markdown",
   "metadata": {},
   "source": [
    "# @dataclass, namedtuple"
   ]
  },
  {
   "cell_type": "code",
   "execution_count": 29,
   "metadata": {},
   "outputs": [
    {
     "data": {
      "text/plain": [
       "{'a': 'a', 'b': None}"
      ]
     },
     "execution_count": 29,
     "metadata": {},
     "output_type": "execute_result"
    }
   ],
   "source": [
    "import json\n",
    "import dataclasses \n",
    "from typing import Tuple, List, Optional\n",
    "\n",
    "@dataclasses.dataclass\n",
    "class A:\n",
    "    a: str\n",
    "    b: str = None\n",
    "\n",
    "@dataclasses.dataclass\n",
    "class C:\n",
    "    a: A\n",
    "    \n",
    "a = A(\"a\")\n",
    "c = C(a)\n",
    "o = dataclasses.asdict(c)\n",
    "\n",
    "o[\"a\"]"
   ]
  },
  {
   "cell_type": "code",
   "execution_count": 34,
   "metadata": {},
   "outputs": [
    {
     "name": "stdout",
     "output_type": "stream",
     "text": [
      "/workspace/twint/app\n"
     ]
    },
    {
     "data": {
      "text/plain": [
       "0        HG\n",
       "1       AUP\n",
       "2       HGS\n",
       "3       EDP\n",
       "4       AEP\n",
       "       ... \n",
       "1184     26\n",
       "1185     17\n",
       "1186    UBE\n",
       "1187     TN\n",
       "1188    3YR\n",
       "Name: 0, Length: 1189, dtype: object"
      ]
     },
     "execution_count": 34,
     "metadata": {},
     "output_type": "execute_result"
    }
   ],
   "source": [
    "%cd /workspace/twint/app\n",
    "import pandas as pd\n",
    "\n",
    "df = pd.read_csv('./resource/symbol_future.csv', header=None)\n",
    "df[0]"
   ]
  },
  {
   "cell_type": "code",
   "execution_count": 4,
   "metadata": {},
   "outputs": [
    {
     "name": "stdout",
     "output_type": "stream",
     "text": [
      "1\n",
      "2\n"
     ]
    },
    {
     "ename": "NameError",
     "evalue": "name 'a' is not defined",
     "output_type": "error",
     "traceback": [
      "\u001b[0;31m---------------------------------------------------------------------------\u001b[0m",
      "\u001b[0;31mNameError\u001b[0m                                 Traceback (most recent call last)",
      "\u001b[0;32m<ipython-input-4-e72c37c3a264>\u001b[0m in \u001b[0;36m<module>\u001b[0;34m\u001b[0m\n\u001b[1;32m      2\u001b[0m     \u001b[0mprint\u001b[0m\u001b[0;34m(\u001b[0m\u001b[0;36m1\u001b[0m\u001b[0;34m)\u001b[0m\u001b[0;34m\u001b[0m\u001b[0;34m\u001b[0m\u001b[0m\n\u001b[0;32m----> 3\u001b[0;31m     \u001b[0mprint\u001b[0m\u001b[0;34m(\u001b[0m\u001b[0ma\u001b[0m\u001b[0;34m)\u001b[0m\u001b[0;34m\u001b[0m\u001b[0;34m\u001b[0m\u001b[0m\n\u001b[0m\u001b[1;32m      4\u001b[0m \u001b[0;32mexcept\u001b[0m \u001b[0mNameError\u001b[0m\u001b[0;34m:\u001b[0m\u001b[0;34m\u001b[0m\u001b[0;34m\u001b[0m\u001b[0m\n",
      "\u001b[0;31mNameError\u001b[0m: name 'a' is not defined",
      "\nDuring handling of the above exception, another exception occurred:\n",
      "\u001b[0;31mNameError\u001b[0m                                 Traceback (most recent call last)",
      "\u001b[0;32m<ipython-input-4-e72c37c3a264>\u001b[0m in \u001b[0;36m<module>\u001b[0;34m\u001b[0m\n\u001b[1;32m      5\u001b[0m     \u001b[0;32mtry\u001b[0m\u001b[0;34m:\u001b[0m\u001b[0;34m\u001b[0m\u001b[0;34m\u001b[0m\u001b[0m\n\u001b[1;32m      6\u001b[0m         \u001b[0mprint\u001b[0m\u001b[0;34m(\u001b[0m\u001b[0;36m2\u001b[0m\u001b[0;34m)\u001b[0m\u001b[0;34m\u001b[0m\u001b[0;34m\u001b[0m\u001b[0m\n\u001b[0;32m----> 7\u001b[0;31m         \u001b[0mprint\u001b[0m\u001b[0;34m(\u001b[0m\u001b[0ma\u001b[0m\u001b[0;34m)\u001b[0m\u001b[0;34m\u001b[0m\u001b[0;34m\u001b[0m\u001b[0m\n\u001b[0m\u001b[1;32m      8\u001b[0m     \u001b[0;32mexcept\u001b[0m \u001b[0mKeyError\u001b[0m\u001b[0;34m:\u001b[0m\u001b[0;34m\u001b[0m\u001b[0;34m\u001b[0m\u001b[0m\n\u001b[1;32m      9\u001b[0m         \u001b[0;32mpass\u001b[0m\u001b[0;34m\u001b[0m\u001b[0;34m\u001b[0m\u001b[0m\n",
      "\u001b[0;31mNameError\u001b[0m: name 'a' is not defined"
     ]
    }
   ],
   "source": [
    "try:\n",
    "    print(1)\n",
    "    print(a)\n",
    "except NameError:\n",
    "    try:\n",
    "        print(2)\n",
    "        print(a)\n",
    "    except KeyError:\n",
    "        pass\n",
    "except Exception as e:\n",
    "    print(e)"
   ]
  },
  {
   "cell_type": "code",
   "execution_count": 1,
   "metadata": {},
   "outputs": [
    {
     "ename": "NameError",
     "evalue": "name 'a' is not defined",
     "output_type": "error",
     "traceback": [
      "\u001b[0;31m---------------------------------------------------------------------------\u001b[0m",
      "\u001b[0;31mNameError\u001b[0m                                 Traceback (most recent call last)",
      "\u001b[0;32m<ipython-input-1-bca0e2660b9f>\u001b[0m in \u001b[0;36m<module>\u001b[0;34m\u001b[0m\n\u001b[0;32m----> 1\u001b[0;31m \u001b[0mprint\u001b[0m\u001b[0;34m(\u001b[0m\u001b[0ma\u001b[0m\u001b[0;34m)\u001b[0m\u001b[0;34m\u001b[0m\u001b[0;34m\u001b[0m\u001b[0m\n\u001b[0m",
      "\u001b[0;31mNameError\u001b[0m: name 'a' is not defined"
     ]
    }
   ],
   "source": [
    "print(a)"
   ]
  }
 ],
 "metadata": {
  "kernelspec": {
   "display_name": "Python 3",
   "language": "python",
   "name": "python3"
  },
  "language_info": {
   "codemirror_mode": {
    "name": "ipython",
    "version": 3
   },
   "file_extension": ".py",
   "mimetype": "text/x-python",
   "name": "python",
   "nbconvert_exporter": "python",
   "pygments_lexer": "ipython3",
   "version": "3.7.6"
  }
 },
 "nbformat": 4,
 "nbformat_minor": 4
}
